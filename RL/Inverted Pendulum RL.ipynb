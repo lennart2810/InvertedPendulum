{
 "cells": [
  {
   "cell_type": "markdown",
   "id": "bbdbbb5a",
   "metadata": {},
   "source": []
  },
  {
   "cell_type": "markdown",
   "id": "cf87f577",
   "metadata": {},
   "source": [
    "<a href=\"https://gym.openai.com/\">\n",
    "  <img src=\"https://gym.openai.com/assets/dist/footer/openai-logo-ce082f60cc.svg\" \n",
    "  alt=\"Images\" width=\"200\">\n",
    "</a>\n",
    "<a href=\"https://gym.openai.com/\">\n",
    "  <img src=\"https://gym.openai.com/assets/dist/home/header/home-icon-54c30e2345.svg\" \n",
    "  alt=\"Images\" width=\"42\">\n",
    "</a>\n",
    "\n",
    "> Gym is a toolkit for developing and comparing reinforcement learning algorithms."
   ]
  },
  {
   "cell_type": "markdown",
   "id": "485e1e04",
   "metadata": {},
   "source": [
    "#  CartPole-v1\n",
    "\n",
    "> * [Enviroment](https://gym.openai.com/envs/CartPole-v1/)\n",
    "> * [GitHub](https://github.com/openai/gym/blob/master/gym/envs/classic_control/cartpole.py)\n",
    "\n",
    "<p align=\"center\">\n",
    "  <img src=\"CartPole.jpg\" alt=\"drawing\" width=\"420\" align=\"center\"/>\n",
    "</p>\n",
    "\n",
    "\n",
    "\n",
    "\n",
    "> * A pole is attached by an un-actuated joint to a cart, which moves along a frictionless track.\n",
    "> * The system is controlled by applying a force of +1 or -1 to the cart. \n",
    "> * The pendulum starts upright, and the goal is to prevent it from falling over.\n",
    "> * A reward of +1 is provided for every timestep that the pole remains upright.\n",
    "> * The episode ends when the pole is more than 15 degrees from vertical, or the cart moves more than 2.4 units from the center."
   ]
  },
  {
   "cell_type": "markdown",
   "id": "4ee0976a",
   "metadata": {},
   "source": [
    "<a href=\"https://gym.openai.com/docs/\">\n",
    "  <img src=\"https://gym.openai.com/assets/docs/aeloop-138c89d44114492fd02822303e6b4b07213010bb14ca5856d2d49d6b62d88e53.svg\" \n",
    "   alt=\"Images\" width=\"500\">\n",
    "</a>"
   ]
  },
  {
   "cell_type": "markdown",
   "id": "9b728eaf",
   "metadata": {},
   "source": [
    "Observations\n",
    "If we ever want to do better than take random actions at each step, it’d probably be good to actually know what our actions are doing to the environment.\n",
    "\n",
    "The environment’s step function returns exactly what we need. In fact, step returns four values. These are:\n",
    "\n",
    "observation (object): an environment-specific object representing your observation of the environment. For example, pixel data from a camera, joint angles and joint velocities of a robot, or the board state in a board game.\n",
    "reward (float): amount of reward achieved by the previous action. The scale varies between environments, but the goal is always to increase your total reward.\n",
    "done (boolean): whether it’s time to reset the environment again. Most (but not all) tasks are divided up into well-defined episodes, and done being True indicates the episode has terminated. (For example, perhaps the pole tipped too far, or you lost your last life.)\n",
    "info (dict): diagnostic information useful for debugging. It can sometimes be useful for learning (for example, it might contain the raw probabilities behind the environment’s last state change). However, official evaluations of your agent are not allowed to use this for learning.\n",
    "This is just an implementation of the classic “agent-environment loop”. Each timestep, the agent chooses an action, and the environment returns an observation and a reward.\n",
    "\n",
    "\n",
    "\n",
    "\n",
    "\n",
    "Spaces\n",
    "In the examples above, we’ve been sampling random actions from the environment’s action space. But what actually are those actions? Every environment comes with an action_space and an observation_space. These attributes are of type Space, and they describe the format of valid actions and observations:"
   ]
  },
  {
   "cell_type": "markdown",
   "id": "aac0b8fc",
   "metadata": {},
   "source": [
    "## Original:\n",
    "### [nicknochnack](https://github.com/nicknochnack/TensorflowKeras-ReinforcementLearning/blob/master/Deep%20Reinforcement%20Learning.ipynb)"
   ]
  },
  {
   "cell_type": "markdown",
   "id": "2be9a747",
   "metadata": {},
   "source": [
    "# Dependencies"
   ]
  },
  {
   "cell_type": "code",
   "execution_count": 1,
   "id": "c340d5e4",
   "metadata": {},
   "outputs": [],
   "source": [
    "#!pip install tensorflow==2.3.0\n",
    "#!pip install gym\n",
    "#!pip install keras\n",
    "#!pip install keras-rl2"
   ]
  },
  {
   "cell_type": "markdown",
   "id": "660f7f46",
   "metadata": {},
   "source": [
    "# Enviroment Setup\n",
    "\n",
    "        All observations are assigned a uniform random value in [-0.05..0.05]"
   ]
  },
  {
   "cell_type": "code",
   "execution_count": 2,
   "id": "7163f9dc",
   "metadata": {},
   "outputs": [],
   "source": [
    "import gym \n",
    "env = gym.make('CartPole-v1')"
   ]
  },
  {
   "cell_type": "markdown",
   "id": "1e5f8d53",
   "metadata": {},
   "source": [
    "## Observation\n",
    "\n",
    "        Num     Observation               Min                     Max\n",
    "        0       Cart Position             -2.4                    2.4\n",
    "        1       Cart Velocity             -Inf                    Inf\n",
    "        2       Pole Angle                -0.209 rad (-12 deg)    0.209 rad (12 deg)\n",
    "        3       Pole Angular Velocity     -Inf                    Inf"
   ]
  },
  {
   "cell_type": "code",
   "execution_count": 3,
   "id": "91fdaeca",
   "metadata": {
    "scrolled": true
   },
   "outputs": [
    {
     "name": "stdout",
     "output_type": "stream",
     "text": [
      "4\n"
     ]
    }
   ],
   "source": [
    "states = env.observation_space.shape[0]\n",
    "print(states)"
   ]
  },
  {
   "cell_type": "markdown",
   "id": "6830c1ea",
   "metadata": {},
   "source": [
    "## Actions\n",
    "\n",
    "        Num   Action\n",
    "        0     Push cart to the left\n",
    "        1     Push cart to the right"
   ]
  },
  {
   "cell_type": "code",
   "execution_count": 4,
   "id": "d0dc1ff2",
   "metadata": {},
   "outputs": [
    {
     "name": "stdout",
     "output_type": "stream",
     "text": [
      "2\n"
     ]
    }
   ],
   "source": [
    "actions = env.action_space.n\n",
    "print(actions)"
   ]
  },
  {
   "cell_type": "markdown",
   "id": "7f6b332a",
   "metadata": {},
   "source": [
    "**Agend** entscheidet sich aufgrund seiner *inneren Politik* für eine Aktion\n",
    "\n",
    "**action** wird über  `env.step(action)` an **Enviroment** übergeben.\n",
    "\n",
    "gibt `n_state, reward, done, info` zurück\n",
    "\n",
    "#### reward\n",
    "        Reward is 1 for every step taken, including the termination step\n",
    "        \n",
    "#### done\n",
    "\n",
    "    Episode Termination:\n",
    "        Pole Angle is more than 12 degrees.\n",
    "        Cart Position is more than 2.4 (center of the cart reaches the edge of the display).\n",
    "        Episode length is greater than 200."
   ]
  },
  {
   "cell_type": "markdown",
   "id": "a291cb9a",
   "metadata": {},
   "source": [
    "### Random Actions\n",
    "`action = random.choice([0,1])`\n",
    "\n",
    "`n_state, reward, done, info = env.step(action)`"
   ]
  },
  {
   "cell_type": "code",
   "execution_count": 25,
   "id": "05816ea4",
   "metadata": {},
   "outputs": [
    {
     "name": "stdout",
     "output_type": "stream",
     "text": [
      "Episode:1 Score:28.0\n",
      "Episode:2 Score:17.0\n",
      "Episode:3 Score:13.0\n",
      "Episode:4 Score:34.0\n",
      "Episode:5 Score:20.0\n",
      "Episode:6 Score:15.0\n",
      "Episode:7 Score:16.0\n",
      "Episode:8 Score:18.0\n",
      "Episode:9 Score:17.0\n",
      "Episode:10 Score:13.0\n",
      "Episode:11 Score:11.0\n",
      "Episode:12 Score:18.0\n",
      "Episode:13 Score:11.0\n",
      "Episode:14 Score:11.0\n",
      "Episode:15 Score:49.0\n",
      "Episode:16 Score:31.0\n",
      "Episode:17 Score:13.0\n",
      "Episode:18 Score:11.0\n",
      "Episode:19 Score:18.0\n",
      "Episode:20 Score:10.0\n",
      "Episode:21 Score:39.0\n",
      "Episode:22 Score:29.0\n",
      "Episode:23 Score:58.0\n",
      "Episode:24 Score:12.0\n",
      "Episode:25 Score:20.0\n",
      "Episode:26 Score:11.0\n",
      "Episode:27 Score:23.0\n",
      "Episode:28 Score:10.0\n",
      "Episode:29 Score:13.0\n",
      "Episode:30 Score:24.0\n",
      "Episode:31 Score:26.0\n",
      "Episode:32 Score:22.0\n",
      "Episode:33 Score:41.0\n",
      "Episode:34 Score:27.0\n",
      "Episode:35 Score:14.0\n",
      "Episode:36 Score:39.0\n",
      "Episode:37 Score:18.0\n",
      "Episode:38 Score:20.0\n",
      "Episode:39 Score:10.0\n",
      "Episode:40 Score:16.0\n",
      "Episode:41 Score:34.0\n",
      "Episode:42 Score:19.0\n",
      "Episode:43 Score:12.0\n",
      "Episode:44 Score:13.0\n",
      "Episode:45 Score:49.0\n",
      "Episode:46 Score:17.0\n",
      "Episode:47 Score:10.0\n",
      "Episode:48 Score:11.0\n",
      "Episode:49 Score:10.0\n",
      "Episode:50 Score:16.0\n"
     ]
    }
   ],
   "source": [
    "import random\n",
    "\n",
    "episodes = 50\n",
    "for episode in range(1, episodes+1):\n",
    "    \n",
    "    # init env\n",
    "    state = env.reset()\n",
    "    done = False\n",
    "    score = 0 \n",
    "    \n",
    "    while not done:\n",
    "        env.render()\n",
    "        action = random.choice([0,1])\n",
    "        n_state, reward, done, info = env.step(action)\n",
    "        score+=reward\n",
    "    print('Episode:{} Score:{}'.format(episode, score))\n",
    "env.close()"
   ]
  },
  {
   "cell_type": "markdown",
   "id": "04626508",
   "metadata": {},
   "source": [
    "# Create a Deep Learning Model with Keras"
   ]
  },
  {
   "cell_type": "code",
   "execution_count": 6,
   "id": "1594ed51",
   "metadata": {},
   "outputs": [],
   "source": [
    "import numpy as np\n",
    "from tensorflow.keras.models import Sequential\n",
    "from tensorflow.keras.layers import Dense, Flatten\n",
    "from tensorflow.keras.optimizers import Adam"
   ]
  },
  {
   "cell_type": "code",
   "execution_count": 7,
   "id": "d1b46628",
   "metadata": {},
   "outputs": [],
   "source": [
    "def build_model(states, actions):\n",
    "    model = Sequential()\n",
    "    model.add(Flatten(input_shape=(1,states)))\n",
    "    model.add(Dense(24, activation='relu'))\n",
    "    model.add(Dense(24, activation='relu'))\n",
    "    model.add(Dense(actions, activation='linear'))\n",
    "    return model"
   ]
  },
  {
   "cell_type": "code",
   "execution_count": 8,
   "id": "2605b576",
   "metadata": {},
   "outputs": [
    {
     "name": "stdout",
     "output_type": "stream",
     "text": [
      "Model: \"sequential\"\n",
      "_________________________________________________________________\n",
      "Layer (type)                 Output Shape              Param #   \n",
      "=================================================================\n",
      "flatten (Flatten)            (None, 4)                 0         \n",
      "_________________________________________________________________\n",
      "dense (Dense)                (None, 24)                120       \n",
      "_________________________________________________________________\n",
      "dense_1 (Dense)              (None, 24)                600       \n",
      "_________________________________________________________________\n",
      "dense_2 (Dense)              (None, 2)                 50        \n",
      "=================================================================\n",
      "Total params: 770\n",
      "Trainable params: 770\n",
      "Non-trainable params: 0\n",
      "_________________________________________________________________\n"
     ]
    }
   ],
   "source": [
    "model = build_model(states, actions)\n",
    "model.summary()"
   ]
  },
  {
   "cell_type": "code",
   "execution_count": 9,
   "id": "8750ad0b",
   "metadata": {},
   "outputs": [],
   "source": [
    "# https://github.com/keras-rl/keras-rl/blob/master/rl/agents/dqn.py#L89\n",
    "\n",
    "# https://github.com/PacktPublishing/Hands-On-ROS-for-Robotics-Programming/blob/master/Chapter11_OpenAI_Gym/taxi/Taxi-v3.ipynb"
   ]
  },
  {
   "cell_type": "code",
   "execution_count": 10,
   "id": "3a51e1c2",
   "metadata": {},
   "outputs": [],
   "source": [
    "from rl.agents import DQNAgent\n",
    "from rl.policy import BoltzmannQPolicy\n",
    "from rl.memory import SequentialMemory"
   ]
  },
  {
   "cell_type": "code",
   "execution_count": 11,
   "id": "12d33c67",
   "metadata": {},
   "outputs": [],
   "source": [
    "def build_agent(model, actions):\n",
    "    policy = BoltzmannQPolicy()\n",
    "    memory = SequentialMemory(limit=50000, window_length=1)\n",
    "    dqn = DQNAgent(model=model, memory=memory, policy=policy, \n",
    "                  nb_actions=actions, nb_steps_warmup=10, target_model_update=1e-2)\n",
    "    return dqn"
   ]
  },
  {
   "cell_type": "markdown",
   "id": "bad3ed34",
   "metadata": {},
   "source": [
    "[rjoseph24](https://github.com/nicknochnack/TensorflowKeras-ReinforcementLearning/issues/1)"
   ]
  },
  {
   "cell_type": "code",
   "execution_count": 12,
   "id": "ad5fb020",
   "metadata": {},
   "outputs": [],
   "source": [
    "#del model\n",
    "model = build_model(states, actions)"
   ]
  },
  {
   "cell_type": "code",
   "execution_count": 13,
   "id": "9450ea83",
   "metadata": {},
   "outputs": [
    {
     "name": "stdout",
     "output_type": "stream",
     "text": [
      "WARNING:tensorflow:OMP_NUM_THREADS is no longer used by the default Keras config. To configure the number of threads, use tf.config.threading APIs.\n",
      "Training for 50000 steps ...\n",
      "Interval 1 (0 steps performed)\n",
      "WARNING:tensorflow:From C:\\Users\\lenna\\anaconda3\\lib\\site-packages\\tensorflow\\python\\keras\\engine\\training_v1.py:2070: Model.state_updates (from tensorflow.python.keras.engine.training) is deprecated and will be removed in a future version.\n",
      "Instructions for updating:\n",
      "This property should not be used in TensorFlow 2.0, as updates are applied automatically.\n",
      "    1/10000 [..............................] - ETA: 5:15 - reward: 1.0000"
     ]
    },
    {
     "name": "stderr",
     "output_type": "stream",
     "text": [
      "C:\\Users\\lenna\\anaconda3\\lib\\site-packages\\rl\\memory.py:37: UserWarning: Not enough entries to sample without replacement. Consider increasing your warm-up phase to avoid oversampling!\n",
      "  warnings.warn('Not enough entries to sample without replacement. Consider increasing your warm-up phase to avoid oversampling!')\n"
     ]
    },
    {
     "name": "stdout",
     "output_type": "stream",
     "text": [
      "10000/10000 [==============================] - 30s 3ms/step - reward: 1.0000\n",
      "96 episodes - episode_reward: 102.615 [8.000, 325.000] - loss: 1.683 - mae: 19.212 - mean_q: 38.896\n",
      "\n",
      "Interval 2 (10000 steps performed)\n",
      "10000/10000 [==============================] - 30s 3ms/step - reward: 1.0000\n",
      "37 episodes - episode_reward: 268.432 [191.000, 500.000] - loss: 2.414 - mae: 41.068 - mean_q: 82.941\n",
      "\n",
      "Interval 3 (20000 steps performed)\n",
      "10000/10000 [==============================] - 31s 3ms/step - reward: 1.0000\n",
      "42 episodes - episode_reward: 243.262 [194.000, 371.000] - loss: 1.989 - mae: 46.039 - mean_q: 92.869\n",
      "\n",
      "Interval 4 (30000 steps performed)\n",
      "10000/10000 [==============================] - 33s 3ms/step - reward: 1.0000\n",
      "41 episodes - episode_reward: 240.098 [191.000, 375.000] - loss: 1.483 - mae: 44.694 - mean_q: 90.021\n",
      "\n",
      "Interval 5 (40000 steps performed)\n",
      "10000/10000 [==============================] - 33s 3ms/step - reward: 1.0000\n",
      "done, took 155.342 seconds\n"
     ]
    }
   ],
   "source": [
    "dqn = build_agent(model, actions)\n",
    "dqn.compile(Adam(lr=1e-3), metrics=['mae'])\n",
    "history =  dqn.fit(env, nb_steps=50000, visualize=False, verbose=1)"
   ]
  },
  {
   "cell_type": "code",
   "execution_count": 14,
   "id": "9e47ae16",
   "metadata": {},
   "outputs": [
    {
     "name": "stdout",
     "output_type": "stream",
     "text": [
      "{'nb_steps': 50000}\n",
      "dict_keys(['episode_reward', 'nb_episode_steps', 'nb_steps'])\n",
      "252\n"
     ]
    }
   ],
   "source": [
    "print(history.params)\n",
    "print(history.history.keys())\n",
    "rewards = history.history['episode_reward']\n",
    "print(len(rewards))"
   ]
  },
  {
   "cell_type": "code",
   "execution_count": 15,
   "id": "68fcc3a8",
   "metadata": {},
   "outputs": [
    {
     "name": "stdout",
     "output_type": "stream",
     "text": [
      "Testing for 100 episodes ...\n",
      "Episode 1: reward: 500.000, steps: 500\n",
      "Episode 2: reward: 500.000, steps: 500\n",
      "Episode 3: reward: 500.000, steps: 500\n",
      "Episode 4: reward: 500.000, steps: 500\n",
      "Episode 5: reward: 500.000, steps: 500\n",
      "Episode 6: reward: 500.000, steps: 500\n",
      "Episode 7: reward: 500.000, steps: 500\n",
      "Episode 8: reward: 500.000, steps: 500\n",
      "Episode 9: reward: 500.000, steps: 500\n",
      "Episode 10: reward: 500.000, steps: 500\n",
      "Episode 11: reward: 500.000, steps: 500\n",
      "Episode 12: reward: 500.000, steps: 500\n",
      "Episode 13: reward: 500.000, steps: 500\n",
      "Episode 14: reward: 500.000, steps: 500\n",
      "Episode 15: reward: 500.000, steps: 500\n",
      "Episode 16: reward: 500.000, steps: 500\n",
      "Episode 17: reward: 500.000, steps: 500\n",
      "Episode 18: reward: 500.000, steps: 500\n",
      "Episode 19: reward: 500.000, steps: 500\n",
      "Episode 20: reward: 500.000, steps: 500\n",
      "Episode 21: reward: 500.000, steps: 500\n",
      "Episode 22: reward: 500.000, steps: 500\n",
      "Episode 23: reward: 500.000, steps: 500\n",
      "Episode 24: reward: 282.000, steps: 282\n",
      "Episode 25: reward: 500.000, steps: 500\n",
      "Episode 26: reward: 500.000, steps: 500\n",
      "Episode 27: reward: 500.000, steps: 500\n",
      "Episode 28: reward: 500.000, steps: 500\n",
      "Episode 29: reward: 500.000, steps: 500\n",
      "Episode 30: reward: 500.000, steps: 500\n",
      "Episode 31: reward: 500.000, steps: 500\n",
      "Episode 32: reward: 250.000, steps: 250\n",
      "Episode 33: reward: 500.000, steps: 500\n",
      "Episode 34: reward: 257.000, steps: 257\n",
      "Episode 35: reward: 500.000, steps: 500\n",
      "Episode 36: reward: 500.000, steps: 500\n",
      "Episode 37: reward: 500.000, steps: 500\n",
      "Episode 38: reward: 500.000, steps: 500\n",
      "Episode 39: reward: 500.000, steps: 500\n",
      "Episode 40: reward: 242.000, steps: 242\n",
      "Episode 41: reward: 500.000, steps: 500\n",
      "Episode 42: reward: 500.000, steps: 500\n",
      "Episode 43: reward: 500.000, steps: 500\n",
      "Episode 44: reward: 500.000, steps: 500\n",
      "Episode 45: reward: 500.000, steps: 500\n",
      "Episode 46: reward: 500.000, steps: 500\n",
      "Episode 47: reward: 500.000, steps: 500\n",
      "Episode 48: reward: 288.000, steps: 288\n",
      "Episode 49: reward: 280.000, steps: 280\n",
      "Episode 50: reward: 500.000, steps: 500\n",
      "Episode 51: reward: 500.000, steps: 500\n",
      "Episode 52: reward: 500.000, steps: 500\n",
      "Episode 53: reward: 500.000, steps: 500\n",
      "Episode 54: reward: 500.000, steps: 500\n",
      "Episode 55: reward: 500.000, steps: 500\n",
      "Episode 56: reward: 500.000, steps: 500\n",
      "Episode 57: reward: 500.000, steps: 500\n",
      "Episode 58: reward: 500.000, steps: 500\n",
      "Episode 59: reward: 500.000, steps: 500\n",
      "Episode 60: reward: 500.000, steps: 500\n",
      "Episode 61: reward: 500.000, steps: 500\n",
      "Episode 62: reward: 500.000, steps: 500\n",
      "Episode 63: reward: 500.000, steps: 500\n",
      "Episode 64: reward: 500.000, steps: 500\n",
      "Episode 65: reward: 500.000, steps: 500\n",
      "Episode 66: reward: 500.000, steps: 500\n",
      "Episode 67: reward: 500.000, steps: 500\n",
      "Episode 68: reward: 293.000, steps: 293\n",
      "Episode 69: reward: 500.000, steps: 500\n",
      "Episode 70: reward: 500.000, steps: 500\n",
      "Episode 71: reward: 500.000, steps: 500\n",
      "Episode 72: reward: 500.000, steps: 500\n",
      "Episode 73: reward: 500.000, steps: 500\n",
      "Episode 74: reward: 500.000, steps: 500\n",
      "Episode 75: reward: 500.000, steps: 500\n",
      "Episode 76: reward: 500.000, steps: 500\n",
      "Episode 77: reward: 500.000, steps: 500\n",
      "Episode 78: reward: 500.000, steps: 500\n",
      "Episode 79: reward: 500.000, steps: 500\n",
      "Episode 80: reward: 500.000, steps: 500\n",
      "Episode 81: reward: 500.000, steps: 500\n",
      "Episode 82: reward: 500.000, steps: 500\n",
      "Episode 83: reward: 500.000, steps: 500\n",
      "Episode 84: reward: 500.000, steps: 500\n",
      "Episode 85: reward: 275.000, steps: 275\n",
      "Episode 86: reward: 500.000, steps: 500\n",
      "Episode 87: reward: 500.000, steps: 500\n",
      "Episode 88: reward: 500.000, steps: 500\n",
      "Episode 89: reward: 500.000, steps: 500\n",
      "Episode 90: reward: 500.000, steps: 500\n",
      "Episode 91: reward: 500.000, steps: 500\n",
      "Episode 92: reward: 500.000, steps: 500\n",
      "Episode 93: reward: 500.000, steps: 500\n",
      "Episode 94: reward: 500.000, steps: 500\n",
      "Episode 95: reward: 280.000, steps: 280\n",
      "Episode 96: reward: 500.000, steps: 500\n",
      "Episode 97: reward: 500.000, steps: 500\n",
      "Episode 98: reward: 500.000, steps: 500\n",
      "Episode 99: reward: 500.000, steps: 500\n",
      "Episode 100: reward: 500.000, steps: 500\n",
      "479.47\n"
     ]
    }
   ],
   "source": [
    "scores = dqn.test(env, nb_episodes=100, visualize=False)\n",
    "print(np.mean(scores.history['episode_reward']))"
   ]
  },
  {
   "cell_type": "code",
   "execution_count": 29,
   "id": "d366d03f",
   "metadata": {},
   "outputs": [
    {
     "name": "stdout",
     "output_type": "stream",
     "text": [
      "Testing for 5 episodes ...\n",
      "Episode 1: reward: 500.000, steps: 500\n",
      "Episode 2: reward: 500.000, steps: 500\n",
      "Episode 3: reward: 267.000, steps: 267\n",
      "Episode 4: reward: 500.000, steps: 500\n",
      "Episode 5: reward: 500.000, steps: 500\n"
     ]
    }
   ],
   "source": [
    "_ = dqn.test(env, nb_episodes=5, visualize=True)\n",
    "env.close()"
   ]
  },
  {
   "cell_type": "code",
   "execution_count": 17,
   "id": "e3bf2434",
   "metadata": {},
   "outputs": [],
   "source": [
    "dqn.save_weights('dqn_weights.h5f', overwrite=True)"
   ]
  },
  {
   "cell_type": "code",
   "execution_count": 18,
   "id": "d0a06fd3",
   "metadata": {},
   "outputs": [],
   "source": [
    "del model\n",
    "del dqn\n",
    "del env"
   ]
  },
  {
   "cell_type": "code",
   "execution_count": 26,
   "id": "848ae6af",
   "metadata": {},
   "outputs": [],
   "source": [
    "env = gym.make('CartPole-v1')\n",
    "actions = env.action_space.n\n",
    "states = env.observation_space.shape[0]\n",
    "model = build_model(states, actions)\n",
    "dqn = build_agent(model, actions)\n",
    "dqn.compile(Adam(lr=1e-3), metrics=['mae'])"
   ]
  },
  {
   "cell_type": "code",
   "execution_count": 27,
   "id": "ebc26738",
   "metadata": {},
   "outputs": [],
   "source": [
    "dqn.load_weights('dqn_weights.h5f')"
   ]
  },
  {
   "cell_type": "code",
   "execution_count": 28,
   "id": "dfe15dbd",
   "metadata": {},
   "outputs": [
    {
     "name": "stdout",
     "output_type": "stream",
     "text": [
      "Testing for 5 episodes ...\n",
      "Episode 1: reward: 500.000, steps: 500\n",
      "Episode 2: reward: 500.000, steps: 500\n",
      "Episode 3: reward: 500.000, steps: 500\n",
      "Episode 4: reward: 500.000, steps: 500\n",
      "Episode 5: reward: 500.000, steps: 500\n"
     ]
    }
   ],
   "source": [
    "_ = dqn.test(env, nb_episodes=5, visualize=True)\n",
    "env.close()"
   ]
  },
  {
   "cell_type": "markdown",
   "id": "182f77c1",
   "metadata": {},
   "source": [
    "        Solved Requirements:\n",
    "        Considered solved when the average return is greater than or equal to\n",
    "        195.0 over 100 consecutive trials."
   ]
  },
  {
   "cell_type": "code",
   "execution_count": null,
   "id": "e2db7526",
   "metadata": {},
   "outputs": [],
   "source": []
  },
  {
   "cell_type": "code",
   "execution_count": null,
   "id": "508b546f",
   "metadata": {},
   "outputs": [],
   "source": []
  },
  {
   "cell_type": "code",
   "execution_count": null,
   "id": "5e1c35a6",
   "metadata": {},
   "outputs": [],
   "source": []
  }
 ],
 "metadata": {
  "interpreter": {
   "hash": "d439e7ada44796882fd5e475279d04416680fbae278ff01592aa58b4208a2412"
  },
  "kernelspec": {
   "display_name": "Python 3 (ipykernel)",
   "language": "python",
   "name": "python3"
  },
  "language_info": {
   "codemirror_mode": {
    "name": "ipython",
    "version": 3
   },
   "file_extension": ".py",
   "mimetype": "text/x-python",
   "name": "python",
   "nbconvert_exporter": "python",
   "pygments_lexer": "ipython3",
   "version": "3.9.7"
  }
 },
 "nbformat": 4,
 "nbformat_minor": 5
}
