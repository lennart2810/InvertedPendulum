{
 "cells": [
  {
   "cell_type": "markdown",
   "id": "bbdbbb5a",
   "metadata": {},
   "source": []
  },
  {
   "cell_type": "markdown",
   "id": "cf87f577",
   "metadata": {},
   "source": [
    "<a href=\"https://gym.openai.com/\">\n",
    "  <img src=\"https://gym.openai.com/assets/dist/footer/openai-logo-ce082f60cc.svg\" \n",
    "  alt=\"Images\" width=\"200\">\n",
    "</a>\n",
    "<a href=\"https://gym.openai.com/\">\n",
    "  <img src=\"https://gym.openai.com/assets/dist/home/header/home-icon-54c30e2345.svg\" \n",
    "  alt=\"Images\" width=\"42\">\n",
    "</a>\n",
    "\n",
    "> Gym is a toolkit for developing and comparing reinforcement learning algorithms."
   ]
  },
  {
   "cell_type": "markdown",
   "id": "485e1e04",
   "metadata": {},
   "source": [
    "#  CartPole-v1\n",
    "\n",
    "> * [Enviroment](https://gym.openai.com/envs/CartPole-v1/)\n",
    "> * [GitHub](https://github.com/openai/gym/blob/master/gym/envs/classic_control/cartpole.py)\n",
    "\n",
    "<p align=\"center\">\n",
    "  <img src=\"CartPole.jpg\" alt=\"drawing\" width=\"420\" align=\"center\"/>\n",
    "</p>\n",
    "\n",
    "\n",
    "\n",
    "\n",
    "> * A pole is attached by an un-actuated joint to a cart, which moves along a frictionless track.\n",
    "> * The system is controlled by applying a force of +1 or -1 to the cart. \n",
    "> * The pendulum starts upright, and the goal is to prevent it from falling over.\n",
    "> * A reward of +1 is provided for every timestep that the pole remains upright.\n",
    "> * The episode ends when the pole is more than 15 degrees from vertical, or the cart moves more than 2.4 units from the center."
   ]
  },
  {
   "cell_type": "markdown",
   "id": "4ee0976a",
   "metadata": {},
   "source": [
    "<a href=\"https://gym.openai.com/docs/\">\n",
    "  <img src=\"https://gym.openai.com/assets/docs/aeloop-138c89d44114492fd02822303e6b4b07213010bb14ca5856d2d49d6b62d88e53.svg\" \n",
    "   alt=\"Images\" width=\"500\">\n",
    "</a>"
   ]
  },
  {
   "cell_type": "markdown",
   "id": "9b728eaf",
   "metadata": {},
   "source": [
    "Observations\n",
    "If we ever want to do better than take random actions at each step, it’d probably be good to actually know what our actions are doing to the environment.\n",
    "\n",
    "The environment’s step function returns exactly what we need. In fact, step returns four values. These are:\n",
    "\n",
    "observation (object): an environment-specific object representing your observation of the environment. For example, pixel data from a camera, joint angles and joint velocities of a robot, or the board state in a board game.\n",
    "reward (float): amount of reward achieved by the previous action. The scale varies between environments, but the goal is always to increase your total reward.\n",
    "done (boolean): whether it’s time to reset the environment again. Most (but not all) tasks are divided up into well-defined episodes, and done being True indicates the episode has terminated. (For example, perhaps the pole tipped too far, or you lost your last life.)\n",
    "info (dict): diagnostic information useful for debugging. It can sometimes be useful for learning (for example, it might contain the raw probabilities behind the environment’s last state change). However, official evaluations of your agent are not allowed to use this for learning.\n",
    "This is just an implementation of the classic “agent-environment loop”. Each timestep, the agent chooses an action, and the environment returns an observation and a reward.\n",
    "\n",
    "\n",
    "\n",
    "\n",
    "\n",
    "Spaces\n",
    "In the examples above, we’ve been sampling random actions from the environment’s action space. But what actually are those actions? Every environment comes with an action_space and an observation_space. These attributes are of type Space, and they describe the format of valid actions and observations:"
   ]
  },
  {
   "cell_type": "markdown",
   "id": "aac0b8fc",
   "metadata": {},
   "source": [
    "## Original:\n",
    "### [nicknochnack](https://github.com/nicknochnack/TensorflowKeras-ReinforcementLearning/blob/master/Deep%20Reinforcement%20Learning.ipynb)"
   ]
  },
  {
   "cell_type": "markdown",
   "id": "2be9a747",
   "metadata": {},
   "source": [
    "# Dependencies"
   ]
  },
  {
   "cell_type": "code",
   "execution_count": 1,
   "id": "c340d5e4",
   "metadata": {},
   "outputs": [],
   "source": [
    "#!pip install tensorflow==2.3.0\n",
    "#!pip install gym\n",
    "#!pip install keras\n",
    "#!pip install keras-rl2"
   ]
  },
  {
   "cell_type": "markdown",
   "id": "660f7f46",
   "metadata": {},
   "source": [
    "# Enviroment Setup\n",
    "\n",
    "        All observations are assigned a uniform random value in [-0.05..0.05]"
   ]
  },
  {
   "cell_type": "code",
   "execution_count": 2,
   "id": "7163f9dc",
   "metadata": {},
   "outputs": [],
   "source": [
    "import gym \n",
    "env = gym.make('CartPole-v1')"
   ]
  },
  {
   "cell_type": "markdown",
   "id": "1e5f8d53",
   "metadata": {},
   "source": [
    "## Observation\n",
    "\n",
    "        Num     Observation               Min                     Max\n",
    "        0       Cart Position             -2.4                    2.4\n",
    "        1       Cart Velocity             -Inf                    Inf\n",
    "        2       Pole Angle                -0.209 rad (-12 deg)    0.209 rad (12 deg)\n",
    "        3       Pole Angular Velocity     -Inf                    Inf"
   ]
  },
  {
   "cell_type": "code",
   "execution_count": 3,
   "id": "91fdaeca",
   "metadata": {
    "scrolled": true
   },
   "outputs": [
    {
     "name": "stdout",
     "output_type": "stream",
     "text": [
      "4\n"
     ]
    }
   ],
   "source": [
    "states = env.observation_space.shape[0]\n",
    "print(states)"
   ]
  },
  {
   "cell_type": "markdown",
   "id": "6830c1ea",
   "metadata": {},
   "source": [
    "## Actions\n",
    "\n",
    "        Num   Action\n",
    "        0     Push cart to the left\n",
    "        1     Push cart to the right"
   ]
  },
  {
   "cell_type": "code",
   "execution_count": 4,
   "id": "d0dc1ff2",
   "metadata": {},
   "outputs": [
    {
     "name": "stdout",
     "output_type": "stream",
     "text": [
      "2\n"
     ]
    }
   ],
   "source": [
    "actions = env.action_space.n\n",
    "print(actions)"
   ]
  },
  {
   "cell_type": "markdown",
   "id": "7f6b332a",
   "metadata": {},
   "source": [
    "**Agend** entscheidet sich aufgrund seiner *inneren Politik* für eine Aktion\n",
    "\n",
    "**action** wird über  `env.step(action)` an **Enviroment** übergeben.\n",
    "\n",
    "gibt `n_state, reward, done, info` zurück\n",
    "\n",
    "#### reward\n",
    "        Reward is 1 for every step taken, including the termination step\n",
    "        \n",
    "#### done\n",
    "\n",
    "    Episode Termination:\n",
    "        Pole Angle is more than 12 degrees.\n",
    "        Cart Position is more than 2.4 (center of the cart reaches the edge of the display).\n",
    "        Episode length is greater than 200."
   ]
  },
  {
   "cell_type": "markdown",
   "id": "a291cb9a",
   "metadata": {},
   "source": [
    "### Random Actions\n",
    "`action = random.choice([0,1])`\n",
    "\n",
    "`n_state, reward, done, info = env.step(action)`"
   ]
  },
  {
   "cell_type": "code",
   "execution_count": 6,
   "id": "05816ea4",
   "metadata": {},
   "outputs": [
    {
     "name": "stdout",
     "output_type": "stream",
     "text": [
      "Episode:1 Score:32.0\n",
      "Episode:2 Score:17.0\n",
      "Episode:3 Score:18.0\n",
      "Episode:4 Score:23.0\n",
      "Episode:5 Score:36.0\n",
      "Episode:6 Score:22.0\n",
      "Episode:7 Score:11.0\n",
      "Episode:8 Score:17.0\n",
      "Episode:9 Score:32.0\n",
      "Episode:10 Score:39.0\n"
     ]
    }
   ],
   "source": [
    "import random\n",
    "\n",
    "episodes = 10\n",
    "for episode in range(1, episodes+1):\n",
    "    \n",
    "    # init env\n",
    "    state = env.reset()\n",
    "    done = False\n",
    "    score = 0 \n",
    "    \n",
    "    while not done:\n",
    "        env.render()\n",
    "        action = random.choice([0,1])\n",
    "        n_state, reward, done, info = env.step(action)\n",
    "        score+=reward\n",
    "    print('Episode:{} Score:{}'.format(episode, score))\n",
    "env.close()"
   ]
  },
  {
   "cell_type": "markdown",
   "id": "04626508",
   "metadata": {},
   "source": [
    "# Create a Deep Learning Model with Keras"
   ]
  },
  {
   "cell_type": "code",
   "execution_count": 16,
   "id": "1594ed51",
   "metadata": {},
   "outputs": [],
   "source": [
    "import numpy as np\n",
    "from tensorflow.keras.models import Sequential\n",
    "from tensorflow.keras.layers import Dense, Flatten\n",
    "from tensorflow.keras.optimizers import Adam"
   ]
  },
  {
   "cell_type": "code",
   "execution_count": 17,
   "id": "d1b46628",
   "metadata": {},
   "outputs": [],
   "source": [
    "def build_model(states, actions):\n",
    "    model = Sequential()\n",
    "    model.add(Flatten(input_shape=(1,states)))\n",
    "    model.add(Dense(24, activation='relu'))\n",
    "    model.add(Dense(24, activation='relu'))\n",
    "    model.add(Dense(actions, activation='linear'))\n",
    "    return model"
   ]
  },
  {
   "cell_type": "code",
   "execution_count": 18,
   "id": "2605b576",
   "metadata": {},
   "outputs": [
    {
     "name": "stdout",
     "output_type": "stream",
     "text": [
      "Model: \"sequential\"\n",
      "_________________________________________________________________\n",
      "Layer (type)                 Output Shape              Param #   \n",
      "=================================================================\n",
      "flatten (Flatten)            (None, 4)                 0         \n",
      "_________________________________________________________________\n",
      "dense (Dense)                (None, 24)                120       \n",
      "_________________________________________________________________\n",
      "dense_1 (Dense)              (None, 24)                600       \n",
      "_________________________________________________________________\n",
      "dense_2 (Dense)              (None, 2)                 50        \n",
      "=================================================================\n",
      "Total params: 770\n",
      "Trainable params: 770\n",
      "Non-trainable params: 0\n",
      "_________________________________________________________________\n"
     ]
    }
   ],
   "source": [
    "model = build_model(states, actions)\n",
    "model.summary()"
   ]
  },
  {
   "cell_type": "code",
   "execution_count": 19,
   "id": "8750ad0b",
   "metadata": {},
   "outputs": [],
   "source": [
    "# https://github.com/keras-rl/keras-rl/blob/master/rl/agents/dqn.py#L89\n",
    "\n",
    "# https://github.com/PacktPublishing/Hands-On-ROS-for-Robotics-Programming/blob/master/Chapter11_OpenAI_Gym/taxi/Taxi-v3.ipynb"
   ]
  },
  {
   "cell_type": "code",
   "execution_count": 20,
   "id": "3a51e1c2",
   "metadata": {},
   "outputs": [],
   "source": [
    "from rl.agents import DQNAgent\n",
    "from rl.policy import BoltzmannQPolicy\n",
    "from rl.memory import SequentialMemory"
   ]
  },
  {
   "cell_type": "code",
   "execution_count": 21,
   "id": "12d33c67",
   "metadata": {},
   "outputs": [],
   "source": [
    "def build_agent(model, actions):\n",
    "    policy = BoltzmannQPolicy()\n",
    "    memory = SequentialMemory(limit=50000, window_length=1)\n",
    "    dqn = DQNAgent(model=model, memory=memory, policy=policy, \n",
    "                  nb_actions=actions, nb_steps_warmup=10, target_model_update=1e-2)\n",
    "    return dqn"
   ]
  },
  {
   "cell_type": "markdown",
   "id": "bad3ed34",
   "metadata": {},
   "source": [
    "[rjoseph24](https://github.com/nicknochnack/TensorflowKeras-ReinforcementLearning/issues/1)"
   ]
  },
  {
   "cell_type": "code",
   "execution_count": 22,
   "id": "ad5fb020",
   "metadata": {},
   "outputs": [],
   "source": [
    "#del model\n",
    "model = build_model(states, actions)"
   ]
  },
  {
   "cell_type": "code",
   "execution_count": 23,
   "id": "9450ea83",
   "metadata": {},
   "outputs": [
    {
     "name": "stdout",
     "output_type": "stream",
     "text": [
      "WARNING:tensorflow:OMP_NUM_THREADS is no longer used by the default Keras config. To configure the number of threads, use tf.config.threading APIs.\n",
      "Training for 500 steps ...\n",
      "Interval 1 (0 steps performed)\n",
      "WARNING:tensorflow:From C:\\Users\\lenna\\anaconda3\\lib\\site-packages\\tensorflow\\python\\keras\\engine\\training_v1.py:2070: Model.state_updates (from tensorflow.python.keras.engine.training) is deprecated and will be removed in a future version.\n",
      "Instructions for updating:\n",
      "This property should not be used in TensorFlow 2.0, as updates are applied automatically.\n",
      "    1/10000 [..............................] - ETA: 8:11 - reward: 1.0000"
     ]
    },
    {
     "name": "stderr",
     "output_type": "stream",
     "text": [
      "C:\\Users\\lenna\\anaconda3\\lib\\site-packages\\rl\\memory.py:37: UserWarning: Not enough entries to sample without replacement. Consider increasing your warm-up phase to avoid oversampling!\n",
      "  warnings.warn('Not enough entries to sample without replacement. Consider increasing your warm-up phase to avoid oversampling!')\n"
     ]
    },
    {
     "name": "stdout",
     "output_type": "stream",
     "text": [
      "  495/10000 [>.............................] - ETA: 51s - reward: 1.0000done, took 2.724 seconds\n"
     ]
    }
   ],
   "source": [
    "dqn = build_agent(model, actions)\n",
    "dqn.compile(Adam(lr=1e-3), metrics=['mae'])\n",
    "history =  dqn.fit(env, nb_steps=500, visualize=False, verbose=1)"
   ]
  },
  {
   "cell_type": "code",
   "execution_count": 24,
   "id": "9e47ae16",
   "metadata": {},
   "outputs": [
    {
     "name": "stdout",
     "output_type": "stream",
     "text": [
      "{'nb_steps': 500}\n",
      "dict_keys(['episode_reward', 'nb_episode_steps', 'nb_steps'])\n",
      "26\n"
     ]
    }
   ],
   "source": [
    "print(history.params)\n",
    "print(history.history.keys())\n",
    "rewards = history.history['episode_reward']\n",
    "print(len(rewards))"
   ]
  },
  {
   "cell_type": "code",
   "execution_count": 25,
   "id": "68fcc3a8",
   "metadata": {},
   "outputs": [
    {
     "name": "stdout",
     "output_type": "stream",
     "text": [
      "Testing for 100 episodes ...\n",
      "Episode 1: reward: 10.000, steps: 10\n",
      "Episode 2: reward: 10.000, steps: 10\n",
      "Episode 3: reward: 8.000, steps: 8\n",
      "Episode 4: reward: 8.000, steps: 8\n",
      "Episode 5: reward: 9.000, steps: 9\n",
      "Episode 6: reward: 9.000, steps: 9\n",
      "Episode 7: reward: 10.000, steps: 10\n",
      "Episode 8: reward: 10.000, steps: 10\n",
      "Episode 9: reward: 10.000, steps: 10\n",
      "Episode 10: reward: 10.000, steps: 10\n",
      "Episode 11: reward: 10.000, steps: 10\n",
      "Episode 12: reward: 9.000, steps: 9\n",
      "Episode 13: reward: 9.000, steps: 9\n",
      "Episode 14: reward: 9.000, steps: 9\n",
      "Episode 15: reward: 10.000, steps: 10\n",
      "Episode 16: reward: 9.000, steps: 9\n",
      "Episode 17: reward: 9.000, steps: 9\n",
      "Episode 18: reward: 9.000, steps: 9\n",
      "Episode 19: reward: 10.000, steps: 10\n",
      "Episode 20: reward: 8.000, steps: 8\n",
      "Episode 21: reward: 9.000, steps: 9\n",
      "Episode 22: reward: 10.000, steps: 10\n",
      "Episode 23: reward: 9.000, steps: 9\n",
      "Episode 24: reward: 10.000, steps: 10\n",
      "Episode 25: reward: 10.000, steps: 10\n",
      "Episode 26: reward: 9.000, steps: 9\n",
      "Episode 27: reward: 10.000, steps: 10\n",
      "Episode 28: reward: 10.000, steps: 10\n",
      "Episode 29: reward: 9.000, steps: 9\n",
      "Episode 30: reward: 10.000, steps: 10\n",
      "Episode 31: reward: 8.000, steps: 8\n",
      "Episode 32: reward: 9.000, steps: 9\n",
      "Episode 33: reward: 8.000, steps: 8\n",
      "Episode 34: reward: 8.000, steps: 8\n",
      "Episode 35: reward: 9.000, steps: 9\n",
      "Episode 36: reward: 10.000, steps: 10\n",
      "Episode 37: reward: 10.000, steps: 10\n",
      "Episode 38: reward: 8.000, steps: 8\n",
      "Episode 39: reward: 9.000, steps: 9\n",
      "Episode 40: reward: 9.000, steps: 9\n",
      "Episode 41: reward: 8.000, steps: 8\n",
      "Episode 42: reward: 9.000, steps: 9\n",
      "Episode 43: reward: 9.000, steps: 9\n",
      "Episode 44: reward: 10.000, steps: 10\n",
      "Episode 45: reward: 9.000, steps: 9\n",
      "Episode 46: reward: 8.000, steps: 8\n",
      "Episode 47: reward: 9.000, steps: 9\n",
      "Episode 48: reward: 11.000, steps: 11\n",
      "Episode 49: reward: 9.000, steps: 9\n",
      "Episode 50: reward: 10.000, steps: 10\n",
      "Episode 51: reward: 11.000, steps: 11\n",
      "Episode 52: reward: 10.000, steps: 10\n",
      "Episode 53: reward: 9.000, steps: 9\n",
      "Episode 54: reward: 10.000, steps: 10\n",
      "Episode 55: reward: 9.000, steps: 9\n",
      "Episode 56: reward: 9.000, steps: 9\n",
      "Episode 57: reward: 9.000, steps: 9\n",
      "Episode 58: reward: 9.000, steps: 9\n",
      "Episode 59: reward: 9.000, steps: 9\n",
      "Episode 60: reward: 9.000, steps: 9\n",
      "Episode 61: reward: 9.000, steps: 9\n",
      "Episode 62: reward: 10.000, steps: 10\n",
      "Episode 63: reward: 10.000, steps: 10\n",
      "Episode 64: reward: 9.000, steps: 9\n",
      "Episode 65: reward: 10.000, steps: 10\n",
      "Episode 66: reward: 10.000, steps: 10\n",
      "Episode 67: reward: 10.000, steps: 10\n",
      "Episode 68: reward: 9.000, steps: 9\n",
      "Episode 69: reward: 9.000, steps: 9\n",
      "Episode 70: reward: 8.000, steps: 8\n",
      "Episode 71: reward: 9.000, steps: 9\n",
      "Episode 72: reward: 9.000, steps: 9\n",
      "Episode 73: reward: 9.000, steps: 9\n",
      "Episode 74: reward: 8.000, steps: 8\n",
      "Episode 75: reward: 10.000, steps: 10\n",
      "Episode 76: reward: 9.000, steps: 9\n",
      "Episode 77: reward: 9.000, steps: 9\n",
      "Episode 78: reward: 10.000, steps: 10\n",
      "Episode 79: reward: 9.000, steps: 9\n",
      "Episode 80: reward: 8.000, steps: 8\n",
      "Episode 81: reward: 8.000, steps: 8\n",
      "Episode 82: reward: 10.000, steps: 10\n",
      "Episode 83: reward: 8.000, steps: 8\n",
      "Episode 84: reward: 9.000, steps: 9\n",
      "Episode 85: reward: 10.000, steps: 10\n",
      "Episode 86: reward: 10.000, steps: 10\n",
      "Episode 87: reward: 9.000, steps: 9\n",
      "Episode 88: reward: 8.000, steps: 8\n",
      "Episode 89: reward: 8.000, steps: 8\n",
      "Episode 90: reward: 9.000, steps: 9\n",
      "Episode 91: reward: 10.000, steps: 10\n",
      "Episode 92: reward: 10.000, steps: 10\n",
      "Episode 93: reward: 10.000, steps: 10\n",
      "Episode 94: reward: 9.000, steps: 9\n",
      "Episode 95: reward: 9.000, steps: 9\n",
      "Episode 96: reward: 10.000, steps: 10\n",
      "Episode 97: reward: 9.000, steps: 9\n",
      "Episode 98: reward: 10.000, steps: 10\n",
      "Episode 99: reward: 10.000, steps: 10\n",
      "Episode 100: reward: 9.000, steps: 9\n",
      "9.25\n"
     ]
    }
   ],
   "source": [
    "scores = dqn.test(env, nb_episodes=100, visualize=False)\n",
    "print(np.mean(scores.history['episode_reward']))"
   ]
  },
  {
   "cell_type": "code",
   "execution_count": 27,
   "id": "d366d03f",
   "metadata": {},
   "outputs": [
    {
     "name": "stdout",
     "output_type": "stream",
     "text": [
      "Testing for 150 episodes ...\n",
      "Episode 1: reward: 9.000, steps: 9\n",
      "Episode 2: reward: 10.000, steps: 10\n",
      "Episode 3: reward: 10.000, steps: 10\n",
      "Episode 4: reward: 9.000, steps: 9\n",
      "Episode 5: reward: 10.000, steps: 10\n",
      "Episode 6: reward: 10.000, steps: 10\n",
      "Episode 7: reward: 10.000, steps: 10\n",
      "Episode 8: reward: 10.000, steps: 10\n",
      "Episode 9: reward: 10.000, steps: 10\n",
      "Episode 10: reward: 9.000, steps: 9\n",
      "Episode 11: reward: 10.000, steps: 10\n",
      "Episode 12: reward: 10.000, steps: 10\n",
      "Episode 13: reward: 10.000, steps: 10\n",
      "Episode 14: reward: 10.000, steps: 10\n",
      "Episode 15: reward: 11.000, steps: 11\n",
      "Episode 16: reward: 8.000, steps: 8\n",
      "Episode 17: reward: 9.000, steps: 9\n",
      "Episode 18: reward: 9.000, steps: 9\n",
      "Episode 19: reward: 9.000, steps: 9\n",
      "Episode 20: reward: 10.000, steps: 10\n",
      "Episode 21: reward: 10.000, steps: 10\n",
      "Episode 22: reward: 9.000, steps: 9\n",
      "Episode 23: reward: 9.000, steps: 9\n",
      "Episode 24: reward: 10.000, steps: 10\n",
      "Episode 25: reward: 9.000, steps: 9\n",
      "Episode 26: reward: 9.000, steps: 9\n",
      "Episode 27: reward: 10.000, steps: 10\n",
      "Episode 28: reward: 10.000, steps: 10\n",
      "Episode 29: reward: 11.000, steps: 11\n",
      "Episode 30: reward: 10.000, steps: 10\n",
      "Episode 31: reward: 9.000, steps: 9\n",
      "Episode 32: reward: 10.000, steps: 10\n",
      "Episode 33: reward: 10.000, steps: 10\n",
      "Episode 34: reward: 9.000, steps: 9\n",
      "Episode 35: reward: 10.000, steps: 10\n",
      "Episode 36: reward: 9.000, steps: 9\n",
      "Episode 37: reward: 10.000, steps: 10\n",
      "Episode 38: reward: 10.000, steps: 10\n",
      "Episode 39: reward: 9.000, steps: 9\n",
      "Episode 40: reward: 9.000, steps: 9\n",
      "Episode 41: reward: 8.000, steps: 8\n",
      "Episode 42: reward: 10.000, steps: 10\n",
      "Episode 43: reward: 8.000, steps: 8\n",
      "Episode 44: reward: 10.000, steps: 10\n",
      "Episode 45: reward: 10.000, steps: 10\n",
      "Episode 46: reward: 9.000, steps: 9\n",
      "Episode 47: reward: 8.000, steps: 8\n",
      "Episode 48: reward: 8.000, steps: 8\n",
      "Episode 49: reward: 8.000, steps: 8\n",
      "Episode 50: reward: 9.000, steps: 9\n",
      "Episode 51: reward: 9.000, steps: 9\n",
      "Episode 52: reward: 10.000, steps: 10\n",
      "Episode 53: reward: 10.000, steps: 10\n",
      "Episode 54: reward: 10.000, steps: 10\n",
      "Episode 55: reward: 9.000, steps: 9\n",
      "Episode 56: reward: 9.000, steps: 9\n",
      "Episode 57: reward: 10.000, steps: 10\n",
      "Episode 58: reward: 10.000, steps: 10\n",
      "Episode 59: reward: 8.000, steps: 8\n",
      "Episode 60: reward: 10.000, steps: 10\n",
      "Episode 61: reward: 10.000, steps: 10\n",
      "Episode 62: reward: 9.000, steps: 9\n",
      "Episode 63: reward: 9.000, steps: 9\n",
      "Episode 64: reward: 8.000, steps: 8\n",
      "Episode 65: reward: 8.000, steps: 8\n",
      "Episode 66: reward: 9.000, steps: 9\n",
      "Episode 67: reward: 10.000, steps: 10\n",
      "Episode 68: reward: 9.000, steps: 9\n",
      "Episode 69: reward: 10.000, steps: 10\n",
      "Episode 70: reward: 9.000, steps: 9\n",
      "Episode 71: reward: 9.000, steps: 9\n",
      "Episode 72: reward: 10.000, steps: 10\n",
      "Episode 73: reward: 9.000, steps: 9\n",
      "Episode 74: reward: 9.000, steps: 9\n",
      "Episode 75: reward: 9.000, steps: 9\n",
      "Episode 76: reward: 9.000, steps: 9\n",
      "Episode 77: reward: 10.000, steps: 10\n",
      "Episode 78: reward: 10.000, steps: 10\n",
      "Episode 79: reward: 10.000, steps: 10\n",
      "Episode 80: reward: 9.000, steps: 9\n",
      "Episode 81: reward: 9.000, steps: 9\n",
      "Episode 82: reward: 9.000, steps: 9\n",
      "Episode 83: reward: 10.000, steps: 10\n",
      "Episode 84: reward: 9.000, steps: 9\n",
      "Episode 85: reward: 9.000, steps: 9\n",
      "Episode 86: reward: 9.000, steps: 9\n",
      "Episode 87: reward: 10.000, steps: 10\n",
      "Episode 88: reward: 10.000, steps: 10\n",
      "Episode 89: reward: 8.000, steps: 8\n",
      "Episode 90: reward: 10.000, steps: 10\n",
      "Episode 91: reward: 9.000, steps: 9\n",
      "Episode 92: reward: 8.000, steps: 8\n",
      "Episode 93: reward: 9.000, steps: 9\n",
      "Episode 94: reward: 10.000, steps: 10\n",
      "Episode 95: reward: 9.000, steps: 9\n",
      "Episode 96: reward: 10.000, steps: 10\n",
      "Episode 97: reward: 10.000, steps: 10\n",
      "Episode 98: reward: 9.000, steps: 9\n",
      "Episode 99: reward: 10.000, steps: 10\n",
      "Episode 100: reward: 10.000, steps: 10\n",
      "Episode 101: reward: 10.000, steps: 10\n",
      "Episode 102: reward: 8.000, steps: 8\n",
      "Episode 103: reward: 8.000, steps: 8\n",
      "Episode 104: reward: 9.000, steps: 9\n",
      "Episode 105: reward: 10.000, steps: 10\n",
      "Episode 106: reward: 9.000, steps: 9\n",
      "Episode 107: reward: 11.000, steps: 11\n",
      "Episode 108: reward: 9.000, steps: 9\n",
      "Episode 109: reward: 10.000, steps: 10\n",
      "Episode 110: reward: 9.000, steps: 9\n",
      "Episode 111: reward: 10.000, steps: 10\n",
      "Episode 112: reward: 10.000, steps: 10\n",
      "Episode 113: reward: 10.000, steps: 10\n",
      "Episode 114: reward: 10.000, steps: 10\n",
      "Episode 115: reward: 9.000, steps: 9\n",
      "Episode 116: reward: 10.000, steps: 10\n",
      "Episode 117: reward: 9.000, steps: 9\n",
      "Episode 118: reward: 9.000, steps: 9\n",
      "Episode 119: reward: 9.000, steps: 9\n",
      "Episode 120: reward: 9.000, steps: 9\n",
      "Episode 121: reward: 9.000, steps: 9\n",
      "Episode 122: reward: 10.000, steps: 10\n",
      "Episode 123: reward: 10.000, steps: 10\n",
      "Episode 124: reward: 10.000, steps: 10\n",
      "Episode 125: reward: 9.000, steps: 9\n",
      "Episode 126: reward: 10.000, steps: 10\n",
      "Episode 127: reward: 9.000, steps: 9\n",
      "Episode 128: reward: 10.000, steps: 10\n",
      "Episode 129: reward: 9.000, steps: 9\n",
      "Episode 130: reward: 10.000, steps: 10\n",
      "Episode 131: reward: 9.000, steps: 9\n",
      "Episode 132: reward: 9.000, steps: 9\n",
      "Episode 133: reward: 9.000, steps: 9\n",
      "Episode 134: reward: 10.000, steps: 10\n",
      "Episode 135: reward: 10.000, steps: 10\n",
      "Episode 136: reward: 10.000, steps: 10\n",
      "Episode 137: reward: 10.000, steps: 10\n",
      "Episode 138: reward: 9.000, steps: 9\n",
      "Episode 139: reward: 9.000, steps: 9\n",
      "Episode 140: reward: 10.000, steps: 10\n",
      "Episode 141: reward: 11.000, steps: 11\n",
      "Episode 142: reward: 9.000, steps: 9\n",
      "Episode 143: reward: 9.000, steps: 9\n",
      "Episode 144: reward: 10.000, steps: 10\n",
      "Episode 145: reward: 9.000, steps: 9\n",
      "Episode 146: reward: 8.000, steps: 8\n",
      "Episode 147: reward: 10.000, steps: 10\n",
      "Episode 148: reward: 8.000, steps: 8\n",
      "Episode 149: reward: 10.000, steps: 10\n",
      "Episode 150: reward: 10.000, steps: 10\n"
     ]
    }
   ],
   "source": [
    "_ = dqn.test(env, nb_episodes=150, visualize=True)\n",
    "env.close()"
   ]
  },
  {
   "cell_type": "code",
   "execution_count": null,
   "id": "e3bf2434",
   "metadata": {},
   "outputs": [],
   "source": [
    "dqn.save_weights('dqn_weights.h5f', overwrite=True)"
   ]
  },
  {
   "cell_type": "code",
   "execution_count": null,
   "id": "d0a06fd3",
   "metadata": {},
   "outputs": [],
   "source": [
    "del model\n",
    "del dqn\n",
    "del env"
   ]
  },
  {
   "cell_type": "code",
   "execution_count": null,
   "id": "848ae6af",
   "metadata": {},
   "outputs": [],
   "source": [
    "env = gym.make('CartPole-v0')\n",
    "actions = env.action_space.n\n",
    "states = env.observation_space.shape[0]\n",
    "model = build_model(states, actions)\n",
    "dqn = build_agent(model, actions)\n",
    "dqn.compile(Adam(lr=1e-3), metrics=['mae'])"
   ]
  },
  {
   "cell_type": "code",
   "execution_count": null,
   "id": "ebc26738",
   "metadata": {},
   "outputs": [],
   "source": [
    "dqn.load_weights('dqn_weights.h5f')"
   ]
  },
  {
   "cell_type": "code",
   "execution_count": null,
   "id": "dfe15dbd",
   "metadata": {},
   "outputs": [],
   "source": [
    "_ = dqn.test(env, nb_episodes=5, visualize=True)\n",
    "close.env()"
   ]
  },
  {
   "cell_type": "markdown",
   "id": "182f77c1",
   "metadata": {},
   "source": [
    "        Solved Requirements:\n",
    "        Considered solved when the average return is greater than or equal to\n",
    "        195.0 over 100 consecutive trials."
   ]
  },
  {
   "cell_type": "code",
   "execution_count": 5,
   "id": "e2db7526",
   "metadata": {},
   "outputs": [
    {
     "name": "stdout",
     "output_type": "stream",
     "text": [
      "Available Themes: \n",
      "   chesterish\n",
      "   grade3\n",
      "   gruvboxd\n",
      "   gruvboxl\n",
      "   monokai\n",
      "   oceans16\n",
      "   onedork\n",
      "   solarizedd\n",
      "   solarizedl\n"
     ]
    }
   ],
   "source": []
  },
  {
   "cell_type": "code",
   "execution_count": 34,
   "id": "54c0b8c5",
   "metadata": {},
   "outputs": [
    {
     "name": "stderr",
     "output_type": "stream",
     "text": [
      "Der Befehl \"jt\" ist entweder falsch geschrieben oder\n",
      "konnte nicht gefunden werden.\n"
     ]
    }
   ],
   "source": [
    "!jt -l"
   ]
  },
  {
   "cell_type": "code",
   "execution_count": 4,
   "id": "508b546f",
   "metadata": {},
   "outputs": [
    {
     "name": "stdout",
     "output_type": "stream",
     "text": [
      "Collecting jupyterthemes\n",
      "  Downloading jupyterthemes-0.20.0-py2.py3-none-any.whl (7.0 MB)\n",
      "Requirement already satisfied: matplotlib>=1.4.3 in c:\\users\\lenna\\anaconda3\\envs\\pinn\\lib\\site-packages (from jupyterthemes) (3.5.0)\n",
      "Requirement already satisfied: notebook>=5.6.0 in c:\\users\\lenna\\anaconda3\\envs\\pinn\\lib\\site-packages (from jupyterthemes) (6.4.6)\n",
      "Requirement already satisfied: ipython>=5.4.1 in c:\\users\\lenna\\anaconda3\\envs\\pinn\\lib\\site-packages (from jupyterthemes) (7.29.0)\n",
      "Requirement already satisfied: jupyter-core in c:\\users\\lenna\\anaconda3\\envs\\pinn\\lib\\site-packages (from jupyterthemes) (4.9.1)\n",
      "Collecting lesscpy>=0.11.2\n",
      "  Downloading lesscpy-0.15.0-py2.py3-none-any.whl (46 kB)\n",
      "Requirement already satisfied: traitlets>=4.2 in c:\\users\\lenna\\anaconda3\\envs\\pinn\\lib\\site-packages (from ipython>=5.4.1->jupyterthemes) (5.1.1)\n",
      "Requirement already satisfied: backcall in c:\\users\\lenna\\anaconda3\\envs\\pinn\\lib\\site-packages (from ipython>=5.4.1->jupyterthemes) (0.2.0)\n",
      "Requirement already satisfied: setuptools>=18.5 in c:\\users\\lenna\\anaconda3\\envs\\pinn\\lib\\site-packages (from ipython>=5.4.1->jupyterthemes) (58.0.4)\n",
      "Requirement already satisfied: pickleshare in c:\\users\\lenna\\anaconda3\\envs\\pinn\\lib\\site-packages (from ipython>=5.4.1->jupyterthemes) (0.7.5)\n",
      "Requirement already satisfied: jedi>=0.16 in c:\\users\\lenna\\anaconda3\\envs\\pinn\\lib\\site-packages (from ipython>=5.4.1->jupyterthemes) (0.18.0)\n",
      "Requirement already satisfied: decorator in c:\\users\\lenna\\anaconda3\\envs\\pinn\\lib\\site-packages (from ipython>=5.4.1->jupyterthemes) (5.1.0)\n",
      "Requirement already satisfied: colorama in c:\\users\\lenna\\anaconda3\\envs\\pinn\\lib\\site-packages (from ipython>=5.4.1->jupyterthemes) (0.4.4)\n",
      "Requirement already satisfied: matplotlib-inline in c:\\users\\lenna\\anaconda3\\envs\\pinn\\lib\\site-packages (from ipython>=5.4.1->jupyterthemes) (0.1.2)\n",
      "Requirement already satisfied: prompt-toolkit!=3.0.0,!=3.0.1,<3.1.0,>=2.0.0 in c:\\users\\lenna\\anaconda3\\envs\\pinn\\lib\\site-packages (from ipython>=5.4.1->jupyterthemes) (3.0.20)\n",
      "Requirement already satisfied: pygments in c:\\users\\lenna\\anaconda3\\envs\\pinn\\lib\\site-packages (from ipython>=5.4.1->jupyterthemes) (2.10.0)\n",
      "Requirement already satisfied: parso<0.9.0,>=0.8.0 in c:\\users\\lenna\\anaconda3\\envs\\pinn\\lib\\site-packages (from jedi>=0.16->ipython>=5.4.1->jupyterthemes) (0.8.2)\n",
      "Collecting ply\n",
      "  Downloading ply-3.11-py2.py3-none-any.whl (49 kB)\n",
      "Requirement already satisfied: six in c:\\users\\lenna\\anaconda3\\envs\\pinn\\lib\\site-packages (from lesscpy>=0.11.2->jupyterthemes) (1.16.0)\n",
      "Requirement already satisfied: kiwisolver>=1.0.1 in c:\\users\\lenna\\anaconda3\\envs\\pinn\\lib\\site-packages (from matplotlib>=1.4.3->jupyterthemes) (1.3.1)\n",
      "Requirement already satisfied: pillow>=6.2.0 in c:\\users\\lenna\\anaconda3\\envs\\pinn\\lib\\site-packages (from matplotlib>=1.4.3->jupyterthemes) (8.4.0)\n",
      "Requirement already satisfied: numpy>=1.17 in c:\\users\\lenna\\anaconda3\\envs\\pinn\\lib\\site-packages (from matplotlib>=1.4.3->jupyterthemes) (1.21.2)\n",
      "Requirement already satisfied: python-dateutil>=2.7 in c:\\users\\lenna\\anaconda3\\envs\\pinn\\lib\\site-packages (from matplotlib>=1.4.3->jupyterthemes) (2.8.2)\n",
      "Requirement already satisfied: cycler>=0.10 in c:\\users\\lenna\\anaconda3\\envs\\pinn\\lib\\site-packages (from matplotlib>=1.4.3->jupyterthemes) (0.11.0)\n",
      "Requirement already satisfied: fonttools>=4.22.0 in c:\\users\\lenna\\anaconda3\\envs\\pinn\\lib\\site-packages (from matplotlib>=1.4.3->jupyterthemes) (4.25.0)\n",
      "Requirement already satisfied: packaging>=20.0 in c:\\users\\lenna\\anaconda3\\envs\\pinn\\lib\\site-packages (from matplotlib>=1.4.3->jupyterthemes) (21.3)\n",
      "Requirement already satisfied: pyparsing>=2.2.1 in c:\\users\\lenna\\anaconda3\\envs\\pinn\\lib\\site-packages (from matplotlib>=1.4.3->jupyterthemes) (3.0.4)\n",
      "Requirement already satisfied: prometheus-client in c:\\users\\lenna\\anaconda3\\envs\\pinn\\lib\\site-packages (from notebook>=5.6.0->jupyterthemes) (0.12.0)\n",
      "Requirement already satisfied: nbformat in c:\\users\\lenna\\anaconda3\\envs\\pinn\\lib\\site-packages (from notebook>=5.6.0->jupyterthemes) (5.1.3)\n",
      "Requirement already satisfied: argon2-cffi in c:\\users\\lenna\\anaconda3\\envs\\pinn\\lib\\site-packages (from notebook>=5.6.0->jupyterthemes) (20.1.0)\n",
      "Requirement already satisfied: tornado>=6.1 in c:\\users\\lenna\\anaconda3\\envs\\pinn\\lib\\site-packages (from notebook>=5.6.0->jupyterthemes) (6.1)\n",
      "Requirement already satisfied: nest-asyncio>=1.5 in c:\\users\\lenna\\anaconda3\\envs\\pinn\\lib\\site-packages (from notebook>=5.6.0->jupyterthemes) (1.5.1)\n",
      "Requirement already satisfied: ipykernel in c:\\users\\lenna\\anaconda3\\envs\\pinn\\lib\\site-packages (from notebook>=5.6.0->jupyterthemes) (6.4.1)\n",
      "Requirement already satisfied: ipython-genutils in c:\\users\\lenna\\anaconda3\\envs\\pinn\\lib\\site-packages (from notebook>=5.6.0->jupyterthemes) (0.2.0)\n",
      "Requirement already satisfied: jinja2 in c:\\users\\lenna\\anaconda3\\envs\\pinn\\lib\\site-packages (from notebook>=5.6.0->jupyterthemes) (3.0.2)\n",
      "Requirement already satisfied: pyzmq>=17 in c:\\users\\lenna\\anaconda3\\envs\\pinn\\lib\\site-packages (from notebook>=5.6.0->jupyterthemes) (22.3.0)\n",
      "Requirement already satisfied: jupyter-client>=5.3.4 in c:\\users\\lenna\\anaconda3\\envs\\pinn\\lib\\site-packages (from notebook>=5.6.0->jupyterthemes) (7.0.6)\n",
      "Requirement already satisfied: Send2Trash>=1.8.0 in c:\\users\\lenna\\anaconda3\\envs\\pinn\\lib\\site-packages (from notebook>=5.6.0->jupyterthemes) (1.8.0)\n",
      "Requirement already satisfied: terminado>=0.8.3 in c:\\users\\lenna\\anaconda3\\envs\\pinn\\lib\\site-packages (from notebook>=5.6.0->jupyterthemes) (0.9.4)\n",
      "Requirement already satisfied: nbconvert in c:\\users\\lenna\\anaconda3\\envs\\pinn\\lib\\site-packages (from notebook>=5.6.0->jupyterthemes) (6.1.0)\n",
      "Requirement already satisfied: entrypoints in c:\\users\\lenna\\anaconda3\\envs\\pinn\\lib\\site-packages (from jupyter-client>=5.3.4->notebook>=5.6.0->jupyterthemes) (0.3)\n",
      "Requirement already satisfied: pywin32>=1.0 in c:\\users\\lenna\\anaconda3\\envs\\pinn\\lib\\site-packages (from jupyter-core->jupyterthemes) (228)\n",
      "Requirement already satisfied: wcwidth in c:\\users\\lenna\\anaconda3\\envs\\pinn\\lib\\site-packages (from prompt-toolkit!=3.0.0,!=3.0.1,<3.1.0,>=2.0.0->ipython>=5.4.1->jupyterthemes) (0.2.5)\n",
      "Requirement already satisfied: pywinpty>=0.5 in c:\\users\\lenna\\anaconda3\\envs\\pinn\\lib\\site-packages (from terminado>=0.8.3->notebook>=5.6.0->jupyterthemes) (0.5.7)\n",
      "Requirement already satisfied: cffi>=1.0.0 in c:\\users\\lenna\\anaconda3\\envs\\pinn\\lib\\site-packages (from argon2-cffi->notebook>=5.6.0->jupyterthemes) (1.15.0)\n",
      "Requirement already satisfied: pycparser in c:\\users\\lenna\\anaconda3\\envs\\pinn\\lib\\site-packages (from cffi>=1.0.0->argon2-cffi->notebook>=5.6.0->jupyterthemes) (2.21)\n",
      "Requirement already satisfied: debugpy<2.0,>=1.0.0 in c:\\users\\lenna\\anaconda3\\envs\\pinn\\lib\\site-packages (from ipykernel->notebook>=5.6.0->jupyterthemes) (1.5.1)\n",
      "Requirement already satisfied: MarkupSafe>=2.0 in c:\\users\\lenna\\anaconda3\\envs\\pinn\\lib\\site-packages (from jinja2->notebook>=5.6.0->jupyterthemes) (2.0.1)\n",
      "Requirement already satisfied: bleach in c:\\users\\lenna\\anaconda3\\envs\\pinn\\lib\\site-packages (from nbconvert->notebook>=5.6.0->jupyterthemes) (4.0.0)\n",
      "Requirement already satisfied: testpath in c:\\users\\lenna\\anaconda3\\envs\\pinn\\lib\\site-packages (from nbconvert->notebook>=5.6.0->jupyterthemes) (0.5.0)\n",
      "Requirement already satisfied: pandocfilters>=1.4.1 in c:\\users\\lenna\\anaconda3\\envs\\pinn\\lib\\site-packages (from nbconvert->notebook>=5.6.0->jupyterthemes) (1.4.3)\n",
      "Requirement already satisfied: jupyterlab-pygments in c:\\users\\lenna\\anaconda3\\envs\\pinn\\lib\\site-packages (from nbconvert->notebook>=5.6.0->jupyterthemes) (0.1.2)\n",
      "Requirement already satisfied: mistune<2,>=0.8.1 in c:\\users\\lenna\\anaconda3\\envs\\pinn\\lib\\site-packages (from nbconvert->notebook>=5.6.0->jupyterthemes) (0.8.4)\n",
      "Requirement already satisfied: defusedxml in c:\\users\\lenna\\anaconda3\\envs\\pinn\\lib\\site-packages (from nbconvert->notebook>=5.6.0->jupyterthemes) (0.7.1)\n",
      "Requirement already satisfied: nbclient<0.6.0,>=0.5.0 in c:\\users\\lenna\\anaconda3\\envs\\pinn\\lib\\site-packages (from nbconvert->notebook>=5.6.0->jupyterthemes) (0.5.3)\n",
      "Requirement already satisfied: async-generator in c:\\users\\lenna\\anaconda3\\envs\\pinn\\lib\\site-packages (from nbclient<0.6.0,>=0.5.0->nbconvert->notebook>=5.6.0->jupyterthemes) (1.10)\n",
      "Requirement already satisfied: jsonschema!=2.5.0,>=2.4 in c:\\users\\lenna\\anaconda3\\envs\\pinn\\lib\\site-packages (from nbformat->notebook>=5.6.0->jupyterthemes) (3.2.0)\n",
      "Requirement already satisfied: attrs>=17.4.0 in c:\\users\\lenna\\anaconda3\\envs\\pinn\\lib\\site-packages (from jsonschema!=2.5.0,>=2.4->nbformat->notebook>=5.6.0->jupyterthemes) (21.2.0)\n",
      "Requirement already satisfied: pyrsistent>=0.14.0 in c:\\users\\lenna\\anaconda3\\envs\\pinn\\lib\\site-packages (from jsonschema!=2.5.0,>=2.4->nbformat->notebook>=5.6.0->jupyterthemes) (0.18.0)\n",
      "Requirement already satisfied: webencodings in c:\\users\\lenna\\anaconda3\\envs\\pinn\\lib\\site-packages (from bleach->nbconvert->notebook>=5.6.0->jupyterthemes) (0.5.1)\n",
      "Installing collected packages: ply, lesscpy, jupyterthemes\n",
      "Successfully installed jupyterthemes-0.20.0 lesscpy-0.15.0 ply-3.11\n"
     ]
    }
   ],
   "source": []
  },
  {
   "cell_type": "code",
   "execution_count": null,
   "id": "5e1c35a6",
   "metadata": {},
   "outputs": [],
   "source": []
  }
 ],
 "metadata": {
  "interpreter": {
   "hash": "d439e7ada44796882fd5e475279d04416680fbae278ff01592aa58b4208a2412"
  },
  "kernelspec": {
   "display_name": "Python 3",
   "language": "python",
   "name": "python3"
  },
  "language_info": {
   "codemirror_mode": {
    "name": "ipython",
    "version": 3
   },
   "file_extension": ".py",
   "mimetype": "text/x-python",
   "name": "python",
   "nbconvert_exporter": "python",
   "pygments_lexer": "ipython3",
   "version": "3.8.8"
  }
 },
 "nbformat": 4,
 "nbformat_minor": 5
}
