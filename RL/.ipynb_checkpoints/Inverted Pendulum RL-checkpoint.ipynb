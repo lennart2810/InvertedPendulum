{
 "cells": [
  {
   "cell_type": "markdown",
   "id": "bbdbbb5a",
   "metadata": {},
   "source": []
  },
  {
   "cell_type": "markdown",
   "id": "cf87f577",
   "metadata": {},
   "source": [
    "<a href=\"https://gym.openai.com/\">\n",
    "  <img src=\"https://gym.openai.com/assets/dist/footer/openai-logo-ce082f60cc.svg\" \n",
    "  alt=\"Images\" width=\"200\">\n",
    "</a>\n",
    "<a href=\"https://gym.openai.com/\">\n",
    "  <img src=\"https://gym.openai.com/assets/dist/home/header/home-icon-54c30e2345.svg\" \n",
    "  alt=\"Images\" width=\"42\">\n",
    "</a>\n",
    "\n",
    "> Gym is a toolkit for developing and comparing reinforcement learning algorithms."
   ]
  },
  {
   "cell_type": "markdown",
   "id": "485e1e04",
   "metadata": {},
   "source": [
    "#  CartPole-v1\n",
    "\n",
    "> * [Enviroment](https://gym.openai.com/envs/CartPole-v1/)\n",
    "> * [GitHub](https://github.com/openai/gym/blob/master/gym/envs/classic_control/cartpole.py)\n",
    "\n",
    "<p align=\"center\">\n",
    "  <img src=\"CartPole.jpg\" alt=\"drawing\" width=\"420\" align=\"center\"/>\n",
    "</p>\n",
    "\n",
    "\n",
    "\n",
    "\n",
    "> * A pole is attached by an un-actuated joint to a cart, which moves along a frictionless track.\n",
    "> * The system is controlled by applying a force of +1 or -1 to the cart. \n",
    "> * The pendulum starts upright, and the goal is to prevent it from falling over.\n",
    "> * A reward of +1 is provided for every timestep that the pole remains upright.\n",
    "> * The episode ends when the pole is more than 15 degrees from vertical, or the cart moves more than 2.4 units from the center."
   ]
  },
  {
   "cell_type": "markdown",
   "id": "4ee0976a",
   "metadata": {},
   "source": [
    "<a href=\"https://gym.openai.com/docs/\">\n",
    "  <img src=\"https://gym.openai.com/assets/docs/aeloop-138c89d44114492fd02822303e6b4b07213010bb14ca5856d2d49d6b62d88e53.svg\" \n",
    "   alt=\"Images\" width=\"500\">\n",
    "</a>"
   ]
  },
  {
   "cell_type": "markdown",
   "id": "9b728eaf",
   "metadata": {},
   "source": [
    "Observations\n",
    "If we ever want to do better than take random actions at each step, it’d probably be good to actually know what our actions are doing to the environment.\n",
    "\n",
    "The environment’s step function returns exactly what we need. In fact, step returns four values. These are:\n",
    "\n",
    "observation (object): an environment-specific object representing your observation of the environment. For example, pixel data from a camera, joint angles and joint velocities of a robot, or the board state in a board game.\n",
    "reward (float): amount of reward achieved by the previous action. The scale varies between environments, but the goal is always to increase your total reward.\n",
    "done (boolean): whether it’s time to reset the environment again. Most (but not all) tasks are divided up into well-defined episodes, and done being True indicates the episode has terminated. (For example, perhaps the pole tipped too far, or you lost your last life.)\n",
    "info (dict): diagnostic information useful for debugging. It can sometimes be useful for learning (for example, it might contain the raw probabilities behind the environment’s last state change). However, official evaluations of your agent are not allowed to use this for learning.\n",
    "This is just an implementation of the classic “agent-environment loop”. Each timestep, the agent chooses an action, and the environment returns an observation and a reward.\n",
    "\n",
    "\n",
    "\n",
    "\n",
    "\n",
    "Spaces\n",
    "In the examples above, we’ve been sampling random actions from the environment’s action space. But what actually are those actions? Every environment comes with an action_space and an observation_space. These attributes are of type Space, and they describe the format of valid actions and observations:"
   ]
  },
  {
   "cell_type": "markdown",
   "id": "aac0b8fc",
   "metadata": {},
   "source": [
    "## Original:\n",
    "### [nicknochnack](https://github.com/nicknochnack/TensorflowKeras-ReinforcementLearning/blob/master/Deep%20Reinforcement%20Learning.ipynb)"
   ]
  },
  {
   "cell_type": "markdown",
   "id": "2be9a747",
   "metadata": {},
   "source": [
    "# Dependencies"
   ]
  },
  {
   "cell_type": "code",
   "execution_count": null,
   "id": "c340d5e4",
   "metadata": {},
   "outputs": [],
   "source": [
    "#!pip install tensorflow==2.3.0\n",
    "#!pip install gym\n",
    "#!pip install keras\n",
    "#!pip install keras-rl2"
   ]
  },
  {
   "cell_type": "markdown",
   "id": "660f7f46",
   "metadata": {},
   "source": [
    "# Enviroment Setup\n",
    "\n",
    "        All observations are assigned a uniform random value in [-0.05..0.05]"
   ]
  },
  {
   "cell_type": "code",
   "execution_count": null,
   "id": "7163f9dc",
   "metadata": {},
   "outputs": [],
   "source": [
    "import gym \n",
    "env = gym.make('CartPole-v1')"
   ]
  },
  {
   "cell_type": "markdown",
   "id": "1e5f8d53",
   "metadata": {},
   "source": [
    "## Observation\n",
    "\n",
    "        Num     Observation               Min                     Max\n",
    "        0       Cart Position             -2.4                    2.4\n",
    "        1       Cart Velocity             -Inf                    Inf\n",
    "        2       Pole Angle                -0.209 rad (-12 deg)    0.209 rad (12 deg)\n",
    "        3       Pole Angular Velocity     -Inf                    Inf"
   ]
  },
  {
   "cell_type": "code",
   "execution_count": null,
   "id": "91fdaeca",
   "metadata": {
    "scrolled": true
   },
   "outputs": [],
   "source": [
    "states = env.observation_space.shape[0]\n",
    "print(states)"
   ]
  },
  {
   "cell_type": "markdown",
   "id": "6830c1ea",
   "metadata": {},
   "source": [
    "## Actions\n",
    "\n",
    "        Num   Action\n",
    "        0     Push cart to the left\n",
    "        1     Push cart to the right"
   ]
  },
  {
   "cell_type": "code",
   "execution_count": null,
   "id": "d0dc1ff2",
   "metadata": {},
   "outputs": [],
   "source": [
    "actions = env.action_space.n\n",
    "print(actions)"
   ]
  },
  {
   "cell_type": "markdown",
   "id": "7f6b332a",
   "metadata": {},
   "source": [
    "**Agend** entscheidet sich aufgrund seiner *inneren Politik* für eine Aktion\n",
    "\n",
    "**action** wird über  `env.step(action)` an **Enviroment** übergeben.\n",
    "\n",
    "gibt `n_state, reward, done, info` zurück\n",
    "\n",
    "#### reward\n",
    "        Reward is 1 for every step taken, including the termination step\n",
    "        \n",
    "#### done\n",
    "\n",
    "    Episode Termination:\n",
    "        Pole Angle is more than 12 degrees.\n",
    "        Cart Position is more than 2.4 (center of the cart reaches the edge of the display).\n",
    "        Episode length is greater than 200."
   ]
  },
  {
   "cell_type": "markdown",
   "id": "a291cb9a",
   "metadata": {},
   "source": [
    "### Random Actions\n",
    "`action = random.choice([0,1])`\n",
    "\n",
    "`n_state, reward, done, info = env.step(action)`"
   ]
  },
  {
   "cell_type": "code",
   "execution_count": null,
   "id": "05816ea4",
   "metadata": {},
   "outputs": [],
   "source": [
    "import random\n",
    "\n",
    "episodes = 50\n",
    "for episode in range(1, episodes+1):\n",
    "    \n",
    "    # init env\n",
    "    state = env.reset()\n",
    "    done = False\n",
    "    score = 0 \n",
    "    \n",
    "    while not done:\n",
    "        env.render()\n",
    "        action = random.choice([0,1])\n",
    "        n_state, reward, done, info = env.step(action)\n",
    "        score+=reward\n",
    "    print('Episode:{} Score:{}'.format(episode, score))\n",
    "env.close()"
   ]
  },
  {
   "cell_type": "markdown",
   "id": "04626508",
   "metadata": {},
   "source": [
    "# Create a Deep Learning Model with Keras"
   ]
  },
  {
   "cell_type": "code",
   "execution_count": null,
   "id": "1594ed51",
   "metadata": {},
   "outputs": [],
   "source": [
    "import numpy as np\n",
    "from tensorflow.keras.models import Sequential\n",
    "from tensorflow.keras.layers import Dense, Flatten\n",
    "from tensorflow.keras.optimizers import Adam"
   ]
  },
  {
   "cell_type": "code",
   "execution_count": null,
   "id": "d1b46628",
   "metadata": {},
   "outputs": [],
   "source": [
    "def build_model(states, actions):\n",
    "    model = Sequential()\n",
    "    model.add(Flatten(input_shape=(1,states)))\n",
    "    model.add(Dense(24, activation='relu'))\n",
    "    model.add(Dense(24, activation='relu'))\n",
    "    model.add(Dense(actions, activation='linear'))\n",
    "    return model"
   ]
  },
  {
   "cell_type": "code",
   "execution_count": null,
   "id": "2605b576",
   "metadata": {},
   "outputs": [],
   "source": [
    "model = build_model(states, actions)\n",
    "model.summary()"
   ]
  },
  {
   "cell_type": "code",
   "execution_count": null,
   "id": "8750ad0b",
   "metadata": {},
   "outputs": [],
   "source": [
    "# https://github.com/keras-rl/keras-rl/blob/master/rl/agents/dqn.py#L89\n",
    "\n",
    "# https://github.com/PacktPublishing/Hands-On-ROS-for-Robotics-Programming/blob/master/Chapter11_OpenAI_Gym/taxi/Taxi-v3.ipynb"
   ]
  },
  {
   "cell_type": "code",
   "execution_count": null,
   "id": "3a51e1c2",
   "metadata": {},
   "outputs": [],
   "source": [
    "from rl.agents import DQNAgent\n",
    "from rl.policy import BoltzmannQPolicy\n",
    "from rl.memory import SequentialMemory"
   ]
  },
  {
   "cell_type": "code",
   "execution_count": null,
   "id": "12d33c67",
   "metadata": {},
   "outputs": [],
   "source": [
    "def build_agent(model, actions):\n",
    "    policy = BoltzmannQPolicy()\n",
    "    memory = SequentialMemory(limit=50000, window_length=1)\n",
    "    dqn = DQNAgent(model=model, memory=memory, policy=policy, \n",
    "                  nb_actions=actions, nb_steps_warmup=10, target_model_update=1e-2)\n",
    "    return dqn"
   ]
  },
  {
   "cell_type": "markdown",
   "id": "bad3ed34",
   "metadata": {},
   "source": [
    "[rjoseph24](https://github.com/nicknochnack/TensorflowKeras-ReinforcementLearning/issues/1)"
   ]
  },
  {
   "cell_type": "code",
   "execution_count": null,
   "id": "ad5fb020",
   "metadata": {},
   "outputs": [],
   "source": [
    "#del model\n",
    "model = build_model(states, actions)"
   ]
  },
  {
   "cell_type": "code",
   "execution_count": null,
   "id": "9450ea83",
   "metadata": {},
   "outputs": [],
   "source": [
    "dqn = build_agent(model, actions)\n",
    "dqn.compile(Adam(lr=1e-3), metrics=['mae'])\n",
    "history =  dqn.fit(env, nb_steps=50000, visualize=False, verbose=1)"
   ]
  },
  {
   "cell_type": "code",
   "execution_count": null,
   "id": "9e47ae16",
   "metadata": {},
   "outputs": [],
   "source": [
    "print(history.params)\n",
    "print(history.history.keys())\n",
    "rewards = history.history['episode_reward']\n",
    "print(len(rewards))"
   ]
  },
  {
   "cell_type": "code",
   "execution_count": null,
   "id": "68fcc3a8",
   "metadata": {},
   "outputs": [],
   "source": [
    "scores = dqn.test(env, nb_episodes=100, visualize=False)\n",
    "print(np.mean(scores.history['episode_reward']))"
   ]
  },
  {
   "cell_type": "code",
   "execution_count": null,
   "id": "d366d03f",
   "metadata": {},
   "outputs": [],
   "source": [
    "_ = dqn.test(env, nb_episodes=5, visualize=True)\n",
    "env.close()"
   ]
  },
  {
   "cell_type": "code",
   "execution_count": null,
   "id": "e3bf2434",
   "metadata": {},
   "outputs": [],
   "source": [
    "dqn.save_weights('dqn_weights.h5f', overwrite=True)"
   ]
  },
  {
   "cell_type": "code",
   "execution_count": null,
   "id": "d0a06fd3",
   "metadata": {},
   "outputs": [],
   "source": [
    "del model\n",
    "del dqn\n",
    "del env"
   ]
  },
  {
   "cell_type": "code",
   "execution_count": null,
   "id": "848ae6af",
   "metadata": {},
   "outputs": [],
   "source": [
    "env = gym.make('CartPole-v0')\n",
    "actions = env.action_space.n\n",
    "states = env.observation_space.shape[0]\n",
    "model = build_model(states, actions)\n",
    "dqn = build_agent(model, actions)\n",
    "dqn.compile(Adam(lr=1e-3), metrics=['mae'])"
   ]
  },
  {
   "cell_type": "code",
   "execution_count": null,
   "id": "ebc26738",
   "metadata": {},
   "outputs": [],
   "source": [
    "dqn.load_weights('dqn_weights.h5f')"
   ]
  },
  {
   "cell_type": "code",
   "execution_count": null,
   "id": "dfe15dbd",
   "metadata": {},
   "outputs": [],
   "source": [
    "_ = dqn.test(env, nb_episodes=5, visualize=True)\n",
    "env.close()"
   ]
  },
  {
   "cell_type": "markdown",
   "id": "182f77c1",
   "metadata": {},
   "source": [
    "        Solved Requirements:\n",
    "        Considered solved when the average return is greater than or equal to\n",
    "        195.0 over 100 consecutive trials."
   ]
  },
  {
   "cell_type": "code",
   "execution_count": null,
   "id": "e2db7526",
   "metadata": {},
   "outputs": [],
   "source": []
  },
  {
   "cell_type": "code",
   "execution_count": null,
   "id": "508b546f",
   "metadata": {},
   "outputs": [],
   "source": []
  },
  {
   "cell_type": "code",
   "execution_count": null,
   "id": "5e1c35a6",
   "metadata": {},
   "outputs": [],
   "source": []
  }
 ],
 "metadata": {
  "interpreter": {
   "hash": "d439e7ada44796882fd5e475279d04416680fbae278ff01592aa58b4208a2412"
  },
  "kernelspec": {
   "display_name": "Python 3",
   "language": "python",
   "name": "python3"
  },
  "language_info": {
   "codemirror_mode": {
    "name": "ipython",
    "version": 3
   },
   "file_extension": ".py",
   "mimetype": "text/x-python",
   "name": "python",
   "nbconvert_exporter": "python",
   "pygments_lexer": "ipython3",
   "version": "3.8.8"
  }
 },
 "nbformat": 4,
 "nbformat_minor": 5
}
