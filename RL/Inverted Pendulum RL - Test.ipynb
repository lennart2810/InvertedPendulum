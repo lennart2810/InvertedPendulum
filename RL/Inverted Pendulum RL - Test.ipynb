{
 "cells": [
  {
   "cell_type": "markdown",
   "id": "cf87f577",
   "metadata": {},
   "source": [
    "# Reinforcement Learning - Test"
   ]
  },
  {
   "cell_type": "markdown",
   "id": "041b3863",
   "metadata": {},
   "source": [
    "## Enviroment"
   ]
  },
  {
   "cell_type": "code",
   "execution_count": 1,
   "id": "7163f9dc",
   "metadata": {},
   "outputs": [],
   "source": [
    "import gym \n",
    "env = gym.make('CartPole-v1')\n",
    "\n",
    "states = env.observation_space.shape[0]\n",
    "actions = env.action_space.n"
   ]
  },
  {
   "cell_type": "markdown",
   "id": "11cfb873",
   "metadata": {},
   "source": [
    "## Random Actions\n",
    "> * `action = random.choice([0,1])` \n",
    "> $\\rightarrow$ **action** wird über  `env.step(action)` an **Enviroment** übergeben.\n",
    "\n",
    "\n",
    "> * `new_state, reward, done, info = env.step(action)`"
   ]
  },
  {
   "cell_type": "code",
   "execution_count": 2,
   "id": "05816ea4",
   "metadata": {},
   "outputs": [],
   "source": [
    "import time\n",
    "import random\n",
    "from numpy import mean\n",
    "import matplotlib.pyplot as plt\n",
    "\n",
    "def random_action():\n",
    "    \n",
    "    time.sleep(1)\n",
    "    \n",
    "    episodes = 50\n",
    "    scores = []\n",
    "    \n",
    "    for episode in range(1, episodes+1):\n",
    "\n",
    "        state = env.reset()\n",
    "        done = False\n",
    "        score = 0 \n",
    "\n",
    "        while not done:\n",
    "            env.render()\n",
    "            action = random.choice([0,1])\n",
    "            new_state, reward, done, info = env.step(action)\n",
    "            score += reward\n",
    "        scores.append(score)\n",
    "        time.sleep(0.01)\n",
    "    env.close()\n",
    "\n",
    "    mean_reward = mean(scores)\n",
    "    fig, (ax1) = plt.subplots(1,1, figsize=(7,3),dpi=120)\n",
    "    ax1.plot(scores, label=r'scores')\n",
    "    ax1.plot([0,episodes-1],[mean_reward,mean_reward], label=r'mean')\n",
    "    ax1.set_title('Random Actions')\n",
    "    ax1.set_xlabel('episode')  \n",
    "    ax1.set_ylabel('reward')  \n",
    "    ax1.legend(loc=('best'), frameon=False, fontsize=10)\n",
    "    plt.savefig(\"images/RandomActions.png\")"
   ]
  },
  {
   "cell_type": "code",
   "execution_count": 3,
   "id": "04eb8f4a",
   "metadata": {},
   "outputs": [
    {
     "data": {
      "application/vnd.jupyter.widget-view+json": {
       "model_id": "fc2df8cd7df74b7b8fa86dea2f9c00ef",
       "version_major": 2,
       "version_minor": 0
      },
      "text/plain": [
       "Button(description='Random Actions', style=ButtonStyle())"
      ]
     },
     "metadata": {},
     "output_type": "display_data"
    }
   ],
   "source": [
    "import ipywidgets as widgets\n",
    "from IPython.display import display\n",
    "\n",
    "button = widgets.Button(description=\"Random Actions\")\n",
    "display(button)\n",
    "\n",
    "def on_button_clicked(b):\n",
    "    \n",
    "    random_action()\n",
    "\n",
    "button.on_click(on_button_clicked)"
   ]
  },
  {
   "cell_type": "markdown",
   "id": "25b13bb0",
   "metadata": {},
   "source": [
    "## Build DQN-Agent"
   ]
  },
  {
   "cell_type": "code",
   "execution_count": 4,
   "id": "d1b46628",
   "metadata": {},
   "outputs": [
    {
     "name": "stdout",
     "output_type": "stream",
     "text": [
      "WARNING:tensorflow:OMP_NUM_THREADS is no longer used by the default Keras config. To configure the number of threads, use tf.config.threading APIs.\n"
     ]
    }
   ],
   "source": [
    "from tensorflow.keras.models import Sequential\n",
    "from tensorflow.keras.layers import Dense, Flatten\n",
    "from tensorflow.keras.optimizers import Adam\n",
    "\n",
    "def build_model(states, actions):\n",
    "    model = Sequential()\n",
    "    model.add(Flatten(input_shape=(1,states)))\n",
    "    model.add(Dense(24, activation='relu'))\n",
    "    model.add(Dense(24, activation='relu'))\n",
    "    model.add(Dense(actions, activation='linear'))\n",
    "    return model\n",
    "\n",
    "model = build_model(states, actions)\n",
    "#model.summary()\n",
    "\n",
    "from rl.agents import DQNAgent\n",
    "from rl.policy import BoltzmannQPolicy\n",
    "from rl.memory import SequentialMemory\n",
    "\n",
    "def build_agent(model, actions):\n",
    "    policy = BoltzmannQPolicy()\n",
    "    memory = SequentialMemory(limit=80000, window_length=1)\n",
    "    dqn = DQNAgent(model=model, memory=memory, policy=policy, \n",
    "                  nb_actions=actions, nb_steps_warmup=20, target_model_update=1e-2)\n",
    "    return dqn\n",
    "\n",
    "model = build_model(states, actions)\n",
    "\n",
    "dqn = build_agent(model, actions)\n",
    "dqn.compile(Adam(lr=1e-3), metrics=['mae'])"
   ]
  },
  {
   "cell_type": "markdown",
   "id": "a4cbc0e6",
   "metadata": {},
   "source": [
    "## Load weights"
   ]
  },
  {
   "cell_type": "code",
   "execution_count": 5,
   "id": "1b7c5ccd",
   "metadata": {},
   "outputs": [],
   "source": [
    "dqn.load_weights('weights/dqn_weights.h5f')"
   ]
  },
  {
   "cell_type": "markdown",
   "id": "c279845c",
   "metadata": {},
   "source": [
    "## Test Agent"
   ]
  },
  {
   "cell_type": "code",
   "execution_count": 6,
   "id": "68fcc3a8",
   "metadata": {},
   "outputs": [
    {
     "name": "stdout",
     "output_type": "stream",
     "text": [
      "Testing for 50 episodes ...\n",
      "WARNING:tensorflow:From C:\\Users\\lenna\\anaconda3\\lib\\site-packages\\tensorflow\\python\\keras\\engine\\training_v1.py:2070: Model.state_updates (from tensorflow.python.keras.engine.training) is deprecated and will be removed in a future version.\n",
      "Instructions for updating:\n",
      "This property should not be used in TensorFlow 2.0, as updates are applied automatically.\n",
      "Episode 1: reward: 500.000, steps: 500\n",
      "Episode 2: reward: 500.000, steps: 500\n",
      "Episode 3: reward: 500.000, steps: 500\n",
      "Episode 4: reward: 500.000, steps: 500\n",
      "Episode 5: reward: 500.000, steps: 500\n",
      "Episode 6: reward: 500.000, steps: 500\n",
      "Episode 7: reward: 500.000, steps: 500\n",
      "Episode 8: reward: 500.000, steps: 500\n",
      "Episode 9: reward: 500.000, steps: 500\n",
      "Episode 10: reward: 500.000, steps: 500\n",
      "Episode 11: reward: 500.000, steps: 500\n",
      "Episode 12: reward: 500.000, steps: 500\n",
      "Episode 13: reward: 500.000, steps: 500\n",
      "Episode 14: reward: 500.000, steps: 500\n",
      "Episode 15: reward: 500.000, steps: 500\n",
      "Episode 16: reward: 500.000, steps: 500\n",
      "Episode 17: reward: 500.000, steps: 500\n",
      "Episode 18: reward: 500.000, steps: 500\n",
      "Episode 19: reward: 500.000, steps: 500\n",
      "Episode 20: reward: 500.000, steps: 500\n",
      "Episode 21: reward: 500.000, steps: 500\n",
      "Episode 22: reward: 500.000, steps: 500\n",
      "Episode 23: reward: 500.000, steps: 500\n",
      "Episode 24: reward: 500.000, steps: 500\n",
      "Episode 25: reward: 500.000, steps: 500\n",
      "Episode 26: reward: 500.000, steps: 500\n",
      "Episode 27: reward: 500.000, steps: 500\n",
      "Episode 28: reward: 500.000, steps: 500\n",
      "Episode 29: reward: 500.000, steps: 500\n",
      "Episode 30: reward: 500.000, steps: 500\n",
      "Episode 31: reward: 500.000, steps: 500\n",
      "Episode 32: reward: 500.000, steps: 500\n",
      "Episode 33: reward: 500.000, steps: 500\n",
      "Episode 34: reward: 500.000, steps: 500\n",
      "Episode 35: reward: 500.000, steps: 500\n",
      "Episode 36: reward: 500.000, steps: 500\n",
      "Episode 37: reward: 500.000, steps: 500\n",
      "Episode 38: reward: 500.000, steps: 500\n",
      "Episode 39: reward: 500.000, steps: 500\n",
      "Episode 40: reward: 500.000, steps: 500\n",
      "Episode 41: reward: 500.000, steps: 500\n",
      "Episode 42: reward: 500.000, steps: 500\n",
      "Episode 43: reward: 500.000, steps: 500\n",
      "Episode 44: reward: 500.000, steps: 500\n",
      "Episode 45: reward: 500.000, steps: 500\n",
      "Episode 46: reward: 500.000, steps: 500\n",
      "Episode 47: reward: 500.000, steps: 500\n",
      "Episode 48: reward: 500.000, steps: 500\n",
      "Episode 49: reward: 500.000, steps: 500\n",
      "Episode 50: reward: 500.000, steps: 500\n"
     ]
    },
    {
     "data": {
      "image/png": "[encoded data removed]",
      "text/plain": [
       "<Figure size 840x360 with 1 Axes>"
      ]
     },
     "metadata": {
      "needs_background": "light"
     },
     "output_type": "display_data"
    }
   ],
   "source": [
    "episodes = 50\n",
    "scores = dqn.test(env, nb_episodes=episodes, visualize=False, verbose=1)\n",
    "\n",
    "mean_reward = mean(scores.history['episode_reward'])\n",
    "fig, (ax1) = plt.subplots(1,1, figsize=(7,3),dpi=120)\n",
    "ax1.plot(scores.history['episode_reward'], label=r'scores')\n",
    "ax1.plot([0,episodes-1],[mean_reward,mean_reward], label=r'mean')\n",
    "ax1.set_title(f'Trained Agent (mean: {round(mean_reward,2)})')\n",
    "ax1.set_xlabel('episode')\n",
    "ax1.set_ylabel('reward')\n",
    "ax1.legend(loc=('best'), frameon=False, fontsize=10)\n",
    "plt.savefig(\"images/TrainedAgent.png\")"
   ]
  },
  {
   "cell_type": "code",
   "execution_count": 7,
   "id": "d366d03f",
   "metadata": {},
   "outputs": [
    {
     "data": {
      "application/vnd.jupyter.widget-view+json": {
       "model_id": "aec6297c48cc4a169618a63ed0cde399",
       "version_major": 2,
       "version_minor": 0
      },
      "text/plain": [
       "Button(description='Test Agent', style=ButtonStyle())"
      ]
     },
     "metadata": {},
     "output_type": "display_data"
    }
   ],
   "source": [
    "button_test = widgets.Button(description=\"Test Agent\")\n",
    "display(button_test)\n",
    "\n",
    "def on_button_test_clicked(b):\n",
    "    \n",
    "    time.sleep(1)\n",
    "    _ = dqn.test(env, nb_episodes=5, visualize=True, verbose=1)\n",
    "    env.close()\n",
    "\n",
    "button_test.on_click(on_button_test_clicked)"
   ]
  },
  {
   "cell_type": "code",
   "execution_count": null,
   "id": "005b317c",
   "metadata": {},
   "outputs": [],
   "source": []
  }
 ],
 "metadata": {
  "interpreter": {
   "hash": "d439e7ada44796882fd5e475279d04416680fbae278ff01592aa58b4208a2412"
  },
  "kernelspec": {
   "display_name": "Python 3",
   "language": "python",
   "name": "python3"
  },
  "language_info": {
   "codemirror_mode": {
    "name": "ipython",
    "version": 3
   },
   "file_extension": ".py",
   "mimetype": "text/x-python",
   "name": "python",
   "nbconvert_exporter": "python",
   "pygments_lexer": "ipython3",
   "version": "3.8.8"
  }
 },
 "nbformat": 4,
 "nbformat_minor": 5
}
