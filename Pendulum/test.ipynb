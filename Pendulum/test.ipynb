{
 "cells": [
  {
   "cell_type": "markdown",
   "id": "3c5b6562",
   "metadata": {},
   "source": [
    "# Source \n",
    "https://github.com/lukepolson/youtube_channel/blob/main/Python%20Metaphysics%20Series/vid4.ipynb"
   ]
  },
  {
   "cell_type": "code",
   "execution_count": 1,
   "id": "254e1803",
   "metadata": {},
   "outputs": [],
   "source": [
    "from sympy.interactive import printing\n",
    "printing.init_printing(use_latex = True)\n",
    "\n",
    "#delete\n",
    "\n",
    "import numpy as np\n",
    "import sympy as smp\n",
    "from scipy.integrate import odeint\n",
    "import matplotlib.pyplot as plt\n",
    "from matplotlib import animation\n",
    "#from mpl_toolkits.mplot3d import Axes3D\n",
    "from matplotlib.animation import PillowWriter"
   ]
  },
  {
   "cell_type": "markdown",
   "id": "f9570dd4",
   "metadata": {},
   "source": [
    "Position confined to some 1D path: $x=x(\\theta)$ and $y=y(\\theta)$ A few examples\n",
    "\n",
    "Parabola: $x = \\theta$ and $y=\\theta^2$\n",
    "\n",
    "Simple Pendulum: $x = \\cos(\\theta)$ and $y=\\sin(\\theta)$\n",
    "\n",
    "Tautochrone: $x = \\sin(2\\theta) + 2\\theta$ and $y=1-\\cos(2 \\theta)$\n",
    "\n",
    "Many more ...\n",
    "Kinetic Energy: $ T = \\frac{1}{2}m (\\dot{x}^2 + \\dot{y}^2) $\n",
    "Potential Energy: $ V = mgy $\n",
    "The Lagrangian: $L = T- V $\n",
    "Lagranges Equation: $\\frac{dL}{d\\theta} - \\frac{d}{dt} \\frac{dL}{d\\dot{\\theta}} = 0"
   ]
  },
  {
   "cell_type": "markdown",
   "metadata": {},
   "source": [
    "Define variables"
   ]
  },
  {
   "cell_type": "code",
   "execution_count": 2,
   "id": "46085a53",
   "metadata": {},
   "outputs": [],
   "source": [
    "\n",
    "t, m, g = smp.symbols('t m g')\n",
    "the = smp.symbols(r'\\theta', cls=smp.Function)\n",
    "the = the(t)\n",
    "the_d = smp.diff(the, t)\n",
    "the_dd = smp.diff(the_d, t)"
   ]
  },
  {
   "cell_type": "code",
   "execution_count": 3,
   "id": "39d369fd",
   "metadata": {},
   "outputs": [
    {
     "data": {
      "image/png": "[encoded data removed]",
      "text/latex": [
       "$\\displaystyle \\frac{d^{2}}{d t^{2}} \\theta{\\left(t \\right)}$"
      ],
      "text/plain": [
       "  2           \n",
       " d            \n",
       "───(\\theta(t))\n",
       "  2           \n",
       "dt            "
      ]
     },
     "execution_count": 3,
     "metadata": {},
     "output_type": "execute_result"
    }
   ],
   "source": [
    "the_dd"
   ]
  },
  {
   "cell_type": "markdown",
   "id": "d038a3af",
   "metadata": {},
   "source": [
    "\n",
    "Make sure $x$ and $y$ are functions of $\\theta$"
   ]
  },
  {
   "cell_type": "code",
   "execution_count": 4,
   "id": "ed4cd3e8",
   "metadata": {},
   "outputs": [],
   "source": [
    "x, y = smp.symbols('x y', cls=smp.Function)\n",
    "x = x(the)\n",
    "y = y(the)"
   ]
  },
  {
   "cell_type": "markdown",
   "id": "2a3fdb81",
   "metadata": {},
   "source": [
    "\n",
    "Define $x$ and $y$"
   ]
  },
  {
   "cell_type": "code",
   "execution_count": 5,
   "id": "1ffecf79",
   "metadata": {},
   "outputs": [],
   "source": [
    "path='taut'\n",
    "if path=='taut':\n",
    "    x = smp.sin(2*the) + 2*the\n",
    "    y = 1 - smp.cos(2*the)\n",
    "    x_f = smp.lambdify(the, x)\n",
    "    y_f = smp.lambdify(the, y)\n",
    "if path=='parab':\n",
    "    x = the\n",
    "    y = the**2\n",
    "    x_f = smp.lambdify(the, x)\n",
    "    y_f = smp.lambdify(the, y)"
   ]
  },
  {
   "cell_type": "markdown",
   "id": "a61f4561",
   "metadata": {},
   "source": [
    "\n",
    "Define $T$, $V$, and $L$"
   ]
  },
  {
   "cell_type": "code",
   "execution_count": 6,
   "id": "818db3da",
   "metadata": {},
   "outputs": [],
   "source": [
    "\n",
    "T = 1/2 * m * (smp.diff(x,t)**2 + smp.diff(y,t)**2)\n",
    "V = m*g*y\n",
    "L = T-V"
   ]
  },
  {
   "cell_type": "code",
   "execution_count": 7,
   "id": "0f983aa1",
   "metadata": {},
   "outputs": [
    {
     "data": {
      "image/png": "[encoded data removed]",
      "text/latex": [
       "$\\displaystyle - g m \\left(1 - \\cos{\\left(2 \\theta{\\left(t \\right)} \\right)}\\right) + 0.5 m \\left(\\left(2 \\cos{\\left(2 \\theta{\\left(t \\right)} \\right)} \\frac{d}{d t} \\theta{\\left(t \\right)} + 2 \\frac{d}{d t} \\theta{\\left(t \\right)}\\right)^{2} + 4 \\sin^{2}{\\left(2 \\theta{\\left(t \\right)} \\right)} \\left(\\frac{d}{d t} \\theta{\\left(t \\right)}\\right)^{2}\\right)$"
      ],
      "text/plain": [
       "                                    ⎛                                         \n",
       "                                    ⎜⎛                   d                 d  \n",
       "-g⋅m⋅(1 - cos(2⋅\\theta(t))) + 0.5⋅m⋅⎜⎜2⋅cos(2⋅\\theta(t))⋅──(\\theta(t)) + 2⋅──(\n",
       "                                    ⎝⎝                   dt                dt \n",
       "\n",
       "           2                                      2⎞\n",
       "          ⎞         2              ⎛d            ⎞ ⎟\n",
       "\\theta(t))⎟  + 4⋅sin (2⋅\\theta(t))⋅⎜──(\\theta(t))⎟ ⎟\n",
       "          ⎠                        ⎝dt           ⎠ ⎠"
      ]
     },
     "execution_count": 7,
     "metadata": {},
     "output_type": "execute_result"
    }
   ],
   "source": [
    "L"
   ]
  },
  {
   "cell_type": "markdown",
   "id": "a540b1dc",
   "metadata": {},
   "source": [
    "\n",
    "Compute $\\frac{dL}{d\\theta} - \\frac{d}{dt} \\frac{dL}{d\\dot{\\theta}}$ (which is equal to zero:Lagranges equation)"
   ]
  },
  {
   "cell_type": "code",
   "execution_count": 8,
   "id": "50333885",
   "metadata": {},
   "outputs": [],
   "source": [
    "\n",
    "LE = smp.diff(L, the) - smp.diff(smp.diff(L, the_d), t)\n",
    "LE = LE.simplify()"
   ]
  },
  {
   "cell_type": "code",
   "execution_count": 9,
   "id": "fa7d6e4d",
   "metadata": {},
   "outputs": [
    {
     "data": {
      "image/png": "[encoded data removed]",
      "text/latex": [
       "$\\displaystyle m \\left(- 2.0 g \\sin{\\left(2 \\theta{\\left(t \\right)} \\right)} + 8.0 \\sin{\\left(2 \\theta{\\left(t \\right)} \\right)} \\left(\\frac{d}{d t} \\theta{\\left(t \\right)}\\right)^{2} - 8.0 \\cos{\\left(2 \\theta{\\left(t \\right)} \\right)} \\frac{d^{2}}{d t^{2}} \\theta{\\left(t \\right)} - 8.0 \\frac{d^{2}}{d t^{2}} \\theta{\\left(t \\right)}\\right)$"
      ],
      "text/plain": [
       "  ⎛                                                              2            \n",
       "  ⎜                                               ⎛d            ⎞             \n",
       "m⋅⎜-2.0⋅g⋅sin(2⋅\\theta(t)) + 8.0⋅sin(2⋅\\theta(t))⋅⎜──(\\theta(t))⎟  - 8.0⋅cos(2\n",
       "  ⎜                                               ⎝dt           ⎠             \n",
       "  ⎝                                                                           \n",
       "\n",
       "              2                    2           ⎞\n",
       "             d                    d            ⎟\n",
       "⋅\\theta(t))⋅───(\\theta(t)) - 8.0⋅───(\\theta(t))⎟\n",
       "              2                    2           ⎟\n",
       "            dt                   dt            ⎠"
      ]
     },
     "execution_count": 9,
     "metadata": {},
     "output_type": "execute_result"
    }
   ],
   "source": [
    "LE"
   ]
  },
  {
   "cell_type": "markdown",
   "id": "50635f94",
   "metadata": {},
   "source": [
    "Solve for $d^2 \\theta / dt^2 $ so we can solve it with an ODE solver. Our system of equations will then be\n",
    "$ \\frac{d \\theta}{dt} = \\omega$$$$\\frac{d \\omega}{dt} = \\frac{d^2 \\theta}{dt^2} =  \\text{whatever is returned} $"
   ]
  },
  {
   "cell_type": "code",
   "execution_count": 10,
   "id": "0f4b6f82",
   "metadata": {},
   "outputs": [],
   "source": [
    "deriv_2 =smp.solve(LE, the_dd)[0]\n",
    "deriv_1 = the_d"
   ]
  },
  {
   "cell_type": "code",
   "execution_count": 11,
   "id": "efdbd29b",
   "metadata": {},
   "outputs": [
    {
     "data": {
      "image/png": "[encoded data removed]",
      "text/latex": [
       "$\\displaystyle 0.25 \\left(- g + 4.0 \\left(\\frac{d}{d t} \\theta{\\left(t \\right)}\\right)^{2}\\right) \\tan{\\left(\\theta{\\left(t \\right)} \\right)}$"
      ],
      "text/plain": [
       "     ⎛                        2⎞               \n",
       "     ⎜         ⎛d            ⎞ ⎟               \n",
       "0.25⋅⎜-g + 4.0⋅⎜──(\\theta(t))⎟ ⎟⋅tan(\\theta(t))\n",
       "     ⎝         ⎝dt           ⎠ ⎠               "
      ]
     },
     "metadata": {},
     "output_type": "display_data"
    }
   ],
   "source": [
    "#deriv_2\n",
    "display(deriv_2)"
   ]
  },
  {
   "cell_type": "markdown",
   "id": "0bd72a81",
   "metadata": {},
   "source": [
    "Convert this into a numpy expression:"
   ]
  },
  {
   "cell_type": "code",
   "execution_count": 12,
   "id": "7f9196df",
   "metadata": {},
   "outputs": [
    {
     "data": {
      "text/plain": [
       "<function print>"
      ]
     },
     "execution_count": 12,
     "metadata": {},
     "output_type": "execute_result"
    }
   ],
   "source": [
    "deriv2_f = smp.lambdify((g, the, the_d), deriv_2)\n",
    "deriv1_f = smp.lambdify(the_d, the_d)\n",
    "\n",
    "print"
   ]
  },
  {
   "cell_type": "markdown",
   "id": "fb2e566a",
   "metadata": {},
   "source": [
    "\n",
    "Create ODE"
   ]
  },
  {
   "cell_type": "code",
   "execution_count": 13,
   "id": "c7f2f508",
   "metadata": {},
   "outputs": [
    {
     "name": "stdout",
     "output_type": "stream",
     "text": [
      "<class 'function'>\n"
     ]
    }
   ],
   "source": [
    "\n",
    "def dSdt(S, t):\n",
    "    return [\n",
    "        deriv1_f(S[1]), #dtheta/dt\n",
    "        deriv2_f(g, S[0], S[1]) #domega/dt\n",
    "    ]\n",
    "\n",
    "print(type(dSdt))"
   ]
  },
  {
   "cell_type": "markdown",
   "id": "dbe304f6",
   "metadata": {},
   "source": [
    "Solve"
   ]
  },
  {
   "cell_type": "code",
   "execution_count": 14,
   "id": "92b7f696",
   "metadata": {},
   "outputs": [
    {
     "name": "stdout",
     "output_type": "stream",
     "text": [
      "<class 'numpy.ndarray'>\n",
      "(1000, 2)\n"
     ]
    },
    {
     "data": {
      "text/plain": [
       "array([[ 0.78539816,  0.        ],\n",
       "       [ 0.78490684, -0.04906694],\n",
       "       [ 0.78343483, -0.09794177],\n",
       "       ...,\n",
       "       [ 0.77306439,  0.24298256],\n",
       "       [ 0.77745807,  0.19580961],\n",
       "       [ 0.78089968,  0.14789764]])"
      ]
     },
     "metadata": {},
     "output_type": "display_data"
    }
   ],
   "source": [
    "\n",
    "t = np.linspace(0, 20, 1000)\n",
    "g = 9.81\n",
    "ans1 = odeint(dSdt, y0=[np.pi/4, 0], t=t)\n",
    "ans2 = odeint(dSdt, y0=[np.pi/5, 0], t=t)\n",
    "\n",
    "print(type(ans1))\n",
    "print(ans1.shape)\n",
    "display(ans1)"
   ]
  },
  {
   "cell_type": "code",
   "execution_count": 15,
   "id": "f7654cfa",
   "metadata": {},
   "outputs": [
    {
     "data": {
      "text/plain": [
       "[<matplotlib.lines.Line2D at 0x7f314876bc40>]"
      ]
     },
     "execution_count": 15,
     "metadata": {},
     "output_type": "execute_result"
    },
    {
     "data": {
      "image/png": "[encoded data removed]",
      "text/plain": [
       "<Figure size 432x288 with 1 Axes>"
      ]
     },
     "metadata": {
      "needs_background": "light"
     },
     "output_type": "display_data"
    }
   ],
   "source": [
    "\n",
    "plt.plot(t,ans1.T[0])\n",
    "plt.plot(t,ans2.T[0])"
   ]
  },
  {
   "cell_type": "code",
   "execution_count": 16,
   "id": "0be4a851",
   "metadata": {},
   "outputs": [],
   "source": [
    "\n",
    "def get_xy(theta):\n",
    "    return x_f(theta), y_f(theta)"
   ]
  },
  {
   "cell_type": "code",
   "execution_count": 17,
   "id": "0f007e79",
   "metadata": {},
   "outputs": [],
   "source": [
    "\n",
    "x1, y1 = get_xy(ans1.T[0])\n",
    "x2, y2 = get_xy(ans2.T[0])"
   ]
  },
  {
   "cell_type": "markdown",
   "metadata": {},
   "source": [
    "Der Verlauf des Pendels wurde "
   ]
  },
  {
   "cell_type": "code",
   "execution_count": 18,
   "id": "b7184fe1",
   "metadata": {},
   "outputs": [
    {
     "data": {
      "image/png": "[encoded data removed]",
      "text/plain": [
       "<Figure size 432x288 with 1 Axes>"
      ]
     },
     "metadata": {
      "needs_background": "light"
     },
     "output_type": "display_data"
    }
   ],
   "source": [
    "def animate(i):\n",
    "    ln1.set_data([x1[i]], [y1[i]])\n",
    "    ln2.set_data([x2[i]], [y2[i]])\n",
    "    \n",
    "fig, ax = plt.subplots(1,1)\n",
    "ax.grid()\n",
    "ln1, = plt.plot([], [], 'ro')\n",
    "ln2, = plt.plot([], [], 'ro')\n",
    "ax.set_ylim(-1, 4)\n",
    "ax.set_xlim(-4,4)\n",
    "ani = animation.FuncAnimation(fig, animate, frames=1000, interval=50)\n",
    "#ani.save('pen.gif',writer='pillow',fps=50)\n"
   ]
  },
  {
   "cell_type": "code",
   "execution_count": 19,
   "id": "bfcf8a37",
   "metadata": {},
   "outputs": [
    {
     "data": {
      "image/png": "[encoded data removed]",
      "text/latex": [
       "$\\displaystyle \\sin{\\left(x \\right)}$"
      ],
      "text/plain": [
       "sin(x)"
      ]
     },
     "metadata": {},
     "output_type": "display_data"
    }
   ],
   "source": [
    "\n",
    "import numpy as np\n",
    "\n",
    "x = smp.Symbol('x')\n",
    "func = smp.sin(x)\n",
    "display(func)"
   ]
  },
  {
   "cell_type": "markdown",
   "id": "8ffd3c90",
   "metadata": {},
   "source": [
    "$ \\frac{1}{2} $\n",
    "$$ \\frac{1}{2} $$"
   ]
  },
  {
   "cell_type": "code",
   "execution_count": null,
   "id": "cb2d3db5",
   "metadata": {},
   "outputs": [],
   "source": []
  }
 ],
 "metadata": {
  "interpreter": {
   "hash": "d439e7ada44796882fd5e475279d04416680fbae278ff01592aa58b4208a2412"
  },
  "kernelspec": {
   "display_name": "Python 3.8.8 64-bit ('base': conda)",
   "name": "python3"
  },
  "language_info": {
   "codemirror_mode": {
    "name": "ipython",
    "version": 3
   },
   "file_extension": ".py",
   "mimetype": "text/x-python",
   "name": "python",
   "nbconvert_exporter": "python",
   "pygments_lexer": "ipython3",
   "version": "3.8.10"
  }
 },
 "nbformat": 4,
 "nbformat_minor": 5
}
