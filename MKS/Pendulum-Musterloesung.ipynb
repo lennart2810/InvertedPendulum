{
 "cells": [
  {
   "cell_type": "markdown",
   "metadata": {},
   "source": [
    "### Importieren benötigter Bibliotheken"
   ]
  },
  {
   "cell_type": "code",
   "execution_count": 44,
   "metadata": {},
   "outputs": [],
   "source": [
    "from __future__ import print_function, division\n",
    "from sympy import symbols, simplify, trigsimp\n",
    "from sympy.physics.mechanics import dynamicsymbols, ReferenceFrame, Point\n",
    "from sympy.physics.mechanics import inertia, RigidBody, KanesMethod\n",
    "from sympy.physics.vector import init_vprinting\n",
    "init_vprinting(use_latex='mathjax', pretty_print=False)\n"
   ]
  },
  {
   "cell_type": "code",
   "execution_count": 47,
   "metadata": {},
   "outputs": [
    {
     "ename": "NameError",
     "evalue": "name 'sympy' is not defined",
     "output_type": "error",
     "traceback": [
      "\u001b[1;31m---------------------------------------------------------------------------\u001b[0m",
      "\u001b[1;31mNameError\u001b[0m                                 Traceback (most recent call last)",
      "\u001b[1;32m<ipython-input-47-89d680d66f87>\u001b[0m in \u001b[0;36m<module>\u001b[1;34m\u001b[0m\n\u001b[1;32m----> 1\u001b[1;33m \u001b[0msympy\u001b[0m\u001b[1;33m-\u001b[0m\u001b[1;33m-\u001b[0m\u001b[0mversion\u001b[0m\u001b[1;33m\u001b[0m\u001b[1;33m\u001b[0m\u001b[0m\n\u001b[0m",
      "\u001b[1;31mNameError\u001b[0m: name 'sympy' is not defined"
     ]
    }
   ],
   "source": [
    "sympy--version"
   ]
  },
  {
   "cell_type": "markdown",
   "metadata": {},
   "source": [
    "# 1. Kinematik"
   ]
  },
  {
   "cell_type": "markdown",
   "metadata": {},
   "source": [
    "### Koordinatensysteme / Bezugssysteme"
   ]
  },
  {
   "cell_type": "code",
   "execution_count": 2,
   "metadata": {},
   "outputs": [],
   "source": [
    "# Initialisieren der benötigten Koordinatensysteme\n",
    "inertial_frame = ReferenceFrame('I')\n",
    "pendulum1_frame = ReferenceFrame('P_1')"
   ]
  },
  {
   "cell_type": "markdown",
   "metadata": {},
   "source": [
    "### Orientierung und Zwangsbedingungen an den Koordinatensystemen"
   ]
  },
  {
   "cell_type": "code",
   "execution_count": 3,
   "metadata": {},
   "outputs": [],
   "source": [
    "theta1 = dynamicsymbols('theta1')"
   ]
  },
  {
   "cell_type": "code",
   "execution_count": 4,
   "metadata": {},
   "outputs": [],
   "source": [
    "# Zwangsbedingung des Bezugssystems P1 zum Inertialsystem:\n",
    "# setze fest, dass pendulum1 lediglich um die z-Achse des Inertalsystems rotieren kann, um den Winkel theta1\n",
    "pendulum1_frame.orient(inertial_frame, 'Axis', (theta1, inertial_frame.z))"
   ]
  },
  {
   "cell_type": "code",
   "execution_count": 5,
   "metadata": {},
   "outputs": [
    {
     "data": {
      "text/latex": [
       "$\\displaystyle \\left[\\begin{matrix}\\cos{\\left(\\theta_{1} \\right)} & \\sin{\\left(\\theta_{1} \\right)} & 0\\\\- \\sin{\\left(\\theta_{1} \\right)} & \\cos{\\left(\\theta_{1} \\right)} & 0\\\\0 & 0 & 1\\end{matrix}\\right]$"
      ],
      "text/plain": [
       "Matrix([\n",
       "[ cos(theta1), sin(theta1), 0],\n",
       "[-sin(theta1), cos(theta1), 0],\n",
       "[           0,           0, 1]])"
      ]
     },
     "execution_count": 5,
     "metadata": {},
     "output_type": "execute_result"
    }
   ],
   "source": [
    "# Daraus ergibt sich dann, dass die die Position von pendulum1 mit der folgenden Rotationsmatrix berechnet werden kann:\n",
    "pendulum1_frame.dcm(inertial_frame)"
   ]
  },
  {
   "cell_type": "markdown",
   "metadata": {},
   "source": [
    "<p> Multipliziert man diese Rotationsmatrix mit einem Vektor, lässt sich damit der Vektor um die entsprechenden Winkel zum Inertialsystem drehen</p>"
   ]
  },
  {
   "cell_type": "markdown",
   "metadata": {},
   "source": [
    "### Massepunkte und Gelenkpunkte"
   ]
  },
  {
   "cell_type": "code",
   "execution_count": 6,
   "metadata": {},
   "outputs": [],
   "source": [
    "# Zunächst setzen wir einen fixen Ankerpunkt im Inertialsystem\n",
    "ankle = Point('A')"
   ]
  },
  {
   "cell_type": "code",
   "execution_count": 7,
   "metadata": {},
   "outputs": [],
   "source": [
    "# setzen unseren zweiten Punkt, der später pendulum1 und pendulum2 verbinden soll\n",
    "p1 = Point('P_1')"
   ]
  },
  {
   "cell_type": "code",
   "execution_count": 8,
   "metadata": {},
   "outputs": [],
   "source": [
    "# definieren nun eine Länge für unser erstes Pendel\n",
    "pendulum1_length = symbols('l_1')"
   ]
  },
  {
   "cell_type": "code",
   "execution_count": 9,
   "metadata": {},
   "outputs": [
    {
     "data": {
      "text/latex": [
       "$\\displaystyle -  l_{1} \\sin{\\left(\\theta_{1} \\right)}\\mathbf{\\hat{i}_x} + l_{1} \\cos{\\left(\\theta_{1} \\right)}\\mathbf{\\hat{i}_y}$"
      ],
      "text/plain": [
       "- l_1*sin(theta1)*I.x + l_1*cos(theta1)*I.y"
      ]
     },
     "execution_count": 9,
     "metadata": {},
     "output_type": "execute_result"
    }
   ],
   "source": [
    "# Die Position des Punktes P lässt sich jetzt über die Länge l1 * der Richtung y des Bezugssystems P beschreiben\n",
    "p1.set_pos(ankle, pendulum1_length * pendulum1_frame.y)\n",
    "\n",
    "# Durch die Multiplikation mit der Rotationsmatrix zwischen dem Inertialsystems und Pendulum1 kann der Punkt P\n",
    "# im Bezug zum Inertialsystem beschrieben werden\n",
    "p1.pos_from(ankle).express(inertial_frame).simplify()"
   ]
  },
  {
   "cell_type": "markdown",
   "metadata": {},
   "source": [
    "<p>Da wir nicht mit masselosen Pendeln rechnen wollen, müssen wir außerdem die Massenschwerpunkte unserer Pendel angeben</p>"
   ]
  },
  {
   "cell_type": "code",
   "execution_count": 10,
   "metadata": {},
   "outputs": [],
   "source": [
    "# wir machen dies analog zur Vorgehensweise der Gelenkpunkte\n",
    "pendulum1_mass_length = symbols('l_m1')\n",
    "pendulum1_mass_center = Point('P_m1')\n",
    "pendulum1_mass_center.set_pos(ankle, pendulum1_mass_length * pendulum1_frame.y)"
   ]
  },
  {
   "cell_type": "markdown",
   "metadata": {},
   "source": [
    "### Aufstellen der Differentialgleichungen"
   ]
  },
  {
   "cell_type": "code",
   "execution_count": 11,
   "metadata": {},
   "outputs": [
    {
     "data": {
      "text/latex": [
       "$\\displaystyle \\left[ \\omega_{1} - \\dot{\\theta}_{1}\\right]$"
      ],
      "text/plain": [
       "[omega1 - theta1']"
      ]
     },
     "execution_count": 11,
     "metadata": {},
     "output_type": "execute_result"
    }
   ],
   "source": [
    "# Wir benötigen die Winkelgeschwindigkeiten\n",
    "omega1 = dynamicsymbols('omega1')\n",
    "\n",
    "# Diese sind genauso groß, wie die Ableitung des Winkels Theta1 nach der Zeit --> 𝜔 = 𝜃˙\n",
    "# Diese Formulierung müssen wir tätigen, da wir unsere Bewegungsgleichung nach Kanes-Methode aufstellen.\n",
    "# Zudem benötigen alle numerischen Integratoren eine DGL 1.Ordnung\n",
    "kinematical_differential_equations = [omega1 - theta1.diff()]\n",
    "kinematical_differential_equations"
   ]
  },
  {
   "cell_type": "code",
   "execution_count": 12,
   "metadata": {},
   "outputs": [
    {
     "data": {
      "text/latex": [
       "$\\displaystyle \\omega_{1}\\mathbf{\\hat{i}_z}$"
      ],
      "text/plain": [
       "omega1*I.z"
      ]
     },
     "execution_count": 12,
     "metadata": {},
     "output_type": "execute_result"
    }
   ],
   "source": [
    "# Die erste Winkelgeschwindigkeit rotiert um die Z-Achse unseres Inertialsystems\n",
    "pendulum1_frame.set_ang_vel(inertial_frame, omega1*inertial_frame.z)\n",
    "pendulum1_frame.ang_vel_in(inertial_frame)"
   ]
  },
  {
   "cell_type": "code",
   "execution_count": 13,
   "metadata": {},
   "outputs": [],
   "source": [
    "# Der Ankerpunkt am Inertialsystem wird raumfest mit der Geschwindigkeit 0 angenommen \n",
    "ankle.set_vel(inertial_frame, 0)"
   ]
  },
  {
   "cell_type": "markdown",
   "metadata": {},
   "source": [
    "# 2. Massenträgheiten"
   ]
  },
  {
   "cell_type": "markdown",
   "metadata": {},
   "source": [
    "### Massenträgheiten"
   ]
  },
  {
   "cell_type": "code",
   "execution_count": 14,
   "metadata": {},
   "outputs": [],
   "source": [
    "pendulum1_mass = symbols('m_1')"
   ]
  },
  {
   "cell_type": "code",
   "execution_count": 15,
   "metadata": {},
   "outputs": [],
   "source": [
    "pendulum1_inertia = symbols('I_p1')"
   ]
  },
  {
   "cell_type": "code",
   "execution_count": 16,
   "metadata": {},
   "outputs": [
    {
     "name": "stdout",
     "output_type": "stream",
     "text": [
      "Help on function inertia in module sympy.physics.mechanics.functions:\n",
      "\n",
      "inertia(frame, ixx, iyy, izz, ixy=0, iyz=0, izx=0)\n",
      "    Simple way to create inertia Dyadic object.\n",
      "    \n",
      "    Explanation\n",
      "    ===========\n",
      "    \n",
      "    If you don't know what a Dyadic is, just treat this like the inertia\n",
      "    tensor. Then, do the easy thing and define it in a body-fixed frame.\n",
      "    \n",
      "    Parameters\n",
      "    ==========\n",
      "    \n",
      "    frame : ReferenceFrame\n",
      "        The frame the inertia is defined in\n",
      "    ixx : Sympifyable\n",
      "        the xx element in the inertia dyadic\n",
      "    iyy : Sympifyable\n",
      "        the yy element in the inertia dyadic\n",
      "    izz : Sympifyable\n",
      "        the zz element in the inertia dyadic\n",
      "    ixy : Sympifyable\n",
      "        the xy element in the inertia dyadic\n",
      "    iyz : Sympifyable\n",
      "        the yz element in the inertia dyadic\n",
      "    izx : Sympifyable\n",
      "        the zx element in the inertia dyadic\n",
      "    \n",
      "    Examples\n",
      "    ========\n",
      "    \n",
      "    >>> from sympy.physics.mechanics import ReferenceFrame, inertia\n",
      "    >>> N = ReferenceFrame('N')\n",
      "    >>> inertia(N, 1, 2, 3)\n",
      "    (N.x|N.x) + 2*(N.y|N.y) + 3*(N.z|N.z)\n",
      "\n"
     ]
    }
   ],
   "source": [
    "help(inertia)"
   ]
  },
  {
   "cell_type": "code",
   "execution_count": 17,
   "metadata": {},
   "outputs": [
    {
     "data": {
      "text/latex": [
       "$\\displaystyle I_{p1}\\mathbf{\\hat{p_1}_z}\\otimes \\mathbf{\\hat{p_1}_z}$"
      ],
      "text/plain": [
       "I_p1*(P_1.z|P_1.z)"
      ]
     },
     "execution_count": 17,
     "metadata": {},
     "output_type": "execute_result"
    }
   ],
   "source": [
    "# Das Dyadsiche Produkt ermöglicht uns das speichern der Trägheit als Tensor in Abhängigkeit zum Bezugssystem\n",
    "pendulum1_inertia_dyadic = inertia(pendulum1_frame, 0, 0, pendulum1_inertia)\n",
    "pendulum1_inertia_dyadic"
   ]
  },
  {
   "cell_type": "code",
   "execution_count": 18,
   "metadata": {},
   "outputs": [
    {
     "data": {
      "text/latex": [
       "$\\displaystyle \\left[\\begin{matrix}0 & 0 & 0\\\\0 & 0 & 0\\\\0 & 0 & I_{p1}\\end{matrix}\\right]$"
      ],
      "text/plain": [
       "Matrix([\n",
       "[0, 0,    0],\n",
       "[0, 0,    0],\n",
       "[0, 0, I_p1]])"
      ]
     },
     "execution_count": 18,
     "metadata": {},
     "output_type": "execute_result"
    }
   ],
   "source": [
    "pendulum1_inertia_dyadic.to_matrix(pendulum1_frame)"
   ]
  },
  {
   "cell_type": "code",
   "execution_count": 19,
   "metadata": {},
   "outputs": [],
   "source": [
    "pendulum1_central_inertia = (pendulum1_inertia_dyadic, pendulum1_mass_center)"
   ]
  },
  {
   "cell_type": "code",
   "execution_count": 20,
   "metadata": {},
   "outputs": [],
   "source": [
    "# Eine komplette Beschreibung des Rigid Bodys besteht aus: Massenschwerpunkt, Bezugssystem, Masse und Trägheit\n",
    "pendulum1 = RigidBody('Pendulum 1', pendulum1_mass_center, pendulum1_frame,\n",
    "                      pendulum1_mass, pendulum1_central_inertia)"
   ]
  },
  {
   "cell_type": "markdown",
   "metadata": {},
   "source": [
    "# 3. Kinetik (extern aufgeprägte Kräfte)"
   ]
  },
  {
   "cell_type": "code",
   "execution_count": 21,
   "metadata": {},
   "outputs": [],
   "source": [
    "g = symbols('g')"
   ]
  },
  {
   "cell_type": "code",
   "execution_count": 22,
   "metadata": {},
   "outputs": [
    {
     "data": {
      "text/latex": [
       "$\\displaystyle -  g m_{1}\\mathbf{\\hat{i}_y}$"
      ],
      "text/plain": [
       "- g*m_1*I.y"
      ]
     },
     "execution_count": 22,
     "metadata": {},
     "output_type": "execute_result"
    }
   ],
   "source": [
    "pendulum1_grav_force_vector = -pendulum1_mass * g * inertial_frame.y\n",
    "pendulum1_grav_force_vector"
   ]
  },
  {
   "cell_type": "code",
   "execution_count": 23,
   "metadata": {},
   "outputs": [],
   "source": [
    "# Die Gravitationskraft legen wir immer mit -y Richtung unseres Inertialsystems an\n",
    "pendulum1_grav_force = (pendulum1_mass_center, pendulum1_grav_force_vector)"
   ]
  },
  {
   "cell_type": "code",
   "execution_count": 24,
   "metadata": {},
   "outputs": [
    {
     "data": {
      "text/latex": [
       "$\\displaystyle (T_{a} - T_{p1})\\mathbf{\\hat{i}_z}$"
      ],
      "text/plain": [
       "(T_a - T_p1)*I.z"
      ]
     },
     "execution_count": 24,
     "metadata": {},
     "output_type": "execute_result"
    }
   ],
   "source": [
    "# Zusätzlich könnten wir an unserem Rotations-FHG der Gelenke auch ein Moment aufprägen\n",
    "ankle_torque, p1_torque = dynamicsymbols('T_a, T_p1')\n",
    "pendulum1_torque_vector = ankle_torque * inertial_frame.z - p1_torque * inertial_frame.z\n",
    "pendulum1_torque = (pendulum1_frame, pendulum1_torque_vector)\n",
    "pendulum1_torque_vector"
   ]
  },
  {
   "cell_type": "markdown",
   "metadata": {},
   "source": [
    "# 4. Aufstellen der Bewegungsgleichungen"
   ]
  },
  {
   "cell_type": "code",
   "execution_count": 25,
   "metadata": {},
   "outputs": [
    {
     "data": {
      "text/latex": [
       "$\\displaystyle \\left[ \\omega_{1} - \\dot{\\theta}_{1}\\right]$"
      ],
      "text/plain": [
       "[omega1 - theta1']"
      ]
     },
     "execution_count": 25,
     "metadata": {},
     "output_type": "execute_result"
    }
   ],
   "source": [
    "angles = [theta1]\n",
    "speeds = [omega1]\n",
    "# Wir hatten dies bereits im Kapitel 1 - Kinematik definiert\n",
    "kinematical_differential_equations"
   ]
  },
  {
   "cell_type": "code",
   "execution_count": 26,
   "metadata": {},
   "outputs": [
    {
     "data": {
      "text/plain": [
       "[(P_m1, - g*m_1*I.y), (P_1, (T_a(t) - T_p1(t))*I.z)]"
      ]
     },
     "execution_count": 26,
     "metadata": {},
     "output_type": "execute_result"
    }
   ],
   "source": [
    "# Zusammentragen aller von außen aufgeprägten Kräfte\n",
    "loads = [pendulum1_grav_force,\n",
    "         pendulum1_torque]\n",
    "loads"
   ]
  },
  {
   "cell_type": "code",
   "execution_count": 27,
   "metadata": {},
   "outputs": [
    {
     "data": {
      "text/plain": [
       "[Pendulum 1]"
      ]
     },
     "execution_count": 27,
     "metadata": {},
     "output_type": "execute_result"
    }
   ],
   "source": [
    "# Wir erinnern uns an die angelegten Starrkörper\n",
    "bodies = [pendulum1]\n",
    "bodies"
   ]
  },
  {
   "cell_type": "markdown",
   "metadata": {},
   "source": [
    "<p>Die Formulierung der Bewegungsgleichungen nach Kane sieht der bekannten Form nach Newton Euler sehr ähnlich:</p>\n",
    "<p>Kanes Formulierung: $F_r + F_r^* = 0$</p>\n",
    "<p>Newton Euler Formulierung: ${F} = {m}{a} \\hspace{1cm} {T} = {I}{\\alpha}$</p>"
   ]
  },
  {
   "cell_type": "code",
   "execution_count": 28,
   "metadata": {},
   "outputs": [],
   "source": [
    "kane = KanesMethod(inertial_frame, angles, speeds, kinematical_differential_equations)\n",
    "fr, frstar = kane.kanes_equations(bodies, loads)"
   ]
  },
  {
   "cell_type": "code",
   "execution_count": 29,
   "metadata": {},
   "outputs": [
    {
     "data": {
      "text/latex": [
       "$\\displaystyle \\left[\\begin{matrix}g l_{m1} m_{1} \\sin{\\left(\\theta_{1} \\right)} - \\left(I_{p1} + l_{m1}^{2} m_{1}\\right) \\dot{\\omega}_{1} + T_{a} - T_{p1}\\end{matrix}\\right]$"
      ],
      "text/plain": [
       "Matrix([[g*l_m1*m_1*sin(theta1) - (I_p1 + l_m1**2*m_1)*omega1' + T_a - T_p1]])"
      ]
     },
     "execution_count": 29,
     "metadata": {},
     "output_type": "execute_result"
    }
   ],
   "source": [
    "trigsimp(fr + frstar)"
   ]
  },
  {
   "cell_type": "code",
   "execution_count": 30,
   "metadata": {},
   "outputs": [
    {
     "data": {
      "text/latex": [
       "$\\displaystyle \\left[\\begin{matrix}1 & 0\\\\0 & I_{p1} + l_{m1}^{2} m_{1}\\end{matrix}\\right]$"
      ],
      "text/plain": [
       "Matrix([\n",
       "[1,                  0],\n",
       "[0, I_p1 + l_m1**2*m_1]])"
      ]
     },
     "execution_count": 30,
     "metadata": {},
     "output_type": "execute_result"
    }
   ],
   "source": [
    "mass_matrix = trigsimp(kane.mass_matrix_full)\n",
    "mass_matrix"
   ]
  },
  {
   "cell_type": "code",
   "execution_count": 31,
   "metadata": {},
   "outputs": [
    {
     "data": {
      "text/latex": [
       "$\\displaystyle \\left[\\begin{matrix}\\omega_{1}\\\\g l_{m1} m_{1} \\sin{\\left(\\theta_{1} \\right)} + T_{a} - T_{p1}\\end{matrix}\\right]$"
      ],
      "text/plain": [
       "Matrix([\n",
       "[                             omega1],\n",
       "[g*l_m1*m_1*sin(theta1) + T_a - T_p1]])"
      ]
     },
     "execution_count": 31,
     "metadata": {},
     "output_type": "execute_result"
    }
   ],
   "source": [
    "forcing_vector = trigsimp(kane.forcing_full)\n",
    "forcing_vector"
   ]
  },
  {
   "cell_type": "markdown",
   "metadata": {},
   "source": [
    "### Damit haben wir alle Dinge beisammen:\n",
    "<p>- Bezugssysteme</p>\n",
    "<p>- Gelenkpunkte + Zwangsbedingungen</p>\n",
    "<p>- Massepunkte</p>\n",
    "<p>- Massenträgheit</p>\n",
    "<p>- Kinetik (externe Kräfte)</p>\n",
    "<p>- Formulierung der Bewegungsgleichungen</p>\n",
    "<p>- Umformen für die Simulation in Massenabhängikeitsmatrix und Kraftabhängigkeitsmatrix als DGL 1.Ordnung $M(x,t)\\dot x = f(x,t)$ (x=statevector)</p>"
   ]
  },
  {
   "cell_type": "markdown",
   "metadata": {},
   "source": [
    "# 5. Lösen der Bewegungsgleichung"
   ]
  },
  {
   "cell_type": "code",
   "execution_count": 32,
   "metadata": {},
   "outputs": [
    {
     "name": "stderr",
     "output_type": "stream",
     "text": [
      "C:\\Users\\lenna\\anaconda3\\lib\\site-packages\\sympy\\printing\\ccode.py:8: SymPyDeprecationWarning: \n",
      "\n",
      "importing from sympy.printing.ccode has been deprecated since SymPy\n",
      "1.7. Use Import from sympy.printing.c instead. See\n",
      "https://github.com/sympy/sympy/issues/20256 for more info.\n",
      "\n",
      "  SymPyDeprecationWarning(\n"
     ]
    }
   ],
   "source": [
    "from numpy import deg2rad, rad2deg, array, zeros, linspace\n",
    "from scipy.integrate import odeint\n",
    "from pydy.codegen.ode_function_generators import generate_ode_function\n",
    "from matplotlib.pyplot import plot, legend, xlabel, ylabel, rcParams\n",
    "from sympy.physics.vector import init_vprinting, vlatex\n",
    "%matplotlib inline\n",
    "rcParams['figure.figsize'] = (14.0, 6.0)"
   ]
  },
  {
   "cell_type": "code",
   "execution_count": 33,
   "metadata": {},
   "outputs": [
    {
     "data": {
      "text/latex": [
       "$\\displaystyle \\left[ l_{1}, \\  l_{m1}, \\  m_{1}, \\  I_{p1}, \\  g\\right]$"
      ],
      "text/plain": [
       "[l_1, l_m1, m_1, I_p1, g]"
      ]
     },
     "execution_count": 33,
     "metadata": {},
     "output_type": "execute_result"
    }
   ],
   "source": [
    "constants = [pendulum1_length,\n",
    "             pendulum1_mass_length,\n",
    "             pendulum1_mass,\n",
    "             pendulum1_inertia,\n",
    "             g]\n",
    "constants"
   ]
  },
  {
   "cell_type": "code",
   "execution_count": 34,
   "metadata": {},
   "outputs": [],
   "source": [
    "specified = [ankle_torque, p1_torque]"
   ]
  },
  {
   "cell_type": "code",
   "execution_count": 35,
   "metadata": {},
   "outputs": [],
   "source": [
    "# wir lassen uns die Gleichung nach x' umstellen\n",
    "right_hand_side = generate_ode_function(forcing_vector, angles,\n",
    "                                        speeds, constants,\n",
    "                                        mass_matrix=mass_matrix,\n",
    "                                        specifieds=specified)"
   ]
  },
  {
   "cell_type": "code",
   "execution_count": 36,
   "metadata": {},
   "outputs": [
    {
     "name": "stdout",
     "output_type": "stream",
     "text": [
      "Help on function rhs in module pydy.codegen.ode_function_generators:\n",
      "\n",
      "rhs(*args)\n",
      "    Returns the derivatives of the states, i.e. numerically evaluates the right\n",
      "    hand side of the first order differential equation.\n",
      "    \n",
      "    x' = f(x, t, r, p)\n",
      "    \n",
      "    Parameters\n",
      "    ==========\n",
      "    x : ndarray, shape(2,)\n",
      "        The state vector is ordered as such:\n",
      "            - theta1(t)\n",
      "            - omega1(t)\n",
      "    t : float\n",
      "        The current time.\n",
      "    r : dictionary; ndarray, shape(2,); function\n",
      "    \n",
      "        There are three options for this argument. (1) is more flexible but\n",
      "        (2) and (3) are much more efficient.\n",
      "    \n",
      "        (1) A dictionary that maps the specified functions of time to floats,\n",
      "        ndarrays, or functions that produce ndarrays. The keys can be a single\n",
      "        specified symbolic function of time or a tuple of symbols. The total\n",
      "        number of symbols must be equal to 2. If the value is a\n",
      "        function it must be of the form g(x, t), where x is the current state\n",
      "        vector ndarray and t is the current time float and it must return an\n",
      "        ndarray of the correct shape. For example::\n",
      "    \n",
      "          r = {a: 1.0,\n",
      "               (d, b) : np.array([1.0, 2.0]),\n",
      "               (e, f) : lambda x, t: np.array(x[0], x[1]),\n",
      "               c: lambda x, t: np.array(x[2])}\n",
      "    \n",
      "        (2) A ndarray with the specified values in the correct order and of the\n",
      "        correct shape.\n",
      "    \n",
      "        (3) A function that must be of the form g(x, t), where x is the current\n",
      "        state vector and t is the current time and it must return an ndarray of\n",
      "        the correct shape.\n",
      "    \n",
      "        The specified inputs are, in order:\n",
      "            - T_a(t)\n",
      "            - T_p1(t)\n",
      "    p : dictionary len(5) or ndarray shape(5,)\n",
      "        Either a dictionary that maps the constants symbols to their numerical\n",
      "        values or an array with the constants in the following order:\n",
      "            - l_1\n",
      "            - l_m1\n",
      "            - m_1\n",
      "            - I_p1\n",
      "            - g\n",
      "    \n",
      "    Returns\n",
      "    =======\n",
      "    dx : ndarray, shape(2,)\n",
      "        The derivative of the state vector.\n",
      "\n"
     ]
    }
   ],
   "source": [
    "help(right_hand_side)"
   ]
  },
  {
   "cell_type": "code",
   "execution_count": 37,
   "metadata": {},
   "outputs": [],
   "source": [
    "# Festlegen der Initialbedingungen für die numerische Lösung der DGL\n",
    "\n",
    "# Zu Beginn setzen wir beide Geschwindigkeiten auf 0\n",
    "# und die beiden Winkel versetzen wir nach belieben\n",
    "x0 = zeros(2)\n",
    "x0[0] = deg2rad(120)\n",
    "\n",
    "# Wir setzen nun realistische Werte für unsere Konstanten an\n",
    "numerical_constants = array([0.8,  # pendulum1_length [m]\n",
    "                             0.4,  # pendulum1_com_length [m]\n",
    "                             4.0,  # pendulum1_mass [kg]\n",
    "                             0.64,  # pendulum1_inertia [kg*m^2]\n",
    "                             9.81],  # acceleration due to gravity [m/s^2]\n",
    "                            )\n",
    "\n",
    "# Wir setzen auch die Gelenkmomente initial auf 0\n",
    "numerical_specified = array([0, 0])"
   ]
  },
  {
   "cell_type": "markdown",
   "metadata": {},
   "source": [
    "<p>Mit den bekannten Anfangsbedingungen wollen wir über unseren gewünschten Beobachtungszeitraum numerisch integrieren.</p>\n",
    "<p>Dazu geben wir dem Solver (z. B. Runge-Kutta) unsere Anfangsbedingungen, die Gleichung für x' und den Zeitraum sowie die Schrittweite t.</p>"
   ]
  },
  {
   "cell_type": "code",
   "execution_count": 38,
   "metadata": {},
   "outputs": [],
   "source": [
    "frames_per_sec = 30\n",
    "final_time = 8\n",
    "\n",
    "t = linspace(0, final_time, final_time * frames_per_sec)\n",
    "\n",
    "y = odeint(right_hand_side, x0, t, args=(numerical_specified, numerical_constants))"
   ]
  },
  {
   "cell_type": "code",
   "execution_count": 39,
   "metadata": {},
   "outputs": [
    {
     "data": {
      "text/latex": [
       "$\\displaystyle \\left( 240, \\  2\\right)$"
      ],
      "text/plain": [
       "(240, 2)"
      ]
     },
     "execution_count": 39,
     "metadata": {},
     "output_type": "execute_result"
    }
   ],
   "source": [
    "y.shape"
   ]
  },
  {
   "cell_type": "markdown",
   "metadata": {},
   "source": [
    "# 6. Visualisierung"
   ]
  },
  {
   "cell_type": "code",
   "execution_count": 40,
   "metadata": {},
   "outputs": [
    {
     "data": {
      "text/plain": [
       "<matplotlib.legend.Legend at 0x1a13702d910>"
      ]
     },
     "execution_count": 40,
     "metadata": {},
     "output_type": "execute_result"
    },
    {
     "data": {
      "image/png": "[encoded data removed]",
      "text/plain": [
       "<Figure size 1008x432 with 1 Axes>"
      ]
     },
     "metadata": {
      "needs_background": "light"
     },
     "output_type": "display_data"
    }
   ],
   "source": [
    "# Darstellung der zwei Winkel über die Simulationsdauer\n",
    "plot(t, rad2deg(y[:, :1]))\n",
    "xlabel('Zeit [s]')\n",
    "ylabel('Winkel [deg]')\n",
    "legend([\"${}$\".format(vlatex(c)) for c in angles])"
   ]
  },
  {
   "cell_type": "code",
   "execution_count": 41,
   "metadata": {},
   "outputs": [
    {
     "data": {
      "text/plain": [
       "<matplotlib.legend.Legend at 0x1a1395cc070>"
      ]
     },
     "execution_count": 41,
     "metadata": {},
     "output_type": "execute_result"
    },
    {
     "data": {
      "image/png": "[encoded data removed]",
      "text/plain": [
       "<Figure size 1008x432 with 1 Axes>"
      ]
     },
     "metadata": {
      "needs_background": "light"
     },
     "output_type": "display_data"
    }
   ],
   "source": [
    "# Darstellung der beiden Geschwindigkeiten über die Simulationsdauer\n",
    "plot(t, rad2deg(y[:, 1:]), color='r') # siehe y.shape\n",
    "xlabel('Zeit [s]')\n",
    "ylabel('Winkelgeschw. [deg/s]')\n",
    "legend([\"${}$\".format(vlatex(s)) for s in speeds])"
   ]
  },
  {
   "cell_type": "code",
   "execution_count": 42,
   "metadata": {},
   "outputs": [
    {
     "name": "stdout",
     "output_type": "stream",
     "text": [
      "C:\\Users\\lenna\\Desktop\\Lennart\\Uni\\SDS\\InvertedPendulum\\MKS\\pydy-resources\n",
      "Serving HTTP on 127.0.0.1 port 8000 ...\n",
      "To view visualization, open:\n",
      "\n",
      "http://localhost:8000/index.html?load=2022-01-11_16-06-31_scene_desc.json\n",
      "Press Ctrl+C to stop server...\n"
     ]
    },
    {
     "name": "stderr",
     "output_type": "stream",
     "text": [
      "127.0.0.1 - - [11/Jan/2022 16:06:33] \"GET /index.html?load=2022-01-11_16-06-31_scene_desc.json HTTP/1.1\" 200 -\n",
      "127.0.0.1 - - [11/Jan/2022 16:06:33] \"GET /css/bootstrap.min.css HTTP/1.1\" 304 -\n",
      "127.0.0.1 - - [11/Jan/2022 16:06:34] \"GET /css/slider.css HTTP/1.1\" 304 -\n",
      "127.0.0.1 - - [11/Jan/2022 16:06:34] \"GET /css/main.css HTTP/1.1\" 304 -\n",
      "127.0.0.1 - - [11/Jan/2022 16:06:34] \"GET /css/codemirror/codemirror.css HTTP/1.1\" 304 -\n",
      "127.0.0.1 - - [11/Jan/2022 16:06:34] \"GET /css/codemirror/blackboard.css HTTP/1.1\" 304 -\n",
      "127.0.0.1 - - [11/Jan/2022 16:06:34] \"GET /js/external/jquery/jquery.min.js HTTP/1.1\" 304 -\n",
      "127.0.0.1 - - [11/Jan/2022 16:06:34] \"GET /js/external/jquery/jquery-ui.js HTTP/1.1\" 304 -\n",
      "127.0.0.1 - - [11/Jan/2022 16:06:34] \"GET /js/external/bootstrap/bootstrap.min.js HTTP/1.1\" 304 -\n",
      "127.0.0.1 - - [11/Jan/2022 16:06:34] \"GET /js/external/codemirror/codemirror.js HTTP/1.1\" 304 -\n",
      "127.0.0.1 - - [11/Jan/2022 16:06:34] \"GET /js/external/codemirror/javascript-mode.js HTTP/1.1\" 304 -\n",
      "127.0.0.1 - - [11/Jan/2022 16:06:34] \"GET /js/external/three/three.min.js HTTP/1.1\" 304 -\n",
      "127.0.0.1 - - [11/Jan/2022 16:06:34] \"GET /js/external/three/TrackballControls.js HTTP/1.1\" 304 -\n",
      "127.0.0.1 - - [11/Jan/2022 16:06:34] \"GET /js/external/utils/bootstrap-slider.js HTTP/1.1\" 304 -\n",
      "127.0.0.1 - - [11/Jan/2022 16:06:34] \"GET /js/external/utils/modernizr-2.0.6.js HTTP/1.1\" 304 -\n",
      "127.0.0.1 - - [11/Jan/2022 16:06:34] \"GET /js/external/utils/prototype.js HTTP/1.1\" 304 -\n",
      "127.0.0.1 - - [11/Jan/2022 16:06:34] \"GET /js/dyviz/dv.js HTTP/1.1\" 304 -\n",
      "127.0.0.1 - - [11/Jan/2022 16:06:34] \"GET /js/dyviz/scene.js HTTP/1.1\" 304 -\n",
      "127.0.0.1 - - [11/Jan/2022 16:06:34] \"GET /js/dyviz/parser.js HTTP/1.1\" 304 -\n",
      "127.0.0.1 - - [11/Jan/2022 16:06:34] \"GET /js/dyviz/param_editor.js HTTP/1.1\" 304 -\n",
      "127.0.0.1 - - [11/Jan/2022 16:06:35] \"GET /js/dyviz/materials.js HTTP/1.1\" 304 -\n",
      "127.0.0.1 - - [11/Jan/2022 16:06:35] code 404, message File not found\n",
      "127.0.0.1 - - [11/Jan/2022 16:06:35] \"GET /fonts/glyphicons-halflings-regular.woff2 HTTP/1.1\" 404 -\n",
      "127.0.0.1 - - [11/Jan/2022 16:06:35] \"GET /fonts/glyphicons-halflings-regular.woff HTTP/1.1\" 304 -\n",
      "127.0.0.1 - - [11/Jan/2022 16:06:35] \"GET /js/dyviz/main.js HTTP/1.1\" 304 -\n",
      "127.0.0.1 - - [11/Jan/2022 16:06:35] \"GET /2022-01-11_16-06-31_scene_desc.json HTTP/1.1\" 200 -\n",
      "127.0.0.1 - - [11/Jan/2022 16:06:35] code 404, message File not found\n",
      "127.0.0.1 - - [11/Jan/2022 16:06:35] \"GET /favicon.ico HTTP/1.1\" 404 -\n",
      "127.0.0.1 - - [11/Jan/2022 16:06:36] \"GET /2022-01-11_16-06-31_simulation_data.json HTTP/1.1\" 200 -\n"
     ]
    }
   ],
   "source": [
    "from pydy.viz.shapes import Cylinder, Sphere\n",
    "import pydy.viz\n",
    "from pydy.viz.visualization_frame import VisualizationFrame\n",
    "from pydy.viz.scene import Scene\n",
    "\n",
    "# Für die Punkte legen wir schwarze Kugeln an\n",
    "ankle_shape = Sphere(color='black', radius=0.1)\n",
    "p1_shape = Sphere(color='black', radius=0.1)\n",
    "\n",
    "# setzen die erzeugten Geometrien an die Punkte\n",
    "ankle_viz_frame = VisualizationFrame(inertial_frame, ankle, ankle_shape)\n",
    "p1_viz_frame = VisualizationFrame(inertial_frame, p1, p1_shape)\n",
    "\n",
    "# umformen der Konstanten in für das Programm leserliches Format\n",
    "constants_dict = dict(zip(constants, numerical_constants))\n",
    "\n",
    "# Setzen der Geometrie für die Starrkörper\n",
    "pendulum1_center = Point('p1_c')\n",
    "pendulum1_center.set_pos(ankle, pendulum1_length / 2 * pendulum1_frame.y)\n",
    "\n",
    "pendulum1_shape = Cylinder(radius=0.08, length=constants_dict[pendulum1_length], color='blue')\n",
    "pendulum1_viz_frame = VisualizationFrame('Pendulum 1', pendulum1_frame, pendulum1_center, pendulum1_shape)\n",
    "\n",
    "# Erstellen der Szene mit dem Inertialsystem/Ankerpunkt in der Mitte\n",
    "scene = Scene(inertial_frame, ankle)\n",
    "\n",
    "# Laden der Starrkörper in die Szene\n",
    "scene.visualization_frames = [ankle_viz_frame,\n",
    "                              p1_viz_frame,\n",
    "                              pendulum1_viz_frame]\n",
    "\n",
    "# Darstellung und einfügen der Ergebnisse\n",
    "scene.states_symbols = angles + speeds\n",
    "scene.constants = constants_dict\n",
    "scene.states_trajectories = y\n",
    "\n",
    "# öffnen der Simulation\n",
    "scene.display()"
   ]
  },
  {
   "cell_type": "code",
   "execution_count": null,
   "metadata": {},
   "outputs": [],
   "source": []
  }
 ],
 "metadata": {
  "kernelspec": {
   "display_name": "Python 3",
   "language": "python",
   "name": "python3"
  },
  "language_info": {
   "codemirror_mode": {
    "name": "ipython",
    "version": 3
   },
   "file_extension": ".py",
   "mimetype": "text/x-python",
   "name": "python",
   "nbconvert_exporter": "python",
   "pygments_lexer": "ipython3",
   "version": "3.8.8"
  }
 },
 "nbformat": 4,
 "nbformat_minor": 4
}
