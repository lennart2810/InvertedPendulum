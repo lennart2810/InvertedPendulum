{
 "cells": [
  {
   "cell_type": "markdown",
   "metadata": {},
   "source": [
    "\n",
    "<div align=\"center\">\n",
    "  <a href=\"https://www.w-hs.de/maschinenbau-master-boh/\">\n",
    "    <img src=\"https://www.w-hs.de/typo3conf/ext/whs/Resources/Public/Images/Pagelayout/w-hs_pagelogo.png\" \n",
    "    alt=\"Images\" width=\"500\" height=\"200\">\n",
    "  </a>\n",
    "</div>\n",
    "<br>\n",
    "<h1 align=\"center\"> Sondergebiete der Simulation</h1>\n",
    "<h3 align=\"center\"> WS 21/22 </h3>\n",
    "<br>\n",
    "\n",
    "### 1. Beschreibung des Systems: *freies, undgedämpftes inverses Pendel*\n",
    "### 2. Herleitung der Bewegungsgleichungen nach Legrange\n",
    "### 3. Numerische Lösung der Differentialgleichungen\n",
    "### 4. Animation der Ergebnisse\n",
    "<br>"
   ]
  },
  {
   "cell_type": "markdown",
   "metadata": {},
   "source": [
    "### Credits:\n",
    "* [zjor](https://github.com/zjor/inverted-pendulum/blob/master/python/free-cart.py)\n",
    "* [lennart2810](https://github.com/lennart2810/InvertedPendulumSDS/blob/master/MKS/Inverted%20Pendulum%20Legrange.ipynb)"
   ]
  },
  {
   "cell_type": "markdown",
   "metadata": {},
   "source": [
    "<div align=\"center\">\n",
    "  <a href=\"https://en.wikipedia.org/wiki/Inverted_pendulum\">\n",
    "    <img src=\"https://upload.wikimedia.org/wikipedia/commons/0/00/Cart-pendulum.svg\" \n",
    "    alt=\"Images\" width=\"250\" height=\"100\">\n",
    "  </a>\n",
    "</div>\n",
    "\n",
    "## Schematische Darstellung des inversen Pendels auf einem Wagen $\\rightarrow$ [Inverted pendulum](https://en.wikipedia.org/wiki/Inverted_pendulum)\n",
    "\n",
    "> * Das System besitzt zwei Freiheitsgrade und lässt sich über die beiden Koordinaten $x$ und $\\theta$ vollständig beschreiben.\n",
    "> * Der Koordinatenurspung sowie das vertikale Lot liegen im Drehgelenk des Pendels\n",
    "> * Der Wagen kann sich lediglich auf der x-Achse bewegen $\\rightarrow y = 0$ \n",
    "> * Reibung zwischen Wagen und der Ebene sowie im Drehgelenk des Pendels werden vernachlässigt.\n",
    "\n",
    "> * Die Pendelstange wird als masselos angenommne und hat die Länge $l$.\n",
    "> * Die Masse des Wagens und die Punktmasse am Ende der Stange werden als $M$ und $m$ bezeichnet.\n",
    "> * $F$ stellt eine externe Kraft zum Beschleunigen des Wagens dar ($\\rightarrow$ für das freie Pendel ist $F = const = 0$)"
   ]
  },
  {
   "cell_type": "code",
   "execution_count": null,
   "metadata": {},
   "outputs": [],
   "source": [
    "import sympy\n",
    "from sympy import Symbol, symbols, Function, diff, sin, cos, Matrix, Rational, Eq, solve, lambdify\n",
    "import sympy.physics.mechanics as mech\n",
    "mech.init_vprinting()"
   ]
  },
  {
   "cell_type": "markdown",
   "metadata": {},
   "source": [
    "Symbolische Definition der Zeit $t$, der gegebenen Größen $l, M, m, g ~und~ F$ und der Zwangsbedingung $y = 0$:"
   ]
  },
  {
   "cell_type": "code",
   "execution_count": null,
   "metadata": {},
   "outputs": [],
   "source": [
    "t = Symbol('t')\n",
    "l, M, m, g, F = symbols('l M m, g, F')\n",
    "\n",
    "y = 0"
   ]
  },
  {
   "cell_type": "markdown",
   "metadata": {},
   "source": [
    "### generalisierten Koordinaten\n",
    "Definition der zeitabhängigen, generalisierten Koordinaten $x$ und $\\theta$, sowie deren Ableitungen:"
   ]
  },
  {
   "cell_type": "markdown",
   "metadata": {},
   "source": [
    "$x(t)$, $\\dot{x}(t)$ und $\\ddot{x}(t)$"
   ]
  },
  {
   "cell_type": "code",
   "execution_count": null,
   "metadata": {},
   "outputs": [],
   "source": [
    "x = Function('x')(t)\n",
    "x_d = diff(x, t)\n",
    "x_dd = diff(x, t,t)"
   ]
  },
  {
   "cell_type": "markdown",
   "metadata": {},
   "source": [
    "$\\theta(t)$, $\\dot{\\theta}(t)$ und $\\ddot{\\theta}(t)$"
   ]
  },
  {
   "cell_type": "code",
   "execution_count": null,
   "metadata": {},
   "outputs": [],
   "source": [
    "theta = Function('theta')(t)\n",
    "theta_d = diff(theta, t)\n",
    "theta_dd = diff(theta_d, t)"
   ]
  },
  {
   "cell_type": "markdown",
   "metadata": {},
   "source": [
    "### Kinematik\n",
    "\n",
    "\"The branch of physics known as **kinematics** deals with using mathematical descriptions – a set of equations of motion – and definitions to explain how real-world objects move about. [...]\n",
    "It doesn't regard the mass of any object in the system to describe its motion, whereas **kinetics** does.\" [sciencing.com](https://sciencing.com/kinetics-vs-kinematics-whats-the-difference-why-it-matters-13720229.html)\n",
    "\n",
    "\n",
    "Pendelposition und -geschwindigkeit in Abhängigkeit der generalisierten Koordinaten $x$ und $\\theta$"
   ]
  },
  {
   "cell_type": "code",
   "execution_count": null,
   "metadata": {},
   "outputs": [],
   "source": [
    "x2 = x - l * sin(theta)\n",
    "y2 = y + l * cos(theta)\n",
    "display(Matrix([[x2], [y2]]))\n",
    "\n",
    "x2_d = x2.diff(t)\n",
    "y2_d = y2.diff(t)\n",
    "display(Matrix([[x2_d], [y2_d]]))"
   ]
  },
  {
   "cell_type": "markdown",
   "metadata": {},
   "source": [
    "### Kinetik\n",
    "* Die kinetische Energie des Gesamtsystems berechnet sich aus den Massen und Geschwindigkeiten der Teilsysteme __Wagen__ und __Pendel__:\n",
    "$$T = \\sum_i \\frac{m_i}{2} \\cdot v_i^2$$\n",
    "\n",
    "\n",
    "* Lediglich das **Pendel** trägt zur potentiellen Energie des Gesamtsystems bei: $V = m \\cdot g \\cdot y_2$ "
   ]
  },
  {
   "cell_type": "code",
   "execution_count": null,
   "metadata": {},
   "outputs": [],
   "source": [
    "T = Rational(1,2) * M * (x_d)**2 + Rational(1,2) * m * (x2_d**2 + y2_d**2)\n",
    "display(T)"
   ]
  },
  {
   "cell_type": "code",
   "execution_count": null,
   "metadata": {},
   "outputs": [],
   "source": [
    "V = M * g * y + m * g * y2 \n",
    "display(V)"
   ]
  },
  {
   "cell_type": "markdown",
   "metadata": {},
   "source": [
    "### Lagrange Funktion:"
   ]
  },
  {
   "cell_type": "code",
   "execution_count": null,
   "metadata": {},
   "outputs": [],
   "source": [
    "L = T - V\n",
    "display(L)"
   ]
  },
  {
   "cell_type": "markdown",
   "metadata": {},
   "source": [
    "### Euler-Legrange Gleichungen:\n",
    "Partielle Ableitung der Legrange Funktion nach den Koordinaten $x$ und $\\theta$:\n",
    "\n",
    "$$\\frac{\\partial L}{\\partial x} - \\frac{d}{dt}\\frac{\\partial L}{\\partial \\dot{x}} = F$$\n",
    "\n",
    "$$\\frac{\\partial L}{\\partial \\theta} - \\frac{d}{dt}\\frac{\\partial L}{\\partial \\dot{\\theta}} = 0$$"
   ]
  },
  {
   "cell_type": "code",
   "execution_count": null,
   "metadata": {},
   "outputs": [],
   "source": [
    "LE_x = diff(diff(L, x_d), t) - diff(L, x)\n",
    "LE_x = Eq(LE_x, F) \n",
    "\n",
    "LE_theta = diff(diff(L, theta_d), t) - diff(L, theta)\n",
    "LE_theta = Eq(LE_theta, 0) \n",
    "\n",
    "display(Matrix([[LE_x.simplify()], [LE_theta.simplify()]]))"
   ]
  },
  {
   "cell_type": "markdown",
   "metadata": {},
   "source": [
    "### Lösung des Bewegungsgleichungen nach $\\ddot{x}$ und $\\ddot{\\theta}$ mit sympy's `solve`."
   ]
  },
  {
   "cell_type": "code",
   "execution_count": null,
   "metadata": {},
   "outputs": [],
   "source": [
    "solutions = solve([LE_x, LE_theta], (x_dd, theta_dd), simplify=True)"
   ]
  },
  {
   "cell_type": "markdown",
   "metadata": {},
   "source": [
    "#### Lösung für $\\ddot{x}$:"
   ]
  },
  {
   "cell_type": "code",
   "execution_count": null,
   "metadata": {},
   "outputs": [],
   "source": [
    "display(Eq(x_dd,solutions[x_dd]))"
   ]
  },
  {
   "cell_type": "markdown",
   "metadata": {},
   "source": [
    "#### Lösung für $\\ddot{\\theta}$:"
   ]
  },
  {
   "cell_type": "code",
   "execution_count": null,
   "metadata": {},
   "outputs": [],
   "source": [
    "display(Eq(theta_dd, solutions[theta_dd]))"
   ]
  },
  {
   "cell_type": "markdown",
   "metadata": {},
   "source": [
    "### Gleichungssystem\n",
    "\n",
    "Als Ergebnis bekommen wir zwei Differentialgleichungen **2. Ordnung**.\n",
    "\n",
    "Diese müssen in DGL **1. Ordung** umgewandelt werden, damit Python diese *numerisch* Lösen kann!\n",
    "\n",
    "Dafür werden die Variablen $v$ und $\\omega$ eingeführt, um das System über 4 DGL 1. Ordnung beschreiben zu können:\n",
    "\n",
    "1. $\\dot x = v$\n",
    "2. $\\ddot x = \\dot v$ \n",
    "\n",
    "\n",
    "3. $\\dot\\theta = \\omega$\n",
    "4. $\\ddot\\theta = \\dot \\omega$\n",
    "\n",
    "\n",
    "Die **symbolischen** Ausdrücke müssen für den Solver als **numerische** Funktionen implementiert werden.\n",
    "\n",
    "Hierfür wird sympy's `lambdify` Methode genutzt, welche die symbolischen Funktionen und deren Parameter erwartet.\n",
    "\n",
    "* $dx/dt = v$\n",
    "* $d v/dt =$ solutions[x_dd]\n",
    "\n",
    "\n",
    "* $d\\theta/dt = \\omega$\n",
    "* $d\\omega/dt =$ solutions[theta_dd]"
   ]
  },
  {
   "cell_type": "code",
   "execution_count": null,
   "metadata": {},
   "outputs": [],
   "source": [
    "dxdt = lambdify(x_d, x_d)\n",
    "dvdt = lambdify((t,g,M,m,l,theta,theta_d, F), solutions[x_dd])\n",
    "\n",
    "dthetadt = lambdify(theta_d, theta_d)\n",
    "domegadt = lambdify((t,g,M,m,l,theta,theta_d, F), solutions[theta_dd])"
   ]
  },
  {
   "cell_type": "markdown",
   "metadata": {},
   "source": [
    "### State-Vektor\n",
    "\n",
    "Der Systemzustand wird über den zeitabhängigen *State-Vektor* $\\vec{S} = [x, v, \\theta, \\omega]$ definiert.\n",
    "\n",
    "Der Python Solver benötigt eine Funktion, die $\\vec{S}$ entgegennimmt und $d\\vec{S}/dt$ zurückgibt."
   ]
  },
  {
   "cell_type": "code",
   "execution_count": null,
   "metadata": {},
   "outputs": [],
   "source": [
    "def dSdt(S, t):\n",
    "    _x, _v, _theta, _omega = S\n",
    "    return [\n",
    "        dxdt(_v),\n",
    "        dvdt(t, g, M, m, l, _theta, _omega, F),\n",
    "        dthetadt(_omega),\n",
    "        domegadt(t, g, M, m, l, _theta, _omega, F)\n",
    "    ]"
   ]
  },
  {
   "cell_type": "markdown",
   "metadata": {},
   "source": [
    "### Symbolisch $\\rightarrow$ Numerisch\n",
    "\n",
    "Bis hierhin wurde das System ausschließlich symbolisch betrachtet. \n",
    "Der Bewegungsablauf des inversen Pendels soll nun konktret dargestellen werden.\n",
    "Hierfür werden die symbolischen Variablen überschrieben:"
   ]
  },
  {
   "cell_type": "code",
   "execution_count": null,
   "metadata": {},
   "outputs": [],
   "source": [
    "from numpy import linspace\n",
    "\n",
    "# time\n",
    "t1 = 10                          # s \n",
    "samples = 200                    # n \n",
    "t = linspace(0, t1, samples)     # s\n",
    "\n",
    "# init\n",
    "x = 0.0                          # m\n",
    "v = 0.0                          # m/s\n",
    "theta = 0.1                      # rad\n",
    "omega = 0.0                      # rad/s\n",
    "S0 = [x, v, theta, omega]        # Start-Vektor\n",
    "F = 0                            # N\n",
    "\n",
    "# const\n",
    "g = 9.81                         # m/s^2\n",
    "M = 5                            # kg\n",
    "m = 1                            # kg\n",
    "l = 1                            # m"
   ]
  },
  {
   "cell_type": "markdown",
   "metadata": {},
   "source": [
    "### Numerisches Lösen der Gleichungen mit scipy's `odeint`:\n",
    "\n",
    "Die Methode `odeint` erwartet folgende Parameter:\n",
    "* die Differentialgleichungen (1. Ordnung)\n",
    "* den Anfangszustand $S_0$\n",
    "* den Zeitbereich $t$\n",
    "* und die numerischen Konstanten als weitere Arguente"
   ]
  },
  {
   "cell_type": "code",
   "execution_count": null,
   "metadata": {},
   "outputs": [],
   "source": [
    "from scipy.integrate import odeint\n",
    "\n",
    "ans = odeint(dSdt, y0=S0, t=t)\n",
    "\n",
    "x = ans.T[0]\n",
    "theta = ans.T[2]"
   ]
  },
  {
   "cell_type": "markdown",
   "metadata": {},
   "source": [
    "## Die numerische Berechnung der Bewegungsgleichung ist bis hierhin abgeschlossen!\n",
    "\n",
    "### Letzendlich folgt die Darstellung der Ergebnisse:"
   ]
  },
  {
   "cell_type": "code",
   "execution_count": null,
   "metadata": {},
   "outputs": [],
   "source": [
    "import matplotlib.pyplot as plt\n",
    "from matplotlib import animation\n",
    "from matplotlib.patches import Rectangle\n",
    "from matplotlib.gridspec import GridSpec\n",
    "from matplotlib.animation import PillowWriter\n",
    "%matplotlib inline\n",
    "#%matplotlib notebook # --> animation im Jupyter Notebook"
   ]
  },
  {
   "cell_type": "markdown",
   "metadata": {},
   "source": [
    "### Animation der Bewegungsgleichung"
   ]
  },
  {
   "cell_type": "code",
   "execution_count": null,
   "metadata": {},
   "outputs": [],
   "source": [
    "fig = plt.figure(figsize=(16,5))\n",
    "gs = GridSpec(nrows=1, ncols=2, width_ratios=[1, 2])\n",
    "\n",
    "# Title\n",
    "string = r\"%s \"%(' ')\n",
    "fig.suptitle(string, fontsize=24)\n",
    "\n",
    "# Pendelplot\n",
    "ax1 = fig.add_subplot(gs[0, 0], autoscale_on=True, xlim=(-l*1.5, l*1.5), ylim=(-l*1.5, l*1.5)) \n",
    "ax1.get_xaxis().set_ticks([]) # enable this to hide x axis ticks\n",
    "ax1.get_yaxis().set_ticks([]) # enable this to hide y axis ticks\n",
    "\n",
    "# Wagen\n",
    "cart_w, cart_h = 0.42, 0.28 # Breite, Höhe, Raddurchmesser\n",
    "cart = ax1.add_patch(Rectangle((0, 0), 0, 0, linewidth=1, edgecolor='k', facecolor='g'))\n",
    "wheels, = ax1.plot([], [], 'ok', markersize=8) \n",
    "ground, = ax1.plot([-1.2,1.2], [-(cart_h/2+.06),-(cart_h/2+.06)], '-k', alpha=.5, lw=2, zorder=0)\n",
    "\n",
    "# Pendel\n",
    "pendulum, = ax1.plot([], [], '-k', lw=2, marker='o') # Pendelstange als Linie darstellen\n",
    "circle = plt.Circle((0,0), 0.08, fc='r', edgecolor='k', zorder=3) # Pendelmasse als Kreis darstellen\n",
    "circle = ax1.add_patch(circle)\n",
    "\n",
    "# Zeitlabel\n",
    "dt = t1 / samples\n",
    "time_template = 'time = %.1fs'\n",
    "time_text = ax1.text(0.05, 1.02, '', transform=ax1.transAxes, fontsize=16)\n",
    "\n",
    "# Zeitplot Wagen\n",
    "ax2 = fig.add_subplot(gs[:, 1], autoscale_on=True)\n",
    "ax2.set_xlabel('time [$~s~$]', fontsize=16)\n",
    "ax2.plot(t,x, color=\"grey\", linewidth=3, alpha=1, label=\"$x$\")\n",
    "ax2.legend(loc=(1.05,0.8), frameon=False, fontsize=20)\n",
    "ax2.set_ylabel('position [$~m~$]', color='k', fontsize=12, labelpad=10)\n",
    "ax2.grid()\n",
    "x_point, = ax2.plot([], [], 'o-', color='g', markersize=12)\n",
    "\n",
    "# Zeitplot Pendel\n",
    "ax3 = ax2.twinx()\n",
    "ax3.plot(t,theta, color=\"tab:blue\", linewidth=3, alpha=1, label=r\"$\\theta$\")\n",
    "ax3.legend(loc=(1.05,0.7), frameon=False, fontsize=20)\n",
    "ax3.set_ylabel('angle [$~rad~$]', fontsize=12, labelpad=14)\n",
    "ax3.grid()\n",
    "theta_point, = ax3.plot([], [], 'o-', color='r', markersize=10)\n",
    "\n",
    "\n",
    "def init():\n",
    "    cart.set_height(cart_h)\n",
    "    cart.set_xy((-cart_w/2, -cart_h/2))\n",
    "    cart.set_width(cart_w)\n",
    "    pendulum.set_data([], [])\n",
    "    wheels.set_data([],[])\n",
    "    time_text.set_text('')\n",
    "    return cart, pendulum, time_text\n",
    "\n",
    "def animate(i):\n",
    "    \n",
    "    # Wagenposition\n",
    "    cart.set_x(x[i] - cart_w/2)\n",
    "    wheels.set_data([x[i]+cart_w/3, x[i]-cart_w/3],[-cart_h/2,-cart_h/2])\n",
    "    \n",
    "    # Pemdelmasse\n",
    "    x2 = x[i] -l * sin(theta[i])\n",
    "    y2 = l * cos(theta[i])\n",
    "    circle.set_center((x2, y2))\n",
    "    \n",
    "    # Pendelstande\n",
    "    thisx = [x[i], x2]\n",
    "    thisy = [0, y2]\n",
    "    pendulum.set_data(thisx, thisy)\n",
    "    \n",
    "    # Samplezeit\n",
    "    time_text.set_text(time_template % (i*dt))\n",
    "    \n",
    "    # Zeitverlauf\n",
    "    x_point.set_data(t[i], x[i])\n",
    "    theta_point.set_data(t[i], theta[i])\n",
    "    \n",
    "    return cart, pendulum, time_text\n",
    "\n",
    "ani = animation.FuncAnimation(fig, animate, init_func=init, frames=samples, blit=True)\n",
    "ani.save('InvertedPendulum.gif', writer='pillow', fps=samples/t1, dpi=180)"
   ]
  },
  {
   "cell_type": "code",
   "execution_count": null,
   "metadata": {},
   "outputs": [],
   "source": []
  },
  {
   "cell_type": "code",
   "execution_count": null,
   "metadata": {},
   "outputs": [],
   "source": []
  },
  {
   "cell_type": "code",
   "execution_count": null,
   "metadata": {},
   "outputs": [],
   "source": []
  },
  {
   "cell_type": "code",
   "execution_count": null,
   "metadata": {},
   "outputs": [],
   "source": []
  },
  {
   "cell_type": "code",
   "execution_count": null,
   "metadata": {},
   "outputs": [],
   "source": []
  },
  {
   "cell_type": "code",
   "execution_count": 56,
   "metadata": {},
   "outputs": [],
   "source": [
    "from sympy import symbols, Matrix, pi, cos, sin \n",
    "from sympy.physics.mechanics import * \n",
    "import sympy.physics.mechanics as mech\n",
    "mech.init_vprinting()\n",
    "import numpy as np\n",
    "# Modeling the system with Kane method\n",
    "# Signals\n",
    "x, theta = dynamicsymbols('x theta') \n",
    "v, omega = dynamicsymbols('x theta', 1) # level=1 --> 1. derivertive\n",
    "\n",
    "F = dynamicsymbols('F') # external force\n",
    "d = symbols('d') # damping \n",
    "\n",
    "# Constants\n",
    "g, t = symbols('g t') \n",
    "M, m, l = symbols('M m l') \n",
    "Ic = symbols('Ic') # ka"
   ]
  },
  {
   "cell_type": "code",
   "execution_count": 57,
   "metadata": {},
   "outputs": [
    {
     "name": "stdout",
     "output_type": "stream",
     "text": [
      "<class 'sympy.physics.vector.frame.ReferenceFrame'>\n"
     ]
    }
   ],
   "source": [
    "# Frames and Coord. system\n",
    "# Car\n",
    "reference_frame = ReferenceFrame('R_f') \n",
    "X = Point('X') # cart position\n",
    "\n",
    "X.set_vel(reference_frame, v * reference_frame.x)\n",
    "Car = Particle('Car', X, M)\n",
    "\n",
    "# Pendulum\n",
    "A = reference_frame.orientnew('A','Axis' ,[theta, reference_frame.z]) \n",
    "A.set_ang_vel(reference_frame, omega * reference_frame.z)\n",
    "print(type(A))\n",
    "\n",
    "P = X.locatenew('P', l * A.x) \n",
    "P.v2pt_theory(X, reference_frame, A)\n",
    "Pa = Particle('Pa', P, m)"
   ]
  },
  {
   "cell_type": "code",
   "execution_count": 58,
   "metadata": {},
   "outputs": [],
   "source": [
    "I = outer(reference_frame.z, reference_frame.z) \n",
    "Inertia_tuple = (Ic * I, P)\n",
    "Bp = RigidBody('Bp', P, A, m, Inertia_tuple)\n",
    "Bp.potential_energy = m * g * l * sin(theta) \n",
    "Car.potential_energy = 0"
   ]
  },
  {
   "cell_type": "code",
   "execution_count": 59,
   "metadata": {},
   "outputs": [],
   "source": [
    "# Forces and torques\n",
    "forces = [(X, F * reference_frame.x - d * v * reference_frame.x), (P, 0 * reference_frame.y)]"
   ]
  },
  {
   "cell_type": "code",
   "execution_count": 64,
   "metadata": {},
   "outputs": [
    {
     "data": {
      "image/png": "[encoded data removed]",
      "text/latex": [
       "$\\displaystyle M \\ddot{x} + d \\dot{x} + \\frac{m \\left(- 2 l \\sin{\\left(\\theta \\right)} \\ddot{\\theta} - 2 l \\cos{\\left(\\theta \\right)} \\dot{\\theta}^{2} + 2 \\ddot{x}\\right)}{2} - F$"
      ],
      "text/plain": [
       "              ⎛                            2      ⎞    \n",
       "            m⋅⎝-2⋅l⋅sin(θ)⋅θ̈ - 2⋅l⋅cos(θ)⋅θ̇  + 2⋅ẍ⎠    \n",
       "M⋅ẍ + d⋅ẋ + ─────────────────────────────────────── - F\n",
       "                               2                       "
      ]
     },
     "metadata": {},
     "output_type": "display_data"
    },
    {
     "data": {
      "image/png": "[encoded data removed]",
      "text/latex": [
       "$\\displaystyle Ic \\ddot{\\theta} + g l m \\cos{\\left(\\theta \\right)} + l m \\cos{\\left(\\theta \\right)} \\dot{\\theta} \\dot{x} + \\frac{m \\left(2 l^{2} \\ddot{\\theta} - 2 l \\sin{\\left(\\theta \\right)} \\ddot{x} - 2 l \\cos{\\left(\\theta \\right)} \\dot{\\theta} \\dot{x}\\right)}{2}$"
      ],
      "text/plain": [
       "                                         ⎛   2                                \n",
       "                                       m⋅⎝2⋅l ⋅θ̈ - 2⋅l⋅sin(θ)⋅ẍ - 2⋅l⋅cos(θ)\n",
       "Ic⋅θ̈ + g⋅l⋅m⋅cos(θ) + l⋅m⋅cos(θ)⋅θ̇⋅ẋ + ────────────────────────────────────\n",
       "                                                           2                  \n",
       "\n",
       "  ⎞\n",
       "⋅θ̇⋅ẋ⎠\n",
       "──────\n",
       "   "
      ]
     },
     "metadata": {},
     "output_type": "display_data"
    },
    {
     "data": {
      "text/latex": [
       "$\\displaystyle \\left[\\begin{matrix}M \\ddot{x} + d \\dot{x} + \\frac{m \\left(- 2 l \\sin{\\left(\\theta \\right)} \\ddot{\\theta} - 2 l \\cos{\\left(\\theta \\right)} \\dot{\\theta}^{2} + 2 \\ddot{x}\\right)}{2} - F\\\\Ic \\ddot{\\theta} + g l m \\cos{\\left(\\theta \\right)} + l m \\cos{\\left(\\theta \\right)} \\dot{\\theta} \\dot{x} + \\frac{m \\left(2 l^{2} \\ddot{\\theta} - 2 l \\sin{\\left(\\theta \\right)} \\ddot{x} - 2 l \\cos{\\left(\\theta \\right)} \\dot{\\theta} \\dot{x}\\right)}{2}\\end{matrix}\\right]$"
      ],
      "text/plain": [
       "⎡                           ⎛                            2      ⎞             \n",
       "⎢                         m⋅⎝-2⋅l⋅sin(θ)⋅θ̈ - 2⋅l⋅cos(θ)⋅θ̇  + 2⋅ẍ⎠          \n",
       "⎢             M⋅ẍ + d⋅ẋ + ─────────────────────────────────────── - F       \n",
       "⎢                                            2                                \n",
       "⎢                                                                             \n",
       "⎢                                         ⎛   2                               \n",
       "⎢                                       m⋅⎝2⋅l ⋅θ̈ - 2⋅l⋅sin(θ)⋅ẍ - 2⋅l⋅cos(θ\n",
       "⎢Ic⋅θ̈ + g⋅l⋅m⋅cos(θ) + l⋅m⋅cos(θ)⋅θ̇⋅ẋ + ───────────────────────────────────\n",
       "⎣                                                           2                 \n",
       "\n",
       "    ⎤\n",
       "       ⎥\n",
       "      ⎥\n",
       "    ⎥\n",
       "    ⎥\n",
       "   ⎞⎥\n",
       ")⋅θ̇⋅ẋ⎠⎥\n",
       "───────⎥\n",
       "    ⎦"
      ]
     },
     "metadata": {},
     "output_type": "display_data"
    }
   ],
   "source": [
    "# Lagrange operator\n",
    "L = Lagrangian(reference_frame, Car, Bp)\n",
    "# Lagrange model\n",
    "LM = LagrangesMethod(L, [x, theta], forcelist=forces, frame=reference_frame)\n",
    "LE = LM.form_lagranges_equations()\n",
    "display(LE[0])\n",
    "display(LE[1])\n",
    "display(LE)"
   ]
  },
  {
   "cell_type": "code",
   "execution_count": null,
   "metadata": {},
   "outputs": [],
   "source": []
  },
  {
   "cell_type": "code",
   "execution_count": 28,
   "metadata": {},
   "outputs": [],
   "source": [
    "# https://robertobucher.dti.supsi.ch/wp-content/uploads/2017/03/BookPythonForControl.pdf\n",
    "\n",
    "# Prof. Roberto Bucher"
   ]
  },
  {
   "cell_type": "markdown",
   "metadata": {},
   "source": [
    "The global reference frame is Nf (x, y) The point P is the center of mass of the pendulum. The car is moving with speed v and position C. The pole is rotating with the angle th and angular velocity w, In addition to the main coordinate frame Nf (x, y), we define a local body-fixed frame to the pendulum Npend (x1, y1)."
   ]
  },
  {
   "cell_type": "markdown",
   "metadata": {},
   "source": [
    "# Add sympy.mechanics original"
   ]
  },
  {
   "cell_type": "code",
   "execution_count": 37,
   "metadata": {},
   "outputs": [],
   "source": [
    "from sympy import symbols, Matrix, pi, cos, sin \n",
    "from sympy.physics.mechanics import * \n",
    "import sympy.physics.mechanics as mech\n",
    "mech.init_vprinting()\n",
    "import numpy as np\n",
    "# Modeling the system with Kane method\n",
    "# Signals\n",
    "x, th = dynamicsymbols('x th') \n",
    "v, w= dynamicsymbols('x th', 1) \n",
    "F = dynamicsymbols('F')\n",
    "d = symbols('d')\n",
    "# Constants\n",
    "m, r = symbols('m r') \n",
    "M= symbols('M')\n",
    "g, t = symbols('g t') \n",
    "Ic = symbols('Ic')"
   ]
  },
  {
   "cell_type": "code",
   "execution_count": 38,
   "metadata": {},
   "outputs": [],
   "source": [
    "# Frames and Coord. system\n",
    "# Car\n",
    "Nf = ReferenceFrame('Nf') \n",
    "C=Point('C')\n",
    "C.set_vel(Nf, v*Nf.x)\n",
    "Car = Particle('Car',C,M)\n",
    "# Pendulum\n",
    "A = Nf.orientnew('A','Axis' ,[th,Nf.z]) \n",
    "A.set_ang_vel(Nf,w*Nf.z)\n",
    "P=C.locatenew('P',r*A.x) \n",
    "P.v2pt_theory(C,Nf,A)\n",
    "Pa = Particle('Pa', P, m)"
   ]
  },
  {
   "cell_type": "code",
   "execution_count": 39,
   "metadata": {},
   "outputs": [],
   "source": [
    "I = outer (Nf.z, Nf.z) \n",
    "Inertia_tuple = (Ic*I, P)\n",
    "Bp = RigidBody('Bp', P, A, m, Inertia_tuple)\n",
    "Bp.potential_energy =m*g*r*sin(th) \n",
    "Car.potential_energy = 0"
   ]
  },
  {
   "cell_type": "code",
   "execution_count": 40,
   "metadata": {},
   "outputs": [],
   "source": [
    "# Forces and torques\n",
    "forces = [(C,F*Nf.x - d*v*Nf.x) ,(P,0*Nf.y)]"
   ]
  },
  {
   "cell_type": "code",
   "execution_count": 41,
   "metadata": {},
   "outputs": [
    {
     "data": {
      "text/latex": [
       "$\\displaystyle \\left[\\begin{matrix}M \\ddot{x} + d \\dot{x} + \\frac{m \\left(- 2 r \\sin{\\left(th \\right)} \\ddot{th} - 2 r \\cos{\\left(th \\right)} \\dot{th}^{2} + 2 \\ddot{x}\\right)}{2} - F\\\\Ic \\ddot{th} + g m r \\cos{\\left(th \\right)} + m r \\cos{\\left(th \\right)} \\dot{th} \\dot{x} + \\frac{m \\left(2 r^{2} \\ddot{th} - 2 r \\sin{\\left(th \\right)} \\ddot{x} - 2 r \\cos{\\left(th \\right)} \\dot{th} \\dot{x}\\right)}{2}\\end{matrix}\\right]$"
      ],
      "text/plain": [
       "⎡                             ⎛                                2      ⎞       \n",
       "⎢                           m⋅⎝-2⋅r⋅sin(th)⋅tḧ - 2⋅r⋅cos(th)⋅tḣ  + 2⋅ẍ⎠    \n",
       "⎢               M⋅ẍ + d⋅ẋ + ─────────────────────────────────────────── - F \n",
       "⎢                                                2                            \n",
       "⎢                                                                             \n",
       "⎢                                             ⎛   2                           \n",
       "⎢                                           m⋅⎝2⋅r ⋅tḧ - 2⋅r⋅sin(th)⋅ẍ - 2⋅r\n",
       "⎢Ic⋅tḧ + g⋅m⋅r⋅cos(th) + m⋅r⋅cos(th)⋅tḣ⋅ẋ + ───────────────────────────────\n",
       "⎣                                                                 2           \n",
       "\n",
       "            ⎤\n",
       "               ⎥\n",
       "              ⎥\n",
       "            ⎥\n",
       "            ⎥\n",
       "           ⎞⎥\n",
       "⋅cos(th)⋅tḣ⋅ẋ⎠⎥\n",
       "───────────────⎥\n",
       "            ⎦"
      ]
     },
     "execution_count": 41,
     "metadata": {},
     "output_type": "execute_result"
    }
   ],
   "source": [
    "# Lagrange operator\n",
    "L = Lagrangian(Nf, Car, Bp)\n",
    "# Lagrange model\n",
    "LM= LagrangesMethod(L, [x, th], forcelist = forces , frame = Nf)\n",
    "LM.form_lagranges_equations()\n"
   ]
  },
  {
   "cell_type": "code",
   "execution_count": 11,
   "metadata": {},
   "outputs": [],
   "source": [
    "# Equilibrium point\n",
    "eq_pt = [0.0, pi/2,0.0,0.0]\n",
    "eq_dict = dict(zip([x,th,v,w], eq_pt))\n",
    "# symbolically linearize about arbitrary equilibrium\n",
    "MM, linear_state_matrix , linear_input_matrix , inputs =LM.linearize(q_ind = [x, th], qd_ind = [v,w])\n",
    "f_p_lin = linear_state_matrix.subs(eq_dict) \n",
    "f_B_lin = linear_input_matrix.subs(eq_dict)\n",
    "MM=MM.subs(eq_dict)\n",
    "Atmp=MM.inv() * f_p_lin \n",
    "Btmp=MM.inv() * f_B_lin"
   ]
  },
  {
   "cell_type": "code",
   "execution_count": 12,
   "metadata": {},
   "outputs": [
    {
     "data": {
      "text/latex": [
       "$\\displaystyle \\left[\\begin{matrix}0 & 0 & 1 & 0\\\\0 & 0 & 0 & 1\\\\0 & \\frac{g m^{2} r^{2}}{Ic M + Ic m + M m r^{2}} & - \\frac{d \\left(Ic + m r^{2}\\right)}{Ic M + Ic m + M m r^{2}} & 0\\\\0 & \\frac{g m r \\left(M + m\\right)}{Ic M + Ic m + M m r^{2}} & - \\frac{d m r}{Ic M + Ic m + M m r^{2}} & 0\\end{matrix}\\right]$"
      ],
      "text/plain": [
       "⎡0           0                     1            0⎤\n",
       "⎢                                                ⎥\n",
       "⎢0           0                     0            1⎥\n",
       "⎢                                                ⎥\n",
       "⎢            2  2              ⎛        2⎞       ⎥\n",
       "⎢         g⋅m ⋅r            -d⋅⎝Ic + m⋅r ⎠       ⎥\n",
       "⎢0  ────────────────────  ────────────────────  0⎥\n",
       "⎢                      2                     2   ⎥\n",
       "⎢   Ic⋅M + Ic⋅m + M⋅m⋅r   Ic⋅M + Ic⋅m + M⋅m⋅r    ⎥\n",
       "⎢                                                ⎥\n",
       "⎢      g⋅m⋅r⋅(M + m)            -d⋅m⋅r           ⎥\n",
       "⎢0  ────────────────────  ────────────────────  0⎥\n",
       "⎢                      2                     2   ⎥\n",
       "⎣   Ic⋅M + Ic⋅m + M⋅m⋅r   Ic⋅M + Ic⋅m + M⋅m⋅r    ⎦"
      ]
     },
     "metadata": {},
     "output_type": "display_data"
    }
   ],
   "source": [
    "display(Atmp)"
   ]
  },
  {
   "cell_type": "code",
   "execution_count": 13,
   "metadata": {},
   "outputs": [
    {
     "data": {
      "text/latex": [
       "$\\displaystyle \\left[\\begin{matrix}0\\\\0\\\\\\frac{Ic + m r^{2}}{Ic M + Ic m + M m r^{2}}\\\\\\frac{m r}{Ic M + Ic m + M m r^{2}}\\end{matrix}\\right]$"
      ],
      "text/plain": [
       "⎡         0          ⎤\n",
       "⎢                    ⎥\n",
       "⎢         0          ⎥\n",
       "⎢                    ⎥\n",
       "⎢             2      ⎥\n",
       "⎢     Ic + m⋅r       ⎥\n",
       "⎢────────────────────⎥\n",
       "⎢                   2⎥\n",
       "⎢Ic⋅M + Ic⋅m + M⋅m⋅r ⎥\n",
       "⎢                    ⎥\n",
       "⎢        m⋅r         ⎥\n",
       "⎢────────────────────⎥\n",
       "⎢                   2⎥\n",
       "⎣Ic⋅M + Ic⋅m + M⋅m⋅r ⎦"
      ]
     },
     "metadata": {},
     "output_type": "display_data"
    }
   ],
   "source": [
    "display(Btmp)"
   ]
  },
  {
   "cell_type": "code",
   "execution_count": 42,
   "metadata": {},
   "outputs": [],
   "source": [
    "# kane original"
   ]
  },
  {
   "cell_type": "code",
   "execution_count": 44,
   "metadata": {},
   "outputs": [],
   "source": [
    "from sympy import symbols, Matrix, pi \n",
    "from sympy.physics.mechanics import *\n",
    "import numpy as np\n",
    "# Modeling the system with Kane method\n",
    "# Signals\n",
    "x, th = dynamicsymbols('x th') \n",
    "v, w = dynamicsymbols('v w')\n",
    "F = dynamicsymbols('F')\n",
    "# Constants\n",
    "d = symbols('d') # friction m, r = symbols(’m r’)\n",
    "M= symbols('M')\n",
    "g, t = symbols('g t') \n",
    "J = symbols('J')"
   ]
  },
  {
   "cell_type": "code",
   "execution_count": 46,
   "metadata": {},
   "outputs": [],
   "source": [
    "# Frames and Coord. system\n",
    "# Car − reference x,y\n",
    "Nf = ReferenceFrame('Nf') \n",
    "C=Point('C')\n",
    "C.set_vel(Nf, v*Nf.x)\n",
    "Car = Particle('Car',C,M)\n",
    "# Pendulum − reference x1, y1\n",
    "Npend = Nf.orientnew('Npend','Axis' ,[th,Nf.z]) \n",
    "Npend.set_ang_vel(Nf,w*Nf.z)\n",
    "P = C.locatenew('P',r*Npend.x) \n",
    "P.v2pt_theory(C,Nf,Npend)\n",
    "Pa = Particle('Pa', P, m)"
   ]
  },
  {
   "cell_type": "code",
   "execution_count": 47,
   "metadata": {},
   "outputs": [],
   "source": [
    "I = outer(Nf.z, Nf.z)\n",
    "Inertia_tuple = (J*I, P)\n",
    "Bp = RigidBody('Bp', P, Npend, m, Inertia_tuple)"
   ]
  },
  {
   "cell_type": "code",
   "execution_count": 51,
   "metadata": {},
   "outputs": [],
   "source": [
    "# Forces and torques\n",
    "forces = [(C,F*Nf.x-d*v*Nf.x) ,(P,-m*g*Nf.y)] \n",
    "frames = [Nf,Npend]\n",
    "points = [C,P]\n",
    "kindiffs = [x.diff(t)-v, th.diff(t) - w] \n",
    "particles = [Car,Bp]"
   ]
  },
  {
   "cell_type": "code",
   "execution_count": 54,
   "metadata": {},
   "outputs": [
    {
     "ename": "TypeError",
     "evalue": "cannot unpack non-iterable Particle object",
     "output_type": "error",
     "traceback": [
      "\u001b[0;31m---------------------------------------------------------------------------\u001b[0m",
      "\u001b[0;31mTypeError\u001b[0m                                 Traceback (most recent call last)",
      "\u001b[0;32m<ipython-input-54-69d3ffb5c46d>\u001b[0m in \u001b[0;36m<module>\u001b[0;34m\u001b[0m\n\u001b[1;32m      1\u001b[0m \u001b[0;31m# Model\u001b[0m\u001b[0;34m\u001b[0m\u001b[0;34m\u001b[0m\u001b[0;34m\u001b[0m\u001b[0m\n\u001b[1;32m      2\u001b[0m \u001b[0mKM\u001b[0m\u001b[0;34m=\u001b[0m \u001b[0mKanesMethod\u001b[0m\u001b[0;34m(\u001b[0m\u001b[0mNf\u001b[0m\u001b[0;34m,\u001b[0m\u001b[0mq_ind\u001b[0m\u001b[0;34m=\u001b[0m\u001b[0;34m[\u001b[0m\u001b[0mx\u001b[0m\u001b[0;34m,\u001b[0m\u001b[0mth\u001b[0m\u001b[0;34m]\u001b[0m\u001b[0;34m,\u001b[0m\u001b[0mu_ind\u001b[0m\u001b[0;34m=\u001b[0m\u001b[0;34m[\u001b[0m\u001b[0mv\u001b[0m\u001b[0;34m,\u001b[0m\u001b[0mw\u001b[0m\u001b[0;34m]\u001b[0m\u001b[0;34m,\u001b[0m \u001b[0mkd_eqs\u001b[0m\u001b[0;34m=\u001b[0m\u001b[0mkindiffs\u001b[0m\u001b[0;34m)\u001b[0m\u001b[0;34m\u001b[0m\u001b[0;34m\u001b[0m\u001b[0m\n\u001b[0;32m----> 3\u001b[0;31m \u001b[0mfr\u001b[0m \u001b[0;34m,\u001b[0m \u001b[0mfrstar\u001b[0m \u001b[0;34m=\u001b[0m \u001b[0mKM\u001b[0m\u001b[0;34m.\u001b[0m\u001b[0mkanes_equations\u001b[0m\u001b[0;34m(\u001b[0m\u001b[0mforces\u001b[0m\u001b[0;34m,\u001b[0m \u001b[0mparticles\u001b[0m \u001b[0;34m)\u001b[0m\u001b[0;34m\u001b[0m\u001b[0;34m\u001b[0m\u001b[0m\n\u001b[0m",
      "\u001b[0;32m~/opt/anaconda3/lib/python3.8/site-packages/sympy/physics/mechanics/kane.py\u001b[0m in \u001b[0;36mkanes_equations\u001b[0;34m(self, bodies, loads)\u001b[0m\n\u001b[1;32m    534\u001b[0m             raise AttributeError('Create an instance of KanesMethod with '\n\u001b[1;32m    535\u001b[0m                     'kinematic differential equations to use this method.')\n\u001b[0;32m--> 536\u001b[0;31m         \u001b[0mfr\u001b[0m \u001b[0;34m=\u001b[0m \u001b[0mself\u001b[0m\u001b[0;34m.\u001b[0m\u001b[0m_form_fr\u001b[0m\u001b[0;34m(\u001b[0m\u001b[0mloads\u001b[0m\u001b[0;34m)\u001b[0m\u001b[0;34m\u001b[0m\u001b[0;34m\u001b[0m\u001b[0m\n\u001b[0m\u001b[1;32m    537\u001b[0m         \u001b[0mfrstar\u001b[0m \u001b[0;34m=\u001b[0m \u001b[0mself\u001b[0m\u001b[0;34m.\u001b[0m\u001b[0m_form_frstar\u001b[0m\u001b[0;34m(\u001b[0m\u001b[0mbodies\u001b[0m\u001b[0;34m)\u001b[0m\u001b[0;34m\u001b[0m\u001b[0;34m\u001b[0m\u001b[0m\n\u001b[1;32m    538\u001b[0m         \u001b[0;32mif\u001b[0m \u001b[0mself\u001b[0m\u001b[0;34m.\u001b[0m\u001b[0m_uaux\u001b[0m\u001b[0;34m:\u001b[0m\u001b[0;34m\u001b[0m\u001b[0;34m\u001b[0m\u001b[0m\n",
      "\u001b[0;32m~/opt/anaconda3/lib/python3.8/site-packages/sympy/physics/mechanics/kane.py\u001b[0m in \u001b[0;36m_form_fr\u001b[0;34m(self, fl)\u001b[0m\n\u001b[1;32m    280\u001b[0m         \u001b[0mN\u001b[0m \u001b[0;34m=\u001b[0m \u001b[0mself\u001b[0m\u001b[0;34m.\u001b[0m\u001b[0m_inertial\u001b[0m\u001b[0;34m\u001b[0m\u001b[0;34m\u001b[0m\u001b[0m\n\u001b[1;32m    281\u001b[0m         \u001b[0;31m# pull out relevant velocities for constructing partial velocities\u001b[0m\u001b[0;34m\u001b[0m\u001b[0;34m\u001b[0m\u001b[0;34m\u001b[0m\u001b[0m\n\u001b[0;32m--> 282\u001b[0;31m         \u001b[0mvel_list\u001b[0m\u001b[0;34m,\u001b[0m \u001b[0mf_list\u001b[0m \u001b[0;34m=\u001b[0m \u001b[0m_f_list_parser\u001b[0m\u001b[0;34m(\u001b[0m\u001b[0mfl\u001b[0m\u001b[0;34m,\u001b[0m \u001b[0mN\u001b[0m\u001b[0;34m)\u001b[0m\u001b[0;34m\u001b[0m\u001b[0;34m\u001b[0m\u001b[0m\n\u001b[0m\u001b[1;32m    283\u001b[0m         \u001b[0mvel_list\u001b[0m \u001b[0;34m=\u001b[0m \u001b[0;34m[\u001b[0m\u001b[0mmsubs\u001b[0m\u001b[0;34m(\u001b[0m\u001b[0mi\u001b[0m\u001b[0;34m,\u001b[0m \u001b[0mself\u001b[0m\u001b[0;34m.\u001b[0m\u001b[0m_qdot_u_map\u001b[0m\u001b[0;34m)\u001b[0m \u001b[0;32mfor\u001b[0m \u001b[0mi\u001b[0m \u001b[0;32min\u001b[0m \u001b[0mvel_list\u001b[0m\u001b[0;34m]\u001b[0m\u001b[0;34m\u001b[0m\u001b[0;34m\u001b[0m\u001b[0m\n\u001b[1;32m    284\u001b[0m         \u001b[0mf_list\u001b[0m \u001b[0;34m=\u001b[0m \u001b[0;34m[\u001b[0m\u001b[0mmsubs\u001b[0m\u001b[0;34m(\u001b[0m\u001b[0mi\u001b[0m\u001b[0;34m,\u001b[0m \u001b[0mself\u001b[0m\u001b[0;34m.\u001b[0m\u001b[0m_qdot_u_map\u001b[0m\u001b[0;34m)\u001b[0m \u001b[0;32mfor\u001b[0m \u001b[0mi\u001b[0m \u001b[0;32min\u001b[0m \u001b[0mf_list\u001b[0m\u001b[0;34m]\u001b[0m\u001b[0;34m\u001b[0m\u001b[0;34m\u001b[0m\u001b[0m\n",
      "\u001b[0;32m~/opt/anaconda3/lib/python3.8/site-packages/sympy/physics/mechanics/functions.py\u001b[0m in \u001b[0;36m_f_list_parser\u001b[0;34m(fl, ref_frame)\u001b[0m\n\u001b[1;32m    722\u001b[0m     \u001b[0;32melse\u001b[0m\u001b[0;34m:\u001b[0m\u001b[0;34m\u001b[0m\u001b[0;34m\u001b[0m\u001b[0m\n\u001b[1;32m    723\u001b[0m         \u001b[0munzip\u001b[0m \u001b[0;34m=\u001b[0m \u001b[0;32mlambda\u001b[0m \u001b[0ml\u001b[0m\u001b[0;34m:\u001b[0m \u001b[0mlist\u001b[0m\u001b[0;34m(\u001b[0m\u001b[0mzip\u001b[0m\u001b[0;34m(\u001b[0m\u001b[0;34m*\u001b[0m\u001b[0ml\u001b[0m\u001b[0;34m)\u001b[0m\u001b[0;34m)\u001b[0m \u001b[0;32mif\u001b[0m \u001b[0ml\u001b[0m\u001b[0;34m[\u001b[0m\u001b[0;36m0\u001b[0m\u001b[0;34m]\u001b[0m \u001b[0;32melse\u001b[0m \u001b[0;34m[\u001b[0m\u001b[0;34m(\u001b[0m\u001b[0;34m)\u001b[0m\u001b[0;34m,\u001b[0m \u001b[0;34m(\u001b[0m\u001b[0;34m)\u001b[0m\u001b[0;34m]\u001b[0m\u001b[0;34m\u001b[0m\u001b[0;34m\u001b[0m\u001b[0m\n\u001b[0;32m--> 724\u001b[0;31m         \u001b[0mvel_list\u001b[0m\u001b[0;34m,\u001b[0m \u001b[0mf_list\u001b[0m \u001b[0;34m=\u001b[0m \u001b[0munzip\u001b[0m\u001b[0;34m(\u001b[0m\u001b[0mlist\u001b[0m\u001b[0;34m(\u001b[0m\u001b[0mflist_iter\u001b[0m\u001b[0;34m(\u001b[0m\u001b[0;34m)\u001b[0m\u001b[0;34m)\u001b[0m\u001b[0;34m)\u001b[0m\u001b[0;34m\u001b[0m\u001b[0;34m\u001b[0m\u001b[0m\n\u001b[0m\u001b[1;32m    725\u001b[0m     \u001b[0;32mreturn\u001b[0m \u001b[0mvel_list\u001b[0m\u001b[0;34m,\u001b[0m \u001b[0mf_list\u001b[0m\u001b[0;34m\u001b[0m\u001b[0;34m\u001b[0m\u001b[0m\n",
      "\u001b[0;32m~/opt/anaconda3/lib/python3.8/site-packages/sympy/physics/mechanics/functions.py\u001b[0m in \u001b[0;36mflist_iter\u001b[0;34m()\u001b[0m\n\u001b[1;32m    709\u001b[0m     \u001b[0;32mdef\u001b[0m \u001b[0mflist_iter\u001b[0m\u001b[0;34m(\u001b[0m\u001b[0;34m)\u001b[0m\u001b[0;34m:\u001b[0m\u001b[0;34m\u001b[0m\u001b[0;34m\u001b[0m\u001b[0m\n\u001b[1;32m    710\u001b[0m         \u001b[0;32mfor\u001b[0m \u001b[0mpair\u001b[0m \u001b[0;32min\u001b[0m \u001b[0mfl\u001b[0m\u001b[0;34m:\u001b[0m\u001b[0;34m\u001b[0m\u001b[0;34m\u001b[0m\u001b[0m\n\u001b[0;32m--> 711\u001b[0;31m             \u001b[0mobj\u001b[0m\u001b[0;34m,\u001b[0m \u001b[0mforce\u001b[0m \u001b[0;34m=\u001b[0m \u001b[0mpair\u001b[0m\u001b[0;34m\u001b[0m\u001b[0;34m\u001b[0m\u001b[0m\n\u001b[0m\u001b[1;32m    712\u001b[0m             \u001b[0;32mif\u001b[0m \u001b[0misinstance\u001b[0m\u001b[0;34m(\u001b[0m\u001b[0mobj\u001b[0m\u001b[0;34m,\u001b[0m \u001b[0mReferenceFrame\u001b[0m\u001b[0;34m)\u001b[0m\u001b[0;34m:\u001b[0m\u001b[0;34m\u001b[0m\u001b[0;34m\u001b[0m\u001b[0m\n\u001b[1;32m    713\u001b[0m                 \u001b[0;32myield\u001b[0m \u001b[0mobj\u001b[0m\u001b[0;34m.\u001b[0m\u001b[0mang_vel_in\u001b[0m\u001b[0;34m(\u001b[0m\u001b[0mref_frame\u001b[0m\u001b[0;34m)\u001b[0m\u001b[0;34m,\u001b[0m \u001b[0mforce\u001b[0m\u001b[0;34m\u001b[0m\u001b[0;34m\u001b[0m\u001b[0m\n",
      "\u001b[0;31mTypeError\u001b[0m: cannot unpack non-iterable Particle object"
     ]
    }
   ],
   "source": [
    "# Model\n",
    "KM= KanesMethod(Nf,q_ind=[x,th],u_ind=[v,w], kd_eqs=kindiffs)\n",
    "fr , frstar = KM.kanes_equations(forces, particles )"
   ]
  },
  {
   "cell_type": "code",
   "execution_count": null,
   "metadata": {},
   "outputs": [],
   "source": []
  }
 ],
 "metadata": {
  "kernelspec": {
   "display_name": "Python 3",
   "language": "python",
   "name": "python3"
  },
  "language_info": {
   "codemirror_mode": {
    "name": "ipython",
    "version": 3
   },
   "file_extension": ".py",
   "mimetype": "text/x-python",
   "name": "python",
   "nbconvert_exporter": "python",
   "pygments_lexer": "ipython3",
   "version": "3.8.8"
  }
 },
 "nbformat": 4,
 "nbformat_minor": 4
}
