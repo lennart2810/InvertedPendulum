{
 "cells": [
  {
   "cell_type": "markdown",
   "metadata": {},
   "source": [
    "\n",
    "<div align=\"center\">\n",
    "  <a href=\"https://www.w-hs.de/maschinenbau-master-boh/\">\n",
    "    <img src=\"https://www.w-hs.de/typo3conf/ext/whs/Resources/Public/Images/Pagelayout/w-hs_pagelogo.png\" \n",
    "    alt=\"Images\" width=\"500\" height=\"200\">\n",
    "  </a>\n",
    "</div>\n",
    "<br>\n",
    "<h1 align=\"center\"> Sondergebiete der Simulation</h1>\n",
    "<h3 align=\"center\"> WS 21/22 </h3>\n",
    "<br>\n",
    "\n",
    "### 1. Beschreibung des Systems: *Inverses Pendel*\n",
    "### 2. Herleitung der Bewegungsgleichungen nach Legrange\n",
    "### 3. Numerische Lösung der Bewegungsgleichungen\n",
    "### 4. Vizualisierung und Animation der Ergebnisse\n",
    "<br>"
   ]
  },
  {
   "cell_type": "markdown",
   "metadata": {},
   "source": [
    "<div align=\"center\">\n",
    "  <a href=\"https://en.wikipedia.org/wiki/Inverted_pendulum\">\n",
    "    <img src=\"https://upload.wikimedia.org/wikipedia/commons/0/00/Cart-pendulum.svg\" \n",
    "    alt=\"Images\" width=\"250\" height=\"100\">\n",
    "  </a>\n",
    "</div>\n",
    "\n",
    "## Schematische Darstellung des inversen Pendels auf einem Wagen $\\rightarrow$ [Inverted Pendulum](https://en.wikipedia.org/wiki/Inverted_pendulum)\n",
    "\n",
    "> * Das System hat zwei Freiheitsgrade und lässt sich über die beiden Koordinaten $x$ und $\\theta$ vollständig beschreiben.\n",
    "> * Koordinatenurspung sowie vertikales Lot liegen im Drehgelenk des Pendels.\n",
    "> * Der Wagen kann sich lediglich auf der x-Achse bewegen $\\rightarrow y = 0$. \n",
    "> * Reibung wird sowohl zwischen Wagen und Bahn, als auch im Drehgelenk des Pendels angenommen.\n",
    "\n",
    "> * Die Pendelstange wird als masselos betrachtet und hat die Länge $l$ $\\rightarrow$ *mathematisches* Pendel. \n",
    "> * Die Masse des Wagens und die Punktmasse am Ende der Stange werden als $M$ und $m$ bezeichnet.\n",
    "> * $F$ stellt eine externe Kraft zum Beschleunigen des Wagens dar ($\\rightarrow$ für das freie Pendel ist $F = const = 0$)\n",
    "\n",
    "> Die Anregung des Wagens, um das Pendel in der aufrechten Position zu halten, wird in diesem Script nicht betrachtet\n",
    "$\\rightarrow$ [Inverted Pendulum Reinforcement Learning](https://github.com/lennart2810/InvertedPendulumSDS/blob/master/RL/Inverted%20Pendulum%20RL.ipynb)"
   ]
  },
  {
   "cell_type": "code",
   "execution_count": 1,
   "metadata": {},
   "outputs": [],
   "source": [
    "import sympy\n",
    "from sympy import Symbol, symbols, Function, diff, sin, cos, Matrix, Rational, Eq, solve, lambdify\n",
    "import sympy.physics.mechanics as mech\n",
    "mech.init_vprinting()"
   ]
  },
  {
   "cell_type": "markdown",
   "metadata": {},
   "source": [
    "Symbolische Definition der Zeit $t$, der gegebenen Größen $l, M, m, g ~und~ F$ und der Zwangsbedingung $y = 0$:"
   ]
  },
  {
   "cell_type": "code",
   "execution_count": 2,
   "metadata": {},
   "outputs": [],
   "source": [
    "t = Symbol('t')\n",
    "l, M, m, g, F, D, d = symbols('l M m, g, F, D, d')\n",
    "\n",
    "y = 0 # Zwangsbedingung"
   ]
  },
  {
   "cell_type": "markdown",
   "metadata": {},
   "source": [
    "### generalisierten Koordinaten\n",
    "Definition der zeitabhängigen, generalisierten Koordinaten $x$ und $\\theta$, sowie deren Ableitungen:"
   ]
  },
  {
   "cell_type": "markdown",
   "metadata": {},
   "source": [
    "$x(t)$, $\\dot{x}(t)$ und $\\ddot{x}(t)$"
   ]
  },
  {
   "cell_type": "code",
   "execution_count": 3,
   "metadata": {},
   "outputs": [],
   "source": [
    "x = Function('x')(t)\n",
    "x_d = diff(x, t)\n",
    "x_dd = diff(x, t,t)"
   ]
  },
  {
   "cell_type": "markdown",
   "metadata": {},
   "source": [
    "$\\theta(t)$, $\\dot{\\theta}(t)$ und $\\ddot{\\theta}(t)$"
   ]
  },
  {
   "cell_type": "code",
   "execution_count": 4,
   "metadata": {},
   "outputs": [],
   "source": [
    "theta = Function('theta')(t)\n",
    "theta_d = diff(theta, t)\n",
    "theta_dd = diff(theta_d, t)"
   ]
  },
  {
   "cell_type": "markdown",
   "metadata": {},
   "source": [
    "### Kinematik\n",
    "\n",
    "\"The branch of physics known as **kinematics** deals with using mathematical descriptions – a set of equations of motion – and definitions to explain how real-world objects move about. [...]\n",
    "It doesn't regard the mass of any object in the system to describe its motion, whereas **kinetics** does.\" [sciencing.com](https://sciencing.com/kinetics-vs-kinematics-whats-the-difference-why-it-matters-13720229.html)\n",
    "\n",
    "\n",
    "Pendelposition und -geschwindigkeit in Abhängigkeit der generalisierten Koordinaten $x$ und $\\theta$"
   ]
  },
  {
   "cell_type": "code",
   "execution_count": 5,
   "metadata": {},
   "outputs": [
    {
     "data": {
      "text/latex": [
       "$\\displaystyle \\left[\\begin{matrix}- l \\sin{\\left(\\theta \\right)} + x\\\\l \\cos{\\left(\\theta \\right)}\\end{matrix}\\right]$"
      ],
      "text/plain": [
       "⎡-l⋅sin(θ) + x⎤\n",
       "⎢             ⎥\n",
       "⎣  l⋅cos(θ)   ⎦"
      ]
     },
     "metadata": {},
     "output_type": "display_data"
    },
    {
     "data": {
      "text/latex": [
       "$\\displaystyle \\left[\\begin{matrix}- l \\cos{\\left(\\theta \\right)} \\dot{\\theta} + \\dot{x}\\\\- l \\sin{\\left(\\theta \\right)} \\dot{\\theta}\\end{matrix}\\right]$"
      ],
      "text/plain": [
       "⎡-l⋅cos(θ)⋅θ̇ + ẋ⎤\n",
       "⎢               ⎥\n",
       "⎣  -l⋅sin(θ)⋅θ̇  ⎦"
      ]
     },
     "metadata": {},
     "output_type": "display_data"
    }
   ],
   "source": [
    "x2 = x - l * sin(theta)\n",
    "y2 = y + l * cos(theta)\n",
    "display(Matrix([[x2], [y2]]))\n",
    "\n",
    "x2_d = x2.diff(t)\n",
    "y2_d = y2.diff(t)\n",
    "display(Matrix([[x2_d], [y2_d]]))"
   ]
  },
  {
   "cell_type": "markdown",
   "metadata": {},
   "source": [
    "### Kinetik\n",
    "* Die kinetische Energie des Gesamtsystems berechnet sich aus den Massen und Geschwindigkeiten der Teilsysteme __Wagen__ und __Pendel__:\n",
    "$$T = \\sum_i \\frac{m_i}{2} \\cdot v_i^2$$\n",
    "\n",
    "\n",
    "* Lediglich das **Pendel** trägt zur potentiellen Energie des Gesamtsystems bei: $V = m \\cdot g \\cdot y_2$ "
   ]
  },
  {
   "cell_type": "code",
   "execution_count": 6,
   "metadata": {},
   "outputs": [
    {
     "data": {
      "image/png": "[encoded data removed]",
      "text/latex": [
       "$\\displaystyle \\frac{M \\dot{x}^{2}}{2} + \\frac{m \\left(l^{2} \\sin^{2}{\\left(\\theta \\right)} \\dot{\\theta}^{2} + \\left(- l \\cos{\\left(\\theta \\right)} \\dot{\\theta} + \\dot{x}\\right)^{2}\\right)}{2}$"
      ],
      "text/plain": [
       "   2     ⎛ 2    2     2                    2⎞\n",
       "M⋅ẋ    m⋅⎝l ⋅sin (θ)⋅θ̇  + (-l⋅cos(θ)⋅θ̇ + ẋ) ⎠\n",
       "──── + ──────────────────────────────────────\n",
       " 2                       2                   "
      ]
     },
     "metadata": {},
     "output_type": "display_data"
    }
   ],
   "source": [
    "T = Rational(1,2) * M * (x_d)**2 + Rational(1,2) * m * (x2_d**2 + y2_d**2)\n",
    "display(T)"
   ]
  },
  {
   "cell_type": "code",
   "execution_count": 7,
   "metadata": {},
   "outputs": [
    {
     "data": {
      "image/png": "[encoded data removed]",
      "text/latex": [
       "$\\displaystyle g l m \\cos{\\left(\\theta \\right)}$"
      ],
      "text/plain": [
       "g⋅l⋅m⋅cos(θ)"
      ]
     },
     "metadata": {},
     "output_type": "display_data"
    }
   ],
   "source": [
    "V = M * g * y + m * g * y2 \n",
    "display(V)"
   ]
  },
  {
   "cell_type": "markdown",
   "metadata": {},
   "source": [
    "### Lagrange Funktion:"
   ]
  },
  {
   "cell_type": "code",
   "execution_count": 8,
   "metadata": {},
   "outputs": [
    {
     "data": {
      "image/png": "[encoded data removed]",
      "text/latex": [
       "$\\displaystyle \\frac{M \\dot{x}^{2}}{2} - g l m \\cos{\\left(\\theta \\right)} + \\frac{m \\left(l^{2} \\sin^{2}{\\left(\\theta \\right)} \\dot{\\theta}^{2} + \\left(- l \\cos{\\left(\\theta \\right)} \\dot{\\theta} + \\dot{x}\\right)^{2}\\right)}{2}$"
      ],
      "text/plain": [
       "   2                    ⎛ 2    2     2                    2⎞\n",
       "M⋅ẋ                   m⋅⎝l ⋅sin (θ)⋅θ̇  + (-l⋅cos(θ)⋅θ̇ + ẋ) ⎠\n",
       "──── - g⋅l⋅m⋅cos(θ) + ──────────────────────────────────────\n",
       " 2                                      2                   "
      ]
     },
     "metadata": {},
     "output_type": "display_data"
    }
   ],
   "source": [
    "L = T - V\n",
    "display(L)"
   ]
  },
  {
   "cell_type": "markdown",
   "metadata": {},
   "source": [
    "### Euler-Legrange Gleichungen:\n",
    "Partielle Ableitung der Legrange Funktion nach den Koordinaten $x$ und $\\theta$:\n",
    "\n",
    "$$\\frac{\\partial L}{\\partial x} - \\frac{d}{dt}\\frac{\\partial L}{\\partial \\dot{x}} = F - \\dot{x}D$$\n",
    "\n",
    "$$\\frac{\\partial L}{\\partial \\theta} - \\frac{d}{dt}\\frac{\\partial L}{\\partial \\dot{\\theta}} = - \\delta\\dot{\\theta}$$"
   ]
  },
  {
   "cell_type": "code",
   "execution_count": 9,
   "metadata": {},
   "outputs": [
    {
     "data": {
      "text/latex": [
       "$\\displaystyle \\left[\\begin{matrix}D \\dot{x} - F = - M \\ddot{x} - m \\left(l \\sin{\\left(\\theta \\right)} \\dot{\\theta}^{2} - l \\cos{\\left(\\theta \\right)} \\ddot{\\theta} + \\ddot{x}\\right)\\\\d \\dot{\\theta} = - l m \\left(- g \\sin{\\left(\\theta \\right)} + l \\ddot{\\theta} - \\cos{\\left(\\theta \\right)} \\ddot{x}\\right)\\end{matrix}\\right]$"
      ],
      "text/plain": [
       "⎡                   ⎛          2                 ⎞⎤\n",
       "⎢D⋅ẋ - F = -M⋅ẍ - m⋅⎝l⋅sin(θ)⋅θ̇  - l⋅cos(θ)⋅θ̈ + ẍ⎠⎥\n",
       "⎢                                                 ⎥\n",
       "⎣     d⋅θ̇ = -l⋅m⋅(-g⋅sin(θ) + l⋅θ̈ - cos(θ)⋅ẍ)     ⎦"
      ]
     },
     "metadata": {},
     "output_type": "display_data"
    }
   ],
   "source": [
    "LE_x = diff(diff(L, x_d), t) - diff(L, x)\n",
    "LE_x = Eq(LE_x, F -  x_d * D)\n",
    "\n",
    "LE_theta = diff(diff(L, theta_d), t) - diff(L, theta)\n",
    "LE_theta = Eq(LE_theta, -theta_d * d)\n",
    "\n",
    "display(Matrix([[LE_x.simplify()], [LE_theta.simplify()]]))"
   ]
  },
  {
   "cell_type": "markdown",
   "metadata": {},
   "source": [
    "### Lösung des Bewegungsgleichungen nach $\\ddot{x}$ und $\\ddot{\\theta}$ mit sympy's `solve`."
   ]
  },
  {
   "cell_type": "code",
   "execution_count": 10,
   "metadata": {},
   "outputs": [],
   "source": [
    "solutions = solve([LE_x, LE_theta], (x_dd, theta_dd), simplify=True)"
   ]
  },
  {
   "cell_type": "markdown",
   "metadata": {},
   "source": [
    "#### Lösung für $\\ddot{x}$:"
   ]
  },
  {
   "cell_type": "code",
   "execution_count": 11,
   "metadata": {},
   "outputs": [
    {
     "data": {
      "image/png": "[encoded data removed]",
      "text/latex": [
       "$\\displaystyle \\ddot{x} = \\frac{- D l \\dot{x} + F l - d \\cos{\\left(\\theta \\right)} \\dot{\\theta} + \\frac{g l m \\sin{\\left(2 \\theta \\right)}}{2} - l^{2} m \\sin{\\left(\\theta \\right)} \\dot{\\theta}^{2}}{l \\left(M + m \\sin^{2}{\\left(\\theta \\right)}\\right)}$"
      ],
      "text/plain": [
       "                                g⋅l⋅m⋅sin(2⋅θ)    2           2\n",
       "    -D⋅l⋅ẋ + F⋅l - d⋅cos(θ)⋅θ̇ + ────────────── - l ⋅m⋅sin(θ)⋅θ̇ \n",
       "                                      2                        \n",
       "ẍ = ───────────────────────────────────────────────────────────\n",
       "                           ⎛         2   ⎞                     \n",
       "                         l⋅⎝M + m⋅sin (θ)⎠                     "
      ]
     },
     "metadata": {},
     "output_type": "display_data"
    }
   ],
   "source": [
    "display(Eq(x_dd,solutions[x_dd]))"
   ]
  },
  {
   "cell_type": "markdown",
   "metadata": {},
   "source": [
    "#### Lösung für $\\ddot{\\theta}$:"
   ]
  },
  {
   "cell_type": "code",
   "execution_count": 12,
   "metadata": {},
   "outputs": [
    {
     "data": {
      "image/png": "[encoded data removed]",
      "text/latex": [
       "$\\displaystyle \\ddot{\\theta} = \\frac{- D l m \\cos{\\left(\\theta \\right)} \\dot{x} + F l m \\cos{\\left(\\theta \\right)} - M d \\dot{\\theta} + M g l m \\sin{\\left(\\theta \\right)} - d m \\dot{\\theta} + g l m^{2} \\sin{\\left(\\theta \\right)} - \\frac{l^{2} m^{2} \\sin{\\left(2 \\theta \\right)} \\dot{\\theta}^{2}}{2}}{l^{2} m \\left(M + m \\sin^{2}{\\left(\\theta \\right)}\\right)}$"
      ],
      "text/plain": [
       "                                                                              \n",
       "                                                                           2  \n",
       "    -D⋅l⋅m⋅cos(θ)⋅ẋ + F⋅l⋅m⋅cos(θ) - M⋅d⋅θ̇ + M⋅g⋅l⋅m⋅sin(θ) - d⋅m⋅θ̇ + g⋅l⋅m\n",
       "                                                                              \n",
       "θ̈ = ─────────────────────────────────────────────────────────────────────────\n",
       "                                             2   ⎛         2   ⎞              \n",
       "                                            l ⋅m⋅⎝M + m⋅sin (θ)⎠              \n",
       "\n",
       "         2  2           2\n",
       "        l ⋅m ⋅sin(2⋅θ)⋅θ̇ \n",
       " ⋅sin(θ) - ─────────────────\n",
       "                2        \n",
       "──────────────────────────\n",
       "                         \n",
       "                         "
      ]
     },
     "metadata": {},
     "output_type": "display_data"
    }
   ],
   "source": [
    "display(Eq(theta_dd, solutions[theta_dd]))"
   ]
  },
  {
   "cell_type": "markdown",
   "metadata": {},
   "source": [
    "### Gleichungssystem\n",
    "\n",
    "Als Ergebnis bekommen wir zwei Differentialgleichungen **2. Ordnung**.\n",
    "\n",
    "Diese müssen in DGL **1. Ordung** umgewandelt werden, damit Python diese *numerisch* Lösen kann!\n",
    "\n",
    "Dafür werden die Variablen $v$ und $\\omega$ eingeführt, um das System über 4 DGL 1. Ordnung beschreiben zu können:\n",
    "\n",
    "1. $\\dot x = v$\n",
    "2. $\\ddot x = \\dot v$ \n",
    "\n",
    "\n",
    "3. $\\dot\\theta = \\omega$\n",
    "4. $\\ddot\\theta = \\dot \\omega$\n",
    "\n",
    "\n",
    "Die **symbolischen** Ausdrücke müssen für den Solver als **numerische** Funktionen implementiert werden.\n",
    "\n",
    "Hierfür wird sympy's `lambdify` Methode genutzt, welche die symbolischen Funktionen und deren Parameter erwartet.\n",
    "\n",
    "* $dx/dt = v$\n",
    "* $d v/dt =$ solutions[x_dd]\n",
    "\n",
    "\n",
    "* $d\\theta/dt = \\omega$\n",
    "* $d\\omega/dt =$ solutions[theta_dd]"
   ]
  },
  {
   "cell_type": "code",
   "execution_count": 13,
   "metadata": {},
   "outputs": [],
   "source": [
    "dxdt = lambdify(x_d, x_d)\n",
    "dvdt = lambdify((t,g,M,m,l,x_d,theta,theta_d,F,D,d), solutions[x_dd])\n",
    "\n",
    "dthetadt = lambdify(theta_d, theta_d)\n",
    "domegadt = lambdify((t,g,M,m,l,x_d,theta,theta_d,F,D,d), solutions[theta_dd])"
   ]
  },
  {
   "cell_type": "markdown",
   "metadata": {},
   "source": [
    "### State-Vektor\n",
    "\n",
    "Der Systemzustand wird über den zeitabhängigen *State-Vektor* $\\vec{S} = [x, v, \\theta, \\omega]$ definiert.\n",
    "\n",
    "Der Python Solver benötigt eine Funktion, die $\\vec{S}$ entgegennimmt und $d\\vec{S}/dt$ zurückgibt."
   ]
  },
  {
   "cell_type": "code",
   "execution_count": 14,
   "metadata": {},
   "outputs": [],
   "source": [
    "def dSdt(S, t, M, m, D, d, l, F):\n",
    "    _x, _v, _theta, _omega = S\n",
    "    return [\n",
    "        dxdt(_v),\n",
    "        dvdt(t, g, M, m, l, _v, _theta, _omega, F, D, d),\n",
    "        dthetadt(_omega),\n",
    "        domegadt(t, g, M, m , l, _v, _theta, _omega, F, D, d)\n",
    "    ]"
   ]
  },
  {
   "cell_type": "markdown",
   "metadata": {},
   "source": [
    "### Symbolisch $\\rightarrow$ Numerisch\n",
    "\n",
    "Bis hierhin wurde das System ausschließlich symbolisch betrachtet. \n",
    "Der Bewegungsablauf des inversen Pendels soll nun konktret dargestellen werden.\n",
    "Hierfür werden die symbolischen Variablen überschrieben:"
   ]
  },
  {
   "cell_type": "code",
   "execution_count": 28,
   "metadata": {},
   "outputs": [],
   "source": [
    "from numpy import linspace\n",
    "\n",
    "# time\n",
    "t1 = 20                          # s \n",
    "samples = 300                    # n \n",
    "t = linspace(0, t1, samples)     # s\n",
    "\n",
    "# init\n",
    "x = 0.0                          # m\n",
    "v = 0.0                          # m/s\n",
    "theta =  1.57                      # rad\n",
    "omega = 0.0                      # rad/s\n",
    "S0 = [x, v, theta, omega]        # Start-Vektor\n",
    "\n",
    "# const\n",
    "g = 9.81                         # m/s^2"
   ]
  },
  {
   "cell_type": "markdown",
   "metadata": {},
   "source": [
    "### Numerisches Lösen der Gleichungen mit scipy's `odeint`:\n",
    "\n",
    "Die Methode `odeint` erwartet folgende Parameter:\n",
    "* die Differentialgleichungen `dSdt` (1. Ordnung)\n",
    "* den Anfangszustand $S_0$\n",
    "* den Zeitbereich $t$\n",
    "* die numerischen Parameter"
   ]
  },
  {
   "cell_type": "markdown",
   "metadata": {},
   "source": [
    "## Berechnung und Darstellung der Ergebnisse:"
   ]
  },
  {
   "cell_type": "code",
   "execution_count": 29,
   "metadata": {},
   "outputs": [
    {
     "data": {
      "application/vnd.jupyter.widget-view+json": {
       "model_id": "94921643aea74b5c8614e352798246d9",
       "version_major": 2,
       "version_minor": 0
      },
      "text/plain": [
       "interactive(children=(IntSlider(value=5, description='$M$', max=20, min=2), IntSlider(value=1, description='$m…"
      ]
     },
     "metadata": {},
     "output_type": "display_data"
    }
   ],
   "source": [
    "from numpy import pi\n",
    "import matplotlib.pyplot as plt\n",
    "from scipy.integrate import odeint\n",
    "\n",
    "from ipywidgets import interact_manual, IntSlider, FloatSlider\n",
    "from IPython.display import display, clear_output\n",
    "\n",
    "M_slider = IntSlider(value=5,min=2,max=20,step=1,description=r'$M$') \n",
    "m_slider = IntSlider(value=1,min=1,max=5,step=1,description=r'$m$')\n",
    "D_slider = FloatSlider(value=0.5,min=0,max=10,step=0.5,description=r'$D$') \n",
    "d_slider = FloatSlider(value=0.05,min=0,max=1,step=0.05,description=r'$d$')\n",
    "l_slider = FloatSlider(value=1,min=0.5,max=3,step=0.5,description=r'$l$') \n",
    "F_slider = FloatSlider(value=0,min=0,max=1,step=1,description=r'$F$')\n",
    "\n",
    "def interaction(M, m, D, d, l, F):\n",
    "    \n",
    "    global S0\n",
    "    \n",
    "    ans = odeint(dSdt, y0=S0, t=t, args=(M, m, D, d, l, F))\n",
    "    x = ans.T[0]\n",
    "    theta = ans.T[2]\n",
    "    \n",
    "    fig, (ax1) = plt.subplots(1,1, figsize=(6,3), sharey=True, dpi=120)\n",
    "    ax1.plot(t, x, label=r'$x~[m]$')\n",
    "    ax1.plot(t, theta, label=r'$\\theta~[rad]$')\n",
    "    ax1.set_title('gedämpftes inverses Pendel');\n",
    "    ax1.set_xlabel('Time [s]');  \n",
    "    ax1.legend()\n",
    "    plt.show()\n",
    "    \n",
    "\n",
    "interactive_plot = interact_manual(interaction, M=M_slider, m=m_slider, D=D_slider, d=d_slider, l=l_slider, F=F_slider)"
   ]
  },
  {
   "cell_type": "markdown",
   "metadata": {},
   "source": [
    "## Animation der Bewegungsgleichung"
   ]
  },
  {
   "cell_type": "code",
   "execution_count": 23,
   "metadata": {},
   "outputs": [],
   "source": [
    "from matplotlib import animation\n",
    "from matplotlib.patches import Rectangle\n",
    "from matplotlib.gridspec import GridSpec\n",
    "from matplotlib.animation import PillowWriter\n",
    "%matplotlib inline\n",
    "#%matplotlib notebook # --> animation im Jupyter Notebook"
   ]
  },
  {
   "cell_type": "code",
   "execution_count": 24,
   "metadata": {},
   "outputs": [],
   "source": [
    "# Animations-Parameter\n",
    "M = 5                            # kg\n",
    "m = 2                            # kg\n",
    "D = 0.5                          # N*s/m\n",
    "d = 0.1                          # Nm*s\n",
    "l = 1                            # m\n",
    "F = 0                            # N"
   ]
  },
  {
   "cell_type": "code",
   "execution_count": 25,
   "metadata": {},
   "outputs": [],
   "source": [
    "# Simulation mit entsprechenden Parametern durchführen\n",
    "ans = odeint(dSdt, y0=S0, t=t, args=(M, m, D, d, l, F))\n",
    "x = ans.T[0]\n",
    "theta = ans.T[2]"
   ]
  },
  {
   "cell_type": "code",
   "execution_count": 20,
   "metadata": {},
   "outputs": [
    {
     "data": {
      "image/png": "[encoded data removed]",
      "text/plain": [
       "<Figure size 1152x360 with 3 Axes>"
      ]
     },
     "metadata": {
      "needs_background": "light"
     },
     "output_type": "display_data"
    }
   ],
   "source": [
    "fig = plt.figure(figsize=(16,5))\n",
    "gs = GridSpec(nrows=1, ncols=2, width_ratios=[1, 2])\n",
    "\n",
    "# Title\n",
    "string = r\"%s \"%(' ')\n",
    "fig.suptitle(string, fontsize=24)\n",
    "\n",
    "# Pendelplot\n",
    "ax1 = fig.add_subplot(gs[0, 0], autoscale_on=True, xlim=(-l*1.5, l*1.5), ylim=(-l*1.5, l*1.5)) \n",
    "ax1.get_xaxis().set_ticks([]) # enable this to hide x axis ticks\n",
    "ax1.get_yaxis().set_ticks([]) # enable this to hide y axis ticks\n",
    "\n",
    "# Wagen\n",
    "cart_w, cart_h = 0.42, 0.28 # Breite, Höhe, Raddurchmesser\n",
    "cart = ax1.add_patch(Rectangle((0, 0), 0, 0, linewidth=1, edgecolor='k', facecolor='g'))\n",
    "wheels, = ax1.plot([], [], 'ok', markersize=8) \n",
    "ground, = ax1.plot([-1.2,1.2], [-(cart_h/2+.06),-(cart_h/2+.06)], '-k', alpha=.5, lw=2, zorder=0)\n",
    "\n",
    "# Pendel\n",
    "pendulum, = ax1.plot([], [], '-k', lw=2, marker='o') # Pendelstange als Linie darstellen\n",
    "circle = plt.Circle((0,0), 0.08, fc='r', edgecolor='k', zorder=3) # Pendelmasse als Kreis darstellen\n",
    "circle = ax1.add_patch(circle)\n",
    "\n",
    "# Zeitlabel\n",
    "dt = t1 / samples\n",
    "time_template = 'time = %.1fs'\n",
    "time_text = ax1.text(0.05, 1.02, '', transform=ax1.transAxes, fontsize=16)\n",
    "\n",
    "# Zeitplot Wagen\n",
    "ax2 = fig.add_subplot(gs[:, 1], autoscale_on=True)\n",
    "ax2.set_xlabel('time [$~s~$]', fontsize=16)\n",
    "ax2.plot(t,x, color=\"grey\", linewidth=3, alpha=1, label=\"$x$\")\n",
    "ax2.legend(loc=(1.05,0.8), frameon=False, fontsize=20)\n",
    "ax2.set_ylabel('position [$~m~$]', color='k', fontsize=12, labelpad=10)\n",
    "ax2.grid()\n",
    "x_point, = ax2.plot([], [], 'o-', color='g', markersize=12)\n",
    "\n",
    "# Zeitplot Pendel\n",
    "ax3 = ax2.twinx()\n",
    "ax3.plot(t,theta, color=\"tab:blue\", linewidth=3, alpha=1, label=r\"$\\theta$\")\n",
    "ax3.legend(loc=(1.05,0.7), frameon=False, fontsize=20)\n",
    "ax3.set_ylabel('angle [$~rad~$]', fontsize=12, labelpad=14)\n",
    "ax3.grid()\n",
    "theta_point, = ax3.plot([], [], 'o-', color='r', markersize=10)\n",
    "\n",
    "\n",
    "def init():\n",
    "    cart.set_height(cart_h)\n",
    "    cart.set_xy((-cart_w/2, -cart_h/2))\n",
    "    cart.set_width(cart_w)\n",
    "    pendulum.set_data([], [])\n",
    "    wheels.set_data([],[])\n",
    "    time_text.set_text('')\n",
    "    return cart, pendulum, time_text\n",
    "\n",
    "def animate(i):\n",
    "    \n",
    "    # Wagenposition\n",
    "    cart.set_x(x[i] - cart_w/2)\n",
    "    wheels.set_data([x[i]+cart_w/3, x[i]-cart_w/3],[-cart_h/2,-cart_h/2])\n",
    "    \n",
    "    # Pemdelmasse\n",
    "    x2 = x[i] -l * sin(theta[i])\n",
    "    y2 = l * cos(theta[i])\n",
    "    circle.set_center((x2, y2))\n",
    "    \n",
    "    # Pendelstande\n",
    "    thisx = [x[i], x2]\n",
    "    thisy = [0, y2]\n",
    "    pendulum.set_data(thisx, thisy)\n",
    "    \n",
    "    # Samplezeit\n",
    "    time_text.set_text(time_template % (i*dt))\n",
    "    \n",
    "    # Zeitverlauf\n",
    "    x_point.set_data(t[i], x[i])\n",
    "    theta_point.set_data(t[i], theta[i])\n",
    "    \n",
    "    return cart, pendulum, time_text\n",
    "\n",
    "ani = animation.FuncAnimation(fig, animate, init_func=init, frames=samples, blit=True)\n",
    "#ani.save('InvertedPendulum.gif', writer='pillow', fps=samples/t1, dpi=180)"
   ]
  },
  {
   "cell_type": "code",
   "execution_count": null,
   "metadata": {},
   "outputs": [],
   "source": []
  }
 ],
 "metadata": {
  "kernelspec": {
   "display_name": "Python 3",
   "language": "python",
   "name": "python3"
  },
  "language_info": {
   "codemirror_mode": {
    "name": "ipython",
    "version": 3
   },
   "file_extension": ".py",
   "mimetype": "text/x-python",
   "name": "python",
   "nbconvert_exporter": "python",
   "pygments_lexer": "ipython3",
   "version": "3.8.8"
  }
 },
 "nbformat": 4,
 "nbformat_minor": 4
}
