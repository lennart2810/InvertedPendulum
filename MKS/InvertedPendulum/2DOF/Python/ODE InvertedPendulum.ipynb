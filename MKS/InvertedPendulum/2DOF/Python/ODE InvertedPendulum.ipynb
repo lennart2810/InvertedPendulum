{
 "cells": [
  {
   "cell_type": "markdown",
   "id": "cedbac54",
   "metadata": {},
   "source": [
    "# Lagrange Mechanik: Inverses Pendel \n",
    "## Quantenmechanik Studihilfe"
   ]
  },
  {
   "cell_type": "code",
   "execution_count": 54,
   "id": "0eca2bf5",
   "metadata": {},
   "outputs": [],
   "source": [
    "import sympy\n",
    "from sympy import Symbol, symbols, Function, sin, cos, diff, simplify, Matrix\n",
    "sympy.init_printing()"
   ]
  },
  {
   "cell_type": "code",
   "execution_count": 55,
   "id": "dd146d3f",
   "metadata": {},
   "outputs": [
    {
     "data": {
      "image/png": "[encoded data removed]",
      "text/latex": [
       "$\\displaystyle t$"
      ],
      "text/plain": [
       "t"
      ]
     },
     "metadata": {},
     "output_type": "display_data"
    },
    {
     "data": {
      "image/png": "[encoded data removed]",
      "text/latex": [
       "$\\displaystyle \\theta{\\left(t \\right)}$"
      ],
      "text/plain": [
       "θ(t)"
      ]
     },
     "metadata": {},
     "output_type": "display_data"
    }
   ],
   "source": [
    "t = Symbol('t')\n",
    "display(t)\n",
    "\n",
    "theta = Function('theta')(t)\n",
    "display(theta)"
   ]
  },
  {
   "cell_type": "markdown",
   "id": "eca5f08c",
   "metadata": {},
   "source": [
    "# Kinematik"
   ]
  },
  {
   "cell_type": "markdown",
   "id": "694de0e6",
   "metadata": {},
   "source": [
    "## Cart\n",
    "$x_c = x \\enspace$\n",
    "$y_c = y \\enspace \\rightarrow \\enspace$\n",
    "$c =$ \n",
    "$\\begin{bmatrix}\n",
    "x\\\\\n",
    "0\n",
    "\\end{bmatrix}$\n",
    "$\\dot c =$ \n",
    "$\\begin{bmatrix}\n",
    "\\dot x\\\\\n",
    "0\n",
    "\\end{bmatrix}$"
   ]
  },
  {
   "cell_type": "code",
   "execution_count": 56,
   "id": "8175c62d",
   "metadata": {},
   "outputs": [
    {
     "data": {
      "text/latex": [
       "$\\displaystyle \\left[\\begin{matrix}x{\\left(t \\right)}\\\\0\\end{matrix}\\right]$"
      ],
      "text/plain": [
       "⎡x(t)⎤\n",
       "⎢    ⎥\n",
       "⎣ 0  ⎦"
      ]
     },
     "metadata": {},
     "output_type": "display_data"
    },
    {
     "data": {
      "text/latex": [
       "$\\displaystyle \\left[\\begin{matrix}\\frac{d}{d t} x{\\left(t \\right)}\\\\0\\end{matrix}\\right]$"
      ],
      "text/plain": [
       "⎡d       ⎤\n",
       "⎢──(x(t))⎥\n",
       "⎢dt      ⎥\n",
       "⎢        ⎥\n",
       "⎣   0    ⎦"
      ]
     },
     "metadata": {},
     "output_type": "display_data"
    }
   ],
   "source": [
    "x, y = symbols('x,y', cls=Function)\n",
    "x, y = x(t), y(t)\n",
    "\n",
    "y = 0 # ebene Bahn\n",
    "\n",
    "c = Matrix([x, y])\n",
    "display(c)\n",
    "\n",
    "c_d = Matrix([x.diff(), y])\n",
    "display(c_d)"
   ]
  },
  {
   "cell_type": "markdown",
   "id": "3f5a6c19",
   "metadata": {},
   "source": [
    "## Pendel \n",
    "$x_p = x - l \\sin(\\theta) \\enspace$\n",
    "$y_p = y + l \\cdot \\cos(\\theta) \\enspace \\rightarrow \\enspace$\n",
    "$p =$\n",
    "$\\begin{bmatrix}\n",
    "x - l \\sin(\\theta) \\\\\n",
    "l \\cdot \\cos(\\theta)\n",
    "\\end{bmatrix}$\n",
    "\n",
    "$\\dot x_p = \\dot x - l \\dot \\theta \\cos(\\theta) \\enspace$ \n",
    "$\\dot y_p = y - l \\dot \\theta \\sin(\\theta) \\enspace \\rightarrow \\enspace$\n",
    "$\\dot p =$\n",
    "$\\begin{bmatrix}\n",
    "\\dot x - l \\dot \\theta \\cos(\\theta) \\\\\n",
    "- l \\dot \\theta \\sin(\\theta)\n",
    "\\end{bmatrix}$"
   ]
  },
  {
   "cell_type": "code",
   "execution_count": 57,
   "id": "86944176",
   "metadata": {},
   "outputs": [
    {
     "data": {
      "text/latex": [
       "$\\displaystyle \\left[\\begin{matrix}- l \\sin{\\left(\\theta{\\left(t \\right)} \\right)} + x{\\left(t \\right)}\\\\l \\cos{\\left(\\theta{\\left(t \\right)} \\right)}\\end{matrix}\\right]$"
      ],
      "text/plain": [
       "⎡-l⋅sin(θ(t)) + x(t)⎤\n",
       "⎢                   ⎥\n",
       "⎣    l⋅cos(θ(t))    ⎦"
      ]
     },
     "metadata": {},
     "output_type": "display_data"
    },
    {
     "data": {
      "text/latex": [
       "$\\displaystyle \\left[\\begin{matrix}- l \\cos{\\left(\\theta{\\left(t \\right)} \\right)} \\frac{d}{d t} \\theta{\\left(t \\right)} + \\frac{d}{d t} x{\\left(t \\right)}\\\\- l \\sin{\\left(\\theta{\\left(t \\right)} \\right)} \\frac{d}{d t} \\theta{\\left(t \\right)}\\end{matrix}\\right]$"
      ],
      "text/plain": [
       "⎡              d          d       ⎤\n",
       "⎢- l⋅cos(θ(t))⋅──(θ(t)) + ──(x(t))⎥\n",
       "⎢              dt         dt      ⎥\n",
       "⎢                                 ⎥\n",
       "⎢                   d             ⎥\n",
       "⎢      -l⋅sin(θ(t))⋅──(θ(t))      ⎥\n",
       "⎣                   dt            ⎦"
      ]
     },
     "metadata": {},
     "output_type": "display_data"
    }
   ],
   "source": [
    "l = Symbol('l')\n",
    "\n",
    "x_p = Symbol('x_p')\n",
    "x_p = x - l * sin(theta)\n",
    "\n",
    "y_p = Symbol('y_p')\n",
    "y_p = y + l * cos(theta)\n",
    "\n",
    "p = Matrix([x_p, y_p])\n",
    "display(p)\n",
    "\n",
    "p_d = Matrix([diff(x_p, t), diff(y_p, t)])\n",
    "display(p_d)"
   ]
  },
  {
   "cell_type": "markdown",
   "id": "6b8ea4b5",
   "metadata": {},
   "source": [
    "# Kinetische Energie $T$\n",
    "\n",
    "$T = \\frac{1}{2} m v^2 \\enspace \\rightarrow \\enspace = \\frac{1}{2} m (\\dot x + \\dot y)^2$\n",
    "\n",
    "## Cart\n",
    "\n",
    "$T_c = \\frac{1}{2} m_c \\dot x^2$"
   ]
  },
  {
   "cell_type": "code",
   "execution_count": 58,
   "id": "90fc94e2",
   "metadata": {},
   "outputs": [
    {
     "data": {
      "image/png": "[encoded data removed]",
      "text/latex": [
       "$\\displaystyle 0.5 m_{c} \\left(\\frac{d}{d t} x{\\left(t \\right)}\\right)^{2}$"
      ],
      "text/plain": [
       "                  2\n",
       "        ⎛d       ⎞ \n",
       "0.5⋅m_c⋅⎜──(x(t))⎟ \n",
       "        ⎝dt      ⎠ "
      ]
     },
     "metadata": {},
     "output_type": "display_data"
    }
   ],
   "source": [
    "m_c = Symbol('m_c')\n",
    "\n",
    "T_c = 1/2 * m_c * c_d[0]**2 \n",
    "display(T_c)"
   ]
  },
  {
   "cell_type": "markdown",
   "id": "7c18c383",
   "metadata": {},
   "source": [
    "## Pendel\n",
    "\n",
    "$T_p = \\frac{1}{2} m_p ((\\dot x - l \\dot \\theta \\cos(\\theta))+(- l \\dot \\theta \\sin(\\theta)))^2$\n",
    "\n",
    "$T_p = \\frac{1}{2} m_p (\\dot x^2  + l^2 \\dot \\theta^2 - 2 l \\dot x \\dot \\theta \\cos(\\theta))$"
   ]
  },
  {
   "cell_type": "code",
   "execution_count": 59,
   "id": "af28727b",
   "metadata": {},
   "outputs": [
    {
     "data": {
      "image/png": "[encoded data removed]",
      "text/latex": [
       "$\\displaystyle 0.5 m_{p} \\left(- l \\sin{\\left(\\theta{\\left(t \\right)} \\right)} \\frac{d}{d t} \\theta{\\left(t \\right)} - l \\cos{\\left(\\theta{\\left(t \\right)} \\right)} \\frac{d}{d t} \\theta{\\left(t \\right)} + \\frac{d}{d t} x{\\left(t \\right)}\\right)^{2}$"
      ],
      "text/plain": [
       "                                                                 2\n",
       "       ⎛              d                      d          d       ⎞ \n",
       "0.5⋅mₚ⋅⎜- l⋅sin(θ(t))⋅──(θ(t)) - l⋅cos(θ(t))⋅──(θ(t)) + ──(x(t))⎟ \n",
       "       ⎝              dt                     dt         dt      ⎠ "
      ]
     },
     "metadata": {},
     "output_type": "display_data"
    }
   ],
   "source": [
    "m_p = Symbol('m_p')\n",
    "\n",
    "T_p = 1/2 * m_p * (p_d[0] + p_d[1])**2 \n",
    "display(T_p)"
   ]
  },
  {
   "cell_type": "code",
   "execution_count": 60,
   "id": "58bc3703",
   "metadata": {},
   "outputs": [
    {
     "data": {
      "image/png": "[encoded data removed]",
      "text/latex": [
       "$\\displaystyle 0.5 m_{c} \\left(\\frac{d}{d t} x{\\left(t \\right)}\\right)^{2} + 0.5 m_{p} \\left(- l \\sin{\\left(\\theta{\\left(t \\right)} \\right)} \\frac{d}{d t} \\theta{\\left(t \\right)} - l \\cos{\\left(\\theta{\\left(t \\right)} \\right)} \\frac{d}{d t} \\theta{\\left(t \\right)} + \\frac{d}{d t} x{\\left(t \\right)}\\right)^{2}$"
      ],
      "text/plain": [
       "                  2                                                           \n",
       "        ⎛d       ⎞           ⎛              d                      d          \n",
       "0.5⋅m_c⋅⎜──(x(t))⎟  + 0.5⋅mₚ⋅⎜- l⋅sin(θ(t))⋅──(θ(t)) - l⋅cos(θ(t))⋅──(θ(t)) + \n",
       "        ⎝dt      ⎠           ⎝              dt                     dt         \n",
       "\n",
       "         2\n",
       "d       ⎞ \n",
       "──(x(t))⎟ \n",
       "dt      ⎠ "
      ]
     },
     "metadata": {},
     "output_type": "display_data"
    }
   ],
   "source": [
    "T = T_c + T_p\n",
    "display(T)"
   ]
  },
  {
   "cell_type": "markdown",
   "id": "f3c62f63",
   "metadata": {},
   "source": [
    "# $ T = \\frac{1}{2} (M+m) \\dot x^2 + \\frac{1}{2}m (l^2 \\dot \\theta^2 - 2l\\dot\\theta \\dot x \\cos(\\theta))$"
   ]
  },
  {
   "cell_type": "code",
   "execution_count": null,
   "id": "6751db1b",
   "metadata": {},
   "outputs": [],
   "source": []
  },
  {
   "cell_type": "code",
   "execution_count": null,
   "id": "ab1e5b2e",
   "metadata": {},
   "outputs": [],
   "source": []
  },
  {
   "cell_type": "code",
   "execution_count": null,
   "id": "e73072a5",
   "metadata": {},
   "outputs": [],
   "source": []
  },
  {
   "cell_type": "code",
   "execution_count": null,
   "id": "aad5ebf7",
   "metadata": {},
   "outputs": [],
   "source": []
  },
  {
   "cell_type": "code",
   "execution_count": null,
   "id": "5e043b49",
   "metadata": {},
   "outputs": [],
   "source": []
  }
 ],
 "metadata": {
  "kernelspec": {
   "display_name": "Python 3",
   "language": "python",
   "name": "python3"
  },
  "language_info": {
   "codemirror_mode": {
    "name": "ipython",
    "version": 3
   },
   "file_extension": ".py",
   "mimetype": "text/x-python",
   "name": "python",
   "nbconvert_exporter": "python",
   "pygments_lexer": "ipython3",
   "version": "3.8.8"
  }
 },
 "nbformat": 4,
 "nbformat_minor": 5
}
