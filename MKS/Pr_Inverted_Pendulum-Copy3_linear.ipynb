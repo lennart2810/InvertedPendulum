{
 "cells": [
  {
   "cell_type": "markdown",
   "metadata": {},
   "source": [
    "### Importieren benötigter Bibliotheken"
   ]
  },
  {
   "cell_type": "code",
   "execution_count": 1,
   "metadata": {},
   "outputs": [],
   "source": [
    "from __future__ import print_function, division\n",
    "from sympy import symbols, simplify, trigsimp\n",
    "from sympy.physics.mechanics import dynamicsymbols, ReferenceFrame, Point, Particle\n",
    "from sympy.physics.mechanics import inertia, RigidBody, KanesMethod\n",
    "from sympy.physics.vector import init_vprinting\n",
    "init_vprinting(use_latex='mathjax', pretty_print=False)"
   ]
  },
  {
   "cell_type": "markdown",
   "metadata": {},
   "source": [
    "# 1. Kinematik"
   ]
  },
  {
   "cell_type": "markdown",
   "metadata": {},
   "source": [
    "### Koordinatensysteme / Bezugssysteme"
   ]
  },
  {
   "cell_type": "code",
   "execution_count": 2,
   "metadata": {},
   "outputs": [],
   "source": [
    "# Initialisieren der benötigten Koordinatensysteme\n",
    "inertial_frame = ReferenceFrame('I')\n",
    "cart_frame = ReferenceFrame('A_frame')   \n",
    "pendulum1_frame = ReferenceFrame('B')   #B statt P_1"
   ]
  },
  {
   "cell_type": "markdown",
   "metadata": {},
   "source": [
    "### Orientierung und Zwangsbedingungen an den Koordinatensystemen"
   ]
  },
  {
   "cell_type": "code",
   "execution_count": 3,
   "metadata": {},
   "outputs": [],
   "source": [
    "theta1 = dynamicsymbols('theta1')\n",
    "x_dist = dynamicsymbols('q0')"
   ]
  },
  {
   "cell_type": "code",
   "execution_count": 4,
   "metadata": {},
   "outputs": [
    {
     "data": {
      "text/latex": [
       "$\\displaystyle \\left[\\begin{matrix}\\cos{\\left(\\theta_{1} \\right)} & \\sin{\\left(\\theta_{1} \\right)} & 0\\\\- \\sin{\\left(\\theta_{1} \\right)} & \\cos{\\left(\\theta_{1} \\right)} & 0\\\\0 & 0 & 1\\end{matrix}\\right]$"
      ],
      "text/plain": [
       "Matrix([\n",
       "[ cos(theta1), sin(theta1), 0],\n",
       "[-sin(theta1), cos(theta1), 0],\n",
       "[           0,           0, 1]])"
      ]
     },
     "execution_count": 4,
     "metadata": {},
     "output_type": "execute_result"
    }
   ],
   "source": [
    "# Zwangsbedingung des Bezugssystems P1 zum Inertialsystem:\n",
    "###!! CART FRAME auf 0 setzen\n",
    "#cart_frame.orient(inertial_frame, 'Axis', (x_dist, inertial_frame.x))\n",
    "#cart_frame.set_ang_vel(inertial_frame, 0*inertial_frame.z)\n",
    "#cart_frame.set_ang_vel(inertial_frame, 0*inertial_frame.y)\n",
    "#cart_frame = inertial_frame.orientnew('A_frame', 'Axis', [x_dist, inertial_frame.x])\n",
    "cart_frame.orient_space_fixed(inertial_frame, (0,0,0), '231')\n",
    "#cart_frame = inertial_frame.orientnew('A_frame')\n",
    "# setze fest, dass pendulum1 lediglich um die z-Achse rotieren kann\n",
    "pendulum1_frame.orient(inertial_frame, 'Axis', (theta1, cart_frame.z))  # cart_frame.z\n",
    "pendulum1_frame.dcm(cart_frame)"
   ]
  },
  {
   "cell_type": "code",
   "execution_count": 5,
   "metadata": {},
   "outputs": [
    {
     "data": {
      "text/latex": [
       "$\\displaystyle \\left[\\begin{matrix}\\cos{\\left(\\theta_{1} \\right)} & \\sin{\\left(\\theta_{1} \\right)} & 0\\\\- \\sin{\\left(\\theta_{1} \\right)} & \\cos{\\left(\\theta_{1} \\right)} & 0\\\\0 & 0 & 1\\end{matrix}\\right]$"
      ],
      "text/plain": [
       "Matrix([\n",
       "[ cos(theta1), sin(theta1), 0],\n",
       "[-sin(theta1), cos(theta1), 0],\n",
       "[           0,           0, 1]])"
      ]
     },
     "execution_count": 5,
     "metadata": {},
     "output_type": "execute_result"
    }
   ],
   "source": [
    "# Daraus ergibt sich dann, dass die die Position von pendulum1 mit der folgenden Rotationsmatrix berechnet werden kann:\n",
    "# Returns the direction cosine matrix relative to the provided reference frame. (QUELLE: https://docs.sympy.org/latest/modules/physics/vector/api/classes.html)\n",
    "pendulum1_frame.dcm(inertial_frame)"
   ]
  },
  {
   "cell_type": "markdown",
   "metadata": {},
   "source": [
    "<p> Multipliziert man diese Rotationsmatrix mit einem Vektor, lässt sich damit der Vektor um die entsprechenden Winkel zum Inertialsystem drehen</p>"
   ]
  },
  {
   "cell_type": "markdown",
   "metadata": {},
   "source": [
    "### Massepunkte und Gelenkpunkte"
   ]
  },
  {
   "cell_type": "code",
   "execution_count": 6,
   "metadata": {},
   "outputs": [],
   "source": [
    "# Distanz zw. Ursprungspunkt und Wagenpunkt/Ankerpunkt\n",
    "origin = Point('O')\n",
    "origin.set_vel(inertial_frame, 0) # origin statisch setzen\n",
    "\n",
    "# Zunächst setzen wir einen fixen Ankerpunkt im Inertialsystem\n",
    "ankle = Point('A')\n",
    "\n",
    "ankle.set_pos(origin, x_dist * inertial_frame.x)\n",
    "#ankle.set_vel(cart_frame, 0) # Ankerpunkt in Cart-System statisch setzen"
   ]
  },
  {
   "cell_type": "code",
   "execution_count": 7,
   "metadata": {},
   "outputs": [],
   "source": [
    "# Endpunkt des pendulum1 \n",
    "p1 = Point('P_1')\n",
    "\n",
    "# definieren nun eine Länge für unser erstes Pendel\n",
    "pendulum1_length = symbols('l_1')"
   ]
  },
  {
   "cell_type": "code",
   "execution_count": 8,
   "metadata": {},
   "outputs": [
    {
     "data": {
      "text/latex": [
       "$\\displaystyle -  l_{1} \\sin{\\left(\\theta_{1} \\right)}\\mathbf{\\hat{i}_x} + l_{1} \\cos{\\left(\\theta_{1} \\right)}\\mathbf{\\hat{i}_y}$"
      ],
      "text/plain": [
       "- l_1*sin(theta1)*I.x + l_1*cos(theta1)*I.y"
      ]
     },
     "execution_count": 8,
     "metadata": {},
     "output_type": "execute_result"
    }
   ],
   "source": [
    "# Die Position des Punktes P lässt sich jetzt über die Länge l1 * der Richtung y des Bezugssystems P beschreiben\n",
    "p1.set_pos(ankle, pendulum1_length * pendulum1_frame.y)\n",
    "\n",
    "# Durch die Multiplikation mit der Rotationsmatrix zwischen dem Inertialsystems und Pendulum1 kann der Punkt P\n",
    "# im Bezug zum Inertialsystem beschrieben werden\n",
    "#?? ist das Inertialsystem noch korrekt?\n",
    "p1.pos_from(ankle).express(inertial_frame).simplify()"
   ]
  },
  {
   "cell_type": "markdown",
   "metadata": {},
   "source": [
    "<p>Da wir nicht mit masselosen Pendeln rechnen wollen, müssen wir außerdem die Massenschwerpunkte unserer Pendel angeben</p>"
   ]
  },
  {
   "cell_type": "code",
   "execution_count": 9,
   "metadata": {},
   "outputs": [],
   "source": [
    "# wir machen dies analog zur Vorgehensweise der Gelenkpunkte\n",
    "pendulum1_mass_length = symbols('l_m1')\n",
    "pendulum1_mass_center = Point('P_m1')\n",
    "pendulum1_mass_center.set_pos(ankle, pendulum1_mass_length * pendulum1_frame.y)"
   ]
  },
  {
   "cell_type": "markdown",
   "metadata": {},
   "source": [
    "### Aufstellen der Differentialgleichungen"
   ]
  },
  {
   "cell_type": "code",
   "execution_count": 10,
   "metadata": {},
   "outputs": [],
   "source": [
    "#?? Hier Geschwindigkeiten hinzufügen bzgl des Wagens\n",
    "cart_vel = dynamicsymbols('v_cart')\n",
    "kinematical_differential_equations = [cart_vel - x_dist.diff()] #translat. Geschwindigkeit"
   ]
  },
  {
   "cell_type": "code",
   "execution_count": 11,
   "metadata": {},
   "outputs": [
    {
     "data": {
      "text/latex": [
       "$\\displaystyle \\left[ v_{cart} - \\dot{q}_{0}, \\  \\omega_{1} - \\dot{\\theta}_{1}\\right]$"
      ],
      "text/plain": [
       "[v_cart - q0', omega1 - theta1']"
      ]
     },
     "execution_count": 11,
     "metadata": {},
     "output_type": "execute_result"
    }
   ],
   "source": [
    "# Wir benötigen die Winkelgeschwindigkeiten\n",
    "omega1 = dynamicsymbols('omega1')\n",
    "\n",
    "# Diese sind genauso groß, wie die Ableitung des Winkels Theta1 nach der Zeit --> 𝜔 = 𝜃˙\n",
    "# Diese Formulierung müssen wir tätigen, da wir unsere Bewegungsgleichung nach Kanes-Methode aufstellen.\n",
    "# Zudem benötigen alle numerischen Integratoren eine DGL 1.Ordnung\n",
    "#kinematical_differential_equations = [omega1 - theta1.diff()]\n",
    "#?? WARUM GENAUSO GROß???\n",
    "\n",
    "#rotat. Geschwindigkeit:\n",
    "kinematical_differential_equations.append(omega1 - theta1.diff())\n",
    "\n",
    "#tranlat. Geschindigkeit: \n",
    "#kinematical_differential_equations.append((cart_vel + x_dist.diff())*inertial_frame.x - theta1.diff()*pendulum1_mass_length*pendulum1_frame.y)\n",
    "\n",
    "kinematical_differential_equations"
   ]
  },
  {
   "cell_type": "code",
   "execution_count": 12,
   "metadata": {},
   "outputs": [],
   "source": [
    "# Der Ankerpunkt wird mit Wagengeschwindigkeit angenommen\n",
    "ankle.set_vel(inertial_frame, cart_vel*inertial_frame.x)"
   ]
  },
  {
   "cell_type": "code",
   "execution_count": 13,
   "metadata": {},
   "outputs": [
    {
     "data": {
      "text/latex": [
       "$\\displaystyle \\dot{\\theta}_{1}\\mathbf{\\hat{i}_z}$"
      ],
      "text/plain": [
       "theta1'*I.z"
      ]
     },
     "execution_count": 13,
     "metadata": {},
     "output_type": "execute_result"
    }
   ],
   "source": [
    "# Die erste Winkelgeschwindigkeit rotiert um die Z-Achse \n",
    "pendulum1_frame.set_ang_vel(cart_frame, omega1*cart_frame.z)\n",
    "\n",
    "#Returns the angular velocity Vector of the ReferenceFrame. Quelle: https://docs.sympy.org/latest/modules/physics/vector/api/classes.html\n",
    "pendulum1_frame.ang_vel_in(inertial_frame)"
   ]
  },
  {
   "cell_type": "markdown",
   "metadata": {},
   "source": [
    "# 2. Massenträgheiten"
   ]
  },
  {
   "cell_type": "markdown",
   "metadata": {},
   "source": [
    "### Massenträgheiten"
   ]
  },
  {
   "cell_type": "code",
   "execution_count": 14,
   "metadata": {},
   "outputs": [],
   "source": [
    "pendulum1_mass = symbols('m_1')"
   ]
  },
  {
   "cell_type": "code",
   "execution_count": 15,
   "metadata": {},
   "outputs": [],
   "source": [
    "pendulum1_inertia = symbols('I_p1')"
   ]
  },
  {
   "cell_type": "code",
   "execution_count": 16,
   "metadata": {},
   "outputs": [
    {
     "name": "stdout",
     "output_type": "stream",
     "text": [
      "Help on function inertia in module sympy.physics.mechanics.functions:\n",
      "\n",
      "inertia(frame, ixx, iyy, izz, ixy=0, iyz=0, izx=0)\n",
      "    Simple way to create inertia Dyadic object.\n",
      "    \n",
      "    Explanation\n",
      "    ===========\n",
      "    \n",
      "    If you don't know what a Dyadic is, just treat this like the inertia\n",
      "    tensor. Then, do the easy thing and define it in a body-fixed frame.\n",
      "    \n",
      "    Parameters\n",
      "    ==========\n",
      "    \n",
      "    frame : ReferenceFrame\n",
      "        The frame the inertia is defined in\n",
      "    ixx : Sympifyable\n",
      "        the xx element in the inertia dyadic\n",
      "    iyy : Sympifyable\n",
      "        the yy element in the inertia dyadic\n",
      "    izz : Sympifyable\n",
      "        the zz element in the inertia dyadic\n",
      "    ixy : Sympifyable\n",
      "        the xy element in the inertia dyadic\n",
      "    iyz : Sympifyable\n",
      "        the yz element in the inertia dyadic\n",
      "    izx : Sympifyable\n",
      "        the zx element in the inertia dyadic\n",
      "    \n",
      "    Examples\n",
      "    ========\n",
      "    \n",
      "    >>> from sympy.physics.mechanics import ReferenceFrame, inertia\n",
      "    >>> N = ReferenceFrame('N')\n",
      "    >>> inertia(N, 1, 2, 3)\n",
      "    (N.x|N.x) + 2*(N.y|N.y) + 3*(N.z|N.z)\n",
      "\n"
     ]
    }
   ],
   "source": [
    "help(inertia)"
   ]
  },
  {
   "cell_type": "code",
   "execution_count": 17,
   "metadata": {},
   "outputs": [
    {
     "data": {
      "text/latex": [
       "$\\displaystyle I_{p1}\\mathbf{\\hat{b}_z}\\otimes \\mathbf{\\hat{b}_z}$"
      ],
      "text/plain": [
       "I_p1*(B.z|B.z)"
      ]
     },
     "execution_count": 17,
     "metadata": {},
     "output_type": "execute_result"
    }
   ],
   "source": [
    "# Das Dyadsiche Produkt ermöglicht uns das speichern der Trägheit als Tensor in Abhängigkeit zum Bezugssystem\n",
    "pendulum1_inertia_dyadic = inertia(pendulum1_frame, 0, 0, pendulum1_inertia)\n",
    "pendulum1_inertia_dyadic"
   ]
  },
  {
   "cell_type": "code",
   "execution_count": 18,
   "metadata": {},
   "outputs": [
    {
     "data": {
      "text/latex": [
       "$\\displaystyle \\left[\\begin{matrix}0 & 0 & 0\\\\0 & 0 & 0\\\\0 & 0 & I_{p1}\\end{matrix}\\right]$"
      ],
      "text/plain": [
       "Matrix([\n",
       "[0, 0,    0],\n",
       "[0, 0,    0],\n",
       "[0, 0, I_p1]])"
      ]
     },
     "execution_count": 18,
     "metadata": {},
     "output_type": "execute_result"
    }
   ],
   "source": [
    "pendulum1_inertia_dyadic.to_matrix(pendulum1_frame)"
   ]
  },
  {
   "cell_type": "code",
   "execution_count": 19,
   "metadata": {},
   "outputs": [],
   "source": [
    "pendulum1_central_inertia = (pendulum1_inertia_dyadic, pendulum1_mass_center)"
   ]
  },
  {
   "cell_type": "code",
   "execution_count": 20,
   "metadata": {},
   "outputs": [],
   "source": [
    "#A gleich Masseschwerpunkt Wagen\n",
    "cart_mass = symbols('m_cart')\n",
    "cart = Particle('Cart', ankle, cart_mass)  #Particle 1"
   ]
  },
  {
   "cell_type": "code",
   "execution_count": 21,
   "metadata": {},
   "outputs": [],
   "source": [
    "# Eine komplette Beschreibung des Rigid Bodys besteht aus: Massenschwerpunkt, Bezugssystem, Masse und Trägheit\n",
    "pendulum1 = RigidBody('Pendulum 1', pendulum1_mass_center, pendulum1_frame,\n",
    "                      pendulum1_mass, pendulum1_central_inertia)"
   ]
  },
  {
   "cell_type": "markdown",
   "metadata": {},
   "source": [
    "# 3. Kinetik (extern aufgeprägte Kräfte)"
   ]
  },
  {
   "cell_type": "code",
   "execution_count": 22,
   "metadata": {},
   "outputs": [],
   "source": [
    "g = symbols('g')"
   ]
  },
  {
   "cell_type": "code",
   "execution_count": 23,
   "metadata": {},
   "outputs": [
    {
     "data": {
      "text/latex": [
       "$\\displaystyle -  g m_{1}\\mathbf{\\hat{i}_y}$"
      ],
      "text/plain": [
       "- g*m_1*I.y"
      ]
     },
     "execution_count": 23,
     "metadata": {},
     "output_type": "execute_result"
    }
   ],
   "source": [
    "pendulum1_grav_force_vector = -pendulum1_mass * g * inertial_frame.y\n",
    "pendulum1_grav_force_vector"
   ]
  },
  {
   "cell_type": "code",
   "execution_count": 24,
   "metadata": {},
   "outputs": [],
   "source": [
    "# Die Gravitationskraft legen wir immer mit -y Richtung unseres Inertialsystems an\n",
    "pendulum1_grav_force = (pendulum1_mass_center, pendulum1_grav_force_vector)"
   ]
  },
  {
   "cell_type": "code",
   "execution_count": 25,
   "metadata": {},
   "outputs": [
    {
     "data": {
      "text/latex": [
       "$\\displaystyle -  g m_{cart}\\mathbf{\\hat{i}_y}$"
      ],
      "text/plain": [
       "- g*m_cart*I.y"
      ]
     },
     "execution_count": 25,
     "metadata": {},
     "output_type": "execute_result"
    }
   ],
   "source": [
    "#??\n",
    "cart_grav_force_vector = -cart_mass * g * inertial_frame.y\n",
    "cart_grav_force_vector"
   ]
  },
  {
   "cell_type": "code",
   "execution_count": 26,
   "metadata": {},
   "outputs": [],
   "source": [
    "cart_grav_force = (ankle, cart_grav_force_vector)"
   ]
  },
  {
   "cell_type": "code",
   "execution_count": 27,
   "metadata": {},
   "outputs": [
    {
     "data": {
      "text/latex": [
       "$\\displaystyle (T_{a} - T_{p1})\\mathbf{\\hat{a_frame}_z}$"
      ],
      "text/plain": [
       "(T_a - T_p1)*A_frame.z"
      ]
     },
     "execution_count": 27,
     "metadata": {},
     "output_type": "execute_result"
    }
   ],
   "source": [
    "# Zusätzlich könnten wir an unserem Rotations-FHG der Gelenke auch ein Moment aufprägen\n",
    "ankle_torque, p1_torque = dynamicsymbols('T_a, T_p1')\n",
    "pendulum1_torque_vector = ankle_torque * cart_frame.z - p1_torque * cart_frame.z\n",
    "pendulum1_torque = (pendulum1_frame, pendulum1_torque_vector)\n",
    "pendulum1_torque_vector"
   ]
  },
  {
   "cell_type": "markdown",
   "metadata": {},
   "source": [
    "# 4. Aufstellen der Bewegungsgleichungen"
   ]
  },
  {
   "cell_type": "code",
   "execution_count": 28,
   "metadata": {},
   "outputs": [
    {
     "data": {
      "text/latex": [
       "$\\displaystyle \\left[ v_{cart} - \\dot{q}_{0}, \\  \\omega_{1} - \\dot{\\theta}_{1}\\right]$"
      ],
      "text/plain": [
       "[v_cart - q0', omega1 - theta1']"
      ]
     },
     "execution_count": 28,
     "metadata": {},
     "output_type": "execute_result"
    }
   ],
   "source": [
    "positions = [x_dist, theta1]\n",
    "#angles = [theta1]\n",
    "\n",
    "#speeds = [omega1]\n",
    "speeds = [cart_vel, omega1]\n",
    "# Wir hatten dies bereits im Kapitel 1 - Kinematik definiert\n",
    "kinematical_differential_equations"
   ]
  },
  {
   "cell_type": "code",
   "execution_count": 29,
   "metadata": {},
   "outputs": [
    {
     "data": {
      "text/plain": [
       "[(A, - g*m_cart*I.y), (P_m1, - g*m_1*I.y), (B, (T_a(t) - T_p1(t))*A_frame.z)]"
      ]
     },
     "execution_count": 29,
     "metadata": {},
     "output_type": "execute_result"
    }
   ],
   "source": [
    "# Zusammentragen aller von außen aufgeprägten Kräfte\n",
    "loads = [cart_grav_force,\n",
    "         pendulum1_grav_force,\n",
    "         pendulum1_torque]\n",
    "loads"
   ]
  },
  {
   "cell_type": "code",
   "execution_count": 30,
   "metadata": {},
   "outputs": [
    {
     "data": {
      "text/plain": [
       "[Cart, Pendulum 1]"
      ]
     },
     "execution_count": 30,
     "metadata": {},
     "output_type": "execute_result"
    }
   ],
   "source": [
    "# Wir erinnern uns an die angelegten Starrkörper\n",
    "bodies = [cart, \n",
    "          pendulum1]\n",
    "bodies"
   ]
  },
  {
   "cell_type": "markdown",
   "metadata": {},
   "source": [
    "<p>Die Formulierung der Bewegungsgleichungen nach Kane sieht der bekannten Form nach Newton Euler sehr ähnlich:</p>\n",
    "<p>Kanes Formulierung: $F_r + F_r^* = 0$</p>\n",
    "<p>Newton Euler Formulierung: ${F} = {m}{a} \\hspace{1cm} {T} = {I}{\\alpha}$</p>"
   ]
  },
  {
   "cell_type": "code",
   "execution_count": 31,
   "metadata": {},
   "outputs": [],
   "source": [
    "#kane = KanesMethod(inertial_frame, angles, speeds, kinematical_differential_equations)\n",
    "kane = KanesMethod(inertial_frame, positions, speeds, kinematical_differential_equations)"
   ]
  },
  {
   "cell_type": "code",
   "execution_count": 32,
   "metadata": {},
   "outputs": [],
   "source": [
    "fr, frstar = kane.kanes_equations(bodies, loads)"
   ]
  },
  {
   "cell_type": "code",
   "execution_count": 33,
   "metadata": {},
   "outputs": [
    {
     "data": {
      "text/latex": [
       "$\\displaystyle \\left[\\begin{matrix}0\\\\g l_{m1} m_{1} \\sin{\\left(\\theta_{1} \\right)} + T_{a} - T_{p1}\\end{matrix}\\right]$"
      ],
      "text/plain": [
       "Matrix([\n",
       "[                                  0],\n",
       "[g*l_m1*m_1*sin(theta1) + T_a - T_p1]])"
      ]
     },
     "execution_count": 33,
     "metadata": {},
     "output_type": "execute_result"
    }
   ],
   "source": [
    "fr"
   ]
  },
  {
   "cell_type": "code",
   "execution_count": 34,
   "metadata": {},
   "outputs": [
    {
     "data": {
      "text/latex": [
       "$\\displaystyle \\left[\\begin{matrix}- l_{m1} m_{1} \\omega_{1}^{2} \\sin{\\left(\\theta_{1} \\right)} + l_{m1} m_{1} \\cos{\\left(\\theta_{1} \\right)} \\dot{\\omega}_{1} - \\left(m_{1} + m_{cart}\\right) \\dot{v}_{cart}\\\\l_{m1} m_{1} \\cos{\\left(\\theta_{1} \\right)} \\dot{v}_{cart} - \\left(I_{p1} + l_{m1}^{2} m_{1}\\right) \\dot{\\omega}_{1}\\end{matrix}\\right]$"
      ],
      "text/plain": [
       "Matrix([\n",
       "[-l_m1*m_1*omega1**2*sin(theta1) + l_m1*m_1*cos(theta1)*omega1' - (m_1 + m_cart)*v_cart'],\n",
       "[                            l_m1*m_1*cos(theta1)*v_cart' - (I_p1 + l_m1**2*m_1)*omega1']])"
      ]
     },
     "execution_count": 34,
     "metadata": {},
     "output_type": "execute_result"
    }
   ],
   "source": [
    "frstar"
   ]
  },
  {
   "cell_type": "code",
   "execution_count": 35,
   "metadata": {},
   "outputs": [
    {
     "data": {
      "text/latex": [
       "$\\displaystyle \\left[\\begin{matrix}- l_{m1} m_{1} \\omega_{1}^{2} \\sin{\\left(\\theta_{1} \\right)} + l_{m1} m_{1} \\cos{\\left(\\theta_{1} \\right)} \\dot{\\omega}_{1} - \\left(m_{1} + m_{cart}\\right) \\dot{v}_{cart}\\\\g l_{m1} m_{1} \\sin{\\left(\\theta_{1} \\right)} + l_{m1} m_{1} \\cos{\\left(\\theta_{1} \\right)} \\dot{v}_{cart} - \\left(I_{p1} + l_{m1}^{2} m_{1}\\right) \\dot{\\omega}_{1} + T_{a} - T_{p1}\\end{matrix}\\right]$"
      ],
      "text/plain": [
       "Matrix([\n",
       "[          -l_m1*m_1*omega1**2*sin(theta1) + l_m1*m_1*cos(theta1)*omega1' - (m_1 + m_cart)*v_cart'],\n",
       "[g*l_m1*m_1*sin(theta1) + l_m1*m_1*cos(theta1)*v_cart' - (I_p1 + l_m1**2*m_1)*omega1' + T_a - T_p1]])"
      ]
     },
     "execution_count": 35,
     "metadata": {},
     "output_type": "execute_result"
    }
   ],
   "source": [
    "trigsimp(fr + frstar)"
   ]
  },
  {
   "cell_type": "code",
   "execution_count": 36,
   "metadata": {},
   "outputs": [
    {
     "data": {
      "text/latex": [
       "$\\displaystyle \\left[\\begin{matrix}1 & 0 & 0 & 0\\\\0 & 1 & 0 & 0\\\\0 & 0 & m_{1} + m_{cart} & - l_{m1} m_{1} \\cos{\\left(\\theta_{1} \\right)}\\\\0 & 0 & - l_{m1} m_{1} \\cos{\\left(\\theta_{1} \\right)} & I_{p1} + l_{m1}^{2} m_{1}\\end{matrix}\\right]$"
      ],
      "text/plain": [
       "Matrix([\n",
       "[1, 0,                     0,                     0],\n",
       "[0, 1,                     0,                     0],\n",
       "[0, 0,          m_1 + m_cart, -l_m1*m_1*cos(theta1)],\n",
       "[0, 0, -l_m1*m_1*cos(theta1),    I_p1 + l_m1**2*m_1]])"
      ]
     },
     "execution_count": 36,
     "metadata": {},
     "output_type": "execute_result"
    }
   ],
   "source": [
    "mass_matrix = trigsimp(kane.mass_matrix_full)\n",
    "mass_matrix"
   ]
  },
  {
   "cell_type": "code",
   "execution_count": 37,
   "metadata": {},
   "outputs": [
    {
     "data": {
      "text/latex": [
       "$\\displaystyle \\left[\\begin{matrix}v_{cart}\\\\\\omega_{1}\\\\- l_{m1} m_{1} \\omega_{1}^{2} \\sin{\\left(\\theta_{1} \\right)}\\\\g l_{m1} m_{1} \\sin{\\left(\\theta_{1} \\right)} + T_{a} - T_{p1}\\end{matrix}\\right]$"
      ],
      "text/plain": [
       "Matrix([\n",
       "[                             v_cart],\n",
       "[                             omega1],\n",
       "[    -l_m1*m_1*omega1**2*sin(theta1)],\n",
       "[g*l_m1*m_1*sin(theta1) + T_a - T_p1]])"
      ]
     },
     "execution_count": 37,
     "metadata": {},
     "output_type": "execute_result"
    }
   ],
   "source": [
    "forcing_vector = trigsimp(kane.forcing_full)\n",
    "forcing_vector"
   ]
  },
  {
   "cell_type": "markdown",
   "metadata": {},
   "source": [
    "### Damit haben wir alle Dinge beisammen:\n",
    "<p>- Bezugssysteme</p>\n",
    "<p>- Gelenkpunkte + Zwangsbedingungen</p>\n",
    "<p>- Massepunkte</p>\n",
    "<p>- Massenträgheit</p>\n",
    "<p>- Kinetik (externe Kräfte)</p>\n",
    "<p>- Formulierung der Bewegungsgleichungen</p>\n",
    "<p>- Umformen für die Simulation in Massenabhängikeitsmatrix und Kraftabhängigkeitsmatrix als DGL 1.Ordnung $M(x,t)\\dot x = f(x,t)$ (x=statevector)</p>"
   ]
  },
  {
   "cell_type": "markdown",
   "metadata": {},
   "source": [
    "# 5. Lösen der Bewegungsgleichung"
   ]
  },
  {
   "cell_type": "code",
   "execution_count": 38,
   "metadata": {},
   "outputs": [
    {
     "name": "stderr",
     "output_type": "stream",
     "text": [
      "C:\\Users\\lenna\\anaconda3\\lib\\site-packages\\sympy\\printing\\ccode.py:8: SymPyDeprecationWarning: \n",
      "\n",
      "importing from sympy.printing.ccode has been deprecated since SymPy\n",
      "1.7. Use Import from sympy.printing.c instead. See\n",
      "https://github.com/sympy/sympy/issues/20256 for more info.\n",
      "\n",
      "  SymPyDeprecationWarning(\n"
     ]
    }
   ],
   "source": [
    "from numpy import deg2rad, rad2deg, array, zeros, linspace\n",
    "from scipy.integrate import odeint\n",
    "from pydy.codegen.ode_function_generators import generate_ode_function\n",
    "from matplotlib.pyplot import plot, legend, xlabel, ylabel, rcParams\n",
    "from sympy.physics.vector import init_vprinting, vlatex\n",
    "%matplotlib inline\n",
    "rcParams['figure.figsize'] = (14.0, 6.0)"
   ]
  },
  {
   "cell_type": "code",
   "execution_count": 39,
   "metadata": {},
   "outputs": [
    {
     "data": {
      "text/latex": [
       "$\\displaystyle \\left[ m_{cart}, \\  l_{1}, \\  l_{m1}, \\  m_{1}, \\  I_{p1}, \\  g\\right]$"
      ],
      "text/plain": [
       "[m_cart, l_1, l_m1, m_1, I_p1, g]"
      ]
     },
     "execution_count": 39,
     "metadata": {},
     "output_type": "execute_result"
    }
   ],
   "source": [
    "constants = [cart_mass,\n",
    "             pendulum1_length,\n",
    "             pendulum1_mass_length,\n",
    "             pendulum1_mass,\n",
    "             pendulum1_inertia,\n",
    "             g]\n",
    "constants"
   ]
  },
  {
   "cell_type": "code",
   "execution_count": 40,
   "metadata": {},
   "outputs": [],
   "source": [
    "specified = [ankle_torque, p1_torque]"
   ]
  },
  {
   "cell_type": "code",
   "execution_count": 41,
   "metadata": {},
   "outputs": [],
   "source": [
    "# wir lassen uns die Gleichung nach x' umstellen\n",
    "#https://pydy.readthedocs.io/en/v0.3.1/system.html\n",
    "right_hand_side = generate_ode_function(forcing_vector, positions, #angles,\n",
    "                                        speeds, constants,\n",
    "                                        mass_matrix=mass_matrix,\n",
    "                                        specifieds=specified)"
   ]
  },
  {
   "cell_type": "code",
   "execution_count": 42,
   "metadata": {},
   "outputs": [
    {
     "data": {
      "text/plain": [
       "<function pydy.codegen.ode_function_generators.ODEFunctionGenerator._create_rhs_function.<locals>.rhs(*args)>"
      ]
     },
     "execution_count": 42,
     "metadata": {},
     "output_type": "execute_result"
    }
   ],
   "source": [
    "right_hand_side\n"
   ]
  },
  {
   "cell_type": "code",
   "execution_count": 43,
   "metadata": {},
   "outputs": [
    {
     "name": "stdout",
     "output_type": "stream",
     "text": [
      "Help on function rhs in module pydy.codegen.ode_function_generators:\n",
      "\n",
      "rhs(*args)\n",
      "    Returns the derivatives of the states, i.e. numerically evaluates the right\n",
      "    hand side of the first order differential equation.\n",
      "    \n",
      "    x' = f(x, t, r, p)\n",
      "    \n",
      "    Parameters\n",
      "    ==========\n",
      "    x : ndarray, shape(4,)\n",
      "        The state vector is ordered as such:\n",
      "            - q0(t)\n",
      "            - theta1(t)\n",
      "            - v_cart(t)\n",
      "            - omega1(t)\n",
      "    t : float\n",
      "        The current time.\n",
      "    r : dictionary; ndarray, shape(2,); function\n",
      "    \n",
      "        There are three options for this argument. (1) is more flexible but\n",
      "        (2) and (3) are much more efficient.\n",
      "    \n",
      "        (1) A dictionary that maps the specified functions of time to floats,\n",
      "        ndarrays, or functions that produce ndarrays. The keys can be a single\n",
      "        specified symbolic function of time or a tuple of symbols. The total\n",
      "        number of symbols must be equal to 2. If the value is a\n",
      "        function it must be of the form g(x, t), where x is the current state\n",
      "        vector ndarray and t is the current time float and it must return an\n",
      "        ndarray of the correct shape. For example::\n",
      "    \n",
      "          r = {a: 1.0,\n",
      "               (d, b) : np.array([1.0, 2.0]),\n",
      "               (e, f) : lambda x, t: np.array(x[0], x[1]),\n",
      "               c: lambda x, t: np.array(x[2])}\n",
      "    \n",
      "        (2) A ndarray with the specified values in the correct order and of the\n",
      "        correct shape.\n",
      "    \n",
      "        (3) A function that must be of the form g(x, t), where x is the current\n",
      "        state vector and t is the current time and it must return an ndarray of\n",
      "        the correct shape.\n",
      "    \n",
      "        The specified inputs are, in order:\n",
      "            - T_a(t)\n",
      "            - T_p1(t)\n",
      "    p : dictionary len(6) or ndarray shape(6,)\n",
      "        Either a dictionary that maps the constants symbols to their numerical\n",
      "        values or an array with the constants in the following order:\n",
      "            - m_cart\n",
      "            - l_1\n",
      "            - l_m1\n",
      "            - m_1\n",
      "            - I_p1\n",
      "            - g\n",
      "    \n",
      "    Returns\n",
      "    =======\n",
      "    dx : ndarray, shape(4,)\n",
      "        The derivative of the state vector.\n",
      "\n"
     ]
    }
   ],
   "source": [
    "help(right_hand_side)"
   ]
  },
  {
   "cell_type": "code",
   "execution_count": 44,
   "metadata": {},
   "outputs": [
    {
     "data": {
      "text/plain": [
       "array([0.        , 0.17453293, 0.1       , 0.        ])"
      ]
     },
     "execution_count": 44,
     "metadata": {},
     "output_type": "execute_result"
    }
   ],
   "source": [
    "import numpy as np\n",
    "# Festlegen der Initialbedingungen für die numerische Lösung der DGL\n",
    "\n",
    "# Zu Beginn setzen wir beide Geschwindigkeiten auf 0\n",
    "# und die beiden Winkel versetzen wir nach belieben\n",
    "#x0 = zeros(2)\n",
    "x0 = zeros(4)\n",
    "x0[1] = deg2rad(10)\n",
    "x0[2] = 0.1\n",
    "#x0[0] = deg2rad(120)\n",
    "#x0[1] = deg2rad(120)\n",
    "\n",
    "x0"
   ]
  },
  {
   "cell_type": "code",
   "execution_count": 45,
   "metadata": {},
   "outputs": [],
   "source": [
    "# Wir setzen nun realistische Werte für unsere Konstanten an\n",
    "numerical_constants = array([2.0,  #cart_mass [kg]\n",
    "                             0.8,  # pendulum1_length [m]\n",
    "                             0.4,  # pendulum1_com_length [m]\n",
    "                             4.0,  # pendulum1_mass [kg]\n",
    "                             1.0,  # pendulum1_inertia [kg*m^2]\n",
    "                             9.81],  # acceleration due to gravity [m/s^2]\n",
    "                            )"
   ]
  },
  {
   "cell_type": "code",
   "execution_count": 46,
   "metadata": {},
   "outputs": [],
   "source": [
    "# Wir setzen auch die Gelenkmomente initial auf 0\n",
    "numerical_specified = array([0, 0])"
   ]
  },
  {
   "cell_type": "markdown",
   "metadata": {},
   "source": [
    "<p>Mit den bekannten Anfangsbedingungen wollen wir über unseren gewünschten Beobachtungszeitraum numerisch integrieren.</p>\n",
    "<p>Dazu geben wir dem Solver (z. B. Runge-Kutta) unsere Anfangsbedingungen, die Gleichung für x' und den Zeitraum sowie die Schrittweite t.</p>"
   ]
  },
  {
   "cell_type": "code",
   "execution_count": 47,
   "metadata": {},
   "outputs": [],
   "source": [
    "frames_per_sec = 30\n",
    "final_time = 20\n",
    "t = linspace(0, final_time, final_time * frames_per_sec)"
   ]
  },
  {
   "cell_type": "code",
   "execution_count": 48,
   "metadata": {},
   "outputs": [],
   "source": [
    "#scipy.integrate.odeint(func, y0, t, args=(), Dfun=None, col_deriv=0, full_output=0, ml=None, mu=None, rtol=None, atol=None, tcrit=None, h0=0.0, hmax=0.0, hmin=0.0, ixpr=0, mxstep=0, mxhnil=0, mxordn=12, mxords=5, printmessg=0, tfirst=False)\n",
    "#https://docs.scipy.org/doc/scipy/reference/generated/scipy.integrate.odeint.html\n",
    "#Solves the initial value problem for stiff or non-stiff systems of first order ode-s\n",
    "y = odeint(right_hand_side, x0, t, args=(numerical_specified, numerical_constants))"
   ]
  },
  {
   "cell_type": "code",
   "execution_count": null,
   "metadata": {},
   "outputs": [],
   "source": []
  },
  {
   "cell_type": "code",
   "execution_count": 49,
   "metadata": {},
   "outputs": [
    {
     "data": {
      "text/latex": [
       "$\\displaystyle \\left( 600, \\  4\\right)$"
      ],
      "text/plain": [
       "(600, 4)"
      ]
     },
     "execution_count": 49,
     "metadata": {},
     "output_type": "execute_result"
    }
   ],
   "source": [
    "y.shape"
   ]
  },
  {
   "cell_type": "markdown",
   "metadata": {},
   "source": [
    "# 6. Visualisierung"
   ]
  },
  {
   "cell_type": "code",
   "execution_count": 50,
   "metadata": {},
   "outputs": [
    {
     "data": {
      "text/plain": [
       "[<matplotlib.lines.Line2D at 0x24dcb759430>,\n",
       " <matplotlib.lines.Line2D at 0x24dcb7594f0>]"
      ]
     },
     "execution_count": 50,
     "metadata": {},
     "output_type": "execute_result"
    },
    {
     "data": {
      "image/png": "[encoded data removed]",
      "text/plain": [
       "<Figure size 1008x432 with 1 Axes>"
      ]
     },
     "metadata": {
      "needs_background": "light"
     },
     "output_type": "display_data"
    }
   ],
   "source": [
    "plot(t, y[:,0], t, y[:,1])  #Distanz zw. O und A; q0"
   ]
  },
  {
   "cell_type": "code",
   "execution_count": 51,
   "metadata": {
    "scrolled": false
   },
   "outputs": [
    {
     "data": {
      "text/plain": [
       "[<matplotlib.lines.Line2D at 0x24dcb7b3790>]"
      ]
     },
     "execution_count": 51,
     "metadata": {},
     "output_type": "execute_result"
    },
    {
     "data": {
      "image/png": "[encoded data removed]",
      "text/plain": [
       "<Figure size 1008x432 with 1 Axes>"
      ]
     },
     "metadata": {
      "needs_background": "light"
     },
     "output_type": "display_data"
    }
   ],
   "source": [
    "plot(t, y[:,1])  #theta1"
   ]
  },
  {
   "cell_type": "code",
   "execution_count": 52,
   "metadata": {},
   "outputs": [
    {
     "data": {
      "text/plain": [
       "[<matplotlib.lines.Line2D at 0x24dcb947c70>]"
      ]
     },
     "execution_count": 52,
     "metadata": {},
     "output_type": "execute_result"
    },
    {
     "data": {
      "image/png": "[encoded data removed]",
      "text/plain": [
       "<Figure size 1008x432 with 1 Axes>"
      ]
     },
     "metadata": {
      "needs_background": "light"
     },
     "output_type": "display_data"
    }
   ],
   "source": [
    "plot(t, y[:,2]) "
   ]
  },
  {
   "cell_type": "code",
   "execution_count": 53,
   "metadata": {
    "scrolled": false
   },
   "outputs": [
    {
     "data": {
      "text/plain": [
       "<matplotlib.legend.Legend at 0x24dcbaeea30>"
      ]
     },
     "execution_count": 53,
     "metadata": {},
     "output_type": "execute_result"
    },
    {
     "data": {
      "image/png": "[encoded data removed]",
      "text/plain": [
       "<Figure size 1008x432 with 1 Axes>"
      ]
     },
     "metadata": {
      "needs_background": "light"
     },
     "output_type": "display_data"
    }
   ],
   "source": [
    "# Darstellung der zwei Winkel über die Simulationsdauer\n",
    "plot(t, rad2deg(y[:, :1]))\n",
    "xlabel('Zeit [s]')\n",
    "ylabel('Winkel [deg]')\n",
    "legend([\"${}$\".format(vlatex(c)) for c in positions])"
   ]
  },
  {
   "cell_type": "code",
   "execution_count": 54,
   "metadata": {},
   "outputs": [
    {
     "data": {
      "text/plain": [
       "<matplotlib.legend.Legend at 0x24dcbb94d90>"
      ]
     },
     "execution_count": 54,
     "metadata": {},
     "output_type": "execute_result"
    },
    {
     "data": {
      "image/png": "[encoded data removed]",
      "text/plain": [
       "<Figure size 1008x432 with 1 Axes>"
      ]
     },
     "metadata": {
      "needs_background": "light"
     },
     "output_type": "display_data"
    }
   ],
   "source": [
    "# Darstellung der beiden Geschwindigkeiten über die Simulationsdauer\n",
    "plot(t, rad2deg(y[:, 1:]), color='r') # siehe y.shape\n",
    "xlabel('Zeit [s]')\n",
    "ylabel('Winkelgeschw. [deg/s]')\n",
    "legend([\"${}$\".format(vlatex(s)) for s in speeds])"
   ]
  },
  {
   "cell_type": "code",
   "execution_count": 56,
   "metadata": {},
   "outputs": [
    {
     "name": "stdout",
     "output_type": "stream",
     "text": [
      "C:\\Users\\lenna\\Desktop\\Lennart\\Uni\\SDS\\InvertedPendulum\\MKS\\pydy-resources\\pydy-resources\n",
      "Serving HTTP on 127.0.0.1 port 8001 ...\n",
      "To view visualization, open:\n",
      "\n",
      "http://localhost:8001/index.html?load=2022-01-25_10-42-39_scene_desc.json\n",
      "Press Ctrl+C to stop server...\n"
     ]
    },
    {
     "name": "stderr",
     "output_type": "stream",
     "text": [
      "127.0.0.1 - - [25/Jan/2022 10:42:42] \"GET /index.html?load=2022-01-25_10-42-39_scene_desc.json HTTP/1.1\" 200 -\n",
      "127.0.0.1 - - [25/Jan/2022 10:42:42] \"GET /css/bootstrap.min.css HTTP/1.1\" 200 -\n",
      "127.0.0.1 - - [25/Jan/2022 10:42:42] \"GET /css/slider.css HTTP/1.1\" 200 -\n",
      "127.0.0.1 - - [25/Jan/2022 10:42:42] \"GET /css/main.css HTTP/1.1\" 200 -\n",
      "127.0.0.1 - - [25/Jan/2022 10:42:42] \"GET /css/codemirror/codemirror.css HTTP/1.1\" 200 -\n",
      "127.0.0.1 - - [25/Jan/2022 10:42:42] \"GET /css/codemirror/blackboard.css HTTP/1.1\" 200 -\n",
      "127.0.0.1 - - [25/Jan/2022 10:42:42] \"GET /js/external/jquery/jquery.min.js HTTP/1.1\" 200 -\n",
      "127.0.0.1 - - [25/Jan/2022 10:42:42] \"GET /js/external/jquery/jquery-ui.js HTTP/1.1\" 200 -\n",
      "127.0.0.1 - - [25/Jan/2022 10:42:42] \"GET /js/external/bootstrap/bootstrap.min.js HTTP/1.1\" 200 -\n",
      "127.0.0.1 - - [25/Jan/2022 10:42:42] \"GET /js/external/codemirror/codemirror.js HTTP/1.1\" 200 -\n",
      "127.0.0.1 - - [25/Jan/2022 10:42:42] \"GET /js/external/codemirror/javascript-mode.js HTTP/1.1\" 200 -\n",
      "127.0.0.1 - - [25/Jan/2022 10:42:42] \"GET /js/external/three/three.min.js HTTP/1.1\" 200 -\n",
      "127.0.0.1 - - [25/Jan/2022 10:42:42] \"GET /js/external/three/TrackballControls.js HTTP/1.1\" 200 -\n",
      "127.0.0.1 - - [25/Jan/2022 10:42:42] \"GET /js/external/utils/bootstrap-slider.js HTTP/1.1\" 200 -\n",
      "127.0.0.1 - - [25/Jan/2022 10:42:43] \"GET /js/external/utils/modernizr-2.0.6.js HTTP/1.1\" 200 -\n",
      "127.0.0.1 - - [25/Jan/2022 10:42:43] \"GET /js/external/utils/prototype.js HTTP/1.1\" 200 -\n",
      "127.0.0.1 - - [25/Jan/2022 10:42:43] \"GET /js/dyviz/dv.js HTTP/1.1\" 200 -\n",
      "127.0.0.1 - - [25/Jan/2022 10:42:43] \"GET /js/dyviz/scene.js HTTP/1.1\" 200 -\n",
      "127.0.0.1 - - [25/Jan/2022 10:42:43] \"GET /js/dyviz/parser.js HTTP/1.1\" 200 -\n",
      "127.0.0.1 - - [25/Jan/2022 10:42:43] \"GET /js/dyviz/param_editor.js HTTP/1.1\" 200 -\n",
      "127.0.0.1 - - [25/Jan/2022 10:42:43] \"GET /js/dyviz/materials.js HTTP/1.1\" 200 -\n",
      "127.0.0.1 - - [25/Jan/2022 10:42:43] code 404, message File not found\n",
      "127.0.0.1 - - [25/Jan/2022 10:42:43] \"GET /fonts/glyphicons-halflings-regular.woff2 HTTP/1.1\" 404 -\n",
      "127.0.0.1 - - [25/Jan/2022 10:42:43] \"GET /fonts/glyphicons-halflings-regular.woff HTTP/1.1\" 200 -\n",
      "127.0.0.1 - - [25/Jan/2022 10:42:43] \"GET /js/dyviz/main.js HTTP/1.1\" 200 -\n",
      "127.0.0.1 - - [25/Jan/2022 10:42:44] \"GET /2022-01-25_10-42-39_scene_desc.json HTTP/1.1\" 200 -\n",
      "127.0.0.1 - - [25/Jan/2022 10:42:44] code 404, message File not found\n",
      "127.0.0.1 - - [25/Jan/2022 10:42:44] \"GET /favicon.ico HTTP/1.1\" 404 -\n",
      "127.0.0.1 - - [25/Jan/2022 10:42:44] \"GET /2022-01-25_10-42-39_simulation_data.json HTTP/1.1\" 200 -\n"
     ]
    }
   ],
   "source": [
    "from pydy.viz.shapes import Cylinder, Sphere, Cube\n",
    "import pydy.viz\n",
    "from pydy.viz.visualization_frame import VisualizationFrame\n",
    "from pydy.viz.scene import Scene\n",
    "\n",
    "# Für die Punkte legen wir schwarze Kugeln an\n",
    "ankle_shape = Sphere(color='black', radius=0.1)\n",
    "p1_shape = Sphere(color='black', radius=0.1)\n",
    "#\n",
    "origin_shape = Sphere(color='yellow', radius=0.1) \n",
    "\n",
    "\n",
    "# setzen die erzeugten Geometrien an die Punkte\n",
    "origin_vis_frame = VisualizationFrame(inertial_frame, origin, origin_shape)\n",
    "ankle_viz_frame = VisualizationFrame(inertial_frame, ankle, ankle_shape)\n",
    "p1_viz_frame = VisualizationFrame(inertial_frame, p1, p1_shape)\n",
    "\n",
    "# umformen der Konstanten in für das Programm leserliches Format\n",
    "constants_dict = dict(zip(constants, numerical_constants))\n",
    "\n",
    "# Setzen der Geometrie für die Starrkörper\n",
    "cart_shape = Cube(length=0.3, color='green')\n",
    "cart_vis_frame = VisualizationFrame('Cart', cart_frame, ankle, cart_shape)\n",
    "\n",
    "pendulum1_center = Point('p1_c')\n",
    "pendulum1_center.set_pos(ankle, pendulum1_length / 2 * pendulum1_frame.y)\n",
    "\n",
    "pendulum1_shape = Cylinder(radius=0.08, length=constants_dict[pendulum1_length], color='blue')\n",
    "pendulum1_viz_frame = VisualizationFrame('Pendulum 1', pendulum1_frame, pendulum1_center, pendulum1_shape)\n",
    "\n",
    "# Erstellen der Szene mit dem Inertialsystem/Ankerpunkt in der Mitte\n",
    "scene = Scene(inertial_frame, origin)\n",
    "\n",
    "# Laden der Starrkörper in die Szene\n",
    "scene.visualization_frames = [ankle_viz_frame,\n",
    "                              p1_viz_frame,\n",
    "                              cart_vis_frame,\n",
    "                              pendulum1_viz_frame,\n",
    "                              origin_vis_frame\n",
    "                             ]\n",
    "\n",
    "# Darstellung und einfügen der Ergebnisse\n",
    "scene.states_symbols = positions + speeds\n",
    "scene.constants = constants_dict\n",
    "scene.states_trajectories = y\n",
    "\n",
    "# öffnen der Simulation\n",
    "scene.display()"
   ]
  },
  {
   "cell_type": "code",
   "execution_count": null,
   "metadata": {},
   "outputs": [],
   "source": []
  },
  {
   "cell_type": "code",
   "execution_count": null,
   "metadata": {},
   "outputs": [],
   "source": []
  },
  {
   "cell_type": "code",
   "execution_count": null,
   "metadata": {},
   "outputs": [],
   "source": []
  }
 ],
 "metadata": {
  "kernelspec": {
   "display_name": "Python 3",
   "language": "python",
   "name": "python3"
  },
  "language_info": {
   "codemirror_mode": {
    "name": "ipython",
    "version": 3
   },
   "file_extension": ".py",
   "mimetype": "text/x-python",
   "name": "python",
   "nbconvert_exporter": "python",
   "pygments_lexer": "ipython3",
   "version": "3.8.8"
  }
 },
 "nbformat": 4,
 "nbformat_minor": 4
}
