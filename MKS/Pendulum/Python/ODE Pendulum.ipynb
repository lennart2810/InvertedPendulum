{
 "cells": [
  {
   "cell_type": "markdown",
   "id": "edda77eb",
   "metadata": {},
   "source": [
    "# DGL des mathematischen Pendels nach Legrange"
   ]
  },
  {
   "cell_type": "code",
   "execution_count": null,
   "id": "ae63f8f4",
   "metadata": {},
   "outputs": [],
   "source": [
    "import sympy\n",
    "from sympy import Symbol, symbols, Function, cos, sin, diff, simplify, Eq\n",
    "sympy.init_printing()"
   ]
  },
  {
   "cell_type": "markdown",
   "id": "fd6ad2ea",
   "metadata": {},
   "source": [
    "Bild von Pendel einfügen"
   ]
  },
  {
   "cell_type": "markdown",
   "id": "b8747aff",
   "metadata": {},
   "source": [
    "## Zeit $t$"
   ]
  },
  {
   "cell_type": "code",
   "execution_count": 33,
   "id": "d34506a8",
   "metadata": {},
   "outputs": [
    {
     "data": {
      "image/png": "[encoded data removed]",
      "text/latex": [
       "$\\displaystyle t$"
      ],
      "text/plain": [
       "t"
      ]
     },
     "metadata": {},
     "output_type": "display_data"
    }
   ],
   "source": [
    "t = Symbol('t')\n",
    "display(t)"
   ]
  },
  {
   "cell_type": "markdown",
   "id": "3f07b2f6",
   "metadata": {},
   "source": [
    "## Auslenkwinkel $\\theta(t)$ und Winkelgeschwindigkeit $\\dot\\theta(t)$"
   ]
  },
  {
   "cell_type": "code",
   "execution_count": 34,
   "id": "1b7a6ee8",
   "metadata": {},
   "outputs": [
    {
     "data": {
      "image/png": "[encoded data removed]",
      "text/latex": [
       "$\\displaystyle \\theta{\\left(t \\right)}$"
      ],
      "text/plain": [
       "θ(t)"
      ]
     },
     "metadata": {},
     "output_type": "display_data"
    },
    {
     "data": {
      "image/png": "[encoded data removed]",
      "text/latex": [
       "$\\displaystyle \\frac{d}{d t} \\theta{\\left(t \\right)}$"
      ],
      "text/plain": [
       "d       \n",
       "──(θ(t))\n",
       "dt      "
      ]
     },
     "metadata": {},
     "output_type": "display_data"
    }
   ],
   "source": [
    "theta = Function('theta')(t)\n",
    "theta_d = diff(theta, t)\n",
    "display(theta, theta_d)"
   ]
  },
  {
   "cell_type": "markdown",
   "id": "1deb5238",
   "metadata": {},
   "source": [
    "## Bahngeschwindigkeit $v$\n",
    "$v = l \\cdot \\dot\\theta(t)$"
   ]
  },
  {
   "cell_type": "code",
   "execution_count": 35,
   "id": "fc5dff46",
   "metadata": {},
   "outputs": [
    {
     "data": {
      "image/png": "[encoded data removed]",
      "text/latex": [
       "$\\displaystyle l \\frac{d}{d t} \\theta{\\left(t \\right)}$"
      ],
      "text/plain": [
       "  d       \n",
       "l⋅──(θ(t))\n",
       "  dt      "
      ]
     },
     "metadata": {},
     "output_type": "display_data"
    }
   ],
   "source": [
    "l = Symbol('l') # Pendelläge\n",
    "v = l * theta_d\n",
    "display(v)"
   ]
  },
  {
   "cell_type": "markdown",
   "id": "b559a75e",
   "metadata": {},
   "source": [
    "## Kinetische Energie $T$\n",
    "$T = \\frac{1}{2} \\cdot m \\cdot v^2$\n",
    "\n",
    "$T = \\frac{1}{2} \\cdot m \\cdot l^2 \\cdot \\dot\\theta(t)^2$"
   ]
  },
  {
   "cell_type": "code",
   "execution_count": 36,
   "id": "e24aa8db",
   "metadata": {},
   "outputs": [
    {
     "data": {
      "image/png": "[encoded data removed]",
      "text/latex": [
       "$\\displaystyle 0.5 l^{2} m \\left(\\frac{d}{d t} \\theta{\\left(t \\right)}\\right)^{2}$"
      ],
      "text/plain": [
       "                   2\n",
       "     2   ⎛d       ⎞ \n",
       "0.5⋅l ⋅m⋅⎜──(θ(t))⎟ \n",
       "         ⎝dt      ⎠ "
      ]
     },
     "metadata": {},
     "output_type": "display_data"
    }
   ],
   "source": [
    "m = Symbol('m') # Pendelmasse\n",
    "T = 1/2 * m * v**2\n",
    "display(T)"
   ]
  },
  {
   "cell_type": "markdown",
   "id": "37fa15dd",
   "metadata": {},
   "source": [
    "## Potentielle Energie $V$\n",
    "$V = m \\cdot g \\cdot h$\n",
    "\n",
    "$V = - m \\cdot g \\cdot l \\cdot \\cos(\\theta(t))$"
   ]
  },
  {
   "cell_type": "code",
   "execution_count": 37,
   "id": "5dc72832",
   "metadata": {},
   "outputs": [
    {
     "data": {
      "image/png": "[encoded data removed]",
      "text/latex": [
       "$\\displaystyle - g l m \\cos{\\left(\\theta{\\left(t \\right)} \\right)}$"
      ],
      "text/plain": [
       "-g⋅l⋅m⋅cos(θ(t))"
      ]
     },
     "metadata": {},
     "output_type": "display_data"
    }
   ],
   "source": [
    "g = Symbol('g') # Gravitationskonstante\n",
    "V = m * g * -l * cos(theta)\n",
    "display(V)"
   ]
  },
  {
   "cell_type": "markdown",
   "id": "9698e83f",
   "metadata": {},
   "source": [
    "## Legrange Funktion $L$\n",
    "$L = T - V$\n",
    "\n",
    "$L = \\frac{1}{2} \\cdot m \\cdot l^2 \\cdot \\dot{\\theta}(t)^2 + m \\cdot g \\cdot l \\cdot \\cos(\\theta(t))$"
   ]
  },
  {
   "cell_type": "code",
   "execution_count": 38,
   "id": "c39ae4c5",
   "metadata": {},
   "outputs": [
    {
     "data": {
      "image/png": "[encoded data removed]",
      "text/latex": [
       "$\\displaystyle g l m \\cos{\\left(\\theta{\\left(t \\right)} \\right)} + 0.5 l^{2} m \\left(\\frac{d}{d t} \\theta{\\left(t \\right)}\\right)^{2}$"
      ],
      "text/plain": [
       "                                     2\n",
       "                       2   ⎛d       ⎞ \n",
       "g⋅l⋅m⋅cos(θ(t)) + 0.5⋅l ⋅m⋅⎜──(θ(t))⎟ \n",
       "                           ⎝dt      ⎠ "
      ]
     },
     "metadata": {},
     "output_type": "display_data"
    }
   ],
   "source": [
    "L = T - V\n",
    "display(L)"
   ]
  },
  {
   "cell_type": "markdown",
   "id": "5f2e6407",
   "metadata": {},
   "source": [
    "## Euler-Legrange \n",
    "\n",
    "$\\frac{\\mathrm {d}}{\\mathrm {d}t} {\\partial{L} \\over \\partial {\\dot {\\theta}}} - {\\partial{L} \\over \\partial \\theta} \\\\\n",
    "    = \\frac{\\mathrm {d}}{\\mathrm {d}t} (m \\cdot l^2 \\cdot \\dot{\\theta}(t)) - (-g \\cdot m \\cdot l \\cdot \\sin(\\theta(t))) \\\\\n",
    "    = m \\cdot l^2 \\cdot \\ddot{\\theta}(t) + g \\cdot m \\cdot l \\cdot \\sin(\\theta(t))$"
   ]
  },
  {
   "cell_type": "code",
   "execution_count": 71,
   "id": "7aa7cd49",
   "metadata": {},
   "outputs": [
    {
     "data": {
      "image/png": "[encoded data removed]",
      "text/latex": [
       "$\\displaystyle g l m \\sin{\\left(\\theta{\\left(t \\right)} \\right)} + 1.0 l^{2} m \\frac{d^{2}}{d t^{2}} \\theta{\\left(t \\right)}$"
      ],
      "text/plain": [
       "                             2      \n",
       "                       2    d       \n",
       "g⋅l⋅m⋅sin(θ(t)) + 1.0⋅l ⋅m⋅───(θ(t))\n",
       "                             2      \n",
       "                           dt       "
      ]
     },
     "metadata": {},
     "output_type": "display_data"
    }
   ],
   "source": [
    "LE = diff(diff(L, theta_d),t) - diff(L, theta)\n",
    "display(LE)"
   ]
  },
  {
   "cell_type": "markdown",
   "id": "26ead322",
   "metadata": {},
   "source": [
    "### freies Pendel\n",
    "$\\frac{\\mathrm {d}}{\\mathrm {d}t} {\\partial{L} \\over \\partial {\\dot\\theta}} - {\\partial{L} \\over \\partial \\theta} = 0$\n",
    "\n",
    "$m \\cdot l^2 \\cdot \\ddot{\\theta}(t) + g \\cdot m \\cdot l \\cdot \\sin(\\theta(t)) = 0$\n",
    "\n",
    "# $\\ddot{\\theta}(t) + \\frac{g}{l} \\cdot \\sin(\\theta(t)) = 0$"
   ]
  },
  {
   "cell_type": "code",
   "execution_count": 92,
   "id": "8cf11414",
   "metadata": {},
   "outputs": [
    {
     "data": {
      "image/png": "[encoded data removed]",
      "text/latex": [
       "$\\displaystyle g l m \\sin{\\left(\\theta{\\left(t \\right)} \\right)} + 1.0 l^{2} m \\frac{d^{2}}{d t^{2}} \\theta{\\left(t \\right)} = 0$"
      ],
      "text/plain": [
       "                             2          \n",
       "                       2    d           \n",
       "g⋅l⋅m⋅sin(θ(t)) + 1.0⋅l ⋅m⋅───(θ(t)) = 0\n",
       "                             2          \n",
       "                           dt           "
      ]
     },
     "metadata": {},
     "output_type": "display_data"
    }
   ],
   "source": [
    "LE_0 = Eq(LE, 0)\n",
    "display(LE_0)"
   ]
  },
  {
   "cell_type": "markdown",
   "id": "fe96bab9",
   "metadata": {},
   "source": [
    "### Pendel mit Dämpfung $d$ \n",
    "gerneralisierte Kraft !?\n",
    "\n",
    "$\\frac{\\mathrm {d}}{\\mathrm {d}t} {\\partial{L} \\over \\partial {\\dot\\theta}} - {\\partial{L} \\over \\partial \\theta} = -d \\cdot \\dot\\theta$\n",
    "\n",
    "$ m \\cdot l^2 \\cdot \\ddot{\\theta}(t) + g \\cdot m \\cdot l \\cdot \\sin(\\theta(t)) = -d \\cdot \\dot\\theta(t)$\n",
    "\n",
    "$ \\ddot{\\theta}(t) + \\frac{g}{l} \\cdot \\sin(\\theta(t)) = -\\frac{d}{m \\cdot l^2} \\cdot \\dot\\theta(t)$\n",
    "\n",
    "# $\\ddot{\\theta}(t) + \\frac{d}{m \\cdot l^2} \\cdot \\dot\\theta(t) + \\frac{g}{l} \\cdot \\sin(\\theta(t)) = 0$"
   ]
  },
  {
   "cell_type": "code",
   "execution_count": 82,
   "id": "4343dccb",
   "metadata": {},
   "outputs": [
    {
     "data": {
      "image/png": "[encoded data removed]",
      "text/latex": [
       "$\\displaystyle g l m \\sin{\\left(\\theta{\\left(t \\right)} \\right)} + 1.0 l^{2} m \\frac{d^{2}}{d t^{2}} \\theta{\\left(t \\right)} = - d \\frac{d}{d t} \\theta{\\left(t \\right)}$"
      ],
      "text/plain": [
       "                             2                    \n",
       "                       2    d             d       \n",
       "g⋅l⋅m⋅sin(θ(t)) + 1.0⋅l ⋅m⋅───(θ(t)) = -d⋅──(θ(t))\n",
       "                             2            dt      \n",
       "                           dt                     "
      ]
     },
     "metadata": {},
     "output_type": "display_data"
    }
   ],
   "source": [
    "d = Symbol('d') # Dämpfungskonstante\n",
    "LE_d = Eq(LE, -d * theta_d)\n",
    "display(LE_d)"
   ]
  },
  {
   "cell_type": "markdown",
   "id": "9ba0f73c",
   "metadata": {},
   "source": [
    "###  Pendel mit externem Drehmoment $u$\n",
    "$\\frac{\\mathrm {d}}{\\mathrm {d}t} {\\partial{L} \\over \\partial {\\dot\\theta}} - {\\partial{L} \\over \\partial \\theta} = u$\n",
    "\n",
    "$m \\cdot l^2 \\cdot \\ddot{\\theta}(t) + g \\cdot m \\cdot l \\cdot \\sin(\\theta(t)) = u$\n",
    "\n",
    "# $\\ddot{\\theta}(t) + \\frac{g}{l} \\cdot \\sin(\\theta(t)) = \\frac{u}{m \\cdot l^2}$"
   ]
  },
  {
   "cell_type": "code",
   "execution_count": 85,
   "id": "9f9f25f3",
   "metadata": {},
   "outputs": [
    {
     "data": {
      "image/png": "[encoded data removed]",
      "text/latex": [
       "$\\displaystyle g l m \\sin{\\left(\\theta{\\left(t \\right)} \\right)} + 1.0 l^{2} m \\frac{d^{2}}{d t^{2}} \\theta{\\left(t \\right)} = u$"
      ],
      "text/plain": [
       "                             2          \n",
       "                       2    d           \n",
       "g⋅l⋅m⋅sin(θ(t)) + 1.0⋅l ⋅m⋅───(θ(t)) = u\n",
       "                             2          \n",
       "                           dt           "
      ]
     },
     "metadata": {},
     "output_type": "display_data"
    }
   ],
   "source": [
    "u = Symbol('u') # externes Moment\n",
    "LE_u = Eq(LE, u)\n",
    "display(LE_u)"
   ]
  },
  {
   "cell_type": "code",
   "execution_count": null,
   "id": "614ad998",
   "metadata": {},
   "outputs": [],
   "source": []
  }
 ],
 "metadata": {
  "kernelspec": {
   "display_name": "Python 3",
   "language": "python",
   "name": "python3"
  },
  "language_info": {
   "codemirror_mode": {
    "name": "ipython",
    "version": 3
   },
   "file_extension": ".py",
   "mimetype": "text/x-python",
   "name": "python",
   "nbconvert_exporter": "python",
   "pygments_lexer": "ipython3",
   "version": "3.8.8"
  }
 },
 "nbformat": 4,
 "nbformat_minor": 5
}
