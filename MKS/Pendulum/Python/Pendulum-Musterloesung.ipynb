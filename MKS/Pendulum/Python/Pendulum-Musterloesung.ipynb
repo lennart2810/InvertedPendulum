{
 "cells": [
  {
   "cell_type": "markdown",
   "metadata": {},
   "source": [
    "### Importieren benötigter Bibliotheken"
   ]
  },
  {
   "cell_type": "code",
   "execution_count": null,
   "metadata": {},
   "outputs": [],
   "source": [
    "from __future__ import print_function, division\n",
    "from sympy import symbols, simplify, trigsimp\n",
    "from sympy.physics.mechanics import dynamicsymbols, ReferenceFrame, Point\n",
    "from sympy.physics.mechanics import inertia, RigidBody, KanesMethod\n",
    "from sympy.physics.vector import init_vprinting\n",
    "init_vprinting(use_latex='mathjax', pretty_print=False)"
   ]
  },
  {
   "cell_type": "markdown",
   "metadata": {},
   "source": [
    "# 1. Kinematik"
   ]
  },
  {
   "cell_type": "markdown",
   "metadata": {},
   "source": [
    "### Koordinatensysteme / Bezugssysteme"
   ]
  },
  {
   "cell_type": "code",
   "execution_count": null,
   "metadata": {},
   "outputs": [],
   "source": [
    "# Initialisieren der benötigten Koordinatensysteme\n",
    "inertial_frame = ReferenceFrame('I')\n",
    "pendulum1_frame = ReferenceFrame('P_1')"
   ]
  },
  {
   "cell_type": "markdown",
   "metadata": {},
   "source": [
    "### Orientierung und Zwangsbedingungen an den Koordinatensystemen"
   ]
  },
  {
   "cell_type": "code",
   "execution_count": null,
   "metadata": {},
   "outputs": [],
   "source": [
    "theta1 = dynamicsymbols('theta1')"
   ]
  },
  {
   "cell_type": "code",
   "execution_count": null,
   "metadata": {},
   "outputs": [],
   "source": [
    "# Zwangsbedingung des Bezugssystems P1 zum Inertialsystem:\n",
    "# setze fest, dass pendulum1 lediglich um die z-Achse des Inertalsystems rotieren kann, um den Winkel theta1\n",
    "pendulum1_frame.orient(inertial_frame, 'Axis', (theta1, inertial_frame.z))"
   ]
  },
  {
   "cell_type": "code",
   "execution_count": null,
   "metadata": {},
   "outputs": [],
   "source": [
    "# Daraus ergibt sich dann, dass die die Position von pendulum1 mit der folgenden Rotationsmatrix berechnet werden kann:\n",
    "pendulum1_frame.dcm(inertial_frame)"
   ]
  },
  {
   "cell_type": "markdown",
   "metadata": {},
   "source": [
    "<p> Multipliziert man diese Rotationsmatrix mit einem Vektor, lässt sich damit der Vektor um die entsprechenden Winkel zum Inertialsystem drehen</p>"
   ]
  },
  {
   "cell_type": "markdown",
   "metadata": {},
   "source": [
    "### Massepunkte und Gelenkpunkte"
   ]
  },
  {
   "cell_type": "code",
   "execution_count": null,
   "metadata": {},
   "outputs": [],
   "source": [
    "# Zunächst setzen wir einen fixen Ankerpunkt im Inertialsystem\n",
    "ankle = Point('A')"
   ]
  },
  {
   "cell_type": "code",
   "execution_count": null,
   "metadata": {},
   "outputs": [],
   "source": [
    "# setzen unseren zweiten Punkt, der später pendulum1 und pendulum2 verbinden soll\n",
    "p1 = Point('P_1')"
   ]
  },
  {
   "cell_type": "code",
   "execution_count": null,
   "metadata": {},
   "outputs": [],
   "source": [
    "# definieren nun eine Länge für unser erstes Pendel\n",
    "pendulum1_length = symbols('l_1')"
   ]
  },
  {
   "cell_type": "code",
   "execution_count": null,
   "metadata": {},
   "outputs": [],
   "source": [
    "# Die Position des Punktes P lässt sich jetzt über die Länge l1 * der Richtung y des Bezugssystems P beschreiben\n",
    "p1.set_pos(ankle, pendulum1_length * pendulum1_frame.y)\n",
    "\n",
    "# Durch die Multiplikation mit der Rotationsmatrix zwischen dem Inertialsystems und Pendulum1 kann der Punkt P\n",
    "# im Bezug zum Inertialsystem beschrieben werden\n",
    "p1.pos_from(ankle).express(inertial_frame).simplify()"
   ]
  },
  {
   "cell_type": "markdown",
   "metadata": {},
   "source": [
    "<p>Da wir nicht mit masselosen Pendeln rechnen wollen, müssen wir außerdem die Massenschwerpunkte unserer Pendel angeben</p>"
   ]
  },
  {
   "cell_type": "code",
   "execution_count": null,
   "metadata": {},
   "outputs": [],
   "source": [
    "# wir machen dies analog zur Vorgehensweise der Gelenkpunkte\n",
    "pendulum1_mass_length = symbols('l_m1')\n",
    "pendulum1_mass_center = Point('P_m1')\n",
    "pendulum1_mass_center.set_pos(ankle, pendulum1_mass_length * pendulum1_frame.y)"
   ]
  },
  {
   "cell_type": "markdown",
   "metadata": {},
   "source": [
    "### Aufstellen der Differentialgleichungen"
   ]
  },
  {
   "cell_type": "code",
   "execution_count": null,
   "metadata": {},
   "outputs": [],
   "source": [
    "# Wir benötigen die Winkelgeschwindigkeiten\n",
    "omega1 = dynamicsymbols('omega1')\n",
    "\n",
    "# Diese sind genauso groß, wie die Ableitung des Winkels Theta1 nach der Zeit --> 𝜔 = 𝜃˙\n",
    "# Diese Formulierung müssen wir tätigen, da wir unsere Bewegungsgleichung nach Kanes-Methode aufstellen.\n",
    "# Zudem benötigen alle numerischen Integratoren eine DGL 1.Ordnung\n",
    "kinematical_differential_equations = [omega1 - theta1.diff()]\n",
    "kinematical_differential_equations"
   ]
  },
  {
   "cell_type": "code",
   "execution_count": null,
   "metadata": {},
   "outputs": [],
   "source": [
    "# Die erste Winkelgeschwindigkeit rotiert um die Z-Achse unseres Inertialsystems\n",
    "pendulum1_frame.set_ang_vel(inertial_frame, omega1*inertial_frame.z)\n",
    "pendulum1_frame.ang_vel_in(inertial_frame)"
   ]
  },
  {
   "cell_type": "code",
   "execution_count": null,
   "metadata": {},
   "outputs": [],
   "source": [
    "# Der Ankerpunkt am Inertialsystem wird raumfest mit der Geschwindigkeit 0 angenommen \n",
    "ankle.set_vel(inertial_frame, 0)"
   ]
  },
  {
   "cell_type": "markdown",
   "metadata": {},
   "source": [
    "# 2. Massenträgheiten"
   ]
  },
  {
   "cell_type": "markdown",
   "metadata": {},
   "source": [
    "### Massenträgheiten"
   ]
  },
  {
   "cell_type": "code",
   "execution_count": null,
   "metadata": {},
   "outputs": [],
   "source": [
    "pendulum1_mass = symbols('m_1')"
   ]
  },
  {
   "cell_type": "code",
   "execution_count": null,
   "metadata": {},
   "outputs": [],
   "source": [
    "pendulum1_inertia = symbols('I_p1')"
   ]
  },
  {
   "cell_type": "code",
   "execution_count": null,
   "metadata": {},
   "outputs": [],
   "source": [
    "help(inertia)"
   ]
  },
  {
   "cell_type": "code",
   "execution_count": null,
   "metadata": {},
   "outputs": [],
   "source": [
    "# Das Dyadsiche Produkt ermöglicht uns das speichern der Trägheit als Tensor in Abhängigkeit zum Bezugssystem\n",
    "pendulum1_inertia_dyadic = inertia(pendulum1_frame, 0, 0, pendulum1_inertia)\n",
    "pendulum1_inertia_dyadic"
   ]
  },
  {
   "cell_type": "code",
   "execution_count": null,
   "metadata": {},
   "outputs": [],
   "source": [
    "pendulum1_inertia_dyadic.to_matrix(pendulum1_frame)"
   ]
  },
  {
   "cell_type": "code",
   "execution_count": null,
   "metadata": {},
   "outputs": [],
   "source": [
    "pendulum1_central_inertia = (pendulum1_inertia_dyadic, pendulum1_mass_center)"
   ]
  },
  {
   "cell_type": "code",
   "execution_count": null,
   "metadata": {},
   "outputs": [],
   "source": [
    "# Eine komplette Beschreibung des Rigid Bodys besteht aus: Massenschwerpunkt, Bezugssystem, Masse und Trägheit\n",
    "pendulum1 = RigidBody('Pendulum 1', pendulum1_mass_center, pendulum1_frame,\n",
    "                      pendulum1_mass, pendulum1_central_inertia)"
   ]
  },
  {
   "cell_type": "markdown",
   "metadata": {},
   "source": [
    "# 3. Kinetik (extern aufgeprägte Kräfte)"
   ]
  },
  {
   "cell_type": "code",
   "execution_count": null,
   "metadata": {},
   "outputs": [],
   "source": [
    "g = symbols('g')"
   ]
  },
  {
   "cell_type": "code",
   "execution_count": null,
   "metadata": {},
   "outputs": [],
   "source": [
    "pendulum1_grav_force_vector = -pendulum1_mass * g * inertial_frame.y\n",
    "pendulum1_grav_force_vector"
   ]
  },
  {
   "cell_type": "code",
   "execution_count": null,
   "metadata": {},
   "outputs": [],
   "source": [
    "# Die Gravitationskraft legen wir immer mit -y Richtung unseres Inertialsystems an\n",
    "pendulum1_grav_force = (pendulum1_mass_center, pendulum1_grav_force_vector)"
   ]
  },
  {
   "cell_type": "code",
   "execution_count": null,
   "metadata": {},
   "outputs": [],
   "source": [
    "# Zusätzlich könnten wir an unserem Rotations-FHG der Gelenke auch ein Moment aufprägen\n",
    "ankle_torque, p1_torque = dynamicsymbols('T_a, T_p1')\n",
    "pendulum1_torque_vector = ankle_torque * inertial_frame.z - p1_torque * inertial_frame.z\n",
    "pendulum1_torque = (pendulum1_frame, pendulum1_torque_vector)\n",
    "pendulum1_torque_vector"
   ]
  },
  {
   "cell_type": "markdown",
   "metadata": {},
   "source": [
    "# 4. Aufstellen der Bewegungsgleichungen"
   ]
  },
  {
   "cell_type": "code",
   "execution_count": null,
   "metadata": {},
   "outputs": [],
   "source": [
    "angles = [theta1]\n",
    "speeds = [omega1]\n",
    "# Wir hatten dies bereits im Kapitel 1 - Kinematik definiert\n",
    "kinematical_differential_equations"
   ]
  },
  {
   "cell_type": "code",
   "execution_count": null,
   "metadata": {},
   "outputs": [],
   "source": [
    "# Zusammentragen aller von außen aufgeprägten Kräfte\n",
    "loads = [pendulum1_grav_force,\n",
    "         pendulum1_torque]\n",
    "loads"
   ]
  },
  {
   "cell_type": "code",
   "execution_count": null,
   "metadata": {},
   "outputs": [],
   "source": [
    "# Wir erinnern uns an die angelegten Starrkörper\n",
    "bodies = [pendulum1]\n",
    "bodies"
   ]
  },
  {
   "cell_type": "markdown",
   "metadata": {},
   "source": [
    "<p>Die Formulierung der Bewegungsgleichungen nach Kane sieht der bekannten Form nach Newton Euler sehr ähnlich:</p>\n",
    "<p>Kanes Formulierung: $F_r + F_r^* = 0$</p>\n",
    "<p>Newton Euler Formulierung: ${F} = {m}{a} \\hspace{1cm} {T} = {I}{\\alpha}$</p>"
   ]
  },
  {
   "cell_type": "code",
   "execution_count": null,
   "metadata": {},
   "outputs": [],
   "source": [
    "kane = KanesMethod(inertial_frame, angles, speeds, kinematical_differential_equations)\n",
    "fr, frstar = kane.kanes_equations(bodies, loads)"
   ]
  },
  {
   "cell_type": "code",
   "execution_count": null,
   "metadata": {},
   "outputs": [],
   "source": [
    "trigsimp(fr + frstar)"
   ]
  },
  {
   "cell_type": "code",
   "execution_count": null,
   "metadata": {},
   "outputs": [],
   "source": [
    "mass_matrix = trigsimp(kane.mass_matrix_full)\n",
    "mass_matrix"
   ]
  },
  {
   "cell_type": "code",
   "execution_count": null,
   "metadata": {},
   "outputs": [],
   "source": [
    "forcing_vector = trigsimp(kane.forcing_full)\n",
    "forcing_vector"
   ]
  },
  {
   "cell_type": "markdown",
   "metadata": {},
   "source": [
    "### Damit haben wir alle Dinge beisammen:\n",
    "<p>- Bezugssysteme</p>\n",
    "<p>- Gelenkpunkte + Zwangsbedingungen</p>\n",
    "<p>- Massepunkte</p>\n",
    "<p>- Massenträgheit</p>\n",
    "<p>- Kinetik (externe Kräfte)</p>\n",
    "<p>- Formulierung der Bewegungsgleichungen</p>\n",
    "<p>- Umformen für die Simulation in Massenabhängikeitsmatrix und Kraftabhängigkeitsmatrix als DGL 1.Ordnung $M(x,t)\\dot x = f(x,t)$ (x=statevector)</p>"
   ]
  },
  {
   "cell_type": "markdown",
   "metadata": {},
   "source": [
    "# 5. Lösen der Bewegungsgleichung"
   ]
  },
  {
   "cell_type": "code",
   "execution_count": null,
   "metadata": {},
   "outputs": [],
   "source": [
    "from numpy import deg2rad, rad2deg, array, zeros, linspace\n",
    "from scipy.integrate import odeint\n",
    "from pydy.codegen.ode_function_generators import generate_ode_function\n",
    "from matplotlib.pyplot import plot, legend, xlabel, ylabel, rcParams\n",
    "from sympy.physics.vector import init_vprinting, vlatex\n",
    "%matplotlib inline\n",
    "rcParams['figure.figsize'] = (14.0, 6.0)"
   ]
  },
  {
   "cell_type": "code",
   "execution_count": null,
   "metadata": {},
   "outputs": [],
   "source": [
    "constants = [pendulum1_length,\n",
    "             pendulum1_mass_length,\n",
    "             pendulum1_mass,\n",
    "             pendulum1_inertia,\n",
    "             g]\n",
    "constants"
   ]
  },
  {
   "cell_type": "code",
   "execution_count": null,
   "metadata": {},
   "outputs": [],
   "source": [
    "specified = [ankle_torque, p1_torque]"
   ]
  },
  {
   "cell_type": "code",
   "execution_count": null,
   "metadata": {},
   "outputs": [],
   "source": [
    "# wir lassen uns die Gleichung nach x' umstellen\n",
    "right_hand_side = generate_ode_function(forcing_vector, angles,\n",
    "                                        speeds, constants,\n",
    "                                        mass_matrix=mass_matrix,\n",
    "                                        specifieds=specified)"
   ]
  },
  {
   "cell_type": "code",
   "execution_count": null,
   "metadata": {},
   "outputs": [],
   "source": [
    "help(right_hand_side)"
   ]
  },
  {
   "cell_type": "code",
   "execution_count": null,
   "metadata": {},
   "outputs": [],
   "source": [
    "# Festlegen der Initialbedingungen für die numerische Lösung der DGL\n",
    "\n",
    "# Zu Beginn setzen wir beide Geschwindigkeiten auf 0\n",
    "# und die beiden Winkel versetzen wir nach belieben\n",
    "x0 = zeros(2)\n",
    "x0[0] = deg2rad(120)\n",
    "\n",
    "# Wir setzen nun realistische Werte für unsere Konstanten an\n",
    "numerical_constants = array([0.8,  # pendulum1_length [m]\n",
    "                             0.4,  # pendulum1_com_length [m]\n",
    "                             4.0,  # pendulum1_mass [kg]\n",
    "                             0.64,  # pendulum1_inertia [kg*m^2]\n",
    "                             9.81],  # acceleration due to gravity [m/s^2]\n",
    "                            )\n",
    "\n",
    "# Wir setzen auch die Gelenkmomente initial auf 0\n",
    "numerical_specified = array([0, 0])"
   ]
  },
  {
   "cell_type": "markdown",
   "metadata": {},
   "source": [
    "<p>Mit den bekannten Anfangsbedingungen wollen wir über unseren gewünschten Beobachtungszeitraum numerisch integrieren.</p>\n",
    "<p>Dazu geben wir dem Solver (z. B. Runge-Kutta) unsere Anfangsbedingungen, die Gleichung für x' und den Zeitraum sowie die Schrittweite t.</p>"
   ]
  },
  {
   "cell_type": "code",
   "execution_count": null,
   "metadata": {},
   "outputs": [],
   "source": [
    "frames_per_sec = 30\n",
    "final_time = 8\n",
    "\n",
    "t = linspace(0, final_time, final_time * frames_per_sec)\n",
    "\n",
    "y = odeint(right_hand_side, x0, t, args=(numerical_specified, numerical_constants))"
   ]
  },
  {
   "cell_type": "code",
   "execution_count": null,
   "metadata": {},
   "outputs": [],
   "source": [
    "y.shape"
   ]
  },
  {
   "cell_type": "markdown",
   "metadata": {},
   "source": [
    "# 6. Visualisierung"
   ]
  },
  {
   "cell_type": "code",
   "execution_count": null,
   "metadata": {},
   "outputs": [],
   "source": [
    "# Darstellung der zwei Winkel über die Simulationsdauer\n",
    "plot(t, rad2deg(y[:, :1]))\n",
    "xlabel('Zeit [s]')\n",
    "ylabel('Winkel [deg]')\n",
    "legend([\"${}$\".format(vlatex(c)) for c in angles])"
   ]
  },
  {
   "cell_type": "code",
   "execution_count": null,
   "metadata": {},
   "outputs": [],
   "source": [
    "# Darstellung der beiden Geschwindigkeiten über die Simulationsdauer\n",
    "plot(t, rad2deg(y[:, 1:]), color='r') # siehe y.shape\n",
    "xlabel('Zeit [s]')\n",
    "ylabel('Winkelgeschw. [deg/s]')\n",
    "legend([\"${}$\".format(vlatex(s)) for s in speeds])"
   ]
  },
  {
   "cell_type": "code",
   "execution_count": null,
   "metadata": {},
   "outputs": [],
   "source": [
    "from pydy.viz.shapes import Cylinder, Sphere\n",
    "import pydy.viz\n",
    "from pydy.viz.visualization_frame import VisualizationFrame\n",
    "from pydy.viz.scene import Scene\n",
    "\n",
    "# Für die Punkte legen wir schwarze Kugeln an\n",
    "ankle_shape = Sphere(color='black', radius=0.1)\n",
    "p1_shape = Sphere(color='black', radius=0.1)\n",
    "\n",
    "# setzen die erzeugten Geometrien an die Punkte\n",
    "ankle_viz_frame = VisualizationFrame(inertial_frame, ankle, ankle_shape)\n",
    "p1_viz_frame = VisualizationFrame(inertial_frame, p1, p1_shape)\n",
    "\n",
    "# umformen der Konstanten in für das Programm leserliches Format\n",
    "constants_dict = dict(zip(constants, numerical_constants))\n",
    "\n",
    "# Setzen der Geometrie für die Starrkörper\n",
    "pendulum1_center = Point('p1_c')\n",
    "pendulum1_center.set_pos(ankle, pendulum1_length / 2 * pendulum1_frame.y)\n",
    "\n",
    "pendulum1_shape = Cylinder(radius=0.08, length=constants_dict[pendulum1_length], color='blue')\n",
    "pendulum1_viz_frame = VisualizationFrame('Pendulum 1', pendulum1_frame, pendulum1_center, pendulum1_shape)\n",
    "\n",
    "# Erstellen der Szene mit dem Inertialsystem/Ankerpunkt in der Mitte\n",
    "scene = Scene(inertial_frame, ankle)\n",
    "\n",
    "# Laden der Starrkörper in die Szene\n",
    "scene.visualization_frames = [ankle_viz_frame,\n",
    "                              p1_viz_frame,\n",
    "                              pendulum1_viz_frame]\n",
    "\n",
    "# Darstellung und einfügen der Ergebnisse\n",
    "scene.states_symbols = angles + speeds\n",
    "scene.constants = constants_dict\n",
    "scene.states_trajectories = y\n",
    "\n",
    "# öffnen der Simulation\n",
    "scene.display()"
   ]
  },
  {
   "cell_type": "code",
   "execution_count": null,
   "metadata": {},
   "outputs": [],
   "source": []
  }
 ],
 "metadata": {
  "kernelspec": {
   "display_name": "Python 3",
   "language": "python",
   "name": "python3"
  },
  "language_info": {
   "codemirror_mode": {
    "name": "ipython",
    "version": 3
   },
   "file_extension": ".py",
   "mimetype": "text/x-python",
   "name": "python",
   "nbconvert_exporter": "python",
   "pygments_lexer": "ipython3",
   "version": "3.8.10"
  }
 },
 "nbformat": 4,
 "nbformat_minor": 4
}
