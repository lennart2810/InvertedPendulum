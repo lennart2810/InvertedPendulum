{
 "cells": [
  {
   "cell_type": "markdown",
   "metadata": {},
   "source": [
    "\n",
    "<div align=\"center\">\n",
    "  <a href=\"https://www.w-hs.de/maschinenbau-master-boh/\">\n",
    "    <img src=\"https://www.w-hs.de/typo3conf/ext/whs/Resources/Public/Images/Pagelayout/w-hs_pagelogo.png\" \n",
    "    alt=\"Images\" width=\"500\" height=\"200\">\n",
    "  </a>\n",
    "</div>\n",
    "<br>\n",
    "<h1 align=\"center\"> Sondergebiete der Simulation</h1>\n",
    "<h3 align=\"center\"> WS 21/22 </h3>\n",
    "<br>\n",
    "\n",
    "<br>"
   ]
  },
  {
   "cell_type": "markdown",
   "metadata": {},
   "source": [
    "### Credits:\n",
    "\n",
    "* [benmoseley](https://github.com/benmoseley/harmonic-oscillator-pinn)"
   ]
  },
  {
   "cell_type": "code",
   "execution_count": 1,
   "metadata": {},
   "outputs": [],
   "source": [
    "import sympy\n",
    "from sympy import symbols, Function, diff, sin, cos, Matrix, Rational, Eq, solve, lambdify\n",
    "import sympy.physics.mechanics as mech\n",
    "mech.init_vprinting()"
   ]
  },
  {
   "cell_type": "markdown",
   "metadata": {},
   "source": [
    "### Herleitung der Bewegungsgleichungen \n",
    "\n",
    "Ausführliche Beschreibung der Herleitung:\n",
    "[Inverted Pendulum Legrange](https://github.com/lennart2810/InvertedPendulumSDS/blob/master/MKS/Inverted%20Pendulum%20Legrange.ipynb) "
   ]
  },
  {
   "cell_type": "code",
   "execution_count": 2,
   "metadata": {},
   "outputs": [
    {
     "data": {
      "image/png": "[encoded data removed]",
      "text/latex": [
       "$\\displaystyle M \\ddot{x} + \\frac{m \\left(2 l \\sin{\\left(\\theta \\right)} \\dot{\\theta}^{2} - 2 l \\cos{\\left(\\theta \\right)} \\ddot{\\theta} + 2 \\ddot{x}\\right)}{2}$"
      ],
      "text/plain": [
       "        ⎛            2                     ⎞\n",
       "      m⋅⎝2⋅l⋅sin(θ)⋅θ̇  - 2⋅l⋅cos(θ)⋅θ̈ + 2⋅ẍ⎠\n",
       "M⋅ẍ + ──────────────────────────────────────\n",
       "                        2                   "
      ]
     },
     "metadata": {},
     "output_type": "display_data"
    },
    {
     "data": {
      "image/png": "[encoded data removed]",
      "text/latex": [
       "$\\displaystyle - \\frac{m \\left(g \\cos{\\left(\\theta \\right)} - l \\dot{\\theta}^{2}\\right) \\sin{\\left(\\theta \\right)}}{M + m \\sin^{2}{\\left(\\theta \\right)}} + \\ddot{x} = 0$"
      ],
      "text/plain": [
       "    ⎛              2⎞               \n",
       "  m⋅⎝g⋅cos(θ) - l⋅θ̇ ⎠⋅sin(θ)        \n",
       "- ────────────────────────── + ẍ = 0\n",
       "                 2                  \n",
       "        M + m⋅sin (θ)               "
      ]
     },
     "metadata": {},
     "output_type": "display_data"
    },
    {
     "data": {
      "image/png": "[encoded data removed]",
      "text/latex": [
       "$\\displaystyle \\ddot{\\theta} - \\frac{\\left(M g + g m - l m \\cos{\\left(\\theta \\right)} \\dot{\\theta}^{2}\\right) \\sin{\\left(\\theta \\right)}}{l \\left(M + m \\sin^{2}{\\left(\\theta \\right)}\\right)} = 0$"
      ],
      "text/plain": [
       "    ⎛                        2⎞           \n",
       "    ⎝M⋅g + g⋅m - l⋅m⋅cos(θ)⋅θ̇ ⎠⋅sin(θ)    \n",
       "θ̈ - ────────────────────────────────── = 0\n",
       "              ⎛         2   ⎞             \n",
       "            l⋅⎝M + m⋅sin (θ)⎠             "
      ]
     },
     "metadata": {},
     "output_type": "display_data"
    },
    {
     "data": {
      "text/latex": [
       "$\\displaystyle \\left[\\begin{matrix}- \\frac{m \\left(g \\cos{\\left(\\theta \\right)} - l \\dot{\\theta}^{2}\\right) \\sin{\\left(\\theta \\right)}}{M + m \\sin^{2}{\\left(\\theta \\right)}} + \\ddot{x} = 0\\\\\\ddot{\\theta} - \\frac{\\left(M g + g m - l m \\cos{\\left(\\theta \\right)} \\dot{\\theta}^{2}\\right) \\sin{\\left(\\theta \\right)}}{l \\left(M + m \\sin^{2}{\\left(\\theta \\right)}\\right)} = 0\\end{matrix}\\right]$"
      ],
      "text/plain": [
       "⎡       ⎛              2⎞                  ⎤\n",
       "⎢     m⋅⎝g⋅cos(θ) - l⋅θ̇ ⎠⋅sin(θ)           ⎥\n",
       "⎢   - ────────────────────────── + ẍ = 0   ⎥\n",
       "⎢                    2                     ⎥\n",
       "⎢           M + m⋅sin (θ)                  ⎥\n",
       "⎢                                          ⎥\n",
       "⎢    ⎛                        2⎞           ⎥\n",
       "⎢    ⎝M⋅g + g⋅m - l⋅m⋅cos(θ)⋅θ̇ ⎠⋅sin(θ)    ⎥\n",
       "⎢θ̈ - ────────────────────────────────── = 0⎥\n",
       "⎢              ⎛         2   ⎞             ⎥\n",
       "⎣            l⋅⎝M + m⋅sin (θ)⎠             ⎦"
      ]
     },
     "metadata": {},
     "output_type": "display_data"
    }
   ],
   "source": [
    "# symbolischen Variablen anlegen\n",
    "t, l, M, m, g = symbols('t l M m g')\n",
    "\n",
    "# Zwangsbedingung\n",
    "y = 0\n",
    "\n",
    "# generalisierte Koordinaten und deren Ableitungen:\n",
    "x = Function('x')(t)\n",
    "x_d = diff(x,t)\n",
    "x_dd = diff(x_d,t)\n",
    "\n",
    "theta = Function('theta')(t)\n",
    "theta_d = diff(theta,t)\n",
    "theta_dd = diff(theta,t,t)\n",
    "\n",
    "# Kinematik\n",
    "x2, y2 = x - l * sin(theta), y + l * cos(theta)\n",
    "x2_d, y2_d = x2.diff(t), y2.diff(t)\n",
    "\n",
    "# Legrange-Funktion\n",
    "T = Rational(1,2) * M * (x_d)**2 + Rational(1,2) * m * (x2_d**2 + y2_d**2)\n",
    "V = M * g * y + m * g * y2 \n",
    "L = T - V\n",
    "\n",
    "# Euler-Legrange\n",
    "LE_x = diff(diff(L, x_d), t) - diff(L, x)\n",
    "LE_theta = diff(diff(L, theta_d), t) - diff(L, theta)\n",
    "display(LE_x)\n",
    "# (M+m)*x_dd_p - m*l*theta_dd_p*cos(theta_p) + m*l*theta_d_p**2*sin(theta_p)\n",
    "# l*theta_dd_p - x_dd_p*cos(theta_p) - g*sin(theta_p)\n",
    "\n",
    "# Nach x_dd und theta_dd umstellen\n",
    "solutions = solve([LE_x, LE_theta], (x_dd, theta_dd), simplify=True) \n",
    "sol_x_dd = Eq(x_dd-solutions[x_dd], 0)\n",
    "sol_theta_dd = Eq(theta_dd - solutions[theta_dd], 0)\n",
    "display(sol_x_dd)\n",
    "display(sol_theta_dd)\n",
    "display(Matrix([sol_x_dd, sol_theta_dd]))"
   ]
  },
  {
   "cell_type": "code",
   "execution_count": 3,
   "metadata": {},
   "outputs": [],
   "source": [
    "# x_dd - (m*(g*cos(theta))) / ()..."
   ]
  },
  {
   "cell_type": "markdown",
   "metadata": {},
   "source": [
    "### Umwandlung des symbolischen Gleichungssystems in numerische Funtkionen mit `sympy.lambdify`."
   ]
  },
  {
   "cell_type": "code",
   "execution_count": 4,
   "metadata": {},
   "outputs": [],
   "source": [
    "dxdt = lambdify(x_d, x_d)\n",
    "dvdt = lambdify((t,g,M,m,l,theta,theta_d), solutions[x_dd])\n",
    "\n",
    "dthetadt = lambdify(theta_d, theta_d)\n",
    "domegadt = lambdify((t,g,M,m,l,theta,theta_d), solutions[theta_dd])\n",
    "\n",
    "def dSdt(S, t, g, M, m, l):\n",
    "    x, v, theta, omega = S\n",
    "    return [\n",
    "        dxdt(v),\n",
    "        dvdt(t,g,M,m,l,theta, omega),\n",
    "        dthetadt(omega),\n",
    "        domegadt(t,g,M,m,l,theta,omega)\n",
    "    ]"
   ]
  },
  {
   "cell_type": "markdown",
   "metadata": {},
   "source": [
    "### Daten generieren"
   ]
  },
  {
   "cell_type": "code",
   "execution_count": 5,
   "metadata": {},
   "outputs": [
    {
     "name": "stdout",
     "output_type": "stream",
     "text": [
      "time.shape: (34,) <class 'numpy.ndarray'>\n",
      "x.shape: (34,)\n",
      "theta.shape: (34,)\n",
      "data.shape: (34, 2)\n"
     ]
    },
    {
     "data": {
      "image/png": "[encoded data removed]",
      "text/plain": [
       "<Figure size 432x288 with 1 Axes>"
      ]
     },
     "metadata": {
      "needs_background": "light"
     },
     "output_type": "display_data"
    },
    {
     "data": {
      "image/png": "[encoded data removed]",
      "text/plain": [
       "<Figure size 432x288 with 1 Axes>"
      ]
     },
     "metadata": {
      "needs_background": "light"
     },
     "output_type": "display_data"
    }
   ],
   "source": [
    "import numpy as np\n",
    "import matplotlib.pyplot as plt\n",
    "from scipy.integrate import odeint\n",
    "from scipy.interpolate import interpolate\n",
    "\n",
    "t1 = 10                          # s \n",
    "samples = 200                    # n \n",
    "t = np.linspace(0, t1, samples)  # s\n",
    "\n",
    "g = 9.81                         # m/s^2\n",
    "M = 5                            # kg\n",
    "m = 1                            # kg\n",
    "l = 1                            # m\n",
    "F = 0                            # N\n",
    "\n",
    "S0 = [0, 0, 0.1, 0]              # m, m/s, rad, rad/s\n",
    "\n",
    "# numerische Lösung\n",
    "ans = odeint(dSdt, y0=S0, t=t, args=(g, M, m, l))\n",
    "x = ans.T[0]\n",
    "theta = ans.T[2]\n",
    "\n",
    "# numerische Lösung --> Lösungsfunktion interpolieren\n",
    "# wird ausschließlich für DeepXDE benötigt (solution=func)\n",
    "t_new = np.linspace(0, t1, samples+2000)    \n",
    "x_f = interpolate.interp1d(t, x, 'cubic')\n",
    "theta_f = interpolate.interp1d(t, theta, 'cubic')\n",
    "\n",
    "# 'Messwerte'\n",
    "a, b, i = 10, 110, 3 # jeden i. Punkt im Intervall [a,b] \n",
    "t_data = t[a:b:i]\n",
    "x_data = x[a:b:i]\n",
    "theta_data = theta[a:b:i]\n",
    "\n",
    "# Data für NN zusammenfassen: (nur nötig wenn 1 Model mit 2 Outputs genutzt wird)\n",
    "data = np.concatenate((x_data, theta_data)).reshape(2, len(t_data)).T\n",
    "print('time.shape:', t_data.shape, type(t_data))\n",
    "print('x.shape:', x_data.shape)\n",
    "print('theta.shape:', theta_data.shape)\n",
    "print('data.shape:', data.shape)\n",
    "\n",
    "\n",
    "# Visualisierung \n",
    "plt.plot(t, x, 'b.')\n",
    "plt.plot(t_new, x_f(t_new), 'g-')\n",
    "plt.plot(t_data, data[:,0], 'ro') # data[:,1] --> x_data\n",
    "plt.show()\n",
    "\n",
    "plt.plot(t, theta, 'r.')\n",
    "plt.plot(t_new, theta_f(t_new), 'y-')\n",
    "plt.plot(t_data, data[:,1], 'go') # data[:,1] --> theta_data\n",
    "plt.show()"
   ]
  },
  {
   "cell_type": "code",
   "execution_count": 6,
   "metadata": {},
   "outputs": [],
   "source": [
    "import torch.nn as nn\n",
    "\n",
    "class FCN(nn.Module):\n",
    "    \n",
    "    def __init__(self, N_INPUT, N_OUTPUT, N_HIDDEN, N_LAYERS):\n",
    "        super().__init__()\n",
    "        activation = nn.Tanh\n",
    "        self.fcs = nn.Sequential(*[\n",
    "                        nn.Linear(N_INPUT, N_HIDDEN),\n",
    "                        activation()])\n",
    "        self.fch = nn.Sequential(*[\n",
    "                        nn.Sequential(*[\n",
    "                            nn.Linear(N_HIDDEN, N_HIDDEN),\n",
    "                            activation()]) for _ in range(N_LAYERS-1)])\n",
    "        self.fce = nn.Linear(N_HIDDEN, N_OUTPUT)\n",
    "        \n",
    "    def forward(self, x):\n",
    "        x = self.fcs(x)\n",
    "        x = self.fch(x)\n",
    "        x = self.fce(x)\n",
    "        return x"
   ]
  },
  {
   "cell_type": "markdown",
   "metadata": {},
   "source": [
    "### *Messpunkte* mit Pytorch NN annähern\n",
    "\n",
    "#### 1. Model für $x$\n",
    "#### 2. Model für $\\theta$"
   ]
  },
  {
   "cell_type": "code",
   "execution_count": 7,
   "metadata": {},
   "outputs": [
    {
     "name": "stdout",
     "output_type": "stream",
     "text": [
      "t: torch.Size([200, 1])\n",
      "t_data: torch.Size([34, 1])\n",
      "x_data: torch.Size([34, 1])\n",
      "theta_data: torch.Size([34, 1])\n",
      "data: torch.Size([34, 2])\n"
     ]
    }
   ],
   "source": [
    "import torch\n",
    "#from torch import cos, sin\n",
    "\n",
    "t = torch.Tensor(t).view(-1,1)\n",
    "t_data = torch.Tensor(t_data).view(-1,1)\n",
    "x_data = torch.Tensor(x_data).view(-1,1)\n",
    "theta_data = torch.Tensor(theta_data).view(-1,1)\n",
    "data = torch.Tensor(data).view(-1,2)\n",
    "\n",
    "print('t:', t.shape)\n",
    "print('t_data:', t_data.shape)\n",
    "print('x_data:', x_data.shape)\n",
    "print('theta_data:', theta_data.shape)\n",
    "print('data:', data.shape)"
   ]
  },
  {
   "cell_type": "code",
   "execution_count": null,
   "metadata": {},
   "outputs": [],
   "source": []
  },
  {
   "cell_type": "code",
   "execution_count": null,
   "metadata": {},
   "outputs": [],
   "source": []
  },
  {
   "cell_type": "code",
   "execution_count": null,
   "metadata": {},
   "outputs": [],
   "source": []
  },
  {
   "cell_type": "code",
   "execution_count": null,
   "metadata": {},
   "outputs": [],
   "source": [
    "# NN Models trainieren:\n",
    "# train standard neural network to fit training data\n",
    "\n",
    "torch.manual_seed(123)\n",
    "\n",
    "model_x = FCN(1,1,32,3)\n",
    "optimizer_x = torch.optim.Adam(model_x.parameters(),lr=1e-3)\n",
    "\n",
    "model_theta = FCN(1,1,32,3)\n",
    "optimizer_theta = torch.optim.Adam(model_theta.parameters(),lr=1e-3)\n",
    "\n",
    "model = FCN(1,2,32,3)\n",
    "optimizer = torch.optim.Adam(model.parameters(),lr=1e-3)\n",
    "\n",
    "\n",
    "episodes = 100\n",
    "num_save_plot = round(episodes/5) # speicher 5 Plots\n",
    "\n",
    "for i in range(1, episodes+1):\n",
    "    \n",
    "    #optimizer_x.zero_grad()\n",
    "    #optimizer_theta.zero_grad()\n",
    "    optimizer.zero_grad()\n",
    "\n",
    "    #x_p = model_x(t_data)\n",
    "    #theta_p = model_theta(t_data)\n",
    "    pred = model(t_data)\n",
    "\n",
    "    #loss_x = torch.mean((x_p - x_data)**2) \n",
    "    #loss_theta = torch.mean((theta_p - theta_data)**2) \n",
    "    loss = torch.mean((pred - data)**2) \n",
    "    \n",
    "    # Debug\n",
    "    \"\"\"\n",
    "    print('x_p:', x_p.shape)\n",
    "    print('theta_p:', theta_p.shape)\n",
    "    print('loss_x:', loss_x, loss_x.shape)\n",
    "    print('loss_theta:', loss_theta, loss_theta.shape)\n",
    "    test_x = loss_x.detach().numpy()\n",
    "    print('test', test_x, type(test_x), test_x.shape)\n",
    "    test_theta = loss_theta.detach().numpy()\n",
    "    print('test', test_theta, type(test_theta), test_theta.shape)\n",
    "    \"\"\"\n",
    "\n",
    "    \n",
    "    #loss_x.backward() # Gradient berechnen\n",
    "    #optimizer_x.step() # Backpropagation\n",
    "    \n",
    "    #loss_theta.backward() # Gradient berechnen\n",
    "    #optimizer_theta.step() # Backpropagation\n",
    "    \n",
    "    loss.backward() # Gradient berechnen\n",
    "    optimizer.step() # Backpropagation\n",
    "    \n",
    "    \n",
    "    if (i) % num_save_plot == 0: \n",
    "        \n",
    "        #x_p = model_x(t).detach()\n",
    "        #theta_p = model_theta(t).detach()\n",
    "        pred = model(t).detach()\n",
    "        \n",
    "        #plt.plot(t, x_p, 'r')\n",
    "        #plt.plot(t, theta_p, 'g')\n",
    "        #plt.show()\n",
    "        plt.plot(t, pred)\n",
    "        plt.show()"
   ]
  },
  {
   "cell_type": "code",
   "execution_count": null,
   "metadata": {},
   "outputs": [],
   "source": []
  },
  {
   "cell_type": "code",
   "execution_count": null,
   "metadata": {},
   "outputs": [],
   "source": []
  },
  {
   "cell_type": "code",
   "execution_count": null,
   "metadata": {},
   "outputs": [],
   "source": [
    "display(Matrix([sol_x_dd, sol_theta_dd]))"
   ]
  },
  {
   "cell_type": "code",
   "execution_count": null,
   "metadata": {},
   "outputs": [],
   "source": [
    "from torch import sin, cos\n",
    "\n",
    "t_physics = torch.linspace(0,t1,t1*3).view(-1,1).requires_grad_(True) # 3 Punkte pro Sekunde\n",
    "# punkte sollen differenzierbar sein (für backpropagation)\n",
    "\n",
    "\n",
    "torch.manual_seed(123)\n",
    "\n",
    "model = FCN(1,2,32,3)\n",
    "optimizer = torch.optim.Adam(model.parameters(),lr=1e-3)\n",
    "\n",
    "\n",
    "episodes = 100000\n",
    "num_save_plot = round(episodes/5) # speicher 5 Plots\n",
    "\n",
    "for i in range(1, episodes+1):\n",
    "\n",
    "    optimizer.zero_grad()\n",
    "\n",
    "    # loss, der durch Abweichung der Prediction vom wahren Wert kommt\n",
    "    pred = model(t_data)\n",
    "    loss_data = torch.mean((pred - data)**2) \n",
    "    \n",
    "    #physics = theta_pp_dd + (d/m*l**2)*theta_pp_d + (g/l)*torch.sin(theta_pp) \n",
    "\n",
    "    # loss, wenn pred die Bewegunggleichung (nach 0 umgestellt) nicht korrekt erfüllt\n",
    "    pred = model(t_physics)\n",
    "    \n",
    "    x_p = pred[:,0].view(-1,1)\n",
    "    x_d_p = torch.autograd.grad(x_p, t_physics, torch.ones_like(x_p), create_graph=True)[0]\n",
    "    x_dd_p = torch.autograd.grad(x_d_p, t_physics, torch.ones_like(x_d_p), create_graph=True)[0]\n",
    "    \n",
    "    theta_p = pred[:,1].view(-1,1)\n",
    "    theta_d_p = torch.autograd.grad(theta_p, t_physics, torch.ones_like(theta_p), create_graph=True)[0]\n",
    "    theta_dd_p = torch.autograd.grad(theta_d_p, t_physics, torch.ones_like(theta_d_p), create_graph=True)[0]\n",
    "    \n",
    "    sin_theta_p = sin(theta_p)\n",
    "    cos_theta_p = cos(theta_p)\n",
    "     \n",
    "    physics_x = (M+m)*x_dd_p - m*l*theta_dd_p*cos_theta_p + m*l*theta_d_p**2*sin_theta_p\n",
    "    physics_theta = l*theta_dd_p - x_dd_p*cos_theta_p - g*sin_theta_p\n",
    "    #physics_x = x_dd_p-(m*sin(theta_p)*(g*cos(theta_p)-l*theta_d_p**2))/(M+m*sin(theta_p)**2)\n",
    "    #physics_theta = theta_dd_p-(sin(theta_p)*(M*g+m*g-l*m*cos(theta_p)*theta_d_p**2))/(l*(M+m*sin(theta_p)**2))\n",
    "    physics = torch.cat((physics_x, physics_theta), 1)\n",
    "    \n",
    "    loss_physics = (1e-4)*torch.mean(physics**2)\n",
    "    #loss_physics = torch.mean(physics**2)\n",
    "    loss = loss_data + loss_physics\n",
    "    loss.backward() \n",
    "    optimizer.step() \n",
    "    \n",
    "    \n",
    "    \n",
    "    if (i) % num_save_plot == 0: \n",
    "        \n",
    "        pred = model(t).detach()\n",
    "        \n",
    "        plt.plot(t, pred)\n",
    "        plt.show()"
   ]
  },
  {
   "cell_type": "code",
   "execution_count": null,
   "metadata": {},
   "outputs": [],
   "source": []
  },
  {
   "cell_type": "code",
   "execution_count": null,
   "metadata": {},
   "outputs": [],
   "source": []
  },
  {
   "cell_type": "code",
   "execution_count": null,
   "metadata": {},
   "outputs": [],
   "source": []
  },
  {
   "cell_type": "code",
   "execution_count": null,
   "metadata": {},
   "outputs": [],
   "source": []
  },
  {
   "cell_type": "code",
   "execution_count": 15,
   "metadata": {},
   "outputs": [
    {
     "ename": "RuntimeError",
     "evalue": "Trying to backward through the graph a second time (or directly access saved tensors after they have already been freed). Saved intermediate values of the graph are freed when you call .backward() or autograd.grad(). Specify retain_graph=True if you need to backward through the graph a second time or if you need to access saved tensors after calling backward.",
     "output_type": "error",
     "traceback": [
      "\u001b[0;31m---------------------------------------------------------------------------\u001b[0m",
      "\u001b[0;31mRuntimeError\u001b[0m                              Traceback (most recent call last)",
      "\u001b[0;32m<ipython-input-15-1b09a8979761>\u001b[0m in \u001b[0;36m<module>\u001b[0;34m\u001b[0m\n\u001b[1;32m     63\u001b[0m     \u001b[0;31m#loss_physics = torch.mean(physics**2)\u001b[0m\u001b[0;34m\u001b[0m\u001b[0;34m\u001b[0m\u001b[0;34m\u001b[0m\u001b[0m\n\u001b[1;32m     64\u001b[0m     \u001b[0;31m#loss = loss_data + loss_physics\u001b[0m\u001b[0;34m\u001b[0m\u001b[0;34m\u001b[0m\u001b[0;34m\u001b[0m\u001b[0m\n\u001b[0;32m---> 65\u001b[0;31m     \u001b[0mloss_x\u001b[0m\u001b[0;34m.\u001b[0m\u001b[0mbackward\u001b[0m\u001b[0;34m(\u001b[0m\u001b[0;34m)\u001b[0m\u001b[0;34m\u001b[0m\u001b[0;34m\u001b[0m\u001b[0m\n\u001b[0m\u001b[1;32m     66\u001b[0m     \u001b[0moptimizer_x\u001b[0m\u001b[0;34m.\u001b[0m\u001b[0mstep\u001b[0m\u001b[0;34m(\u001b[0m\u001b[0;34m)\u001b[0m\u001b[0;34m\u001b[0m\u001b[0;34m\u001b[0m\u001b[0m\n\u001b[1;32m     67\u001b[0m \u001b[0;34m\u001b[0m\u001b[0m\n",
      "\u001b[0;32m~/opt/anaconda3/lib/python3.8/site-packages/torch/_tensor.py\u001b[0m in \u001b[0;36mbackward\u001b[0;34m(self, gradient, retain_graph, create_graph, inputs)\u001b[0m\n\u001b[1;32m    305\u001b[0m                 \u001b[0mcreate_graph\u001b[0m\u001b[0;34m=\u001b[0m\u001b[0mcreate_graph\u001b[0m\u001b[0;34m,\u001b[0m\u001b[0;34m\u001b[0m\u001b[0;34m\u001b[0m\u001b[0m\n\u001b[1;32m    306\u001b[0m                 inputs=inputs)\n\u001b[0;32m--> 307\u001b[0;31m         \u001b[0mtorch\u001b[0m\u001b[0;34m.\u001b[0m\u001b[0mautograd\u001b[0m\u001b[0;34m.\u001b[0m\u001b[0mbackward\u001b[0m\u001b[0;34m(\u001b[0m\u001b[0mself\u001b[0m\u001b[0;34m,\u001b[0m \u001b[0mgradient\u001b[0m\u001b[0;34m,\u001b[0m \u001b[0mretain_graph\u001b[0m\u001b[0;34m,\u001b[0m \u001b[0mcreate_graph\u001b[0m\u001b[0;34m,\u001b[0m \u001b[0minputs\u001b[0m\u001b[0;34m=\u001b[0m\u001b[0minputs\u001b[0m\u001b[0;34m)\u001b[0m\u001b[0;34m\u001b[0m\u001b[0;34m\u001b[0m\u001b[0m\n\u001b[0m\u001b[1;32m    308\u001b[0m \u001b[0;34m\u001b[0m\u001b[0m\n\u001b[1;32m    309\u001b[0m     \u001b[0;32mdef\u001b[0m \u001b[0mregister_hook\u001b[0m\u001b[0;34m(\u001b[0m\u001b[0mself\u001b[0m\u001b[0;34m,\u001b[0m \u001b[0mhook\u001b[0m\u001b[0;34m)\u001b[0m\u001b[0;34m:\u001b[0m\u001b[0;34m\u001b[0m\u001b[0;34m\u001b[0m\u001b[0m\n",
      "\u001b[0;32m~/opt/anaconda3/lib/python3.8/site-packages/torch/autograd/__init__.py\u001b[0m in \u001b[0;36mbackward\u001b[0;34m(tensors, grad_tensors, retain_graph, create_graph, grad_variables, inputs)\u001b[0m\n\u001b[1;32m    152\u001b[0m         \u001b[0mretain_graph\u001b[0m \u001b[0;34m=\u001b[0m \u001b[0mcreate_graph\u001b[0m\u001b[0;34m\u001b[0m\u001b[0;34m\u001b[0m\u001b[0m\n\u001b[1;32m    153\u001b[0m \u001b[0;34m\u001b[0m\u001b[0m\n\u001b[0;32m--> 154\u001b[0;31m     Variable._execution_engine.run_backward(\n\u001b[0m\u001b[1;32m    155\u001b[0m         \u001b[0mtensors\u001b[0m\u001b[0;34m,\u001b[0m \u001b[0mgrad_tensors_\u001b[0m\u001b[0;34m,\u001b[0m \u001b[0mretain_graph\u001b[0m\u001b[0;34m,\u001b[0m \u001b[0mcreate_graph\u001b[0m\u001b[0;34m,\u001b[0m \u001b[0minputs\u001b[0m\u001b[0;34m,\u001b[0m\u001b[0;34m\u001b[0m\u001b[0;34m\u001b[0m\u001b[0m\n\u001b[1;32m    156\u001b[0m         allow_unreachable=True, accumulate_grad=True)  # allow_unreachable flag\n",
      "\u001b[0;31mRuntimeError\u001b[0m: Trying to backward through the graph a second time (or directly access saved tensors after they have already been freed). Saved intermediate values of the graph are freed when you call .backward() or autograd.grad(). Specify retain_graph=True if you need to backward through the graph a second time or if you need to access saved tensors after calling backward."
     ]
    }
   ],
   "source": [
    "from torch import sin, cos\n",
    "\n",
    "t_physics = torch.linspace(0,t1,t1*3).view(-1,1).requires_grad_(True) # 3 Punkte pro Sekunde\n",
    "# punkte sollen differenzierbar sein (für backpropagation)\n",
    "\n",
    "\n",
    "torch.manual_seed(123)\n",
    "\n",
    "model_x = FCN(1,1,32,3)\n",
    "optimizer_x = torch.optim.Adam(model_x.parameters(),lr=1e-3)\n",
    "\n",
    "model_theta = FCN(1,1,32,3)\n",
    "optimizer_theta = torch.optim.Adam(model_theta.parameters(),lr=1e-3)\n",
    "\n",
    "\n",
    "episodes = 100\n",
    "num_save_plot = round(episodes/5) # speicher 5 Plots\n",
    "\n",
    "for i in range(1, episodes+1):\n",
    "\n",
    "    optimizer_x.zero_grad()\n",
    "    optimizer_theta.zero_grad()\n",
    "\n",
    "    # loss, der durch Abweichung der Prediction vom wahren Wert kommt\n",
    "    x_p = model_x(t_data)\n",
    "    loss_x_data = torch.mean((x_p - x_data)**2) \n",
    "    \n",
    "    theta_p = model_theta(t_data)\n",
    "    loss_theta_data = torch.mean((theta_p - theta_data)**2) \n",
    "     \n",
    "\n",
    "    # loss, wenn pred die Bewegunggleichung (nach 0 umgestellt) nicht korrekt erfüllt\n",
    "    x_pp = model_x(t_physics)\n",
    "    theta_pp = model_theta(t_physics)\n",
    "    \n",
    "    #x_p = pred[:,0].view(-1,1)\n",
    "    x_d_pp = torch.autograd.grad(x_pp, t_physics, torch.ones_like(x_pp), create_graph=True)[0]\n",
    "    x_dd_pp = torch.autograd.grad(x_d_pp, t_physics, torch.ones_like(x_d_pp), create_graph=True)[0]\n",
    "    \n",
    "    #theta_p = pred[:,1].view(-1,1)\n",
    "    theta_d_pp = torch.autograd.grad(theta_pp, t_physics, torch.ones_like(theta_pp), create_graph=True)[0]\n",
    "    theta_dd_pp = torch.autograd.grad(theta_d_pp, t_physics, torch.ones_like(theta_d_pp), create_graph=True)[0]\n",
    "    \n",
    "    sin_theta_pp = sin(theta_pp)\n",
    "    cos_theta_pp = cos(theta_pp)\n",
    "     \n",
    "    physics_x = (M+m)*x_dd_pp - m*l*theta_dd_pp*cos_theta_pp + m*l*theta_d_pp**2*sin_theta_pp\n",
    "    physics_theta = l*theta_dd_pp - x_dd_pp*cos_theta_pp - g*sin_theta_pp\n",
    "    #physics_x = x_dd_p-(m*sin(theta_p)*(g*cos(theta_p)-l*theta_d_p**2))/(M+m*sin(theta_p)**2)\n",
    "    #physics_theta = theta_dd_p-(sin(theta_p)*(M*g+m*g-l*m*cos(theta_p)*theta_d_p**2))/(l*(M+m*sin(theta_p)**2))\n",
    "    #physics = torch.cat((physics_x, physics_theta), 1)\n",
    "    \n",
    "    loss_physics_x = (1e-4)*torch.mean(physics_x**2)\n",
    "    loss_physics_theta = (1e-4)*torch.mean(physics_theta**2)\n",
    "    \n",
    "   \n",
    "    loss_theta = loss_theta_data + loss_physics_theta\n",
    "    loss_theta.backward() \n",
    "    optimizer_theta.step()\n",
    "\n",
    "    loss_x = loss_x_data + loss_physics_x\n",
    "    \n",
    "    #loss_physics = torch.mean(physics**2)\n",
    "    #loss = loss_data + loss_physics\n",
    "    loss_x.backward() \n",
    "    optimizer_x.step() \n",
    "    \n",
    "    \n",
    "    \n",
    "    \n",
    "    \n",
    "    if (i) % num_save_plot == 0: \n",
    "        \n",
    "        x = model_x(t).detach()\n",
    "        theta = model_theta(t).detach()\n",
    "        \n",
    "        plt.plot(t, x, t, theta)\n",
    "        plt.show()"
   ]
  },
  {
   "cell_type": "code",
   "execution_count": null,
   "metadata": {},
   "outputs": [],
   "source": []
  }
 ],
 "metadata": {
  "kernelspec": {
   "display_name": "Python 3",
   "language": "python",
   "name": "python3"
  },
  "language_info": {
   "codemirror_mode": {
    "name": "ipython",
    "version": 3
   },
   "file_extension": ".py",
   "mimetype": "text/x-python",
   "name": "python",
   "nbconvert_exporter": "python",
   "pygments_lexer": "ipython3",
   "version": "3.8.8"
  }
 },
 "nbformat": 4,
 "nbformat_minor": 4
}
