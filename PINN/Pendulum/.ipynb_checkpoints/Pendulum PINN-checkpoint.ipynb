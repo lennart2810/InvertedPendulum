{
 "cells": [
  {
   "cell_type": "markdown",
   "id": "e966a723",
   "metadata": {},
   "source": [
    "# Original: https://github.com/benmoseley/harmonic-oscillator-pinn\n",
    "### an mathematisches Pendel mit Dämpfung angepasst\n",
    "\n",
    "# pendulum physics-informed neural network (PINN)\n",
    "\n",
    "\n",
    "## Problem overview\n",
    "\n",
    "The example problem we solve here is the 2D damped pendulum:\n",
    "$$\n",
    "\\ddot \\theta + \\frac{\\delta}{m \\ell^2} \\cdot \\dot \\theta + \\frac{g}{\\ell} \\cdot \\sin(\\theta)  = 0~,\n",
    "$$\n",
    "with the initial conditions\n",
    "$$\n",
    "\\theta(0) = 3.14~[rad]~~,~~\\dot \\theta(0) = 0~[\\frac{rad}{s}]~.\n",
    "$$\n",
    "This has the following exact solution:\n",
    "$$\n",
    "???\n",
    "$$\n",
    "\n",
    "## Workflow overview\n",
    "\n",
    ">First we will train a standard neural network to interpolate a small part of the solution, using some observed training points from the solution.\n",
    "\n",
    ">Next, we will train a PINN to extrapolate the full solution outside of these training points by penalising the underlying differential equation in its loss function.\n",
    "\n",
    "## Environment set up\n",
    "\n",
    "We train the PINN using PyTorch, using the following environment set up:\n",
    "```bash\n",
    "conda create -n pinn python=3\n",
    "conda activate pinn\n",
    "conda install jupyter numpy matplotlib\n",
    "conda install pytorch torchvision torchaudio -c pytorch\n",
    "```\n",
    "```\n",
    "conda install scipy\n",
    "```\n",
    "\n",
    "### Activate Enviroment in cmd\n",
    "```bash\n",
    "conda activate pinn\n",
    "jupyter notebook \n",
    "```"
   ]
  },
  {
   "cell_type": "code",
   "execution_count": 1,
   "id": "0e3d0d5d",
   "metadata": {},
   "outputs": [],
   "source": [
    "from PIL import Image\n",
    "\n",
    "import numpy as np\n",
    "import torch\n",
    "import torch.nn as nn\n",
    "import matplotlib.pyplot as plt\n",
    "from scipy.integrate import odeint"
   ]
  },
  {
   "cell_type": "code",
   "execution_count": 2,
   "id": "2ac19c5e",
   "metadata": {},
   "outputs": [],
   "source": [
    "def save_gif_PIL(outfile, files, fps=5, loop=0):\n",
    "    \"Helper function for saving GIFs\"\n",
    "    imgs = [Image.open(file) for file in files]\n",
    "    imgs[0].save(fp=outfile, format='GIF', append_images=imgs[1:], save_all=True, duration=int(1000/fps), loop=loop)"
   ]
  },
  {
   "cell_type": "code",
   "execution_count": 3,
   "id": "8da13e02",
   "metadata": {},
   "outputs": [],
   "source": [
    "def oscillator(d, w0, x):\n",
    "    \"\"\"Defines the analytical solution to the 1D underdamped harmonic oscillator problem. \n",
    "    Equations taken from: https://beltoforion.de/en/harmonic_oscillator/\"\"\"\n",
    "    assert d < w0\n",
    "    w = np.sqrt(w0**2-d**2)\n",
    "    phi = np.arctan(-d/w)\n",
    "    A = 1/(2*np.cos(phi))\n",
    "    cos = torch.cos(phi+w*x)\n",
    "    sin = torch.sin(phi+w*x)\n",
    "    exp = torch.exp(-d*x)\n",
    "    y  = exp*2*A*cos\n",
    "    return y"
   ]
  },
  {
   "cell_type": "code",
   "execution_count": 4,
   "id": "28477296",
   "metadata": {},
   "outputs": [],
   "source": [
    "def pendulum(y, t, d, l):\n",
    "    \"\"\"Defines the analytical solution to the 2D damped pendulum problem.\n",
    "    Equations taken from: https://docs.scipy.org/doc/scipy/reference/generated/scipy.integrate.odeint.html\"\"\"\n",
    "    theta, omega = y\n",
    "    return [omega, -d/(m*l**2)*omega - g/l*np.sin(theta)]"
   ]
  },
  {
   "cell_type": "code",
   "execution_count": 5,
   "id": "2cfb921a",
   "metadata": {},
   "outputs": [],
   "source": [
    "class FCN(nn.Module):\n",
    "    \"Defines a connected network\"\n",
    "    \n",
    "    def __init__(self, N_INPUT, N_OUTPUT, N_HIDDEN, N_LAYERS):\n",
    "        super().__init__()\n",
    "        activation = nn.Tanh\n",
    "        self.fcs = nn.Sequential(*[\n",
    "                        nn.Linear(N_INPUT, N_HIDDEN),\n",
    "                        activation()])\n",
    "        self.fch = nn.Sequential(*[\n",
    "                        nn.Sequential(*[\n",
    "                            nn.Linear(N_HIDDEN, N_HIDDEN),\n",
    "                            activation()]) for _ in range(N_LAYERS-1)])\n",
    "        self.fce = nn.Linear(N_HIDDEN, N_OUTPUT)\n",
    "        \n",
    "    def forward(self, x):\n",
    "        x = self.fcs(x)\n",
    "        x = self.fch(x)\n",
    "        x = self.fce(x)\n",
    "        return x"
   ]
  },
  {
   "cell_type": "markdown",
   "id": "80ee01e6",
   "metadata": {},
   "source": [
    "## Generate training data\n",
    "\n",
    "> First, we generate some training data from a small part of the true numerical solution."
   ]
  },
  {
   "cell_type": "code",
   "execution_count": 21,
   "id": "ee60dc7b",
   "metadata": {},
   "outputs": [
    {
     "data": {
      "image/png": "[encoded data removed]",
      "text/plain": [
       "<Figure size 432x288 with 1 Axes>"
      ]
     },
     "metadata": {
      "needs_background": "light"
     },
     "output_type": "display_data"
    }
   ],
   "source": [
    "m = 1.0\n",
    "l = 1.0\n",
    "d = 0.2\n",
    "g = 9.81\n",
    "\n",
    "y0 = [2.0, 0.0]\n",
    "\n",
    "t1 = 8\n",
    "frames = 200\n",
    "t = np.linspace(0,t1,frames)\n",
    "\n",
    "# DGL mit odeint numerisch lösen\n",
    "solution = odeint(pendulum, y0, t, args=(d,l))\n",
    "theta = solution[:,0]\n",
    "omega = solution[:,1]\n",
    "\n",
    "# Messpunkte aus Lösung generieren\n",
    "t_data = t[20:100:10] # jeden 10. Messpunkt im Bereich [20-100]\n",
    "theta_data = theta[20:100:10]\n",
    "\n",
    "# theta über t\n",
    "fig = plt.figure(111)\n",
    "plt.title('damped pendulum')\n",
    "\n",
    "plt.plot(t, theta, '-k', label=\"Exact solution\")\n",
    "plt.scatter(t_data, theta_data, color=\"tab:red\", label=\"Training data\", zorder=3)\n",
    "\n",
    "plt.legend()\n",
    "plt.show()\n",
    "\n",
    "# np.array --> torch.Tensor \n",
    "theta = torch.Tensor(theta)\n",
    "theta = theta.view(-1,1)\n",
    "t = torch.Tensor(t).view(-1,1)\n",
    "\n",
    "theta_data = torch.Tensor(theta_data).view(-1,1)\n",
    "t_data = torch.Tensor(t_data).view(-1,1)"
   ]
  },
  {
   "cell_type": "markdown",
   "id": "2d8cd505",
   "metadata": {},
   "source": [
    "## Normal neural network\n",
    "\n",
    "> Next, we train a standard neural network (fully connected) to fit these training points.\n",
    "\n",
    ">We find that the network is able to fit the solution very closely in the vicinity of the training points, but does not learn an accurate solution outside of them."
   ]
  },
  {
   "cell_type": "code",
   "execution_count": 22,
   "id": "7847195e",
   "metadata": {
    "scrolled": false
   },
   "outputs": [],
   "source": [
    "def plot_result(x,y,x_data,y_data,yh,xp=None):\n",
    "    \n",
    "    \"Pretty plot training results\"\n",
    "    figure = plt.figure(figsize=(8,4))\n",
    "    plt.plot(x,y, color=\"grey\", linewidth=2, alpha=0.8, label=\"Exact solution\")\n",
    "    plt.plot(x,yh, color=\"tab:blue\", linewidth=4, alpha=0.8, label=\"Neural network prediction\")\n",
    "    plt.scatter(x_data, y_data, s=60, color=\"tab:orange\", alpha=0.4, label='Training data')\n",
    "    if xp is not None:\n",
    "        plt.scatter(xp, -0*torch.ones_like(xp), s=60, color=\"tab:green\", alpha=0.4, \n",
    "                    label='Physics loss training locations')\n",
    "    l = plt.legend(loc=(1.01,0.34), frameon=False, fontsize=\"large\")\n",
    "    plt.setp(l.get_texts(), color=\"k\")\n",
    "    x_max = torch.max(x)\n",
    "    y_min = torch.min(y)\n",
    "    y_max = torch.max(y)\n",
    "    plt.xlim(-0.1, x_max*1.1)\n",
    "    plt.ylim(y_min*1.1, y_max*1.1)\n",
    "    plt.text(x_max*1.1, y_max*0.75, \"Training step: %i\"%(i+1), fontsize=\"xx-large\", color=\"k\")\n",
    "    plt.axis(\"off\")\n",
    "    \n",
    "    return figure"
   ]
  },
  {
   "cell_type": "code",
   "execution_count": 11,
   "id": "dd56a251",
   "metadata": {},
   "outputs": [
    {
     "name": "stdout",
     "output_type": "stream",
     "text": [
      "<generator object Module.parameters at 0x7fb02ffecf20>\n"
     ]
    },
    {
     "data": {
      "image/png": "[encoded data removed]",
      "text/plain": [
       "<Figure size 576x288 with 1 Axes>"
      ]
     },
     "metadata": {
      "needs_background": "light"
     },
     "output_type": "display_data"
    }
   ],
   "source": [
    "# train standard neural network to fit training data\n",
    "torch.manual_seed(123) #Sets the seed for generating random numbers. Returns a torch.Generator object.\n",
    "model = FCN(1,1,32,3)\n",
    "print(model.parameters())\n",
    "optimizer = torch.optim.Adam(model.parameters(),lr=1e-3)\n",
    "files = []\n",
    "for i in range(1000):\n",
    "    \n",
    "    optimizer.zero_grad()\n",
    "    yh = model(t_data)\n",
    "    loss = torch.mean((yh-theta_data)**2)# use mean squared error\n",
    "    loss.backward()\n",
    "    optimizer.step()\n",
    "    \n",
    "    \n",
    "    # plot the result as training progresses\n",
    "    if (i+1) % 10 == 0: \n",
    "        \n",
    "        yh = model(t).detach()\n",
    "        \n",
    "        fig = plot_result(t,theta,t_data,theta_data,yh)\n",
    "        \n",
    "        file = \"plots/pendulum_nn_%.8i.png\"%(i+1)\n",
    "        fig.savefig(file, bbox_inches='tight', pad_inches=0.1, dpi=100, facecolor=\"white\")\n",
    "        files.append(file)\n",
    "    \n",
    "        if (i+1) % 1000 == 0: plt.show()\n",
    "        else: plt.close(\"all\")\n",
    "            \n",
    "save_gif_PIL(\"pendulum_nn.gif\", files, fps=20, loop=0)"
   ]
  },
  {
   "cell_type": "markdown",
   "id": "285d57ca",
   "metadata": {},
   "source": [
    "## PINN\n",
    "\n",
    "> Finally, we add the underlying differential equation (\"physics loss\") to the loss function. \n",
    "\n",
    "The physics loss aims to ensure that the learned solution is consistent with the underlying differential equation. This is done by penalising the residual of the differential equation over a set of locations sampled from the domain.\n",
    "\n",
    "Here we evaluate the physics loss at 30 points uniformly spaced over the problem domain. We can calculate the derivatives of the network solution with respect to its input variable at these points using `pytorch`'s autodifferentiation features, and can then easily compute the residual of the differential equation using these quantities."
   ]
  },
  {
   "cell_type": "code",
   "execution_count": 13,
   "id": "7026fd49",
   "metadata": {},
   "outputs": [
    {
     "name": "stdout",
     "output_type": "stream",
     "text": [
      "<class 'torch.Tensor'> 160\n"
     ]
    }
   ],
   "source": [
    "x_physics = torch.linspace(0,t1,t1*20).view(-1,1).requires_grad_(True)# sample locations over the problem domain\n",
    "print(type(x_physics), len(x_physics))\n",
    "\n",
    "torch.manual_seed(123)\n",
    "model = FCN(1,1,32,3)\n",
    "optimizer = torch.optim.Adam(model_pendulum.parameters(),lr=1e-4)\n",
    "files = []\n",
    "\n",
    "for i in range(1000):\n",
    "    optimizer.zero_grad()\n",
    "    \n",
    "    # compute the \"data loss\"\n",
    "    yh = model(t_data)\n",
    "    loss1 = torch.mean((yh-theta_data)**2)# use mean squared error\n",
    "    \n",
    "    # compute the \"physics loss\"\n",
    "    yhp = model(x_physics)\n",
    "    dx  = torch.autograd.grad(yhp, x_physics, torch.ones_like(yhp), create_graph=True)[0]# computes dy/dx\n",
    "    dx2 = torch.autograd.grad(dx,  x_physics, torch.ones_like(dx),  create_graph=True)[0]# computes d^2y/dx^2\n",
    "    #physics = dx2 + mu*dx + k*yhp# computes the residual of the 1D harmonic oscillator differential equation\n",
    "    physics = dx2 + (d/m*l**2)*dx + (g/l)*yhp\n",
    "    loss2 = (1e-4)*torch.mean(physics**2)\n",
    "    \n",
    "    # backpropagate joint loss\n",
    "    loss = loss1 + loss2 # add two loss terms together\n",
    "    loss.backward()\n",
    "    optimizer.step()\n",
    "    \n",
    "    \n",
    "    # plot the result as training progresses\n",
    "    if (i+1) % 500 == 0: \n",
    "        \n",
    "        yh = model(t).detach()\n",
    "        xp = x_physics.detach()\n",
    "        \n",
    "        plot_result(t,theta,t_data,theta_data,yh,xp)\n",
    "        \n",
    "        file = \"plots/pendulum_pinn_%.8i.png\"%(i+1)\n",
    "        plt.savefig(file, bbox_inches='tight', pad_inches=0.1, dpi=100, facecolor=\"white\")\n",
    "        files.append(file)\n",
    "        \n",
    "        if (i+1) % 20000 == 0: plt.show()\n",
    "        else: plt.close(\"all\")\n",
    "            \n",
    "save_gif_PIL(\"pendulum_pinn.gif\", files, fps=20, loop=0)"
   ]
  },
  {
   "cell_type": "code",
   "execution_count": null,
   "id": "e634b835",
   "metadata": {},
   "outputs": [],
   "source": []
  }
 ],
 "metadata": {
  "kernelspec": {
   "display_name": "Python 3",
   "language": "python",
   "name": "python3"
  },
  "language_info": {
   "codemirror_mode": {
    "name": "ipython",
    "version": 3
   },
   "file_extension": ".py",
   "mimetype": "text/x-python",
   "name": "python",
   "nbconvert_exporter": "python",
   "pygments_lexer": "ipython3",
   "version": "3.8.8"
  }
 },
 "nbformat": 4,
 "nbformat_minor": 5
}
