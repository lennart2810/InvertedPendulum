{
 "cells": [
  {
   "cell_type": "markdown",
   "id": "5edd2ba6",
   "metadata": {},
   "source": [
    "https://github.com/lululxvi/deepxde/issues/384\n",
    "\n",
    "\n",
    ">Hi, Lulu!\n",
    "I am a beginner in this area. I am trying to modify the 'ode_system.py' to solve an ODE that describes a simple pendulum movement. I always got very large test metrics and it changed very slowly. Shall I need to add something or change the hyperparameter of the FNN?\n",
    "The following is my codes, hope you can give me some advice to improve it. Thank you in advance!\n",
    "\n",
    ">Try TimeDomain(0, 1) first"
   ]
  },
  {
   "cell_type": "code",
   "execution_count": 4,
   "id": "00417932",
   "metadata": {},
   "outputs": [
    {
     "name": "stdout",
     "output_type": "stream",
     "text": [
      "Compiling model...\n",
      "Building feed-forward neural network...\n",
      "'build' took 0.040942 s\n",
      "\n",
      "'compile' took 0.285937 s\n",
      "\n",
      "Initializing variables...\n",
      "Training model...\n",
      "\n",
      "Step      Train loss              Test loss               Test metric   \n",
      "0         [5.02e-03, nan]         [5.02e-03, nan]         [9.18e-01]    \n",
      "1000      [1.39e-09, nan]         [1.21e-09, nan]         [4.67e+00]    \n",
      "2000      [1.26e-07, nan]         [1.24e-07, nan]         [4.67e+00]    \n",
      "3000      [8.19e-09, nan]         [8.34e-09, nan]         [4.67e+00]    \n",
      "4000      [5.08e-08, nan]         [5.10e-08, nan]         [4.67e+00]    \n",
      "5000      [7.47e-07, nan]         [7.47e-07, nan]         [4.67e+00]    \n",
      "6000      [1.02e-06, nan]         [1.02e-06, nan]         [4.67e+00]    \n",
      "7000      [3.27e-05, nan]         [3.27e-05, nan]         [4.66e+00]    \n",
      "8000      [1.73e-06, nan]         [1.73e-06, nan]         [4.67e+00]    \n",
      "9000      [3.46e-04, nan]         [3.46e-04, nan]         [4.65e+00]    \n",
      "10000     [4.08e-06, nan]         [4.08e-06, nan]         [4.67e+00]    \n",
      "11000     [9.46e-11, nan]         [9.58e-11, nan]         [4.67e+00]    \n",
      "12000     [2.38e-04, nan]         [2.38e-04, nan]         [4.69e+00]    \n",
      "13000     [3.04e-03, nan]         [3.04e-03, nan]         [4.61e+00]    \n",
      "14000     [1.52e-04, nan]         [1.52e-04, nan]         [4.66e+00]    \n",
      "15000     [1.02e-04, nan]         [1.02e-04, nan]         [4.66e+00]    \n",
      "16000     [5.04e-03, nan]         [5.04e-03, nan]         [4.59e+00]    \n",
      "17000     [4.62e-04, nan]         [4.62e-04, nan]         [4.69e+00]    \n",
      "18000     [2.44e-06, nan]         [2.44e-06, nan]         [4.67e+00]    \n",
      "19000     [1.94e-07, nan]         [1.94e-07, nan]         [4.67e+00]    \n",
      "20000     [6.19e-03, nan]         [6.19e-03, nan]         [4.76e+00]    \n",
      "\n",
      "Best model at step 0:\n",
      "  train loss: inf\n",
      "  test loss: inf\n",
      "  test metric: \n",
      "\n",
      "'train' took 9.019239 s\n",
      "\n"
     ]
    },
    {
     "ename": "AttributeError",
     "evalue": "'NoneType' object has no attribute 'shape'",
     "output_type": "error",
     "traceback": [
      "\u001b[1;31m---------------------------------------------------------------------------\u001b[0m",
      "\u001b[1;31mAttributeError\u001b[0m                            Traceback (most recent call last)",
      "\u001b[1;32m~\\AppData\\Local\\Temp/ipykernel_2980/2402227196.py\u001b[0m in \u001b[0;36m<module>\u001b[1;34m\u001b[0m\n\u001b[0;32m     33\u001b[0m \u001b[0mlosshistory\u001b[0m\u001b[1;33m,\u001b[0m \u001b[0mtrain_state\u001b[0m \u001b[1;33m=\u001b[0m \u001b[0mmodel\u001b[0m\u001b[1;33m.\u001b[0m\u001b[0mtrain\u001b[0m\u001b[1;33m(\u001b[0m\u001b[0mepochs\u001b[0m\u001b[1;33m=\u001b[0m\u001b[1;36m20000\u001b[0m\u001b[1;33m)\u001b[0m\u001b[1;33m\u001b[0m\u001b[1;33m\u001b[0m\u001b[0m\n\u001b[0;32m     34\u001b[0m \u001b[1;33m\u001b[0m\u001b[0m\n\u001b[1;32m---> 35\u001b[1;33m \u001b[0mdde\u001b[0m\u001b[1;33m.\u001b[0m\u001b[0msaveplot\u001b[0m\u001b[1;33m(\u001b[0m\u001b[0mlosshistory\u001b[0m\u001b[1;33m,\u001b[0m \u001b[0mtrain_state\u001b[0m\u001b[1;33m,\u001b[0m \u001b[0missave\u001b[0m\u001b[1;33m=\u001b[0m\u001b[1;32mFalse\u001b[0m\u001b[1;33m,\u001b[0m \u001b[0misplot\u001b[0m\u001b[1;33m=\u001b[0m\u001b[1;32mTrue\u001b[0m\u001b[1;33m)\u001b[0m\u001b[1;33m\u001b[0m\u001b[1;33m\u001b[0m\u001b[0m\n\u001b[0m",
      "\u001b[1;32m~\\anaconda3\\envs\\pinn\\lib\\site-packages\\deepxde\\postprocessing.py\u001b[0m in \u001b[0;36msaveplot\u001b[1;34m(loss_history, train_state, issave, isplot, loss_fname, train_fname, test_fname, output_dir)\u001b[0m\n\u001b[0;32m     39\u001b[0m     \u001b[1;32mif\u001b[0m \u001b[0misplot\u001b[0m\u001b[1;33m:\u001b[0m\u001b[1;33m\u001b[0m\u001b[1;33m\u001b[0m\u001b[0m\n\u001b[0;32m     40\u001b[0m         \u001b[0mplot_loss_history\u001b[0m\u001b[1;33m(\u001b[0m\u001b[0mloss_history\u001b[0m\u001b[1;33m)\u001b[0m\u001b[1;33m\u001b[0m\u001b[1;33m\u001b[0m\u001b[0m\n\u001b[1;32m---> 41\u001b[1;33m         \u001b[0mplot_best_state\u001b[0m\u001b[1;33m(\u001b[0m\u001b[0mtrain_state\u001b[0m\u001b[1;33m)\u001b[0m\u001b[1;33m\u001b[0m\u001b[1;33m\u001b[0m\u001b[0m\n\u001b[0m\u001b[0;32m     42\u001b[0m         \u001b[0mplt\u001b[0m\u001b[1;33m.\u001b[0m\u001b[0mshow\u001b[0m\u001b[1;33m(\u001b[0m\u001b[1;33m)\u001b[0m\u001b[1;33m\u001b[0m\u001b[1;33m\u001b[0m\u001b[0m\n\u001b[0;32m     43\u001b[0m \u001b[1;33m\u001b[0m\u001b[0m\n",
      "\u001b[1;32m~\\anaconda3\\envs\\pinn\\lib\\site-packages\\deepxde\\postprocessing.py\u001b[0m in \u001b[0;36mplot_best_state\u001b[1;34m(train_state)\u001b[0m\n\u001b[0;32m    103\u001b[0m     \u001b[0mX_train\u001b[0m\u001b[1;33m,\u001b[0m \u001b[0my_train\u001b[0m\u001b[1;33m,\u001b[0m \u001b[0mX_test\u001b[0m\u001b[1;33m,\u001b[0m \u001b[0my_test\u001b[0m\u001b[1;33m,\u001b[0m \u001b[0mbest_y\u001b[0m\u001b[1;33m,\u001b[0m \u001b[0mbest_ystd\u001b[0m \u001b[1;33m=\u001b[0m \u001b[0mtrain_state\u001b[0m\u001b[1;33m.\u001b[0m\u001b[0mpacked_data\u001b[0m\u001b[1;33m(\u001b[0m\u001b[1;33m)\u001b[0m\u001b[1;33m\u001b[0m\u001b[1;33m\u001b[0m\u001b[0m\n\u001b[0;32m    104\u001b[0m \u001b[1;33m\u001b[0m\u001b[0m\n\u001b[1;32m--> 105\u001b[1;33m     \u001b[0my_dim\u001b[0m \u001b[1;33m=\u001b[0m \u001b[0mbest_y\u001b[0m\u001b[1;33m.\u001b[0m\u001b[0mshape\u001b[0m\u001b[1;33m[\u001b[0m\u001b[1;36m1\u001b[0m\u001b[1;33m]\u001b[0m\u001b[1;33m\u001b[0m\u001b[1;33m\u001b[0m\u001b[0m\n\u001b[0m\u001b[0;32m    106\u001b[0m \u001b[1;33m\u001b[0m\u001b[0m\n\u001b[0;32m    107\u001b[0m     \u001b[1;31m# Regression plot\u001b[0m\u001b[1;33m\u001b[0m\u001b[1;33m\u001b[0m\u001b[0m\n",
      "\u001b[1;31mAttributeError\u001b[0m: 'NoneType' object has no attribute 'shape'"
     ]
    },
    {
     "data": {
      "image/png": "[encoded data removed]",
      "text/plain": [
       "<Figure size 432x288 with 1 Axes>"
      ]
     },
     "metadata": {
      "needs_background": "light"
     },
     "output_type": "display_data"
    }
   ],
   "source": [
    "import deepxde as dde\n",
    "import numpy as np\n",
    "import tensorflow as tf\n",
    "\n",
    "def ode_system(t, theta):\n",
    "    \"\"\"ODE\n",
    "    theta''(t) = -g*sin(theta(t))/L\n",
    "    \"\"\"\n",
    "    dtheta1_dt = dde.grad.jacobian(theta, t, i=0)\n",
    "    dtheta2_dt = dde.grad.jacobian(dtheta1_dt, t, i=0)\n",
    "    return [dtheta2_dt + tf.sin(theta)]\n",
    "\n",
    "def boundary(_, on_initial):\n",
    "    return on_initial\n",
    "\n",
    "def func(t):\n",
    "    \"\"\"\n",
    "    theta = cos(t)\n",
    "    \"\"\"\n",
    "    return np.cos(t)\n",
    "\n",
    "geom = dde.geometry.TimeDomain(0, 1)\n",
    "ic1 = dde.IC(geom, np.cos, boundary, component=0)\n",
    "data = dde.data.PDE(geom, ode_system, [ic1], 30, 1, solution=func, num_test=50) \n",
    "\n",
    "layer_size = [1] + [30] * 3 + [1]\n",
    "activation = \"sigmoid\"\n",
    "initializer = \"Glorot uniform\"\n",
    "net = dde.maps.FNN(layer_size, activation, initializer)\n",
    "\n",
    "model = dde.Model(data, net)\n",
    "model.compile(\"adam\", lr=0.1, metrics=[\"l2 relative error\"])\n",
    "losshistory, train_state = model.train(epochs=20000)\n",
    "\n",
    "dde.saveplot(losshistory, train_state, issave=False, isplot=True)"
   ]
  },
  {
   "cell_type": "code",
   "execution_count": null,
   "id": "eabe4a5d",
   "metadata": {},
   "outputs": [],
   "source": [
    "\"\"\"Backend supported: tensorflow.compat.v1, tensorflow, pytorch\"\"\"\n",
    "import deepxde as dde\n",
    "import numpy as np\n",
    "\n",
    "\n",
    "def ode_system(x, y):\n",
    "    \"\"\"ODE system.\n",
    "    dy1/dx = y2\n",
    "    dy2/dx = -y1\n",
    "    \"\"\"\n",
    "    y1, y2 = y[:, 0:1], y[:, 1:]\n",
    "    dy1_x = dde.grad.jacobian(y, x, i=0)\n",
    "    dy2_x = dde.grad.jacobian(y, x, i=1)\n",
    "    return [dy1_x - y2, dy2_x + y1]\n",
    "\n",
    "\n",
    "def boundary(_, on_initial):\n",
    "    return on_initial\n",
    "\n",
    "\n",
    "def func(x):\n",
    "    \"\"\"\n",
    "    y1 = sin(x)\n",
    "    y2 = cos(x)\n",
    "    \"\"\"\n",
    "    return np.hstack((np.sin(x), np.cos(x)))\n",
    "\n",
    "\n",
    "geom = dde.geometry.TimeDomain(0, 10)\n",
    "ic1 = dde.IC(geom, np.sin, boundary, component=0)\n",
    "ic2 = dde.IC(geom, np.cos, boundary, component=1)\n",
    "data = dde.data.PDE(geom, ode_system, [ic1, ic2], 35, 2, solution=func, num_test=100)\n",
    "\n",
    "layer_size = [1] + [50] * 3 + [2]\n",
    "activation = \"tanh\"\n",
    "initializer = \"Glorot uniform\"\n",
    "net = dde.maps.FNN(layer_size, activation, initializer)\n",
    "\n",
    "model = dde.Model(data, net)\n",
    "model.compile(\"adam\", lr=0.001, metrics=[\"l2 relative error\"])\n",
    "losshistory, train_state = model.train(epochs=20000)\n",
    "\n",
    "dde.saveplot(losshistory, train_state, issave=True, isplot=True)"
   ]
  },
  {
   "cell_type": "code",
   "execution_count": null,
   "id": "a112175c",
   "metadata": {},
   "outputs": [],
   "source": []
  },
  {
   "cell_type": "code",
   "execution_count": null,
   "id": "94ae3b47",
   "metadata": {},
   "outputs": [],
   "source": []
  }
 ],
 "metadata": {
  "kernelspec": {
   "display_name": "Python 3 (ipykernel)",
   "language": "python",
   "name": "python3"
  },
  "language_info": {
   "codemirror_mode": {
    "name": "ipython",
    "version": 3
   },
   "file_extension": ".py",
   "mimetype": "text/x-python",
   "name": "python",
   "nbconvert_exporter": "python",
   "pygments_lexer": "ipython3",
   "version": "3.9.7"
  }
 },
 "nbformat": 4,
 "nbformat_minor": 5
}
