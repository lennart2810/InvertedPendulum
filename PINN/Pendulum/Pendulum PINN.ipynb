{
 "cells": [
  {
   "cell_type": "markdown",
   "id": "e966a723",
   "metadata": {},
   "source": [
    "# Physics-Informed Neural Network (PINN)\n",
    "\n",
    "\n",
    "## Problem overview\n",
    "\n",
    "<div align=\"center\">\n",
    "  <a href=\"https://de.wikipedia.org/wiki/Mathematisches_Pendel#:~:text=Mathematisches%20Pendel.%20Das%20mathematische%20Pendel%20oder%20ebene%20Pendel,schwingen%2C%20wobei%20Reibungseffekte%2C%20insbesondere%20der%20Luftwiderstand%20vernachl%C3%A4ssigt%20werden.\">\n",
    "    <img src=\"https://upload.wikimedia.org/wikipedia/commons/3/3a/Kraefte_am_Fadenpendel_gro%C3%9F.svg\" \n",
    "    alt=\"Images\" width=\"200\">\n",
    "  </a>\n",
    "</div>\n",
    "\n",
    "$$\n",
    "\\ddot \\theta + \\frac{\\delta}{m l^2} \\cdot \\dot \\theta + \\frac{g}{l} \\cdot \\sin(\\theta)  = 0~,\n",
    "$$\n",
    "\n",
    "$$\n",
    "\\theta_0 = 3.14~[rad]~~,~~\\dot \\theta_0 = 0~[\\frac{rad}{s}]~.\n",
    "$$\n",
    "\n",
    "## Workflow\n",
    "\n",
    "\n",
    "> * Symbolische Herleitung (**`sympy`**) der Bewegungsgleichung des freien, gedämpften Pendels nach Legrange mit.\n",
    "\n",
    "> * Numerische Lösung der DGL mit Hilfe von **`scipy.itegrate.odeint`**.\n",
    "\n",
    "> * Trainingspunkte, die eine reale Messung ersetzen, aus numerischer Lösung extrahieren.\n",
    "\n",
    "> * Interpolation der Punkte mit Hilfe eines Neuronales Netzes.\n",
    "\n",
    "> * Training eines PINNs, um den Bewegungsablauf ausßerhalb der Trainingspunkte anzunähern, indem DGL in die Loss-Funktion eingebettet wird.\n",
    "\n",
    "\n",
    "### Environment set up\n",
    "\n",
    "Sollten Fehlermeldungen erscheinen, obwohl alle benötigten Module installiert sind, hilft es wohlmöglich eine virtuelle Umgebung für das Arbeiten mit PINNs einzurichten:\n",
    "```bash\n",
    "conda create -n pinn python=3\n",
    "conda activate pinn\n",
    "conda install jupyter numpy matplotlib\n",
    "conda install pytorch torchvision torchaudio -c pytorch\n",
    "```\n",
    "```\n",
    "conda install scipy, sympy\n",
    "```\n",
    "\n",
    "#### Activate Enviroment in cmd\n",
    "```bash\n",
    "conda activate pinn\n",
    "jupyter notebook \n",
    "```\n",
    "\n",
    "## Credits:\n",
    "Das Problem des gedämpften Einmassenschwingers ([benmoseley](https://github.com/benmoseley/harmonic-oscillator-pinn)) wurde an das mathematische Pendel angepasst."
   ]
  },
  {
   "cell_type": "markdown",
   "id": "022da73d",
   "metadata": {},
   "source": [
    "## Herleitung der DGL"
   ]
  },
  {
   "cell_type": "code",
   "execution_count": 1,
   "id": "cebd74ec",
   "metadata": {},
   "outputs": [
    {
     "data": {
      "image/png": "[encoded data removed]",
      "text/latex": [
       "$\\displaystyle \\ddot{\\theta} = - \\frac{d \\dot{\\theta}}{l^{2} m} - \\frac{g \\sin{\\left(\\theta \\right)}}{l}$"
      ],
      "text/plain": [
       "      d⋅θ̇   g⋅sin(θ)\n",
       "θ̈ = - ──── - ────────\n",
       "       2        l    \n",
       "      l ⋅m           "
      ]
     },
     "metadata": {},
     "output_type": "display_data"
    }
   ],
   "source": [
    "import sympy as smp\n",
    "import sympy.physics.mechanics as mech\n",
    "mech.init_vprinting()\n",
    "\n",
    "# symbolische Herleitung der DGL\n",
    "t, g, l, m, d = smp.symbols('t, g l m d')\n",
    "\n",
    "theta = smp.Function('theta')(t)\n",
    "theta_d = theta.diff(t)\n",
    "theta_dd = theta_d.diff(t)\n",
    "\n",
    "T = smp.Rational(1,2) * m * (l * theta_d)**2\n",
    "V = m * g * (- l * smp.cos(theta))\n",
    "L = T - V\n",
    "\n",
    "LE = smp.diff(smp.diff(L, theta_d) ,t) - smp.diff(L, theta)\n",
    "LE = smp.Eq(LE, -d * theta_d)\n",
    "\n",
    "solution = smp.solve(LE, theta_dd)\n",
    "display(smp.Eq(theta_dd, solution[0]))\n",
    "\n",
    "# symbolic --> numeric computeable\n",
    "dthetadt = smp.lambdify(theta_d, theta_d)\n",
    "domegadt = smp.lambdify((t, theta, theta_d, g, l, m, d), solution[0])\n",
    "\n",
    "def dSdt(S, t, g, l, m, d):\n",
    "    theta, omega = S\n",
    "    return [\n",
    "        dthetadt(omega),\n",
    "        domegadt(t, theta, omega, g, l, m, d)\n",
    "    ]"
   ]
  },
  {
   "cell_type": "markdown",
   "id": "80ee01e6",
   "metadata": {},
   "source": [
    "## Generate training data"
   ]
  },
  {
   "cell_type": "code",
   "execution_count": 2,
   "id": "ee60dc7b",
   "metadata": {},
   "outputs": [
    {
     "data": {
      "image/png": "[encoded data removed]",
      "text/plain": [
       "<Figure size 432x288 with 1 Axes>"
      ]
     },
     "metadata": {
      "needs_background": "light"
     },
     "output_type": "display_data"
    }
   ],
   "source": [
    "import torch\n",
    "import numpy as np\n",
    "import matplotlib.pyplot as plt\n",
    "from scipy.integrate import odeint\n",
    "from scipy.interpolate import interpolate\n",
    "\n",
    "# Zeitbereich\n",
    "t1 = 10\n",
    "frames = 200\n",
    "t = np.linspace(0,t1,frames)\n",
    "\n",
    "\n",
    "l = 1.0\n",
    "d = 0.4\n",
    "m = 1.0\n",
    "g = 9.81\n",
    "\n",
    "S0 = [2.0, 0.0]\n",
    "\n",
    "solution = odeint(dSdt, y0=S0, t=t, args=(g, l, m, d))\n",
    "theta = solution[:,0]\n",
    "\n",
    "\n",
    "theta_solution = interpolate.interp1d(t, theta, 'cubic') # Lösungsfunktion (für DeepXDE solution)\n",
    "\n",
    "\n",
    "# Messpunkte aus Lösung generieren\n",
    "# jeden 10. Messpunkt im Bereich [20-100]\n",
    "t_data = t[5:110:5] \n",
    "theta_data = theta[5:110:5]\n",
    "theta_data_noise = theta_data + np.random.normal(-0.1, 0.1, len(theta_data))\n",
    "\n",
    "# theta über t\n",
    "fig = plt.figure(111)\n",
    "plt.title('damped pendulum')\n",
    "\n",
    "plt.plot(t, theta, '-k', label=\"Numerical Solution\")\n",
    "plt.scatter(t_data, theta_data, color=\"tab:orange\", label=\"Training Points\", zorder=3)\n",
    "plt.scatter(t_data, theta_data_noise, color=\"tab:red\", label=\"Noise Data\", zorder=3)\n",
    "\n",
    "plt.legend()\n",
    "plt.show()\n",
    "\n",
    "\n",
    "# Array --> torch.Tensor \n",
    "theta = torch.Tensor(theta)\n",
    "theta = theta.view(-1,1)\n",
    "t = torch.Tensor(t).view(-1,1)\n",
    "\n",
    "theta_data = torch.Tensor(theta_data).view(-1,1)\n",
    "theta_data_noise = torch.Tensor(theta_data_noise).view(-1,1)\n",
    "t_data = torch.Tensor(t_data).view(-1,1)"
   ]
  },
  {
   "cell_type": "code",
   "execution_count": null,
   "id": "fd6c9e57",
   "metadata": {},
   "outputs": [],
   "source": [
    "import torch.nn as nn\n",
    "\n",
    "class FCN(nn.Module):\n",
    "    \"Defines a connected network\"\n",
    "    \n",
    "    def __init__(self, N_INPUT, N_OUTPUT, N_HIDDEN, N_LAYERS):\n",
    "        super().__init__()\n",
    "        activation = nn.Tanh\n",
    "        self.fcs = nn.Sequential(*[\n",
    "                        nn.Linear(N_INPUT, N_HIDDEN),\n",
    "                        activation()])\n",
    "        self.fch = nn.Sequential(*[\n",
    "                        nn.Sequential(*[\n",
    "                            nn.Linear(N_HIDDEN, N_HIDDEN),\n",
    "                            activation()]) for _ in range(N_LAYERS-1)])\n",
    "        self.fce = nn.Linear(N_HIDDEN, N_OUTPUT)\n",
    "        \n",
    "    def forward(self, x):\n",
    "        x = self.fcs(x)\n",
    "        x = self.fch(x)\n",
    "        x = self.fce(x)\n",
    "        return x"
   ]
  },
  {
   "cell_type": "code",
   "execution_count": null,
   "id": "9bdc06bf",
   "metadata": {},
   "outputs": [],
   "source": [
    "from PIL import Image\n",
    "\n",
    "def save_gif_PIL(outfile, files, fps=5, loop=0):\n",
    "    \"Helper function for saving GIFs\"\n",
    "    imgs = [Image.open(file) for file in files]\n",
    "    imgs[0].save(fp=outfile, format='GIF', append_images=imgs[1:], save_all=True, duration=int(1000/fps), loop=loop)\n",
    "\n",
    "def plot_result(x,y,x_data,y_data,yh,xp=None):\n",
    "    \n",
    "    \"Pretty plot training results\"\n",
    "    figure = plt.figure(figsize=(8,4))\n",
    "    plt.plot(x,y, color=\"grey\", linewidth=2, alpha=0.8, label=\"Exact solution\")\n",
    "    plt.plot(x,yh, color=\"tab:blue\", linewidth=4, alpha=0.8, label=\"Neural network prediction\")\n",
    "    plt.scatter(x_data, y_data, s=60, color=\"tab:orange\", alpha=0.4, label='Training data')\n",
    "    if xp is not None:\n",
    "        plt.scatter(xp, -0*torch.ones_like(xp), s=60, color=\"tab:green\", alpha=0.4, \n",
    "                    label='Physics loss training locations')\n",
    "    l = plt.legend(loc=(1.01,0.34), frameon=False, fontsize=\"large\")\n",
    "    plt.setp(l.get_texts(), color=\"k\")\n",
    "    x_max = torch.max(x)\n",
    "    y_min = torch.min(y)\n",
    "    y_max = torch.max(y)\n",
    "    plt.xlim(-0.1, x_max*1.1)\n",
    "    plt.ylim(y_min*1.1, y_max*1.1)\n",
    "    plt.text(x_max*1.1, y_max*0.75, \"Training step: %i\"%(i+1), fontsize=\"xx-large\", color=\"k\")\n",
    "    plt.axis(\"off\")\n",
    "    \n",
    "    return figure"
   ]
  },
  {
   "cell_type": "code",
   "execution_count": null,
   "id": "12d23182",
   "metadata": {},
   "outputs": [],
   "source": []
  },
  {
   "cell_type": "code",
   "execution_count": null,
   "id": "d4267e96",
   "metadata": {},
   "outputs": [],
   "source": []
  },
  {
   "cell_type": "markdown",
   "id": "2d8cd505",
   "metadata": {},
   "source": [
    "## Normal neural network\n",
    "\n",
    "> Next, we train a standard neural network (fully connected) to fit these training points.\n",
    "\n",
    ">We find that the network is able to fit the solution very closely in the vicinity of the training points, but does not learn an accurate solution outside of them.\n",
    "\n",
    ">\"One popular way of doing this using machine learning is to use a neural network. Given the location of a data point as input (denoted x), a neural network can be used to output a prediction of its value (denoted u), as shown in the figure below.\" [Ben Moseley](https://benmoseley.blog/my-research/so-what-is-a-physics-informed-neural-network/)\n",
    "\n",
    "<div align=\"center\">\n",
    "  <a href=\"https://benmoseley.blog/my-research/so-what-is-a-physics-informed-neural-network/\">\n",
    "    <img src=\"https://benmoseley.blog/wp-content/uploads/2021/08/nn.png\" \n",
    "    alt=\"Images\" width=\"600\">\n",
    "  </a>\n",
    "</div>\n",
    "\n",
    "> To learn a model, we try to tune the network’s free parameters (denoted by the \\thetas in the figure above) so that the network’s predictions closely match the available experimental data. This is usually done by minimising the mean-squared-error between its predictions and the training points;\n",
    "\n",
    ">The problem is, using a purely data-driven approach like this can have significant downsides. Have a look at the actual values of the unknown physical process used to generate the experimental data in the animation above (grey line).\n",
    "\n",
    ">You can see that whilst the neural network accurately models the physical process within the vicinity of the experimental data, it fails to generalise away from this training data. By only relying on the data, one could argue it hasn’t truly “understood” the scientific problem."
   ]
  },
  {
   "cell_type": "code",
   "execution_count": null,
   "id": "880865d4",
   "metadata": {},
   "outputs": [],
   "source": [
    "# train standard neural network to fit training data\n",
    "torch.manual_seed(123)\n",
    "model = FCN(1,1,32,3)\n",
    "optimizer = torch.optim.Adam(model.parameters(),lr=1e-3)\n",
    "files = []\n",
    "\n",
    "episodes = 4000\n",
    "\n",
    "for i in range(episodes):\n",
    "    optimizer.zero_grad()\n",
    "    \n",
    "    #theta_prediction --> theta_p\n",
    "    theta_p = model(t_data)\n",
    "    loss = torch.mean((theta_p - theta_data)**2) # mean squared error\n",
    "    loss.backward() # Gradient berechnen\n",
    "    optimizer.step() # Backpropagation\n",
    "    \n",
    "    \n",
    "    # plot the result as training progresses\n",
    "    if (i+1) % (round(episodes/25)) == 0: \n",
    "        \n",
    "        theta_p = model(t).detach()\n",
    "        \n",
    "        plot_result(t,theta,t_data,theta_data,theta_p)\n",
    "        \n",
    "        file = \"plots/nn_%.8i.png\"%(i+1)\n",
    "        plt.savefig(file, bbox_inches='tight', pad_inches=0.1, dpi=100, facecolor=\"white\")\n",
    "        files.append(file)\n",
    "    \n",
    "        if (i+1) % episodes == 0: plt.show()\n",
    "        else: plt.close(\"all\")\n",
    "            \n",
    "save_gif_PIL(\"Pendulum_NN.gif\", files, fps=10, loop=0)"
   ]
  },
  {
   "cell_type": "markdown",
   "id": "285d57ca",
   "metadata": {},
   "source": [
    "## PINN\n",
    "\n",
    "> Finally, we add the underlying differential equation (\"physics loss\") to the loss function. \n",
    "\n",
    "The physics loss aims to ensure that the learned solution is consistent with the underlying differential equation. This is done by penalising the residual of the differential equation over a set of locations sampled from the domain.\n",
    "\n",
    "Here we evaluate the physics loss at 30 points uniformly spaced over the problem domain. We can calculate the derivatives of the network solution with respect to its input variable at these points using `pytorch`'s autodifferentiation features, and can then easily compute the residual of the differential equation using these quantities.\n",
    "\n",
    "<div align=\"center\">\n",
    "  <a href=\"https://benmoseley.blog/my-research/so-what-is-a-physics-informed-neural-network/\">\n",
    "    <img src=\"https://benmoseley.blog/wp-content/uploads/2021/08/pinn.png\" \n",
    "    alt=\"Images\" width=\"600\">\n",
    "  </a>\n",
    "</div>\n",
    "\n",
    "\n",
    "\n",
    "\n",
    "\n",
    ">One way to do this for our problem is to use a physics-informed neural network [1,2]. The idea is very simple: add the known differential equations directly into the loss function when training the neural network.\n",
    "\n",
    ">This is done by sampling a set of input training locations (\\{x_{j}\\}) and passing them through the network. Next gradients of the network’s output with respect to its input are computed at these locations (which are typically analytically available for most neural networks, and can be easily computed using autodifferentiation). Finally, the residual of the underlying differential equation is computed using these gradients, and added as an extra term in the loss function.\n",
    "\n",
    ">The physics-informed neural network is able to predict the solution far away from the experimental data points, and thus performs much better than the naive network. One could argue that this network does indeed have some concept of our prior physical principles.\n",
    "\n",
    ">The naive network is performing poorly because we are “throwing away” our existing scientific knowledge; with only the data at hand, it is like trying to understand all of the data generated by a particle collider, without having been to a physics class!"
   ]
  },
  {
   "cell_type": "code",
   "execution_count": null,
   "id": "280a0547",
   "metadata": {},
   "outputs": [],
   "source": []
  },
  {
   "cell_type": "code",
   "execution_count": null,
   "id": "7026fd49",
   "metadata": {},
   "outputs": [],
   "source": [
    "import time\n",
    "\n",
    "x_physics = torch.linspace(0,t1,t1*3).view(-1,1) # sample locations over the problem domain\n",
    "x_physics.requires_grad_(True) # punkte sollen differenzierbar sein (für backpropagation)\n",
    "\n",
    "# --> zeitpunkte an denen die prediction des netzes (theta --> Lösungsfunktion bzw. disktet = Lösungswert ) mit pde \n",
    "# verglichen wird (soll null sein, da ode nach 0 umgestellt werden muss)\n",
    "\n",
    "torch.manual_seed(123)\n",
    "model = FCN(1,1,32,3)\n",
    "optimizer = torch.optim.Adam(model.parameters(),lr=1e-4)\n",
    "files = []\n",
    "\n",
    "start = time.time()\n",
    "\n",
    "episodes = 300\n",
    "\n",
    "for i in range(episodes):\n",
    "    optimizer.zero_grad()\n",
    "    \n",
    "    theta_p = model.forward(t_data)\n",
    "    loss1 = torch.mean((theta_p-theta_data)**2) # gemittelter quadratischer fehler \n",
    "    \n",
    "    # compute the \"physics loss\"\n",
    "    # theta_physics_prediction --> theta_pp\n",
    "    theta_pp = model.forward(x_physics)\n",
    "    theta_pp_d  = torch.autograd.grad(theta_pp, x_physics, torch.ones_like(theta_pp), create_graph=True)[0]\n",
    "    theta_pp_dd = torch.autograd.grad(theta_pp_d,  x_physics, torch.ones_like(theta_pp_d),  create_graph=True)[0]\n",
    "    physics = theta_pp_dd + (d/m*l**2)*theta_pp_d + (g/l)*torch.sin(theta_pp) \n",
    "    loss2 = (1e-4)*torch.mean(physics**2)\n",
    "    \n",
    "    # backpropagate joint loss\n",
    "    loss = loss1 + loss2 # add two loss terms together\n",
    "    #loss = loss2 # --> ergibt const 0\n",
    "    loss.backward() # fehler nach dem input (zeit) ableiten\n",
    "    optimizer.step() # fehler ins netz backpropagieren\n",
    "    \n",
    "    # plot the result as training progresses\n",
    "    if (i+1) % (round(episodes/500)) == 0: \n",
    "        \n",
    "        yh = model.forward(t).detach() # nimmt die pediction für den ganzen zeitbereich\n",
    "        xp = x_physics.detach()\n",
    "        \n",
    "        plot_result(t,theta,t_data,theta_data,yh,xp)\n",
    "        \n",
    "        file = \"plots/pendulum_pinn_%.8i.png\"%(i+1)\n",
    "        plt.savefig(file, bbox_inches='tight', pad_inches=0.1, dpi=100, facecolor=\"white\")\n",
    "        files.append(file)\n",
    "        \n",
    "        if (i+1) % (round(episodes/5)) == 0: plt.show()\n",
    "        else: plt.close(\"all\")\n",
    "\n",
    "duration = time.time() - start\n",
    "print('duration: %s [s]' % round(duration))\n",
    "            \n",
    "#save_gif_PIL(\"Pendulum_PINN.gif\", files, fps=15, loop=0)"
   ]
  },
  {
   "cell_type": "code",
   "execution_count": null,
   "id": "034f9647",
   "metadata": {},
   "outputs": [],
   "source": []
  },
  {
   "cell_type": "code",
   "execution_count": null,
   "id": "451d5478",
   "metadata": {},
   "outputs": [],
   "source": []
  },
  {
   "cell_type": "code",
   "execution_count": null,
   "id": "88f25a55",
   "metadata": {},
   "outputs": [],
   "source": []
  },
  {
   "cell_type": "code",
   "execution_count": null,
   "id": "00154800",
   "metadata": {},
   "outputs": [],
   "source": []
  },
  {
   "cell_type": "markdown",
   "id": "93065dad",
   "metadata": {},
   "source": [
    "# ab hier mit DEEPXDE\n",
    "\n",
    "> Hi, Lulu!\n",
    "\n",
    ">I am a beginner in this area. I am trying to modify the 'ode_system.py' to solve an ODE that describes a simple pendulum movement. I always got very large test metrics and it changed very slowly. Shall I need to add something or change the hyperparameter of the FNN?\n",
    "\n",
    ">The following is my codes, hope you can give me some advice to improve it. Thank you in advance!\n",
    "\n",
    "###### https://github.com/lululxvi/deepxde/issues/384"
   ]
  },
  {
   "cell_type": "code",
   "execution_count": 3,
   "id": "8c78b8eb",
   "metadata": {},
   "outputs": [
    {
     "name": "stderr",
     "output_type": "stream",
     "text": [
      "Using backend: tensorflow.compat.v1\n",
      "\n"
     ]
    },
    {
     "name": "stdout",
     "output_type": "stream",
     "text": [
      "WARNING:tensorflow:From C:\\Users\\lenna\\anaconda3\\envs\\pinn\\lib\\site-packages\\tensorflow\\python\\compat\\v2_compat.py:111: disable_resource_variables (from tensorflow.python.ops.variable_scope) is deprecated and will be removed in a future version.\n",
      "Instructions for updating:\n",
      "non-resource variables are not supported in the long term\n",
      "WARNING:tensorflow:From C:\\Users\\lenna\\anaconda3\\envs\\pinn\\lib\\site-packages\\deepxde\\nn\\initializers.py:116: The name tf.keras.initializers.he_normal is deprecated. Please use tf.compat.v1.keras.initializers.he_normal instead.\n",
      "\n",
      "Compiling model...\n",
      "Building feed-forward neural network...\n",
      "'build' took 0.038571 s\n",
      "\n"
     ]
    },
    {
     "name": "stderr",
     "output_type": "stream",
     "text": [
      "C:\\Users\\lenna\\anaconda3\\envs\\pinn\\lib\\site-packages\\deepxde\\nn\\tensorflow_compat_v1\\fnn.py:103: UserWarning: `tf.layers.dense` is deprecated and will be removed in a future version. Please use `tf.keras.layers.Dense` instead.\n",
      "  return tf.layers.dense(\n",
      "C:\\Users\\lenna\\anaconda3\\envs\\pinn\\lib\\site-packages\\keras\\legacy_tf_layers\\core.py:255: UserWarning: `layer.apply` is deprecated and will be removed in a future version. Please use `layer.__call__` method instead.\n",
      "  return layer.apply(inputs)\n"
     ]
    },
    {
     "name": "stdout",
     "output_type": "stream",
     "text": [
      "'compile' took 0.735417 s\n",
      "\n",
      "Initializing variables...\n",
      "Training model...\n",
      "\n",
      "Step      Train loss              Test loss               Test metric   \n",
      "0         [8.93e+01, 4.96e-01]    [8.93e+01, 4.96e-01]    [2.03e+00]    \n",
      "1000      [2.06e-01, 1.88e+00]    [2.16e+00, 1.88e+00]    [9.17e-01]    \n",
      "2000      [4.07e-02, 3.92e+00]    [4.07e-02, 3.92e+00]    [9.99e-01]    \n",
      "3000      [4.07e-02, 3.92e+00]    [4.07e-02, 3.92e+00]    [9.99e-01]    \n",
      "4000      [4.07e-02, 3.92e+00]    [4.07e-02, 3.92e+00]    [9.99e-01]    \n",
      "5000      [4.57e-02, 3.91e+00]    [4.57e-02, 3.91e+00]    [9.99e-01]    \n",
      "6000      [2.69e-02, 3.93e+00]    [2.69e-02, 3.93e+00]    [9.99e-01]    \n",
      "7000      [3.77e-02, 3.92e+00]    [3.77e-02, 3.92e+00]    [9.99e-01]    \n",
      "8000      [3.82e-02, 3.92e+00]    [3.82e-02, 3.92e+00]    [9.99e-01]    \n",
      "9000      [8.28e-02, 3.88e+00]    [8.28e-02, 3.88e+00]    [9.99e-01]    \n",
      "10000     [3.99e-02, 3.92e+00]    [3.99e-02, 3.92e+00]    [9.99e-01]    \n",
      "11000     [3.66e-02, 3.92e+00]    [3.66e-02, 3.92e+00]    [9.99e-01]    \n",
      "12000     [1.04e-03, 3.99e+00]    [1.04e-03, 3.99e+00]    [1.00e+00]    \n",
      "13000     [4.17e-02, 3.92e+00]    [4.17e-02, 3.92e+00]    [9.99e-01]    \n",
      "14000     [4.08e-02, 3.92e+00]    [4.08e-02, 3.92e+00]    [9.99e-01]    \n",
      "15000     [4.07e-02, 3.92e+00]    [4.07e-02, 3.92e+00]    [9.99e-01]    \n",
      "16000     [4.08e-02, 3.92e+00]    [4.08e-02, 3.92e+00]    [9.99e-01]    \n",
      "17000     [4.08e-02, 3.92e+00]    [4.08e-02, 3.92e+00]    [9.99e-01]    \n",
      "18000     [3.77e-02, 3.92e+00]    [3.77e-02, 3.92e+00]    [9.99e-01]    \n",
      "19000     [4.18e-02, 3.92e+00]    [4.18e-02, 3.92e+00]    [9.99e-01]    \n",
      "20000     [4.20e-02, 3.92e+00]    [4.20e-02, 3.92e+00]    [9.99e-01]    \n",
      "\n",
      "Best model at step 1000:\n",
      "  train loss: 2.09e+00\n",
      "  test loss: 4.04e+00\n",
      "  test metric: [9.17e-01]\n",
      "\n",
      "'train' took 108.778541 s\n",
      "\n"
     ]
    },
    {
     "data": {
      "image/png": "[encoded data removed]",
      "text/plain": [
       "<Figure size 432x288 with 1 Axes>"
      ]
     },
     "metadata": {
      "needs_background": "light"
     },
     "output_type": "display_data"
    },
    {
     "data": {
      "image/png": "[encoded data removed]",
      "text/plain": [
       "<Figure size 432x288 with 1 Axes>"
      ]
     },
     "metadata": {
      "needs_background": "light"
     },
     "output_type": "display_data"
    },
    {
     "data": {
      "image/png": "[encoded data removed]",
      "text/plain": [
       "<Figure size 432x288 with 1 Axes>"
      ]
     },
     "metadata": {
      "needs_background": "light"
     },
     "output_type": "display_data"
    }
   ],
   "source": [
    "import deepxde as dde\n",
    "import numpy as np\n",
    "import tensorflow as tf\n",
    "\n",
    "def ode_system(t, theta):\n",
    "    \"\"\"ODE\n",
    "    theta''(t) = -g*sin(theta(t))/L\n",
    "    \"\"\"\n",
    "    #dtheta1_dt = dde.grad.jacobian(theta, t, i=0)\n",
    "    #dtheta2_dt = dde.grad.jacobian(dtheta1_dt, t, i=0)\n",
    "    dtheta2_dt = dde.grad.hessian(theta, t, i=0)\n",
    "    return [dtheta2_dt + (9.81/1)*tf.sin(theta)]\n",
    "\n",
    "def boundary(_, on_initial):\n",
    "    return on_initial\n",
    "\n",
    "def func(t):\n",
    "    \"\"\"\n",
    "    theta = cos(t)\n",
    "    \"\"\"\n",
    "    return theta_solution(t)\n",
    "\n",
    "geom = dde.geometry.TimeDomain(0, 10)\n",
    "ic1 = dde.IC(geom, theta_solution, boundary, component=0)\n",
    "data = dde.data.PDE(geom, ode_system, [ic1], 30, 1, solution=func, num_test=50) \n",
    "\n",
    "layer_size = [1] + [30] * 3 + [1]\n",
    "activation = \"sigmoid\"\n",
    "initializer = \"Glorot uniform\"\n",
    "net = dde.maps.FNN(layer_size, activation, initializer)\n",
    "\n",
    "model = dde.Model(data, net)\n",
    "model.compile(\"adam\", lr=0.1, metrics=[\"l2 relative error\"])\n",
    "losshistory, train_state = model.train(epochs=20000)\n",
    "\n",
    "dde.saveplot(losshistory, train_state, issave=False, isplot=True)"
   ]
  },
  {
   "cell_type": "code",
   "execution_count": null,
   "id": "c4a61a23",
   "metadata": {},
   "outputs": [],
   "source": []
  },
  {
   "cell_type": "code",
   "execution_count": null,
   "id": "05a28ab9",
   "metadata": {},
   "outputs": [],
   "source": []
  },
  {
   "cell_type": "code",
   "execution_count": null,
   "id": "1810f234",
   "metadata": {},
   "outputs": [],
   "source": []
  },
  {
   "cell_type": "code",
   "execution_count": null,
   "id": "77d27f6b",
   "metadata": {},
   "outputs": [],
   "source": []
  },
  {
   "cell_type": "code",
   "execution_count": null,
   "id": "956d42b2",
   "metadata": {},
   "outputs": [],
   "source": []
  },
  {
   "cell_type": "code",
   "execution_count": null,
   "id": "08989bea",
   "metadata": {},
   "outputs": [],
   "source": []
  },
  {
   "cell_type": "code",
   "execution_count": null,
   "id": "b7982a0c",
   "metadata": {},
   "outputs": [],
   "source": []
  },
  {
   "cell_type": "code",
   "execution_count": null,
   "id": "f6c7adf0",
   "metadata": {},
   "outputs": [],
   "source": []
  }
 ],
 "metadata": {
  "kernelspec": {
   "display_name": "Python 3 (ipykernel)",
   "language": "python",
   "name": "python3"
  },
  "language_info": {
   "codemirror_mode": {
    "name": "ipython",
    "version": 3
   },
   "file_extension": ".py",
   "mimetype": "text/x-python",
   "name": "python",
   "nbconvert_exporter": "python",
   "pygments_lexer": "ipython3",
   "version": "3.9.7"
  }
 },
 "nbformat": 4,
 "nbformat_minor": 5
}
