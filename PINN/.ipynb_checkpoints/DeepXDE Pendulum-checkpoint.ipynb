{
 "cells": [
  {
   "cell_type": "markdown",
   "id": "c04298c6",
   "metadata": {},
   "source": [
    "# Original \n",
    "\n",
    "### https://github.com/lululxvi/deepxde/issues/384"
   ]
  },
  {
   "cell_type": "code",
   "execution_count": 2,
   "id": "b5cd5a07",
   "metadata": {},
   "outputs": [
    {
     "name": "stdout",
     "output_type": "stream",
     "text": [
      "Compiling model...\n",
      "Building feed-forward neural network...\n",
      "'build' took 0.078552 s\n",
      "\n"
     ]
    },
    {
     "name": "stderr",
     "output_type": "stream",
     "text": [
      "/Users/lennartfuhrig/opt/anaconda3/lib/python3.8/site-packages/skopt/sampler/sobol.py:246: UserWarning: The balance properties of Sobol' points require n to be a power of 2. 0 points have been previously generated, then: n=0+62=62. \n",
      "  warnings.warn(\"The balance properties of Sobol' points require \"\n"
     ]
    },
    {
     "name": "stdout",
     "output_type": "stream",
     "text": [
      "'compile' took 0.349514 s\n",
      "\n",
      "Initializing variables...\n",
      "Training model...\n",
      "\n",
      "Step      Train loss              Test loss               Test metric   \n",
      "0         [1.88e-01, nan]         [1.88e-01, nan]         [1.22e+00]    \n",
      "1000      [7.16e-06, nan]         [7.23e-06, nan]         [4.41e+00]    \n",
      "2000      [1.85e-05, nan]         [1.84e-05, nan]         [4.40e+00]    \n",
      "3000      [3.56e-08, nan]         [3.64e-08, nan]         [4.41e+00]    \n",
      "4000      [4.67e-05, nan]         [4.67e-05, nan]         [4.42e+00]    \n",
      "5000      [2.10e-05, nan]         [2.10e-05, nan]         [4.40e+00]    \n",
      "6000      [2.34e-03, nan]         [2.34e-03, nan]         [4.34e+00]    \n",
      "7000      [1.12e-08, nan]         [1.11e-08, nan]         [4.41e+00]    \n",
      "8000      [1.56e-05, nan]         [1.56e-05, nan]         [4.41e+00]    \n",
      "9000      [1.73e-05, nan]         [1.73e-05, nan]         [4.41e+00]    \n",
      "10000     [1.13e-08, nan]         [1.16e-08, nan]         [4.41e+00]    \n",
      "11000     [4.28e-09, nan]         [4.44e-09, nan]         [4.41e+00]    \n",
      "12000     [2.20e-05, nan]         [2.20e-05, nan]         [4.40e+00]    \n",
      "13000     [5.86e-07, nan]         [5.85e-07, nan]         [4.41e+00]    \n",
      "14000     [3.32e-05, nan]         [3.32e-05, nan]         [4.40e+00]    \n",
      "15000     [4.26e-04, nan]         [4.26e-04, nan]         [4.38e+00]    \n",
      "16000     [7.01e-09, nan]         [7.05e-09, nan]         [4.41e+00]    \n",
      "17000     [7.96e-11, nan]         [8.48e-11, nan]         [4.41e+00]    \n",
      "18000     [5.95e-12, nan]         [7.83e-12, nan]         [4.41e+00]    \n",
      "19000     [1.87e-07, nan]         [1.87e-07, nan]         [4.41e+00]    \n",
      "20000     [5.28e-07, nan]         [5.28e-07, nan]         [4.41e+00]    \n",
      "\n",
      "Best model at step 0:\n",
      "  train loss: inf\n",
      "  test loss: inf\n",
      "  test metric: \n",
      "\n",
      "'train' took 11.308874 s\n",
      "\n"
     ]
    },
    {
     "ename": "AttributeError",
     "evalue": "'NoneType' object has no attribute 'shape'",
     "output_type": "error",
     "traceback": [
      "\u001b[0;31m---------------------------------------------------------------------------\u001b[0m",
      "\u001b[0;31mAttributeError\u001b[0m                            Traceback (most recent call last)",
      "\u001b[0;32m<ipython-input-2-b474cb1a1a4b>\u001b[0m in \u001b[0;36m<module>\u001b[0;34m\u001b[0m\n\u001b[1;32m     33\u001b[0m \u001b[0mlosshistory\u001b[0m\u001b[0;34m,\u001b[0m \u001b[0mtrain_state\u001b[0m \u001b[0;34m=\u001b[0m \u001b[0mmodel\u001b[0m\u001b[0;34m.\u001b[0m\u001b[0mtrain\u001b[0m\u001b[0;34m(\u001b[0m\u001b[0mepochs\u001b[0m\u001b[0;34m=\u001b[0m\u001b[0;36m20000\u001b[0m\u001b[0;34m)\u001b[0m\u001b[0;34m\u001b[0m\u001b[0;34m\u001b[0m\u001b[0m\n\u001b[1;32m     34\u001b[0m \u001b[0;34m\u001b[0m\u001b[0m\n\u001b[0;32m---> 35\u001b[0;31m \u001b[0mdde\u001b[0m\u001b[0;34m.\u001b[0m\u001b[0msaveplot\u001b[0m\u001b[0;34m(\u001b[0m\u001b[0mlosshistory\u001b[0m\u001b[0;34m,\u001b[0m \u001b[0mtrain_state\u001b[0m\u001b[0;34m,\u001b[0m \u001b[0missave\u001b[0m\u001b[0;34m=\u001b[0m\u001b[0;32mFalse\u001b[0m\u001b[0;34m,\u001b[0m \u001b[0misplot\u001b[0m\u001b[0;34m=\u001b[0m\u001b[0;32mTrue\u001b[0m\u001b[0;34m)\u001b[0m\u001b[0;34m\u001b[0m\u001b[0;34m\u001b[0m\u001b[0m\n\u001b[0m",
      "\u001b[0;32m~/opt/anaconda3/lib/python3.8/site-packages/deepxde/postprocessing.py\u001b[0m in \u001b[0;36msaveplot\u001b[0;34m(loss_history, train_state, issave, isplot, loss_fname, train_fname, test_fname, output_dir)\u001b[0m\n\u001b[1;32m     39\u001b[0m     \u001b[0;32mif\u001b[0m \u001b[0misplot\u001b[0m\u001b[0;34m:\u001b[0m\u001b[0;34m\u001b[0m\u001b[0;34m\u001b[0m\u001b[0m\n\u001b[1;32m     40\u001b[0m         \u001b[0mplot_loss_history\u001b[0m\u001b[0;34m(\u001b[0m\u001b[0mloss_history\u001b[0m\u001b[0;34m)\u001b[0m\u001b[0;34m\u001b[0m\u001b[0;34m\u001b[0m\u001b[0m\n\u001b[0;32m---> 41\u001b[0;31m         \u001b[0mplot_best_state\u001b[0m\u001b[0;34m(\u001b[0m\u001b[0mtrain_state\u001b[0m\u001b[0;34m)\u001b[0m\u001b[0;34m\u001b[0m\u001b[0;34m\u001b[0m\u001b[0m\n\u001b[0m\u001b[1;32m     42\u001b[0m         \u001b[0mplt\u001b[0m\u001b[0;34m.\u001b[0m\u001b[0mshow\u001b[0m\u001b[0;34m(\u001b[0m\u001b[0;34m)\u001b[0m\u001b[0;34m\u001b[0m\u001b[0;34m\u001b[0m\u001b[0m\n\u001b[1;32m     43\u001b[0m \u001b[0;34m\u001b[0m\u001b[0m\n",
      "\u001b[0;32m~/opt/anaconda3/lib/python3.8/site-packages/deepxde/postprocessing.py\u001b[0m in \u001b[0;36mplot_best_state\u001b[0;34m(train_state)\u001b[0m\n\u001b[1;32m    103\u001b[0m     \u001b[0mX_train\u001b[0m\u001b[0;34m,\u001b[0m \u001b[0my_train\u001b[0m\u001b[0;34m,\u001b[0m \u001b[0mX_test\u001b[0m\u001b[0;34m,\u001b[0m \u001b[0my_test\u001b[0m\u001b[0;34m,\u001b[0m \u001b[0mbest_y\u001b[0m\u001b[0;34m,\u001b[0m \u001b[0mbest_ystd\u001b[0m \u001b[0;34m=\u001b[0m \u001b[0mtrain_state\u001b[0m\u001b[0;34m.\u001b[0m\u001b[0mpacked_data\u001b[0m\u001b[0;34m(\u001b[0m\u001b[0;34m)\u001b[0m\u001b[0;34m\u001b[0m\u001b[0;34m\u001b[0m\u001b[0m\n\u001b[1;32m    104\u001b[0m \u001b[0;34m\u001b[0m\u001b[0m\n\u001b[0;32m--> 105\u001b[0;31m     \u001b[0my_dim\u001b[0m \u001b[0;34m=\u001b[0m \u001b[0mbest_y\u001b[0m\u001b[0;34m.\u001b[0m\u001b[0mshape\u001b[0m\u001b[0;34m[\u001b[0m\u001b[0;36m1\u001b[0m\u001b[0;34m]\u001b[0m\u001b[0;34m\u001b[0m\u001b[0;34m\u001b[0m\u001b[0m\n\u001b[0m\u001b[1;32m    106\u001b[0m \u001b[0;34m\u001b[0m\u001b[0m\n\u001b[1;32m    107\u001b[0m     \u001b[0;31m# Regression plot\u001b[0m\u001b[0;34m\u001b[0m\u001b[0;34m\u001b[0m\u001b[0;34m\u001b[0m\u001b[0m\n",
      "\u001b[0;31mAttributeError\u001b[0m: 'NoneType' object has no attribute 'shape'"
     ]
    },
    {
     "data": {
      "image/png": "[encoded data removed]",
      "text/plain": [
       "<Figure size 432x288 with 1 Axes>"
      ]
     },
     "metadata": {
      "needs_background": "light"
     },
     "output_type": "display_data"
    }
   ],
   "source": [
    "import deepxde as dde\n",
    "import numpy as np\n",
    "import tensorflow as tf\n",
    "\n",
    "def ode_system(t, theta):\n",
    "    \"\"\"ODE\n",
    "    theta''(t) = -g*sin(theta(t))/L\n",
    "    \"\"\"\n",
    "    dtheta1_dt = dde.grad.jacobian(theta, t, i=0)\n",
    "    dtheta2_dt = dde.grad.jacobian(dtheta1_dt, t, i=0)\n",
    "    return [dtheta2_dt + tf.sin(theta)]\n",
    "\n",
    "def boundary(_, on_initial):\n",
    "    return on_initial\n",
    "\n",
    "def func(t):\n",
    "    \"\"\"\n",
    "    theta = cos(t)\n",
    "    \"\"\"\n",
    "    return np.cos(t)\n",
    "\n",
    "geom = dde.geometry.TimeDomain(0, 10)\n",
    "ic1 = dde.IC(geom, np.cos, boundary, component=0)\n",
    "data = dde.data.PDE(geom, ode_system, [ic1], 60, 1, solution=func, num_test=50)\n",
    "\n",
    "layer_size = [1] + [30] * 3 + [1]\n",
    "activation = \"sigmoid\"\n",
    "initializer = \"Glorot uniform\"\n",
    "net = dde.maps.FNN(layer_size, activation, initializer)\n",
    "\n",
    "model = dde.Model(data, net)\n",
    "model.compile(\"adam\", lr=0.1, metrics=[\"l2 relative error\"])\n",
    "losshistory, train_state = model.train(epochs=20000)\n",
    "\n",
    "dde.saveplot(losshistory, train_state, issave=False, isplot=True)"
   ]
  },
  {
   "cell_type": "markdown",
   "id": "7feba7a3",
   "metadata": {},
   "source": [
    "# my pendulum"
   ]
  },
  {
   "cell_type": "code",
   "execution_count": null,
   "id": "8207e1d4",
   "metadata": {},
   "outputs": [],
   "source": [
    "def ode_system(t, theta):\n",
    "    \"\"\"ODE\n",
    "    theta''(t) = -g*sin(theta(t))/L\n",
    "    \"\"\"\n",
    "    #dtheta1_dt = dde.grad.jacobian(theta, t, i=0)\n",
    "    #dtheta2_dt = dde.grad.jacobian(dtheta1_dt, t, i=0)\n",
    "    dtheta2_dt = dde.grad.hessian(theta, t, i=0, j=0)\n",
    "    return [dtheta2_dt + tf.sin(theta)]\n",
    "\n",
    "def boundary(_, on_initial):\n",
    "    return on_initial\n",
    "\n",
    "def func(t):\n",
    "    \"\"\"\n",
    "    theta = cos(t)\n",
    "    \"\"\"\n",
    "    return np.cos(t)\n",
    "\n",
    "geom = dde.geometry.TimeDomain(0, 10)\n",
    "ic1 = dde.IC(geom, np.cos, boundary, component=0)\n",
    "data = dde.data.PDE(geom, ode_system, [ic1], 30, 1, solution=func, num_test=50)\n",
    "\n",
    "layer_size = [1] + [30] * 3 + [1]\n",
    "activation = \"sigmoid\"\n",
    "initializer = \"Glorot uniform\"\n",
    "net = dde.maps.FNN(layer_size, activation, initializer)\n",
    "\n",
    "model = dde.Model(data, net)\n",
    "model.compile(\"adam\", lr=0.1, metrics=[\"l2 relative error\"])\n",
    "losshistory, train_state = model.train(epochs=20000)\n",
    "\n",
    "dde.saveplot(losshistory, train_state, issave=False, isplot=True)"
   ]
  },
  {
   "cell_type": "code",
   "execution_count": null,
   "id": "b1b7b6f6",
   "metadata": {},
   "outputs": [],
   "source": []
  },
  {
   "cell_type": "code",
   "execution_count": null,
   "id": "cd955e15",
   "metadata": {},
   "outputs": [],
   "source": []
  },
  {
   "cell_type": "code",
   "execution_count": null,
   "id": "7087a1fe",
   "metadata": {},
   "outputs": [],
   "source": []
  },
  {
   "cell_type": "code",
   "execution_count": null,
   "id": "cb88f116",
   "metadata": {},
   "outputs": [],
   "source": []
  },
  {
   "cell_type": "code",
   "execution_count": null,
   "id": "2332132c",
   "metadata": {},
   "outputs": [],
   "source": []
  }
 ],
 "metadata": {
  "kernelspec": {
   "display_name": "Python 3",
   "language": "python",
   "name": "python3"
  },
  "language_info": {
   "codemirror_mode": {
    "name": "ipython",
    "version": 3
   },
   "file_extension": ".py",
   "mimetype": "text/x-python",
   "name": "python",
   "nbconvert_exporter": "python",
   "pygments_lexer": "ipython3",
   "version": "3.8.8"
  }
 },
 "nbformat": 4,
 "nbformat_minor": 5
}
