{
 "cells": [
  {
   "cell_type": "markdown",
   "id": "92dd4ae4",
   "metadata": {},
   "source": [
    "### Poisson-Gleichung 2D\n",
    "\n",
    "<p>$-\\frac{\\partial^2u}{\\partial x^2} - \\frac{\\partial^2u}{\\partial y^2}=1$</p>\n",
    "\n",
    "#### Verständnisaufgaben\n",
    "<p>1.: Netzarchitektur beschreiben</p>\n",
    "<p>2.: Wo finde ich im Internet die Befehle der DeepXDE-Bibliothek und kann mir Hilfe holen?</p>\n",
    "<p>3.: Mit welchem Befehl wird der Bibliothek die Differentialgleichung und die Randbedingungen übergeben?</p>\n",
    "<p>4.: Warum wurden keine Initialbedingungen definiert?</p>\n",
    "<p>5.: Welche Randbedingung wurde definiert?</p>\n",
    "<p>6.: Warum würde es Sinn ergeben, den L-BFGS-B Optimierer nachzuschalten?</p>\n",
    "<p>7.: Wozu wird der Befehl \"glorot uniform\" verwendet?</p>\n",
    "\n",
    "#### Anwendungsaufgaben (One factor at a time)\n",
    "<p>Beantworten Sie uns jeweils, was sich geändert hat.</p>\n",
    "<p>Nach jedem Durchlauf einen Screenshot des Trainingsverlaufs und des Plots machen.</p>\n",
    "<p>Nach jeder Änderung wieder in den Ursprungszustand zurück setzen.</p>\n",
    "<p>0.: Kommentieren Sie den Code aus: Welche Zeile/ Funktion erfüllt welchen Zweck? (Plot-Funktion ausgenommen)</p>\n",
    "<p>1.: Gleichung ändern: 1. In Summe soll unsere Gleichung nun 5 sein.</p>\n",
    "<p>2.: Randbedingungen ändern: Setzen Sie die RB u = 1.</p>\n",
    "<p>3.: Netzarchitektur ändern: 1 Hidden-Layer mit 8 Neuronen.</p>\n",
    "<p>4.: Anzahl Epochen ändern: Stellen Sie 15.000 Epochen ein.</p>\n",
    "<p>5.: Ersten Optimierer ändern: Stochastic Gradient Descent 'sgd'</p>\n",
    "<p>6.: Aktivierungsfunktion ändern: Zu ReLU 'relu'</p>"
   ]
  },
  {
   "cell_type": "code",
   "execution_count": 1,
   "id": "5d3285e9",
   "metadata": {},
   "outputs": [
    {
     "name": "stderr",
     "output_type": "stream",
     "text": [
      "Using backend: tensorflow.compat.v1\n",
      "\n"
     ]
    },
    {
     "ename": "ModuleNotFoundError",
     "evalue": "No module named 'tensorflow'",
     "output_type": "error",
     "traceback": [
      "\u001b[1;31m---------------------------------------------------------------------------\u001b[0m",
      "\u001b[1;31mModuleNotFoundError\u001b[0m                       Traceback (most recent call last)",
      "\u001b[1;32m~\\AppData\\Local\\Temp/ipykernel_9948/379922623.py\u001b[0m in \u001b[0;36m<module>\u001b[1;34m\u001b[0m\n\u001b[0;32m      1\u001b[0m \u001b[1;34m\"\"\"Backend supported: tensorflow.compat.v1, tensorflow, pytorch\"\"\"\u001b[0m\u001b[1;33m\u001b[0m\u001b[1;33m\u001b[0m\u001b[0m\n\u001b[1;32m----> 2\u001b[1;33m \u001b[1;32mimport\u001b[0m \u001b[0mdeepxde\u001b[0m \u001b[1;32mas\u001b[0m \u001b[0mdde\u001b[0m\u001b[1;33m\u001b[0m\u001b[1;33m\u001b[0m\u001b[0m\n\u001b[0m\u001b[0;32m      3\u001b[0m \u001b[1;33m\u001b[0m\u001b[0m\n\u001b[0;32m      4\u001b[0m \u001b[1;33m\u001b[0m\u001b[0m\n\u001b[0;32m      5\u001b[0m \u001b[1;32mdef\u001b[0m \u001b[0mpde\u001b[0m\u001b[1;33m(\u001b[0m\u001b[0mx\u001b[0m\u001b[1;33m,\u001b[0m \u001b[0my\u001b[0m\u001b[1;33m)\u001b[0m\u001b[1;33m:\u001b[0m\u001b[1;33m\u001b[0m\u001b[1;33m\u001b[0m\u001b[0m\n",
      "\u001b[1;32m~\\anaconda3\\envs\\pinn\\lib\\site-packages\\deepxde\\__init__.py\u001b[0m in \u001b[0;36m<module>\u001b[1;34m\u001b[0m\n\u001b[0;32m      2\u001b[0m \u001b[1;33m\u001b[0m\u001b[0m\n\u001b[0;32m      3\u001b[0m \u001b[1;31m# Should import backend before importing anything else\u001b[0m\u001b[1;33m\u001b[0m\u001b[1;33m\u001b[0m\u001b[0m\n\u001b[1;32m----> 4\u001b[1;33m \u001b[1;32mfrom\u001b[0m \u001b[1;33m.\u001b[0m \u001b[1;32mimport\u001b[0m \u001b[0mbackend\u001b[0m\u001b[1;33m\u001b[0m\u001b[1;33m\u001b[0m\u001b[0m\n\u001b[0m\u001b[0;32m      5\u001b[0m \u001b[1;33m\u001b[0m\u001b[0m\n\u001b[0;32m      6\u001b[0m \u001b[1;32mfrom\u001b[0m \u001b[1;33m.\u001b[0m \u001b[1;32mimport\u001b[0m \u001b[0mcallbacks\u001b[0m\u001b[1;33m\u001b[0m\u001b[1;33m\u001b[0m\u001b[0m\n",
      "\u001b[1;32m~\\anaconda3\\envs\\pinn\\lib\\site-packages\\deepxde\\backend\\__init__.py\u001b[0m in \u001b[0;36m<module>\u001b[1;34m\u001b[0m\n\u001b[0;32m     83\u001b[0m \u001b[1;33m\u001b[0m\u001b[0m\n\u001b[0;32m     84\u001b[0m \u001b[1;33m\u001b[0m\u001b[0m\n\u001b[1;32m---> 85\u001b[1;33m \u001b[0mload_backend\u001b[0m\u001b[1;33m(\u001b[0m\u001b[0mget_preferred_backend\u001b[0m\u001b[1;33m(\u001b[0m\u001b[1;33m)\u001b[0m\u001b[1;33m)\u001b[0m\u001b[1;33m\u001b[0m\u001b[1;33m\u001b[0m\u001b[0m\n\u001b[0m\u001b[0;32m     86\u001b[0m \u001b[1;33m\u001b[0m\u001b[0m\n\u001b[0;32m     87\u001b[0m \u001b[1;33m\u001b[0m\u001b[0m\n",
      "\u001b[1;32m~\\anaconda3\\envs\\pinn\\lib\\site-packages\\deepxde\\backend\\__init__.py\u001b[0m in \u001b[0;36mload_backend\u001b[1;34m(mod_name)\u001b[0m\n\u001b[0;32m     28\u001b[0m \u001b[1;33m\u001b[0m\u001b[0m\n\u001b[0;32m     29\u001b[0m     \u001b[0mprint\u001b[0m\u001b[1;33m(\u001b[0m\u001b[1;34m\"Using backend: %s\\n\"\u001b[0m \u001b[1;33m%\u001b[0m \u001b[0mmod_name\u001b[0m\u001b[1;33m,\u001b[0m \u001b[0mfile\u001b[0m\u001b[1;33m=\u001b[0m\u001b[0msys\u001b[0m\u001b[1;33m.\u001b[0m\u001b[0mstderr\u001b[0m\u001b[1;33m,\u001b[0m \u001b[0mflush\u001b[0m\u001b[1;33m=\u001b[0m\u001b[1;32mTrue\u001b[0m\u001b[1;33m)\u001b[0m\u001b[1;33m\u001b[0m\u001b[1;33m\u001b[0m\u001b[0m\n\u001b[1;32m---> 30\u001b[1;33m     \u001b[0mmod\u001b[0m \u001b[1;33m=\u001b[0m \u001b[0mimportlib\u001b[0m\u001b[1;33m.\u001b[0m\u001b[0mimport_module\u001b[0m\u001b[1;33m(\u001b[0m\u001b[1;34m\".%s\"\u001b[0m \u001b[1;33m%\u001b[0m \u001b[0mmod_name\u001b[0m\u001b[1;33m.\u001b[0m\u001b[0mreplace\u001b[0m\u001b[1;33m(\u001b[0m\u001b[1;34m\".\"\u001b[0m\u001b[1;33m,\u001b[0m \u001b[1;34m\"_\"\u001b[0m\u001b[1;33m)\u001b[0m\u001b[1;33m,\u001b[0m \u001b[0m__name__\u001b[0m\u001b[1;33m)\u001b[0m\u001b[1;33m\u001b[0m\u001b[1;33m\u001b[0m\u001b[0m\n\u001b[0m\u001b[0;32m     31\u001b[0m     \u001b[0mthismod\u001b[0m \u001b[1;33m=\u001b[0m \u001b[0msys\u001b[0m\u001b[1;33m.\u001b[0m\u001b[0mmodules\u001b[0m\u001b[1;33m[\u001b[0m\u001b[0m__name__\u001b[0m\u001b[1;33m]\u001b[0m\u001b[1;33m\u001b[0m\u001b[1;33m\u001b[0m\u001b[0m\n\u001b[0;32m     32\u001b[0m     \u001b[1;31m# log backend name\u001b[0m\u001b[1;33m\u001b[0m\u001b[1;33m\u001b[0m\u001b[0m\n",
      "\u001b[1;32m~\\anaconda3\\envs\\pinn\\lib\\importlib\\__init__.py\u001b[0m in \u001b[0;36mimport_module\u001b[1;34m(name, package)\u001b[0m\n\u001b[0;32m    125\u001b[0m                 \u001b[1;32mbreak\u001b[0m\u001b[1;33m\u001b[0m\u001b[1;33m\u001b[0m\u001b[0m\n\u001b[0;32m    126\u001b[0m             \u001b[0mlevel\u001b[0m \u001b[1;33m+=\u001b[0m \u001b[1;36m1\u001b[0m\u001b[1;33m\u001b[0m\u001b[1;33m\u001b[0m\u001b[0m\n\u001b[1;32m--> 127\u001b[1;33m     \u001b[1;32mreturn\u001b[0m \u001b[0m_bootstrap\u001b[0m\u001b[1;33m.\u001b[0m\u001b[0m_gcd_import\u001b[0m\u001b[1;33m(\u001b[0m\u001b[0mname\u001b[0m\u001b[1;33m[\u001b[0m\u001b[0mlevel\u001b[0m\u001b[1;33m:\u001b[0m\u001b[1;33m]\u001b[0m\u001b[1;33m,\u001b[0m \u001b[0mpackage\u001b[0m\u001b[1;33m,\u001b[0m \u001b[0mlevel\u001b[0m\u001b[1;33m)\u001b[0m\u001b[1;33m\u001b[0m\u001b[1;33m\u001b[0m\u001b[0m\n\u001b[0m\u001b[0;32m    128\u001b[0m \u001b[1;33m\u001b[0m\u001b[0m\n\u001b[0;32m    129\u001b[0m \u001b[1;33m\u001b[0m\u001b[0m\n",
      "\u001b[1;32m~\\anaconda3\\envs\\pinn\\lib\\site-packages\\deepxde\\backend\\tensorflow_compat_v1\\__init__.py\u001b[0m in \u001b[0;36m<module>\u001b[1;34m\u001b[0m\n\u001b[0;32m      3\u001b[0m \u001b[0mos\u001b[0m\u001b[1;33m.\u001b[0m\u001b[0menviron\u001b[0m\u001b[1;33m[\u001b[0m\u001b[1;34m\"TF_FORCE_GPU_ALLOW_GROWTH\"\u001b[0m\u001b[1;33m]\u001b[0m \u001b[1;33m=\u001b[0m \u001b[1;34m\"true\"\u001b[0m\u001b[1;33m\u001b[0m\u001b[1;33m\u001b[0m\u001b[0m\n\u001b[0;32m      4\u001b[0m \u001b[1;33m\u001b[0m\u001b[0m\n\u001b[1;32m----> 5\u001b[1;33m \u001b[1;32mfrom\u001b[0m \u001b[1;33m.\u001b[0m\u001b[0mtensor\u001b[0m \u001b[1;32mimport\u001b[0m \u001b[1;33m*\u001b[0m  \u001b[1;31m# pylint: disable=redefined-builtin\u001b[0m\u001b[1;33m\u001b[0m\u001b[1;33m\u001b[0m\u001b[0m\n\u001b[0m",
      "\u001b[1;32m~\\anaconda3\\envs\\pinn\\lib\\site-packages\\deepxde\\backend\\tensorflow_compat_v1\\tensor.py\u001b[0m in \u001b[0;36m<module>\u001b[1;34m\u001b[0m\n\u001b[0;32m      2\u001b[0m \u001b[1;32mfrom\u001b[0m \u001b[0mdistutils\u001b[0m\u001b[1;33m.\u001b[0m\u001b[0mversion\u001b[0m \u001b[1;32mimport\u001b[0m \u001b[0mLooseVersion\u001b[0m\u001b[1;33m\u001b[0m\u001b[1;33m\u001b[0m\u001b[0m\n\u001b[0;32m      3\u001b[0m \u001b[1;33m\u001b[0m\u001b[0m\n\u001b[1;32m----> 4\u001b[1;33m \u001b[1;32mimport\u001b[0m \u001b[0mtensorflow\u001b[0m\u001b[1;33m.\u001b[0m\u001b[0mcompat\u001b[0m\u001b[1;33m.\u001b[0m\u001b[0mv1\u001b[0m \u001b[1;32mas\u001b[0m \u001b[0mtf\u001b[0m\u001b[1;33m\u001b[0m\u001b[1;33m\u001b[0m\u001b[0m\n\u001b[0m\u001b[0;32m      5\u001b[0m \u001b[1;33m\u001b[0m\u001b[0m\n\u001b[0;32m      6\u001b[0m \u001b[1;33m\u001b[0m\u001b[0m\n",
      "\u001b[1;31mModuleNotFoundError\u001b[0m: No module named 'tensorflow'"
     ]
    }
   ],
   "source": [
    "\"\"\"Backend supported: tensorflow.compat.v1, tensorflow, pytorch\"\"\"\n",
    "import deepxde as dde\n",
    "\n",
    "\n",
    "def pde(x, y):\n",
    "    dy_xx = dde.grad.hessian(y, x, i=0, j=0)\n",
    "    dy_yy = dde.grad.hessian(y, x, i=1, j=1)\n",
    "    return -dy_xx - dy_yy - 1\n",
    "\n",
    "# return np.isclose(x[0], -1) or np.isclose(x[0], 1)\n",
    "# If the point x (the first argument) is on the entire boundary of the geometry\n",
    "# (the left and right endpoints of the interval in this case), then on_boundary is True,\n",
    "# otherwise, on_boundary is False. Thus, we can also define boundary in a simpler way\n",
    "def boundary(_, on_boundary):\n",
    "    return on_boundary\n",
    "\n",
    "\n",
    "geom = dde.geometry.Polygon([[0, 0], [1, 0], [1, -1], [-1, -1], [-1, 1], [0, 1]])\n",
    "bc = dde.DirichletBC(geom, lambda x: 0, boundary)\n",
    "\n",
    "data = dde.data.PDE(geom, pde, bc, num_domain=1200, num_boundary=120, num_test=1500)\n",
    "net = dde.maps.FNN([2] + [16] * 3 + [1], \"relu\", \"Glorot uniform\")\n",
    "model = dde.Model(data, net)\n",
    "\n",
    "model.compile(\"adam\", lr=1e-3)\n",
    "losshistory, train_state = model.train(epochs=4000)\n",
    "#model.compile(\"L-BFGS-B\")\n",
    "#losshistory, train_state = model.train()\n",
    "dde.saveplot(losshistory, train_state, issave=True, isplot=True)"
   ]
  },
  {
   "cell_type": "code",
   "execution_count": null,
   "id": "63027cb7",
   "metadata": {},
   "outputs": [],
   "source": [
    "###################################\n",
    "# plot function\n",
    "###################################\n",
    "\n",
    "\n",
    "\n",
    "import matplotlib.pyplot as plt\n",
    "import numpy as np\n",
    "\n",
    "def dde_plot_2D(geom, x_max, x_min, y_max, y_min, model, stepsize = 0.1):\n",
    "    X = np.arange(x_min, x_max+stepsize, stepsize) # [0 1 2 3 4 5]\n",
    "    Y = np.arange(y_min, y_max+stepsize, stepsize) # [0 1]    \n",
    "    XX, YY = np.meshgrid(X, Y) # [0 1 2 3 4 5], [0 1] --> [[0 1 2 3 4 5], [0 1 2 3 4 5]], [[0 0 0 0 0 0], [1 1 1 1 1 1]]\n",
    "    \n",
    "    # np.ravel(XX): [[0 1 2 3 4 5], [0 1 2 3 4 5]] --> [0 1 2 3 4 5 0 1 2 3 4 5]\n",
    "    ravelXX = np.ravel(XX)\n",
    "    ravelYY = np.ravel(YY)\n",
    "\n",
    "    # np.vstack(ravelXX, ravelYY): [[0 1 2 3 4 5 0 1 2 3 4 5], [0 0 0 0 0 0 1 1 1 1 1 1]]\n",
    "    vStack = np.vstack((ravelXX, ravelYY))\n",
    "\n",
    "    # transpose: [[0 1 2 3 4 5 0 1 2 3 4 5], [0 0 0 0 0 0 1 1 1 1 1 1]] --> [[0 0],[1 0],...,[3 1],[4 1],[5 1]]\n",
    "    vStackT = vStack.T\n",
    "\n",
    "    pred = model.predict(vStackT)\n",
    "\n",
    "    # to set all points outside the geom np.nan, get all indices, where outside\n",
    "    logical_in_geom = geom.inside(vStackT)\n",
    "    #a[start:stop:step] for multidimension use , for nested array --> a[:, 0] all elements first array, first value inner\n",
    "    u_pred = np.where(logical_in_geom, pred[:, 0], np.nan)\n",
    "    \n",
    "    u = u_pred.reshape((len(Y), len(X)))\n",
    "\n",
    "    var_dict = {'u': u}\n",
    "    for item in var_dict:\n",
    "        plt.figure(figsize=(15, 3))\n",
    "        plt.contourf(var_dict[item], levels=20, extent=[x_min, x_max, y_min, y_max], cmap='jet')\n",
    "        plt.title(item)\n",
    "        plt.colorbar()\n",
    "        plt.axis('image') # scale\n",
    "        plt.show()\n",
    "    \n",
    "    \n",
    "dde_plot_2D(geom, 1, -1, 1, -1, model, stepsize=0.01)"
   ]
  }
 ],
 "metadata": {
  "kernelspec": {
   "display_name": "Python 3 (ipykernel)",
   "language": "python",
   "name": "python3"
  },
  "language_info": {
   "codemirror_mode": {
    "name": "ipython",
    "version": 3
   },
   "file_extension": ".py",
   "mimetype": "text/x-python",
   "name": "python",
   "nbconvert_exporter": "python",
   "pygments_lexer": "ipython3",
   "version": "3.9.7"
  }
 },
 "nbformat": 4,
 "nbformat_minor": 5
}
