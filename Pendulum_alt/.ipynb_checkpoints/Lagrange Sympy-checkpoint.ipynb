{
 "cells": [
  {
   "cell_type": "code",
   "execution_count": null,
   "id": "84a4fc26",
   "metadata": {},
   "outputs": [],
   "source": [
    "#https://docs.sympy.org/latest/modules/physics/mechanics/examples/lin_pend_nonmin_example.html"
   ]
  },
  {
   "cell_type": "code",
   "execution_count": 1,
   "id": "21186106",
   "metadata": {},
   "outputs": [],
   "source": [
    "from sympy.physics.mechanics import *\n",
    "from sympy import symbols, atan, Matrix\n",
    "q1, q2 = dynamicsymbols('q1:3')\n",
    "q1d, q2d = dynamicsymbols('q1:3', level=1)\n",
    "L, m, g, t = symbols('L, m, g, t')"
   ]
  },
  {
   "cell_type": "code",
   "execution_count": 2,
   "id": "2bf0439e",
   "metadata": {},
   "outputs": [],
   "source": [
    "N = ReferenceFrame('N')\n",
    "pN = Point('N*')\n",
    "pN.set_vel(N, 0)\n",
    "# A.x is along the pendulum\n",
    "theta1 = atan(q2/q1)\n",
    "A = N.orientnew('A', 'axis', [theta1, N.z])"
   ]
  },
  {
   "cell_type": "code",
   "execution_count": 3,
   "id": "df79aa17",
   "metadata": {},
   "outputs": [],
   "source": [
    "# Create point P, the pendulum mass\n",
    "P = pN.locatenew('P1', q1*N.x + q2*N.y)\n",
    "P.set_vel(N, P.pos_from(pN).dt(N))\n",
    "pP = Particle('pP', P, m)"
   ]
  },
  {
   "cell_type": "code",
   "execution_count": 13,
   "id": "72d35748",
   "metadata": {},
   "outputs": [
    {
     "data": {
      "text/latex": [
       "$\\displaystyle \\left[\\begin{matrix}- L^{2} + \\operatorname{q_{1}}^{2}{\\left(t \\right)} + \\operatorname{q_{2}}^{2}{\\left(t \\right)}\\end{matrix}\\right]$"
      ],
      "text/plain": [
       "Matrix([[-L**2 + q1(t)**2 + q2(t)**2]])"
      ]
     },
     "execution_count": 13,
     "metadata": {},
     "output_type": "execute_result"
    }
   ],
   "source": [
    "# Holonomic Constraint Equations\n",
    "f_c = Matrix([q1**2 + q2**2 - L**2])\n",
    "f_c"
   ]
  },
  {
   "cell_type": "code",
   "execution_count": 5,
   "id": "b8ece63a",
   "metadata": {},
   "outputs": [],
   "source": [
    "# Input the force resultant at P\n",
    "R = m*g*N.x"
   ]
  },
  {
   "cell_type": "code",
   "execution_count": 14,
   "id": "fb7cc586",
   "metadata": {},
   "outputs": [
    {
     "data": {
      "text/latex": [
       "$\\displaystyle \\left[\\begin{matrix}- g m + m \\frac{d^{2}}{d t^{2}} \\operatorname{q_{1}}{\\left(t \\right)} + 2 \\operatorname{lam_{1}}{\\left(t \\right)} \\operatorname{q_{1}}{\\left(t \\right)}\\\\m \\frac{d^{2}}{d t^{2}} \\operatorname{q_{2}}{\\left(t \\right)} + 2 \\operatorname{lam_{1}}{\\left(t \\right)} \\operatorname{q_{2}}{\\left(t \\right)}\\end{matrix}\\right]$"
      ],
      "text/plain": [
       "Matrix([\n",
       "[-g*m + m*Derivative(q1(t), (t, 2)) + 2*lam1(t)*q1(t)],\n",
       "[       m*Derivative(q2(t), (t, 2)) + 2*lam1(t)*q2(t)]])"
      ]
     },
     "execution_count": 14,
     "metadata": {},
     "output_type": "execute_result"
    }
   ],
   "source": [
    "# Calculate the lagrangian, and form the equations of motion\n",
    "Lag = Lagrangian(N, pP)\n",
    "LM = LagrangesMethod(Lag, [q1, q2], hol_coneqs=f_c, forcelist=[(P, R)], frame=N)\n",
    "lag_eqs = LM.form_lagranges_equations()\n",
    "lag_eqs"
   ]
  },
  {
   "cell_type": "code",
   "execution_count": 8,
   "id": "7466830a",
   "metadata": {},
   "outputs": [],
   "source": [
    "# Compose operating point\n",
    "op_point = {q1: L, q2: 0, q1d: 0, q2d: 0, q1d.diff(t): 0, q2d.diff(t): 0}"
   ]
  },
  {
   "cell_type": "code",
   "execution_count": 9,
   "id": "caceed74",
   "metadata": {},
   "outputs": [],
   "source": [
    "# Solve for multiplier operating point\n",
    "lam_op = LM.solve_multipliers(op_point=op_point)"
   ]
  },
  {
   "cell_type": "code",
   "execution_count": 10,
   "id": "c366ddc8",
   "metadata": {},
   "outputs": [],
   "source": [
    "op_point.update(lam_op)\n",
    "# Perform the Linearization\n",
    "A, B, inp_vec = LM.linearize([q2], [q2d], [q1], [q1d],op_point=op_point, A_and_B=True)"
   ]
  },
  {
   "cell_type": "code",
   "execution_count": 11,
   "id": "4be2285a",
   "metadata": {},
   "outputs": [
    {
     "data": {
      "text/latex": [
       "$\\displaystyle \\left[\\begin{matrix}0 & 1\\\\- \\frac{g}{L} & 0\\end{matrix}\\right]$"
      ],
      "text/plain": [
       "Matrix([\n",
       "[   0, 1],\n",
       "[-g/L, 0]])"
      ]
     },
     "execution_count": 11,
     "metadata": {},
     "output_type": "execute_result"
    }
   ],
   "source": [
    "A"
   ]
  },
  {
   "cell_type": "code",
   "execution_count": 12,
   "id": "0d17dce8",
   "metadata": {},
   "outputs": [
    {
     "data": {
      "text/latex": [
       "$\\displaystyle \\left[\\begin{matrix}\\end{matrix}\\right]$"
      ],
      "text/plain": [
       "Matrix(0, 0, [])"
      ]
     },
     "execution_count": 12,
     "metadata": {},
     "output_type": "execute_result"
    }
   ],
   "source": [
    "B"
   ]
  },
  {
   "cell_type": "code",
   "execution_count": null,
   "id": "683d9829",
   "metadata": {},
   "outputs": [],
   "source": []
  }
 ],
 "metadata": {
  "kernelspec": {
   "display_name": "Python 3",
   "language": "python",
   "name": "python3"
  },
  "language_info": {
   "codemirror_mode": {
    "name": "ipython",
    "version": 3
   },
   "file_extension": ".py",
   "mimetype": "text/x-python",
   "name": "python",
   "nbconvert_exporter": "python",
   "pygments_lexer": "ipython3",
   "version": "3.8.8"
  }
 },
 "nbformat": 4,
 "nbformat_minor": 5
}
