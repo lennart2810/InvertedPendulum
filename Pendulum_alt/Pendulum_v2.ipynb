{
 "cells": [
  {
   "attachments": {
    "SimPy.jpg": {
     "image/jpeg": "[encoded data removed]"
    }
   },
   "cell_type": "markdown",
   "id": "8c95e232",
   "metadata": {},
   "source": [
    "![SimPy.jpg](attachment:SimPy.jpg)"
   ]
  },
  {
   "cell_type": "code",
   "execution_count": null,
   "id": "dc700b40",
   "metadata": {},
   "outputs": [],
   "source": []
  },
  {
   "cell_type": "markdown",
   "id": "46a24518",
   "metadata": {},
   "source": [
    "## Herleitung der Bewegungsgleichung nach Newton:\n",
    "### Freischnitt der Pendelmasse:\n",
    "\n",
    "$F_\\mathrm{rad}$\n",
    "wird hier nicht weiter betrachtet, da sie lediglich die Belastung auf den Faden darstellt.\n",
    "\n",
    "\n",
    "$F_\\mathrm{tan}$ (wird im Folgenden als $F_\\mathrm{r}$ bezeichnet, da sie Rückstellkraft beschreibt.)\n",
    "\n",
    "\n",
    "Die Gewichtskraft $F_\\mathrm{g}$ wirkt aufgrund der Gravitation auf die Pendelmasse."
   ]
  },
  {
   "cell_type": "markdown",
   "id": "3704b206",
   "metadata": {},
   "source": [
    "### Zerlegung der Gewichtkraft in die tangentiale Komponente:\n",
    "\n",
    "$ F_\\mathrm{tan} = - F_\\mathrm{g} \\cdot \\sin (\\theta) = - mg \\cdot \\sin (\\theta) $"
   ]
  },
  {
   "cell_type": "markdown",
   "id": "adf8b2db",
   "metadata": {},
   "source": [
    "### Die Bewegungsgleichung nach dem 2. Newtonschen Gesetz:\n",
    "\n",
    "$ F_\\mathrm{tan} = m \\cdot a_\\mathrm{tan} $\n",
    "\n",
    "Die Tangentialbeschleunigung ist dabei von der Pendellänge $l$ und der Winkelbeschleunigung $\\ddot{\\theta}(t)$ abhängig:\n",
    "\n",
    "$ a_\\mathrm{tan} = l \\cdot \\ddot{\\theta} $\n",
    "\n",
    "Daraus ergibt sich eine nichtlineare Differentialgleichung zweiter Ordnung:\n",
    "\n",
    "$ m \\cdot l \\cdot \\ddot{\\theta} = - mg \\cdot \\sin (\\theta) $ \n",
    "\n",
    "$ l \\cdot \\ddot{\\theta} = - g \\cdot \\sin (\\theta) $\n",
    "\n",
    "$ \\ddot{\\theta} = - \\frac{g}{l} \\cdot \\sin (\\theta) $\n",
    "\n",
    "$ \\ddot{\\theta} + \\frac{g}{l} \\cdot \\sin (\\theta) = 0 $"
   ]
  },
  {
   "cell_type": "markdown",
   "id": "ae8b20bc",
   "metadata": {},
   "source": [
    "### Zerlegung der Differentialgleichung 2. Ordnung\n",
    "\n",
    "mithilfe der Winkelgeschwindigkeit $\\omega$ lässt sich das System in zwei gekoppelte DGL 1. Ordnung vereinfachen:\n",
    "\n",
    "1. $ \\omega = \\ddot{\\theta} $\n",
    "\n",
    "\n",
    "2. $ \\dot{\\omega} = - \\frac {g}{l} \\cdot \\sin \\theta $ "
   ]
  },
  {
   "cell_type": "code",
   "execution_count": null,
   "id": "ba6ba879",
   "metadata": {},
   "outputs": [],
   "source": []
  },
  {
   "cell_type": "code",
   "execution_count": 43,
   "id": "39ab661a",
   "metadata": {},
   "outputs": [],
   "source": [
    "from sympy import Symbol, symbols, Function, lambdify, sin, cos, diff, simplify, solve"
   ]
  },
  {
   "cell_type": "markdown",
   "id": "4eb07aea",
   "metadata": {},
   "source": [
    "## Auslenkwinkel $\\theta(t)$\n",
    "\n",
    "Anders als bis hierhin dargestellt, ist $\\theta$ eine Funktion der Zeit $t$:"
   ]
  },
  {
   "cell_type": "code",
   "execution_count": 2,
   "id": "8b03a47a",
   "metadata": {},
   "outputs": [
    {
     "data": {
      "text/latex": [
       "$\\displaystyle \\theta{\\left(t \\right)}$"
      ],
      "text/plain": [
       "theta(t)"
      ]
     },
     "metadata": {},
     "output_type": "display_data"
    }
   ],
   "source": [
    "t = Symbol('t')\n",
    "theta = Function('theta')(t)\n",
    "display(theta)"
   ]
  },
  {
   "cell_type": "markdown",
   "id": "a3f3606a",
   "metadata": {},
   "source": [
    "## Winkelgeschwindigkeit $\\dot{\\theta}(t)$"
   ]
  },
  {
   "cell_type": "code",
   "execution_count": 3,
   "id": "c6c5feae",
   "metadata": {},
   "outputs": [
    {
     "data": {
      "text/latex": [
       "$\\displaystyle \\frac{d}{d t} \\theta{\\left(t \\right)}$"
      ],
      "text/plain": [
       "Derivative(theta(t), t)"
      ]
     },
     "metadata": {},
     "output_type": "display_data"
    },
    {
     "name": "stdout",
     "output_type": "stream",
     "text": [
      "<class 'sympy.core.function.Derivative'>\n"
     ]
    }
   ],
   "source": [
    "theta_d = diff(theta,t)  \n",
    "display(theta_d)\n",
    "print(type(theta_d))"
   ]
  },
  {
   "cell_type": "markdown",
   "id": "1e3014f8",
   "metadata": {},
   "source": [
    "## Winkelbeschleunigung $\\ddot{\\theta}(t)$"
   ]
  },
  {
   "cell_type": "code",
   "execution_count": 4,
   "id": "5f063fb1",
   "metadata": {},
   "outputs": [
    {
     "data": {
      "text/latex": [
       "$\\displaystyle \\frac{d^{2}}{d t^{2}} \\theta{\\left(t \\right)}$"
      ],
      "text/plain": [
       "Derivative(theta(t), (t, 2))"
      ]
     },
     "metadata": {},
     "output_type": "display_data"
    }
   ],
   "source": [
    "# theta_dd = diff(theta_d,t)\n",
    "theta_dd = diff(theta,t,t)  \n",
    "display(theta_dd)"
   ]
  },
  {
   "cell_type": "markdown",
   "id": "94f2c8bb",
   "metadata": {},
   "source": [
    "## Pendelmasse $m$"
   ]
  },
  {
   "cell_type": "code",
   "execution_count": 5,
   "id": "f68f5a54",
   "metadata": {},
   "outputs": [
    {
     "data": {
      "text/latex": [
       "$\\displaystyle m$"
      ],
      "text/plain": [
       "m"
      ]
     },
     "metadata": {},
     "output_type": "display_data"
    }
   ],
   "source": [
    "m = Symbol('m')\n",
    "display(m)"
   ]
  },
  {
   "cell_type": "markdown",
   "id": "0ccbf163",
   "metadata": {},
   "source": [
    "Die Position der Pendelmasse wird in der Ebene über $x$ und $y$ angegeben.\n",
    "\n",
    "Diese müssen somit Funktionen von $\\theta$ sein."
   ]
  },
  {
   "cell_type": "code",
   "execution_count": 6,
   "id": "43cae02f",
   "metadata": {},
   "outputs": [
    {
     "data": {
      "text/latex": [
       "$\\displaystyle x{\\left(\\theta{\\left(t \\right)} \\right)}$"
      ],
      "text/plain": [
       "x(theta(t))"
      ]
     },
     "metadata": {},
     "output_type": "display_data"
    },
    {
     "data": {
      "text/latex": [
       "$\\displaystyle y{\\left(\\theta{\\left(t \\right)} \\right)}$"
      ],
      "text/plain": [
       "y(theta(t))"
      ]
     },
     "metadata": {},
     "output_type": "display_data"
    }
   ],
   "source": [
    "x, y = symbols('x y', cls=Function)\n",
    "x, y = x(theta), y(theta)\n",
    "display(x,y)"
   ]
  },
  {
   "cell_type": "markdown",
   "id": "67f889f2",
   "metadata": {},
   "source": [
    "$ x = \\cos(\\theta)$ and $y=\\sin(\\theta) $\n",
    "\n",
    "why??"
   ]
  },
  {
   "cell_type": "code",
   "execution_count": 56,
   "id": "4a4b4bd0",
   "metadata": {},
   "outputs": [
    {
     "data": {
      "text/latex": [
       "$\\displaystyle \\cos{\\left(\\theta{\\left(t \\right)} \\right)}$"
      ],
      "text/plain": [
       "cos(theta(t))"
      ]
     },
     "metadata": {},
     "output_type": "display_data"
    },
    {
     "data": {
      "text/latex": [
       "$\\displaystyle \\sin{\\left(\\theta{\\left(t \\right)} \\right)}$"
      ],
      "text/plain": [
       "sin(theta(t))"
      ]
     },
     "metadata": {},
     "output_type": "display_data"
    },
    {
     "data": {
      "text/plain": [
       "<function _lambdifygenerated(_Dummy_48)>"
      ]
     },
     "metadata": {},
     "output_type": "display_data"
    },
    {
     "data": {
      "text/plain": [
       "<function _lambdifygenerated(_Dummy_49)>"
      ]
     },
     "metadata": {},
     "output_type": "display_data"
    },
    {
     "name": "stdout",
     "output_type": "stream",
     "text": [
      "<class 'function'>\n"
     ]
    }
   ],
   "source": [
    "x = cos(theta)\n",
    "y = sin(theta)\n",
    "display(x,y)\n",
    "\n",
    "x_f = lambdify(theta, x)\n",
    "y_f = lambdify(theta, y)\n",
    "\n",
    "display(x_f, y_f)\n",
    "print(type(x_f))"
   ]
  },
  {
   "cell_type": "markdown",
   "id": "b2d32358",
   "metadata": {},
   "source": [
    "## Define $T$, $V$, and $L$"
   ]
  },
  {
   "cell_type": "code",
   "execution_count": 13,
   "id": "1c9bd34d",
   "metadata": {},
   "outputs": [
    {
     "data": {
      "text/latex": [
       "$\\displaystyle g$"
      ],
      "text/plain": [
       "g"
      ]
     },
     "metadata": {},
     "output_type": "display_data"
    }
   ],
   "source": [
    "g = Symbol('g')\n",
    "display(g)"
   ]
  },
  {
   "cell_type": "markdown",
   "id": "456dff00",
   "metadata": {},
   "source": [
    "### Kinetische Energie $T$"
   ]
  },
  {
   "cell_type": "code",
   "execution_count": 14,
   "id": "009a44a5",
   "metadata": {},
   "outputs": [
    {
     "data": {
      "text/latex": [
       "$\\displaystyle 0.5 m \\left(\\sin^{2}{\\left(\\theta{\\left(t \\right)} \\right)} \\left(\\frac{d}{d t} \\theta{\\left(t \\right)}\\right)^{2} + \\cos^{2}{\\left(\\theta{\\left(t \\right)} \\right)} \\left(\\frac{d}{d t} \\theta{\\left(t \\right)}\\right)^{2}\\right)$"
      ],
      "text/plain": [
       "0.5*m*(sin(theta(t))**2*Derivative(theta(t), t)**2 + cos(theta(t))**2*Derivative(theta(t), t)**2)"
      ]
     },
     "metadata": {},
     "output_type": "display_data"
    }
   ],
   "source": [
    "T = 1/2 * m * (diff(x,t)**2 + diff(y,t)**2)\n",
    "display(T)"
   ]
  },
  {
   "cell_type": "code",
   "execution_count": 23,
   "id": "57aabc2c",
   "metadata": {},
   "outputs": [
    {
     "data": {
      "text/latex": [
       "$\\displaystyle 0.5 m \\left(\\frac{d}{d t} \\theta{\\left(t \\right)}\\right)^{2}$"
      ],
      "text/plain": [
       "0.5*m*Derivative(theta(t), t)**2"
      ]
     },
     "metadata": {},
     "output_type": "display_data"
    }
   ],
   "source": [
    "T = T.simplify()\n",
    "display(T)"
   ]
  },
  {
   "cell_type": "markdown",
   "id": "f93aa44b",
   "metadata": {},
   "source": [
    "### Pot. Energie $V$"
   ]
  },
  {
   "cell_type": "code",
   "execution_count": 15,
   "id": "6bfcae6f",
   "metadata": {},
   "outputs": [
    {
     "data": {
      "text/latex": [
       "$\\displaystyle g m \\sin{\\left(\\theta{\\left(t \\right)} \\right)}$"
      ],
      "text/plain": [
       "g*m*sin(theta(t))"
      ]
     },
     "metadata": {},
     "output_type": "display_data"
    }
   ],
   "source": [
    "V = m*g*y\n",
    "display(V)"
   ]
  },
  {
   "cell_type": "markdown",
   "id": "1d10fbc4",
   "metadata": {},
   "source": [
    "### Lagrange $L$"
   ]
  },
  {
   "cell_type": "code",
   "execution_count": 16,
   "id": "6db9d27d",
   "metadata": {},
   "outputs": [
    {
     "data": {
      "text/latex": [
       "$\\displaystyle - g m \\sin{\\left(\\theta{\\left(t \\right)} \\right)} + 0.5 m \\left(\\sin^{2}{\\left(\\theta{\\left(t \\right)} \\right)} \\left(\\frac{d}{d t} \\theta{\\left(t \\right)}\\right)^{2} + \\cos^{2}{\\left(\\theta{\\left(t \\right)} \\right)} \\left(\\frac{d}{d t} \\theta{\\left(t \\right)}\\right)^{2}\\right)$"
      ],
      "text/plain": [
       "-g*m*sin(theta(t)) + 0.5*m*(sin(theta(t))**2*Derivative(theta(t), t)**2 + cos(theta(t))**2*Derivative(theta(t), t)**2)"
      ]
     },
     "metadata": {},
     "output_type": "display_data"
    }
   ],
   "source": [
    "L = T-V\n",
    "display(L)"
   ]
  },
  {
   "cell_type": "code",
   "execution_count": 24,
   "id": "6162534a",
   "metadata": {},
   "outputs": [
    {
     "data": {
      "text/latex": [
       "$\\displaystyle m \\left(- g \\sin{\\left(\\theta{\\left(t \\right)} \\right)} + 0.5 \\left(\\frac{d}{d t} \\theta{\\left(t \\right)}\\right)^{2}\\right)$"
      ],
      "text/plain": [
       "m*(-g*sin(theta(t)) + 0.5*Derivative(theta(t), t)**2)"
      ]
     },
     "metadata": {},
     "output_type": "display_data"
    }
   ],
   "source": [
    "L = L.simplify()\n",
    "display(L)"
   ]
  },
  {
   "cell_type": "markdown",
   "id": "61664a46",
   "metadata": {},
   "source": [
    "Compute $\\frac{dL}{d\\theta} - \\frac{d}{dt} \\frac{dL}{d\\dot{\\theta}}$ (which is equal to zero:Lagranges equation)"
   ]
  },
  {
   "cell_type": "code",
   "execution_count": 25,
   "id": "21e55805",
   "metadata": {},
   "outputs": [
    {
     "data": {
      "text/latex": [
       "$\\displaystyle - 1.0 m \\left(g \\cos{\\left(\\theta{\\left(t \\right)} \\right)} + \\frac{d^{2}}{d t^{2}} \\theta{\\left(t \\right)}\\right)$"
      ],
      "text/plain": [
       "-1.0*m*(g*cos(theta(t)) + Derivative(theta(t), (t, 2)))"
      ]
     },
     "metadata": {},
     "output_type": "display_data"
    }
   ],
   "source": [
    "# LegrangeEquation\n",
    "LE = diff(L, theta) - diff(diff(L, theta_d), t)\n",
    "LE = LE.simplify()\n",
    "display(LE)"
   ]
  },
  {
   "cell_type": "markdown",
   "id": "e1b37244",
   "metadata": {},
   "source": [
    "Solve for $d^2 \\theta / dt^2 $ so we can solve it with an ODE solver. Our system of equations will then be\n",
    "$ \\frac{d \\theta}{dt} = \\omega $\n",
    "$ \\frac{d \\omega}{dt} = \\frac{d^2 \\theta}{dt^2} =  \\text{whatever is returned} $"
   ]
  },
  {
   "cell_type": "code",
   "execution_count": 30,
   "id": "e097eb99",
   "metadata": {},
   "outputs": [
    {
     "name": "stdout",
     "output_type": "stream",
     "text": [
      "<class 'sympy.core.mul.Mul'>\n"
     ]
    }
   ],
   "source": [
    "deriv_2 = solve(LE, theta_dd)[0]\n",
    "print(type(deriv_2))\n",
    "deriv_1 = theta_d"
   ]
  },
  {
   "cell_type": "code",
   "execution_count": 31,
   "id": "a79c7ede",
   "metadata": {},
   "outputs": [
    {
     "data": {
      "text/latex": [
       "$\\displaystyle - g \\cos{\\left(\\theta{\\left(t \\right)} \\right)}$"
      ],
      "text/plain": [
       "-g*cos(theta(t))"
      ]
     },
     "metadata": {},
     "output_type": "display_data"
    }
   ],
   "source": [
    "display(deriv_2)"
   ]
  },
  {
   "cell_type": "markdown",
   "id": "cd95b346",
   "metadata": {},
   "source": [
    "Convert this into a numpy expression:"
   ]
  },
  {
   "cell_type": "code",
   "execution_count": 37,
   "id": "1bfebd05",
   "metadata": {},
   "outputs": [
    {
     "data": {
      "text/plain": [
       "<function _lambdifygenerated(g, _Dummy_42, _Dummy_41)>"
      ]
     },
     "metadata": {},
     "output_type": "display_data"
    },
    {
     "data": {
      "text/plain": [
       "<function _lambdifygenerated(_Dummy_43)>"
      ]
     },
     "metadata": {},
     "output_type": "display_data"
    },
    {
     "name": "stdout",
     "output_type": "stream",
     "text": [
      "<class 'function'>\n"
     ]
    }
   ],
   "source": [
    "deriv2_f = lambdify((g, theta, theta_d), deriv_2)\n",
    "deriv1_f = lambdify(theta_d, theta_d)\n",
    "\n",
    "display(deriv2_f)\n",
    "display(deriv1_f)\n",
    "\n",
    "print(type(deriv2_f))"
   ]
  },
  {
   "cell_type": "markdown",
   "id": "76c2b6b5",
   "metadata": {},
   "source": [
    "Create ODE"
   ]
  },
  {
   "cell_type": "code",
   "execution_count": 38,
   "id": "5136de9d",
   "metadata": {},
   "outputs": [
    {
     "name": "stdout",
     "output_type": "stream",
     "text": [
      "<class 'function'>\n"
     ]
    }
   ],
   "source": [
    "def dSdt(S, t):\n",
    "    return [\n",
    "        deriv1_f(S[1]), #dtheta/dt\n",
    "        deriv2_f(g, S[0], S[1]) #domega/dt\n",
    "    ]\n",
    "\n",
    "print(type(dSdt))"
   ]
  },
  {
   "cell_type": "code",
   "execution_count": 44,
   "id": "db3c24a9",
   "metadata": {},
   "outputs": [
    {
     "name": "stdout",
     "output_type": "stream",
     "text": [
      "<class 'numpy.ndarray'>\n",
      "(1000, 2)\n"
     ]
    },
    {
     "data": {
      "text/plain": [
       "array([[ 0.78539816,  0.        ],\n",
       "       [ 0.78400772, -0.13893757],\n",
       "       [ 0.77983252, -0.27826069],\n",
       "       ...,\n",
       "       [-3.92239571,  0.25279145],\n",
       "       [-3.91593568,  0.3927147 ],\n",
       "       [-3.9066642 ,  0.53371712]])"
      ]
     },
     "metadata": {},
     "output_type": "display_data"
    }
   ],
   "source": [
    "import numpy as np\n",
    "from scipy.integrate import odeint\n",
    "\n",
    "t = np.linspace(0, 20, 1000)\n",
    "g = 9.81\n",
    "ans1 = odeint(dSdt, y0=[np.pi/4, 0], t=t)\n",
    "\n",
    "print(type(ans1))\n",
    "print(ans1.shape)\n",
    "display(ans1)"
   ]
  },
  {
   "cell_type": "code",
   "execution_count": 57,
   "id": "b607b2c9",
   "metadata": {},
   "outputs": [
    {
     "data": {
      "text/plain": [
       "[<matplotlib.lines.Line2D at 0x7fb62bfc6340>]"
      ]
     },
     "execution_count": 57,
     "metadata": {},
     "output_type": "execute_result"
    },
    {
     "data": {
      "image/png": "[encoded data removed]",
      "text/plain": [
       "<Figure size 432x288 with 1 Axes>"
      ]
     },
     "metadata": {
      "needs_background": "light"
     },
     "output_type": "display_data"
    }
   ],
   "source": [
    "import matplotlib.pyplot as plt\n",
    "plt.plot(t,ans1.T[0])\n",
    "#plt.plot(t,ans1.T[1])"
   ]
  },
  {
   "cell_type": "code",
   "execution_count": 51,
   "id": "d761d5e4",
   "metadata": {},
   "outputs": [],
   "source": [
    "def get_xy(theta):\n",
    "    return x_f(theta), y_f(theta)\n",
    "\n",
    "x1, y1 = get_xy(ans1.T[0])"
   ]
  },
  {
   "cell_type": "code",
   "execution_count": 53,
   "id": "9c644095",
   "metadata": {},
   "outputs": [
    {
     "data": {
      "image/png": "[encoded data removed]",
      "text/plain": [
       "<Figure size 432x288 with 1 Axes>"
      ]
     },
     "metadata": {
      "needs_background": "light"
     },
     "output_type": "display_data"
    }
   ],
   "source": [
    "from matplotlib import animation\n",
    "from matplotlib.animation import PillowWriter\n",
    "\n",
    "def animate(i):\n",
    "    ln1.set_data([x1[i]], [y1[i]])\n",
    "    \n",
    "fig, ax = plt.subplots(1,1)\n",
    "ax.grid()\n",
    "ln1, = plt.plot([], [], 'bo')\n",
    "ax.set_ylim(-1, 4)\n",
    "ax.set_xlim(-4,4)\n",
    "ax.set_title(\"pendulum\")\n",
    "\n",
    "\n",
    "ani = animation.FuncAnimation(fig, animate, frames=1000, interval=50)\n",
    "ani.save('pendulum.gif',writer='pillow',fps=50)"
   ]
  },
  {
   "cell_type": "code",
   "execution_count": null,
   "id": "899b9429",
   "metadata": {},
   "outputs": [],
   "source": []
  }
 ],
 "metadata": {
  "kernelspec": {
   "display_name": "Python 3",
   "language": "python",
   "name": "python3"
  },
  "language_info": {
   "codemirror_mode": {
    "name": "ipython",
    "version": 3
   },
   "file_extension": ".py",
   "mimetype": "text/x-python",
   "name": "python",
   "nbconvert_exporter": "python",
   "pygments_lexer": "ipython3",
   "version": "3.8.8"
  }
 },
 "nbformat": 4,
 "nbformat_minor": 5
}
