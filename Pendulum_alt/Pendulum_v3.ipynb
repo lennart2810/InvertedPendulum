{
 "cells": [
  {
   "cell_type": "markdown",
   "id": "6346a61e",
   "metadata": {},
   "source": [
    "$ \\ddot\\theta(t) + b \\cdot \\dot\\theta(t) + c \\cdot \\sin(\\theta(t)) = 0 $"
   ]
  },
  {
   "cell_type": "code",
   "execution_count": 1,
   "id": "8ea28af1",
   "metadata": {},
   "outputs": [],
   "source": [
    "#https://docs.scipy.org/doc/scipy/reference/generated/scipy.integrate.odeint.html\n",
    "#https://matplotlib.org/3.1.1/gallery/subplots_axes_and_figures/figure_title.html\n",
    "\n",
    "import numpy as np\n",
    "from scipy.integrate import odeint\n",
    "import matplotlib.pyplot as plt\n",
    "\n",
    "def pend(y, t, b, c):\n",
    "    theta, omega = y\n",
    "    dydt = [omega, -b*omega - c*np.sin(theta)]\n",
    "    return dydt\n",
    "\n",
    "def calc(damping, l_g):\n",
    "\n",
    "    b = damping\n",
    "    c = l_g\n",
    "\n",
    "    y0 = [np.pi - 0.1, 0.0]\n",
    "\n",
    "    t = np.linspace(0, 10, 200)\n",
    "\n",
    "    \n",
    "    sol = odeint(pend, y0, t, args=(b, c))\n",
    "    \n",
    "\n",
    "    fig, axs = plt.subplots(1, 1, constrained_layout=True, figsize=(6,4))\n",
    "    fig.suptitle('Pendulum', fontsize=16)\n",
    "\n",
    "    axs.plot(t, sol[:, 0], 'b', label=r'$\\theta(t)$')\n",
    "    axs.plot(t, sol[:, 1], 'g', label='$\\omega(t)$')\n",
    "    axs.set_title('')\n",
    "    axs.set_xlabel('time')\n",
    "    axs.set_ylabel('rad')\n",
    "    axs.xaxis.set_ticks(np.arange(0, 12, 2))\n",
    "    #axs.xaxis.set_major_formatter(ticker.FormatStrFormatter('%0.1f'))\n",
    "\n",
    "    axs.legend(loc='best')\n",
    "    axs.grid()\n",
    "\n",
    "    ax_1 = axs.twinx()  \n",
    "    ax_1.set_ylabel('deg') \n",
    "\n",
    "    plt.show()\n",
    "    print(type(sol), sol.shape)\n",
    "    x = 'test'\n",
    "    return x"
   ]
  },
  {
   "cell_type": "code",
   "execution_count": 2,
   "id": "f778eeba",
   "metadata": {},
   "outputs": [
    {
     "data": {
      "application/vnd.jupyter.widget-view+json": {
       "model_id": "96d7b1afbb0344cb83fe830fe1441da7",
       "version_major": 2,
       "version_minor": 0
      },
      "text/plain": [
       "interactive(children=(FloatSlider(value=0.2, description='$b$', max=1.0), FloatSlider(value=7.0, description='…"
      ]
     },
     "metadata": {},
     "output_type": "display_data"
    }
   ],
   "source": [
    "#https://ipywidgets.readthedocs.io/en/latest/examples/Using%20Interact.html\n",
    "%matplotlib inline\n",
    "from ipywidgets import interact_manual, FloatSlider, interact\n",
    "import matplotlib.pyplot as plt\n",
    "import numpy as np\n",
    "\n",
    "b = FloatSlider(value=0.2,min=0,max=1.0,step=0.1,description='$b$')\n",
    "c = FloatSlider(value=7,min=0,max=10.0,step=0.5,description='$c$')\n",
    "\n",
    "def f(b, c):\n",
    "    print(calc(b, c))\n",
    "    \n",
    "interactive_plot = interact(f, b=b, c=c)"
   ]
  },
  {
   "cell_type": "code",
   "execution_count": 11,
   "id": "f33c451d",
   "metadata": {},
   "outputs": [
    {
     "data": {
      "application/vnd.jupyter.widget-view+json": {
       "model_id": "2bf31bdf49824c39a5bd0aec826e48d1",
       "version_major": 2,
       "version_minor": 0
      },
      "text/plain": [
       "interactive(children=(FloatSlider(value=0.2, description='$b$', max=1.0), FloatSlider(value=7.0, description='…"
      ]
     },
     "metadata": {},
     "output_type": "display_data"
    }
   ],
   "source": []
  },
  {
   "cell_type": "code",
   "execution_count": null,
   "id": "1b794206",
   "metadata": {},
   "outputs": [],
   "source": []
  },
  {
   "cell_type": "code",
   "execution_count": null,
   "id": "53314a08",
   "metadata": {},
   "outputs": [],
   "source": []
  }
 ],
 "metadata": {
  "kernelspec": {
   "display_name": "Python 3",
   "language": "python",
   "name": "python3"
  },
  "language_info": {
   "codemirror_mode": {
    "name": "ipython",
    "version": 3
   },
   "file_extension": ".py",
   "mimetype": "text/x-python",
   "name": "python",
   "nbconvert_exporter": "python",
   "pygments_lexer": "ipython3",
   "version": "3.8.8"
  }
 },
 "nbformat": 4,
 "nbformat_minor": 5
}
