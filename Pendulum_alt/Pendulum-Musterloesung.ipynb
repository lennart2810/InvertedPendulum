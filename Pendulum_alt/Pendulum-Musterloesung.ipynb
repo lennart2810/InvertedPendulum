{
 "cells": [
  {
   "cell_type": "markdown",
   "metadata": {},
   "source": [
    "### Importieren benötigter Bibliotheken"
   ]
  },
  {
   "cell_type": "code",
   "execution_count": 1,
   "metadata": {},
   "outputs": [],
   "source": [
    "from __future__ import print_function, division\n",
    "from sympy import symbols, simplify, trigsimp\n",
    "from sympy.physics.mechanics import dynamicsymbols, ReferenceFrame, Point\n",
    "from sympy.physics.mechanics import inertia, RigidBody, KanesMethod\n",
    "from sympy.physics.vector import init_vprinting\n",
    "init_vprinting(use_latex='mathjax', pretty_print=False)"
   ]
  },
  {
   "cell_type": "markdown",
   "metadata": {},
   "source": [
    "# 1. Kinematik"
   ]
  },
  {
   "cell_type": "markdown",
   "metadata": {},
   "source": [
    "### Koordinatensysteme / Bezugssysteme"
   ]
  },
  {
   "cell_type": "code",
   "execution_count": 2,
   "metadata": {},
   "outputs": [
    {
     "name": "stdout",
     "output_type": "stream",
     "text": [
      "<class 'sympy.physics.vector.frame.ReferenceFrame'>\n",
      "I\n",
      "<class 'sympy.physics.vector.frame.ReferenceFrame'>\n",
      "P_1\n"
     ]
    }
   ],
   "source": [
    "# Initialisieren der benötigten Koordinatensysteme\n",
    "inertial_frame = ReferenceFrame('I')\n",
    "print(type(inertial_frame))\n",
    "print(inertial_frame)\n",
    "pendulum1_frame = ReferenceFrame('P_1')\n",
    "print(type(pendulum1_frame))\n",
    "print(pendulum1_frame)"
   ]
  },
  {
   "cell_type": "markdown",
   "metadata": {},
   "source": [
    "### Orientierung und Zwangsbedingungen an den Koordinatensystemen"
   ]
  },
  {
   "cell_type": "code",
   "execution_count": 3,
   "metadata": {},
   "outputs": [
    {
     "name": "stdout",
     "output_type": "stream",
     "text": [
      "theta1\n",
      "theta1(t)\n"
     ]
    }
   ],
   "source": [
    "theta1 = dynamicsymbols('theta1')\n",
    "print(type(theta1))\n",
    "print(theta1)"
   ]
  },
  {
   "cell_type": "code",
   "execution_count": 4,
   "metadata": {},
   "outputs": [],
   "source": [
    "# Zwangsbedingung des Bezugssystems P1 zum Inertialsystem:\n",
    "# setze fest, dass pendulum1 lediglich um die z-Achse des Inertalsystems rotieren kann, um den Winkel theta1\n",
    "pendulum1_frame.orient(inertial_frame, 'Axis', (theta1, inertial_frame.z))"
   ]
  },
  {
   "cell_type": "code",
   "execution_count": 5,
   "metadata": {},
   "outputs": [
    {
     "data": {
      "text/latex": [
       "$\\displaystyle \\left[\\begin{matrix}\\cos{\\left(\\theta_{1} \\right)} & \\sin{\\left(\\theta_{1} \\right)} & 0\\\\- \\sin{\\left(\\theta_{1} \\right)} & \\cos{\\left(\\theta_{1} \\right)} & 0\\\\0 & 0 & 1\\end{matrix}\\right]$"
      ],
      "text/plain": [
       "Matrix([\n",
       "[ cos(theta1), sin(theta1), 0],\n",
       "[-sin(theta1), cos(theta1), 0],\n",
       "[           0,           0, 1]])"
      ]
     },
     "execution_count": 5,
     "metadata": {},
     "output_type": "execute_result"
    }
   ],
   "source": [
    "# Daraus ergibt sich dann, dass die die Position von pendulum1 mit der folgenden Rotationsmatrix berechnet werden kann:\n",
    "pendulum1_frame.dcm(inertial_frame)"
   ]
  },
  {
   "cell_type": "markdown",
   "metadata": {},
   "source": [
    "<p> Multipliziert man diese Rotationsmatrix mit einem Vektor, lässt sich damit der Vektor um die entsprechenden Winkel zum Inertialsystem drehen</p>"
   ]
  },
  {
   "cell_type": "markdown",
   "metadata": {},
   "source": [
    "### Massepunkte und Gelenkpunkte"
   ]
  },
  {
   "cell_type": "code",
   "execution_count": 6,
   "metadata": {},
   "outputs": [],
   "source": [
    "# Zunächst setzen wir einen fixen Ankerpunkt im Inertialsystem\n",
    "ankle = Point('A')"
   ]
  },
  {
   "cell_type": "code",
   "execution_count": 7,
   "metadata": {},
   "outputs": [],
   "source": [
    "# setzen unseren zweiten Punkt, der später pendulum1 und pendulum2 verbinden soll\n",
    "p1 = Point('P_1')"
   ]
  },
  {
   "cell_type": "code",
   "execution_count": 8,
   "metadata": {},
   "outputs": [],
   "source": [
    "# definieren nun eine Länge für unser erstes Pendel\n",
    "pendulum1_length = symbols('l_1')"
   ]
  },
  {
   "cell_type": "code",
   "execution_count": 9,
   "metadata": {},
   "outputs": [
    {
     "data": {
      "text/latex": [
       "$\\displaystyle -  l_{1} \\sin{\\left(\\theta_{1} \\right)}\\mathbf{\\hat{i}_x} + l_{1} \\cos{\\left(\\theta_{1} \\right)}\\mathbf{\\hat{i}_y}$"
      ],
      "text/plain": [
       "- l_1*sin(theta1)*I.x + l_1*cos(theta1)*I.y"
      ]
     },
     "execution_count": 9,
     "metadata": {},
     "output_type": "execute_result"
    }
   ],
   "source": [
    "# Die Position des Punktes P lässt sich jetzt über die Länge l1 * der Richtung y des Bezugssystems P beschreiben\n",
    "p1.set_pos(ankle, pendulum1_length * pendulum1_frame.y)\n",
    "\n",
    "# Durch die Multiplikation mit der Rotationsmatrix zwischen dem Inertialsystems und Pendulum1 kann der Punkt P\n",
    "# im Bezug zum Inertialsystem beschrieben werden\n",
    "p1.pos_from(ankle).express(inertial_frame).simplify()"
   ]
  },
  {
   "cell_type": "markdown",
   "metadata": {},
   "source": [
    "<p>Da wir nicht mit masselosen Pendeln rechnen wollen, müssen wir außerdem die Massenschwerpunkte unserer Pendel angeben</p>"
   ]
  },
  {
   "cell_type": "code",
   "execution_count": 10,
   "metadata": {},
   "outputs": [],
   "source": [
    "# wir machen dies analog zur Vorgehensweise der Gelenkpunkte\n",
    "pendulum1_mass_length = symbols('l_m1')\n",
    "pendulum1_mass_center = Point('P_m1')\n",
    "pendulum1_mass_center.set_pos(ankle, pendulum1_mass_length * pendulum1_frame.y)"
   ]
  },
  {
   "cell_type": "markdown",
   "metadata": {},
   "source": [
    "### Aufstellen der Differentialgleichungen"
   ]
  },
  {
   "cell_type": "code",
   "execution_count": 11,
   "metadata": {},
   "outputs": [
    {
     "data": {
      "text/latex": [
       "$\\displaystyle \\left[ \\omega_{1} - \\dot{\\theta}_{1}\\right]$"
      ],
      "text/plain": [
       "[omega1 - theta1']"
      ]
     },
     "execution_count": 11,
     "metadata": {},
     "output_type": "execute_result"
    }
   ],
   "source": [
    "# Wir benötigen die Winkelgeschwindigkeiten\n",
    "omega1 = dynamicsymbols('omega1')\n",
    "\n",
    "# Diese sind genauso groß, wie die Ableitung des Winkels Theta1 nach der Zeit --> 𝜔 = 𝜃˙\n",
    "# Diese Formulierung müssen wir tätigen, da wir unsere Bewegungsgleichung nach Kanes-Methode aufstellen.\n",
    "# Zudem benötigen alle numerischen Integratoren eine DGL 1.Ordnung\n",
    "kinematical_differential_equations = [omega1 - theta1.diff()]\n",
    "kinematical_differential_equations"
   ]
  },
  {
   "cell_type": "code",
   "execution_count": 12,
   "metadata": {},
   "outputs": [
    {
     "data": {
      "text/latex": [
       "$\\displaystyle \\omega_{1}\\mathbf{\\hat{i}_z}$"
      ],
      "text/plain": [
       "omega1*I.z"
      ]
     },
     "execution_count": 12,
     "metadata": {},
     "output_type": "execute_result"
    }
   ],
   "source": [
    "# Die erste Winkelgeschwindigkeit rotiert um die Z-Achse unseres Inertialsystems\n",
    "pendulum1_frame.set_ang_vel(inertial_frame, omega1*inertial_frame.z)\n",
    "pendulum1_frame.ang_vel_in(inertial_frame)"
   ]
  },
  {
   "cell_type": "code",
   "execution_count": 13,
   "metadata": {},
   "outputs": [],
   "source": [
    "# Der Ankerpunkt am Inertialsystem wird raumfest mit der Geschwindigkeit 0 angenommen \n",
    "ankle.set_vel(inertial_frame, 0)"
   ]
  },
  {
   "cell_type": "markdown",
   "metadata": {},
   "source": [
    "# 2. Massenträgheiten"
   ]
  },
  {
   "cell_type": "markdown",
   "metadata": {},
   "source": [
    "### Massenträgheiten"
   ]
  },
  {
   "cell_type": "code",
   "execution_count": 14,
   "metadata": {},
   "outputs": [],
   "source": [
    "pendulum1_mass = symbols('m_1')"
   ]
  },
  {
   "cell_type": "code",
   "execution_count": 15,
   "metadata": {},
   "outputs": [],
   "source": [
    "pendulum1_inertia = symbols('I_p1')"
   ]
  },
  {
   "cell_type": "code",
   "execution_count": 16,
   "metadata": {},
   "outputs": [
    {
     "name": "stdout",
     "output_type": "stream",
     "text": [
      "Help on function inertia in module sympy.physics.mechanics.functions:\n",
      "\n",
      "inertia(frame, ixx, iyy, izz, ixy=0, iyz=0, izx=0)\n",
      "    Simple way to create inertia Dyadic object.\n",
      "    \n",
      "    Explanation\n",
      "    ===========\n",
      "    \n",
      "    If you don't know what a Dyadic is, just treat this like the inertia\n",
      "    tensor. Then, do the easy thing and define it in a body-fixed frame.\n",
      "    \n",
      "    Parameters\n",
      "    ==========\n",
      "    \n",
      "    frame : ReferenceFrame\n",
      "        The frame the inertia is defined in\n",
      "    ixx : Sympifyable\n",
      "        the xx element in the inertia dyadic\n",
      "    iyy : Sympifyable\n",
      "        the yy element in the inertia dyadic\n",
      "    izz : Sympifyable\n",
      "        the zz element in the inertia dyadic\n",
      "    ixy : Sympifyable\n",
      "        the xy element in the inertia dyadic\n",
      "    iyz : Sympifyable\n",
      "        the yz element in the inertia dyadic\n",
      "    izx : Sympifyable\n",
      "        the zx element in the inertia dyadic\n",
      "    \n",
      "    Examples\n",
      "    ========\n",
      "    \n",
      "    >>> from sympy.physics.mechanics import ReferenceFrame, inertia\n",
      "    >>> N = ReferenceFrame('N')\n",
      "    >>> inertia(N, 1, 2, 3)\n",
      "    (N.x|N.x) + 2*(N.y|N.y) + 3*(N.z|N.z)\n",
      "\n"
     ]
    }
   ],
   "source": [
    "help(inertia)"
   ]
  },
  {
   "cell_type": "code",
   "execution_count": 17,
   "metadata": {},
   "outputs": [
    {
     "data": {
      "text/latex": [
       "$\\displaystyle I_{p1}\\mathbf{\\hat{p_1}_z}\\otimes \\mathbf{\\hat{p_1}_z}$"
      ],
      "text/plain": [
       "I_p1*(P_1.z|P_1.z)"
      ]
     },
     "execution_count": 17,
     "metadata": {},
     "output_type": "execute_result"
    }
   ],
   "source": [
    "# Das Dyadsiche Produkt ermöglicht uns das speichern der Trägheit als Tensor in Abhängigkeit zum Bezugssystem\n",
    "pendulum1_inertia_dyadic = inertia(pendulum1_frame, 0, 0, pendulum1_inertia)\n",
    "pendulum1_inertia_dyadic"
   ]
  },
  {
   "cell_type": "code",
   "execution_count": 18,
   "metadata": {},
   "outputs": [
    {
     "data": {
      "text/latex": [
       "$\\displaystyle \\left[\\begin{matrix}0 & 0 & 0\\\\0 & 0 & 0\\\\0 & 0 & I_{p1}\\end{matrix}\\right]$"
      ],
      "text/plain": [
       "Matrix([\n",
       "[0, 0,    0],\n",
       "[0, 0,    0],\n",
       "[0, 0, I_p1]])"
      ]
     },
     "execution_count": 18,
     "metadata": {},
     "output_type": "execute_result"
    }
   ],
   "source": [
    "pendulum1_inertia_dyadic.to_matrix(pendulum1_frame)"
   ]
  },
  {
   "cell_type": "code",
   "execution_count": 19,
   "metadata": {},
   "outputs": [],
   "source": [
    "pendulum1_central_inertia = (pendulum1_inertia_dyadic, pendulum1_mass_center)"
   ]
  },
  {
   "cell_type": "code",
   "execution_count": 20,
   "metadata": {},
   "outputs": [],
   "source": [
    "# Eine komplette Beschreibung des Rigid Bodys besteht aus: Massenschwerpunkt, Bezugssystem, Masse und Trägheit\n",
    "pendulum1 = RigidBody('Pendulum 1', pendulum1_mass_center, pendulum1_frame,\n",
    "                      pendulum1_mass, pendulum1_central_inertia)"
   ]
  },
  {
   "cell_type": "markdown",
   "metadata": {},
   "source": [
    "# 3. Kinetik (extern aufgeprägte Kräfte)"
   ]
  },
  {
   "cell_type": "code",
   "execution_count": 21,
   "metadata": {},
   "outputs": [],
   "source": [
    "g = symbols('g')"
   ]
  },
  {
   "cell_type": "code",
   "execution_count": 22,
   "metadata": {},
   "outputs": [
    {
     "data": {
      "text/latex": [
       "$\\displaystyle -  g m_{1}\\mathbf{\\hat{i}_y}$"
      ],
      "text/plain": [
       "- g*m_1*I.y"
      ]
     },
     "execution_count": 22,
     "metadata": {},
     "output_type": "execute_result"
    }
   ],
   "source": [
    "pendulum1_grav_force_vector = -pendulum1_mass * g * inertial_frame.y\n",
    "pendulum1_grav_force_vector"
   ]
  },
  {
   "cell_type": "code",
   "execution_count": 23,
   "metadata": {},
   "outputs": [],
   "source": [
    "# Die Gravitationskraft legen wir immer mit -y Richtung unseres Inertialsystems an\n",
    "pendulum1_grav_force = (pendulum1_mass_center, pendulum1_grav_force_vector)"
   ]
  },
  {
   "cell_type": "code",
   "execution_count": 24,
   "metadata": {},
   "outputs": [
    {
     "data": {
      "text/latex": [
       "$\\displaystyle (T_{a} - T_{p1})\\mathbf{\\hat{i}_z}$"
      ],
      "text/plain": [
       "(T_a - T_p1)*I.z"
      ]
     },
     "execution_count": 24,
     "metadata": {},
     "output_type": "execute_result"
    }
   ],
   "source": [
    "# Zusätzlich könnten wir an unserem Rotations-FHG der Gelenke auch ein Moment aufprägen\n",
    "ankle_torque, p1_torque = dynamicsymbols('T_a, T_p1')\n",
    "pendulum1_torque_vector = ankle_torque * inertial_frame.z - p1_torque * inertial_frame.z\n",
    "pendulum1_torque = (pendulum1_frame, pendulum1_torque_vector)\n",
    "pendulum1_torque_vector"
   ]
  },
  {
   "cell_type": "markdown",
   "metadata": {},
   "source": [
    "# 4. Aufstellen der Bewegungsgleichungen"
   ]
  },
  {
   "cell_type": "code",
   "execution_count": 25,
   "metadata": {},
   "outputs": [
    {
     "data": {
      "text/latex": [
       "$\\displaystyle \\left[ \\omega_{1} - \\dot{\\theta}_{1}\\right]$"
      ],
      "text/plain": [
       "[omega1 - theta1']"
      ]
     },
     "execution_count": 25,
     "metadata": {},
     "output_type": "execute_result"
    }
   ],
   "source": [
    "angles = [theta1]\n",
    "#print(angles)\n",
    "speeds = [omega1]\n",
    "# Wir hatten dies bereits im Kapitel 1 - Kinematik definiert\n",
    "kinematical_differential_equations"
   ]
  },
  {
   "cell_type": "code",
   "execution_count": 26,
   "metadata": {},
   "outputs": [
    {
     "data": {
      "text/plain": [
       "[(P_m1, - g*m_1*I.y), (P_1, (T_a(t) - T_p1(t))*I.z)]"
      ]
     },
     "execution_count": 26,
     "metadata": {},
     "output_type": "execute_result"
    }
   ],
   "source": [
    "# Zusammentragen aller von außen aufgeprägten Kräfte\n",
    "loads = [pendulum1_grav_force,\n",
    "         pendulum1_torque]\n",
    "loads"
   ]
  },
  {
   "cell_type": "code",
   "execution_count": 27,
   "metadata": {},
   "outputs": [
    {
     "data": {
      "text/plain": [
       "[Pendulum 1]"
      ]
     },
     "execution_count": 27,
     "metadata": {},
     "output_type": "execute_result"
    }
   ],
   "source": [
    "# Wir erinnern uns an die angelegten Starrkörper\n",
    "bodies = [pendulum1]\n",
    "bodies"
   ]
  },
  {
   "cell_type": "markdown",
   "metadata": {},
   "source": [
    "<p>Die Formulierung der Bewegungsgleichungen nach Kane sieht der bekannten Form nach Newton Euler sehr ähnlich:</p>\n",
    "<p>Kanes Formulierung: $F_r + F_r^* = 0$</p>\n",
    "<p>Newton Euler Formulierung: ${F} = {m}{a} \\hspace{1cm} {T} = {I}{\\alpha}$</p>"
   ]
  },
  {
   "cell_type": "code",
   "execution_count": 28,
   "metadata": {},
   "outputs": [
    {
     "name": "stdout",
     "output_type": "stream",
     "text": [
      "<class 'sympy.physics.mechanics.rigidbody.RigidBody'>\n",
      "<class 'sympy.physics.vector.point.Point'>\n",
      "2\n",
      "<class 'sympy.physics.vector.frame.ReferenceFrame'>\n"
     ]
    }
   ],
   "source": [
    "print(type(pendulum1))\n",
    "print(type(pendulum1_grav_force[0]))\n",
    "print(len(pendulum1_grav_force))\n",
    "print(type(pendulum1_torque[0]))\n",
    "\n",
    "kane = KanesMethod(inertial_frame, angles, speeds, kinematical_differential_equations)\n",
    "fr, frstar = kane.kanes_equations(bodies, loads)"
   ]
  },
  {
   "cell_type": "code",
   "execution_count": 29,
   "metadata": {},
   "outputs": [
    {
     "data": {
      "text/latex": [
       "$\\displaystyle \\left[\\begin{matrix}g l_{m1} m_{1} \\sin{\\left(\\theta_{1} \\right)} - \\left(I_{p1} + l_{m1}^{2} m_{1}\\right) \\dot{\\omega}_{1} + T_{a} - T_{p1}\\end{matrix}\\right]$"
      ],
      "text/plain": [
       "Matrix([[g*l_m1*m_1*sin(theta1) - (I_p1 + l_m1**2*m_1)*omega1' + T_a - T_p1]])"
      ]
     },
     "execution_count": 29,
     "metadata": {},
     "output_type": "execute_result"
    }
   ],
   "source": [
    "trigsimp(fr + frstar)"
   ]
  },
  {
   "cell_type": "code",
   "execution_count": 30,
   "metadata": {},
   "outputs": [
    {
     "data": {
      "text/latex": [
       "$\\displaystyle \\left[\\begin{matrix}1 & 0\\\\0 & I_{p1} + l_{m1}^{2} m_{1}\\end{matrix}\\right]$"
      ],
      "text/plain": [
       "Matrix([\n",
       "[1,                  0],\n",
       "[0, I_p1 + l_m1**2*m_1]])"
      ]
     },
     "execution_count": 30,
     "metadata": {},
     "output_type": "execute_result"
    }
   ],
   "source": [
    "mass_matrix = trigsimp(kane.mass_matrix_full)\n",
    "mass_matrix"
   ]
  },
  {
   "cell_type": "code",
   "execution_count": 31,
   "metadata": {},
   "outputs": [
    {
     "data": {
      "text/latex": [
       "$\\displaystyle \\left[\\begin{matrix}\\omega_{1}\\\\g l_{m1} m_{1} \\sin{\\left(\\theta_{1} \\right)} + T_{a} - T_{p1}\\end{matrix}\\right]$"
      ],
      "text/plain": [
       "Matrix([\n",
       "[                             omega1],\n",
       "[g*l_m1*m_1*sin(theta1) + T_a - T_p1]])"
      ]
     },
     "execution_count": 31,
     "metadata": {},
     "output_type": "execute_result"
    }
   ],
   "source": [
    "forcing_vector = trigsimp(kane.forcing_full)\n",
    "forcing_vector"
   ]
  },
  {
   "cell_type": "markdown",
   "metadata": {},
   "source": [
    "### Damit haben wir alle Dinge beisammen:\n",
    "<p>- Bezugssysteme</p>\n",
    "<p>- Gelenkpunkte + Zwangsbedingungen</p>\n",
    "<p>- Massepunkte</p>\n",
    "<p>- Massenträgheit</p>\n",
    "<p>- Kinetik (externe Kräfte)</p>\n",
    "<p>- Formulierung der Bewegungsgleichungen</p>\n",
    "<p>- Umformen für die Simulation in Massenabhängikeitsmatrix und Kraftabhängigkeitsmatrix als DGL 1.Ordnung $M(x,t)\\dot x = f(x,t)$ (x=statevector)</p>"
   ]
  },
  {
   "cell_type": "markdown",
   "metadata": {},
   "source": [
    "# 5. Lösen der Bewegungsgleichung"
   ]
  },
  {
   "cell_type": "code",
   "execution_count": 32,
   "metadata": {},
   "outputs": [
    {
     "name": "stderr",
     "output_type": "stream",
     "text": [
      "/Users/lennartfuhrig/opt/anaconda3/lib/python3.8/site-packages/sympy/printing/ccode.py:8: SymPyDeprecationWarning: \n",
      "\n",
      "importing from sympy.printing.ccode has been deprecated since SymPy\n",
      "1.7. Use Import from sympy.printing.c instead. See\n",
      "https://github.com/sympy/sympy/issues/20256 for more info.\n",
      "\n",
      "  SymPyDeprecationWarning(\n"
     ]
    }
   ],
   "source": [
    "from numpy import deg2rad, rad2deg, array, zeros, linspace\n",
    "from scipy.integrate import odeint\n",
    "from pydy.codegen.ode_function_generators import generate_ode_function\n",
    "from matplotlib.pyplot import plot, legend, xlabel, ylabel, rcParams\n",
    "from sympy.physics.vector import init_vprinting, vlatex\n",
    "%matplotlib inline\n",
    "rcParams['figure.figsize'] = (14.0, 6.0)"
   ]
  },
  {
   "cell_type": "code",
   "execution_count": 33,
   "metadata": {},
   "outputs": [
    {
     "data": {
      "text/latex": [
       "$\\displaystyle \\left[ l_{1}, \\  l_{m1}, \\  m_{1}, \\  I_{p1}, \\  g\\right]$"
      ],
      "text/plain": [
       "[l_1, l_m1, m_1, I_p1, g]"
      ]
     },
     "execution_count": 33,
     "metadata": {},
     "output_type": "execute_result"
    }
   ],
   "source": [
    "constants = [pendulum1_length,\n",
    "             pendulum1_mass_length,\n",
    "             pendulum1_mass,\n",
    "             pendulum1_inertia,\n",
    "             g]\n",
    "constants"
   ]
  },
  {
   "cell_type": "code",
   "execution_count": 34,
   "metadata": {},
   "outputs": [],
   "source": [
    "specified = [ankle_torque, p1_torque]"
   ]
  },
  {
   "cell_type": "code",
   "execution_count": 35,
   "metadata": {},
   "outputs": [],
   "source": [
    "# wir lassen uns die Gleichung nach x' umstellen\n",
    "right_hand_side = generate_ode_function(forcing_vector, angles,\n",
    "                                        speeds, constants,\n",
    "                                        mass_matrix=mass_matrix,\n",
    "                                        specifieds=specified)"
   ]
  },
  {
   "cell_type": "code",
   "execution_count": 36,
   "metadata": {},
   "outputs": [],
   "source": [
    "#help(right_hand_side)"
   ]
  },
  {
   "cell_type": "code",
   "execution_count": 37,
   "metadata": {},
   "outputs": [],
   "source": [
    "# Festlegen der Initialbedingungen für die numerische Lösung der DGL\n",
    "\n",
    "# Zu Beginn setzen wir beide Geschwindigkeiten auf 0\n",
    "# und die beiden Winkel versetzen wir nach belieben\n",
    "x0 = zeros(2)\n",
    "x0[0] = deg2rad(10)\n",
    "\n",
    "# Wir setzen nun realistische Werte für unsere Konstanten an\n",
    "numerical_constants = array([0.8,  # pendulum1_length [m]\n",
    "                             0.4,  # pendulum1_com_length [m]\n",
    "                             4.0,  # pendulum1_mass [kg]\n",
    "                             0.64,  # pendulum1_inertia [kg*m^2]\n",
    "                             9.81],  # acceleration due to gravity [m/s^2]\n",
    "                            )\n",
    "\n",
    "# Wir setzen auch die Gelenkmomente initial auf 0\n",
    "numerical_specified = array([0, 0])"
   ]
  },
  {
   "cell_type": "markdown",
   "metadata": {},
   "source": [
    "<p>Mit den bekannten Anfangsbedingungen wollen wir über unseren gewünschten Beobachtungszeitraum numerisch integrieren.</p>\n",
    "<p>Dazu geben wir dem Solver (z. B. Runge-Kutta) unsere Anfangsbedingungen, die Gleichung für x' und den Zeitraum sowie die Schrittweite t.</p>"
   ]
  },
  {
   "cell_type": "code",
   "execution_count": 38,
   "metadata": {},
   "outputs": [],
   "source": [
    "frames_per_sec = 30\n",
    "final_time = 8\n",
    "\n",
    "t = linspace(0, final_time, final_time * frames_per_sec)\n",
    "\n",
    "y = odeint(right_hand_side, x0, t, args=(numerical_specified, numerical_constants))"
   ]
  },
  {
   "cell_type": "code",
   "execution_count": 39,
   "metadata": {},
   "outputs": [
    {
     "name": "stdout",
     "output_type": "stream",
     "text": [
      "[[ 0.17453293  0.        ]\n",
      " [ 0.17572717  0.07143652]\n",
      " [ 0.17932608  0.14384038]\n",
      " [ 0.18537836  0.21819078]\n",
      " [ 0.19396589  0.29549055]\n",
      " [ 0.20520464  0.37677794]\n",
      " [ 0.2192461   0.46313823]\n",
      " [ 0.23627905  0.55571516]\n",
      " [ 0.25653166  0.65572166]\n",
      " [ 0.28027402  0.76444977]\n",
      " [ 0.30782089  0.8832788 ]\n",
      " [ 0.33953475  1.01368093]\n",
      " [ 0.37582895  1.15722277]\n",
      " [ 0.41717079  1.31556077]\n",
      " [ 0.46408436  1.49042784]\n",
      " [ 0.5171527   1.68360725]\n",
      " [ 0.57701877  1.89688844]\n",
      " [ 0.64438466  2.1319987 ]\n",
      " [ 0.72000783  2.39050212]\n",
      " [ 0.80469348  2.67365631]\n",
      " [ 0.89928111  2.9822169 ]\n",
      " [ 1.00462361  3.31618059]\n",
      " [ 1.12155668  3.67446231]\n",
      " [ 1.25085629  4.05451106]\n",
      " [ 1.39318258  4.45188712]\n",
      " [ 1.54900968  4.85984921]\n",
      " [ 1.71854282  5.26903449]\n",
      " [ 1.90162807  5.66735045]\n",
      " [ 2.09766381  6.04022093]\n",
      " [ 2.30552842  6.37131727]\n",
      " [ 2.52354142  6.64383232]\n",
      " [ 2.74947554  6.84222257]\n",
      " [ 2.98063169  6.95416342]\n",
      " [ 3.21397743  6.97231559]\n",
      " [ 3.44633515  6.89546236]\n",
      " [ 3.67459313  6.72870409]\n",
      " [ 3.89590615  6.48265423]\n",
      " [ 4.10785527  6.1718632 ]\n",
      " [ 4.30854759  5.81288215]\n",
      " [ 4.49665126  5.42240088]\n",
      " [ 4.67137425  5.01577661]\n",
      " [ 4.83240241  4.6060983 ]\n",
      " [ 4.97981531  4.20376927]\n",
      " [ 5.11399521  3.81649772]\n",
      " [ 5.23554061  3.44955202]\n",
      " [ 5.34519085  3.10615009]\n",
      " [ 5.44376463  2.78788596]\n",
      " [ 5.53211252  2.49513245]\n",
      " [ 5.61108205  2.22738844]\n",
      " [ 5.68149338  1.98356089]\n",
      " [ 5.7441233   1.76218268]\n",
      " [ 5.79969555  1.56157457]\n",
      " [ 5.84887579  1.37996106]\n",
      " [ 5.8922698   1.21555021]\n",
      " [ 5.93042386  1.06658607]\n",
      " [ 5.96382654  0.93138095]\n",
      " [ 5.99291133  0.80833315]\n",
      " [ 6.01805968  0.69593451]\n",
      " [ 6.0396041   0.59277093]\n",
      " [ 6.05783132  0.49751806]\n",
      " [ 6.07298513  0.40893398]\n",
      " [ 6.08526899  0.3258499 ]\n",
      " [ 6.09484835  0.24715966]\n",
      " [ 6.10185249  0.17180848]\n",
      " [ 6.1063761   0.09878146]\n",
      " [ 6.10848039  0.02709182]\n",
      " [ 6.10819387 -0.04423088]\n",
      " [ 6.10551265 -0.11615262]\n",
      " [ 6.10040042 -0.18964668]\n",
      " [ 6.09278803 -0.26570552]\n",
      " [ 6.08257259 -0.34535254]\n",
      " [ 6.06961628 -0.4296538 ]\n",
      " [ 6.05374475 -0.51972951]\n",
      " [ 6.03474505 -0.61676508]\n",
      " [ 6.01236334 -0.72202142]\n",
      " [ 5.98630219 -0.83684388]\n",
      " [ 5.9562176  -0.96266887]\n",
      " [ 5.92171593 -1.10102728]\n",
      " [ 5.88235074 -1.25354244]\n",
      " [ 5.83761981 -1.42192056]\n",
      " [ 5.7869627  -1.60792979]\n",
      " [ 5.72975923 -1.8133638 ]\n",
      " [ 5.66532954 -2.03998349]\n",
      " [ 5.59293653 -2.28942931]\n",
      " [ 5.51179192 -2.5630953 ]\n",
      " [ 5.42106724 -2.86195462]\n",
      " [ 5.31991164 -3.18632682]\n",
      " [ 5.20747858 -3.53558006]\n",
      " [ 5.08296355 -3.90776879]\n",
      " [ 4.94565488 -4.29922161]\n",
      " [ 4.79499862 -4.70411686]\n",
      " [ 4.63067696 -5.11411495]\n",
      " [ 4.45269657 -5.51815407]\n",
      " [ 4.2614792  -5.90254445]\n",
      " [ 4.05794207 -6.25150263]\n",
      " [ 3.84355162 -6.54821962]\n",
      " [ 3.62033264 -6.7764455 ]\n",
      " [ 3.39081792 -6.92240413]\n",
      " [ 3.1579332  -6.97668487]\n",
      " [ 2.92482527 -6.93566624]\n",
      " [ 2.6946558  -6.80209111]\n",
      " [ 2.47039288 -6.58462966]\n",
      " [ 2.25463268 -6.29655494]\n",
      " [ 2.04947557 -5.95388989]\n",
      " [ 1.85646681 -5.57347089]\n",
      " [ 1.67659809 -5.17130183]\n",
      " [ 1.51035605 -4.76140913]\n",
      " [ 1.3578001  -4.35523676]\n",
      " [ 1.21865237 -3.96149836]\n",
      " [ 1.09238696 -3.58634815]\n",
      " [ 0.97831002 -3.23373329]\n",
      " [ 0.87562666 -2.90581524]\n",
      " [ 0.78349368 -2.60338652]\n",
      " [ 0.70105901 -2.32624127]\n",
      " [ 0.6274898  -2.07348239]\n",
      " [ 0.56199132 -1.84376298]\n",
      " [ 0.50381887 -1.63546851]\n",
      " [ 0.45228435 -1.44684887]\n",
      " [ 0.40675919 -1.2761109 ]\n",
      " [ 0.36667464 -1.12148021]\n",
      " [ 0.33152048 -0.9812404 ]\n",
      " [ 0.30084263 -0.85375574]\n",
      " [ 0.27424023 -0.73748216]\n",
      " [ 0.25136256 -0.63097008]\n",
      " [ 0.23190582 -0.53286178]\n",
      " [ 0.21561026 -0.44188504]\n",
      " [ 0.20225735 -0.35684447]\n",
      " [ 0.19166747 -0.27661138]\n",
      " [ 0.18369779 -0.20011283]\n",
      " [ 0.17824062 -0.12632013]\n",
      " [ 0.17522214 -0.05423722]\n",
      " [ 0.17460148  0.01711118]\n",
      " [ 0.17637024  0.08869133]\n",
      " [ 0.18055237  0.16147236]\n",
      " [ 0.18720447  0.23643803]\n",
      " [ 0.19641649  0.31459863]\n",
      " [ 0.2083128   0.39700261]\n",
      " [ 0.22305365  0.48474829]\n",
      " [ 0.24083707  0.57899505]\n",
      " [ 0.26190106  0.68097395]\n",
      " [ 0.28652617  0.79199731]\n",
      " [ 0.31503832  0.91346639]\n",
      " [ 0.34781192  1.04687602]\n",
      " [ 0.38527299  1.19381509]\n",
      " [ 0.42790222  1.35596005]\n",
      " [ 0.4762377   1.53505886]\n",
      " [ 0.5308768   1.73290107]\n",
      " [ 0.59247685  1.95126855]\n",
      " [ 0.66175369  2.19186006]\n",
      " [ 0.73947713  2.45618097]\n",
      " [ 0.82646208  2.74538844]\n",
      " [ 0.92355348  3.06008182]\n",
      " [ 1.03160333  3.40003019]\n",
      " [ 1.15143731  3.76383337]\n",
      " [ 1.28380926  4.14852641]\n",
      " [ 1.42934161  4.54915293]\n",
      " [ 1.58845188  4.95836584]\n",
      " [ 1.76126747  5.36614599]\n",
      " [ 1.9475347   5.75976586]\n",
      " [ 2.14653279  6.12414177]\n",
      " [ 2.35700786  6.44269378]\n",
      " [ 2.57714484  6.69874553]\n",
      " [ 2.8045939   6.87734749]\n",
      " [ 3.03656109  6.96722736]\n",
      " [ 3.26996056  6.96244361]\n",
      " [ 3.5016111   6.86331703]\n",
      " [ 3.72844776  6.67637946]\n",
      " [ 3.94771511  6.41335417]\n",
      " [ 4.15711386  6.08945244]\n",
      " [ 4.35488492  5.72141778]\n",
      " [ 4.53982979  5.32573503]\n",
      " [ 4.71127791  4.9172817 ]\n",
      " [ 4.86901781  4.50852249]\n",
      " [ 5.01321     4.10920228]\n",
      " [ 5.14429617  3.72641339]\n",
      " [ 5.26291503  3.36489364]\n",
      " [ 5.36983001  3.02743256]\n",
      " [ 5.46587131  2.71529601]\n",
      " [ 5.5518915   2.42861774]\n",
      " [ 5.62873341  2.16673139]\n",
      " [ 5.69720799  1.92843649]\n",
      " [ 5.75807997  1.71220215]\n",
      " [ 5.81205948  1.51631698]\n",
      " [ 5.85979786  1.33899541]\n",
      " [ 5.90188651  1.17845024]\n",
      " [ 5.93885765  1.03293957]\n",
      " [ 5.97118637  0.9007952 ]\n",
      " [ 5.9992934   0.78043749]\n",
      " [ 6.02354814  0.67038105]\n",
      " [ 6.04427184  0.56923381]\n",
      " [ 6.06174067  0.47569199]\n",
      " [ 6.07618851  0.38853213]\n",
      " [ 6.08780951  0.30660146]\n",
      " [ 6.09676026  0.22880718]\n",
      " [ 6.10316163  0.15410516]\n",
      " [ 6.10710018  0.08148833]\n",
      " [ 6.10862922  0.00997489]\n",
      " [ 6.10776946 -0.06140344]\n",
      " [ 6.10450926 -0.13361332]\n",
      " [ 6.09880447 -0.20763155]\n",
      " [ 6.09057793 -0.28445694]\n",
      " [ 6.0797185  -0.36512208]\n",
      " [ 6.06607976 -0.45070498]\n",
      " [ 6.04947828 -0.54234052]\n",
      " [ 6.02969153 -0.64123134]\n",
      " [ 6.00645545 -0.74865786]\n",
      " [ 5.97946172 -0.8659868 ]\n",
      " [ 5.94835471 -0.99467708]\n",
      " [ 5.9127284  -1.13628222]\n",
      " [ 5.8721232  -1.29244669]\n",
      " [ 5.82602312 -1.46489394]\n",
      " [ 5.77385348 -1.65540232]\n",
      " [ 5.71497968 -1.86576392]\n",
      " [ 5.64870779 -2.09771998]\n",
      " [ 5.57428772 -2.35286496]\n",
      " [ 5.4909203  -2.63250983]\n",
      " [ 5.39776977 -2.93749448]\n",
      " [ 5.2939835  -3.26793975]\n",
      " [ 5.17872115 -3.62293378]\n",
      " [ 5.05119532 -4.00015562]\n",
      " [ 4.91072576 -4.39545573]\n",
      " [ 4.75680756 -4.80243751]\n",
      " [ 4.58919252 -5.21211761]\n",
      " [ 4.40797882 -5.61278049]\n",
      " [ 4.21370051 -5.99016594]\n",
      " [ 4.00740312 -6.32812606]\n",
      " [ 3.79068835 -6.60982457]\n",
      " [ 3.56570994 -6.8194246 ]\n",
      " [ 3.33510791 -6.94403561]\n",
      " [ 3.10187848 -6.97553349]\n",
      " [ 2.86919147 -6.91180949]\n",
      " [ 2.64018048 -6.75710681]\n",
      " [ 2.41773884 -6.5213484 ]\n",
      " [ 2.20435263 -6.21864684]\n",
      " [ 2.00199194 -5.86539118]\n",
      " [ 1.81206695 -5.47835133]\n",
      " [ 1.63544229 -5.07314011]\n",
      " [ 1.47249423 -4.66319997]\n",
      " [ 1.32319289 -4.2593186 ]\n",
      " [ 1.18719293 -3.86957059]]\n"
     ]
    }
   ],
   "source": [
    "y.shape\n",
    "print(y)"
   ]
  },
  {
   "cell_type": "markdown",
   "metadata": {},
   "source": [
    "# 6. Visualisierung"
   ]
  },
  {
   "cell_type": "code",
   "execution_count": 40,
   "metadata": {},
   "outputs": [
    {
     "data": {
      "text/plain": [
       "<matplotlib.legend.Legend at 0x7feaf176ba90>"
      ]
     },
     "execution_count": 40,
     "metadata": {},
     "output_type": "execute_result"
    },
    {
     "data": {
      "image/png": "[encoded data removed]",
      "text/plain": [
       "<Figure size 1008x432 with 1 Axes>"
      ]
     },
     "metadata": {
      "needs_background": "light"
     },
     "output_type": "display_data"
    }
   ],
   "source": [
    "# Darstellung der zwei Winkel über die Simulationsdauer\n",
    "plot(t, rad2deg(y[:, :1]))\n",
    "xlabel('Zeit [s]')\n",
    "ylabel('Winkel [deg]')\n",
    "legend([\"${}$\".format(vlatex(c)) for c in angles])"
   ]
  },
  {
   "cell_type": "code",
   "execution_count": 41,
   "metadata": {},
   "outputs": [
    {
     "data": {
      "text/plain": [
       "<matplotlib.legend.Legend at 0x7feaf1a8ab80>"
      ]
     },
     "execution_count": 41,
     "metadata": {},
     "output_type": "execute_result"
    },
    {
     "data": {
      "image/png": "[encoded data removed]",
      "text/plain": [
       "<Figure size 1008x432 with 1 Axes>"
      ]
     },
     "metadata": {
      "needs_background": "light"
     },
     "output_type": "display_data"
    }
   ],
   "source": [
    "# Darstellung der beiden Geschwindigkeiten über die Simulationsdauer\n",
    "plot(t, rad2deg(y[:, 1:]), color='r') # siehe y.shape\n",
    "xlabel('Zeit [s]')\n",
    "ylabel('Winkelgeschw. [deg/s]')\n",
    "legend([\"${}$\".format(vlatex(s)) for s in speeds])"
   ]
  },
  {
   "cell_type": "code",
   "execution_count": 42,
   "metadata": {},
   "outputs": [
    {
     "name": "stdout",
     "output_type": "stream",
     "text": [
      "/Users/lennartfuhrig/Desktop/Lenny/Uni/Master/1. Semester/SDS/pydy-resources\n",
      "Serving HTTP on 127.0.0.1 port 8000 ...\n",
      "To view visualization, open:\n",
      "\n",
      "http://localhost:8000/index.html?load=2021-11-06_13-41-05_scene_desc.json\n",
      "Press Ctrl+C to stop server...\n"
     ]
    },
    {
     "name": "stderr",
     "output_type": "stream",
     "text": [
      "127.0.0.1 - - [06/Nov/2021 13:41:06] \"GET /index.html?load=2021-11-06_13-41-05_scene_desc.json HTTP/1.1\" 200 -\n",
      "127.0.0.1 - - [06/Nov/2021 13:41:06] \"GET /2021-11-06_13-41-05_scene_desc.json HTTP/1.1\" 200 -\n",
      "127.0.0.1 - - [06/Nov/2021 13:41:06] code 404, message File not found\n",
      "127.0.0.1 - - [06/Nov/2021 13:41:06] \"GET /fonts/glyphicons-halflings-regular.woff2 HTTP/1.1\" 404 -\n",
      "127.0.0.1 - - [06/Nov/2021 13:41:06] \"GET /2021-11-06_13-41-05_simulation_data.json HTTP/1.1\" 200 -\n"
     ]
    }
   ],
   "source": [
    "from pydy.viz.shapes import Cylinder, Sphere\n",
    "import pydy.viz\n",
    "from pydy.viz.visualization_frame import VisualizationFrame\n",
    "from pydy.viz.scene import Scene\n",
    "\n",
    "# Für die Punkte legen wir schwarze Kugeln an\n",
    "ankle_shape = Sphere(color='black', radius=0.1)\n",
    "p1_shape = Sphere(color='black', radius=0.1)\n",
    "\n",
    "# setzen die erzeugten Geometrien an die Punkte\n",
    "ankle_viz_frame = VisualizationFrame(inertial_frame, ankle, ankle_shape)\n",
    "p1_viz_frame = VisualizationFrame(inertial_frame, p1, p1_shape)\n",
    "\n",
    "# umformen der Konstanten in für das Programm leserliches Format\n",
    "constants_dict = dict(zip(constants, numerical_constants))\n",
    "\n",
    "# Setzen der Geometrie für die Starrkörper\n",
    "pendulum1_center = Point('p1_c')\n",
    "pendulum1_center.set_pos(ankle, pendulum1_length / 2 * pendulum1_frame.y)\n",
    "\n",
    "pendulum1_shape = Cylinder(radius=0.08, length=constants_dict[pendulum1_length], color='blue')\n",
    "pendulum1_viz_frame = VisualizationFrame('Pendulum 1', pendulum1_frame, pendulum1_center, pendulum1_shape)\n",
    "\n",
    "# Erstellen der Szene mit dem Inertialsystem/Ankerpunkt in der Mitte\n",
    "scene = Scene(inertial_frame, ankle)\n",
    "\n",
    "# Laden der Starrkörper in die Szene\n",
    "scene.visualization_frames = [ankle_viz_frame,\n",
    "                              p1_viz_frame,\n",
    "                              pendulum1_viz_frame]\n",
    "\n",
    "# Darstellung und einfügen der Ergebnisse\n",
    "scene.states_symbols = angles + speeds\n",
    "scene.constants = constants_dict\n",
    "scene.states_trajectories = y\n",
    "\n",
    "# öffnen der Simulation\n",
    "scene.display()"
   ]
  },
  {
   "cell_type": "code",
   "execution_count": null,
   "metadata": {},
   "outputs": [],
   "source": []
  }
 ],
 "metadata": {
  "kernelspec": {
   "display_name": "Python 3",
   "language": "python",
   "name": "python3"
  },
  "language_info": {
   "codemirror_mode": {
    "name": "ipython",
    "version": 3
   },
   "file_extension": ".py",
   "mimetype": "text/x-python",
   "name": "python",
   "nbconvert_exporter": "python",
   "pygments_lexer": "ipython3",
   "version": "3.8.8"
  }
 },
 "nbformat": 4,
 "nbformat_minor": 4
}
